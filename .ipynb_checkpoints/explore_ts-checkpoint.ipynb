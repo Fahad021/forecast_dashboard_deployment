{
 "cells": [
  {
   "cell_type": "code",
   "execution_count": 5,
   "metadata": {},
   "outputs": [
    {
     "name": "stdout",
     "output_type": "stream",
     "text": [
      "The bamboolib extension was disabled. You can enable it again via 'bam.enable()'. In case that bamboolib was not helpful to you, we are sorry and would like to fix this. Please write us a quick mail to info@8080labs.com so that we can serve you better in the future. Best regards, Tobias and Florian\n",
      "The autoreload extension is already loaded. To reload it, use:\n",
      "  %reload_ext autoreload\n"
     ]
    }
   ],
   "source": [
    "import pandas as pd \n",
    "import numpy as np \n",
    "import bamboolib as bam \n",
    "\n",
    "import plotly.express as px \n",
    "\n",
    "import matplotlib.pyplot as plt\n",
    "\n",
    "#setting data path \n",
    "DATA_PATH = 'passanger_total.csv'\n",
    "#enabling bamboolib extension \n",
    "bam.disable()\n",
    "#using plotly as backend for pandas plotting \n",
    "pd.options.plotting.backend = \"plotly\"\n",
    "#load autoreload extension \n",
    "%load_ext autoreload"
   ]
  },
  {
   "cell_type": "code",
   "execution_count": 6,
   "metadata": {},
   "outputs": [],
   "source": [
    "data = pd.read_csv(DATA_PATH,index_col='Period',parse_dates=['Period'])\n"
   ]
  },
  {
   "cell_type": "code",
   "execution_count": 24,
   "metadata": {},
   "outputs": [],
   "source": [
    "# Examine annual trend in the data\n",
    "\n",
    "\n",
    "data = data[['Passenger Count_sum']].resample('AS').sum()\n",
    "\n",
    "# ax.set_title('Aggregated annual series: International airline passengers, 1949-1960');\n",
    "# fig.suptitle('Aggregated annual series: International airline passengers, 20006-2016');\n",
    "# ax.set_ylabel('Thousands of passengers');\n",
    "# ax.set_xlabel('Year');\n",
    "# ax.xaxis.set_ticks_position('bottom')\n",
    "# fig.tight_layout();\n",
    "# fig.subplots_adjust(top=0.9)"
   ]
  },
  {
   "cell_type": "code",
   "execution_count": 25,
   "metadata": {},
   "outputs": [
    {
     "data": {
      "application/vnd.jupyter.widget-view+json": {
       "model_id": "35c6466bb6aa4307b914965370b4cd44"
      },
      "text/html": [
       "<div>\n",
       "<style scoped>\n",
       "    .dataframe tbody tr th:only-of-type {\n",
       "        vertical-align: middle;\n",
       "    }\n",
       "\n",
       "    .dataframe tbody tr th {\n",
       "        vertical-align: top;\n",
       "    }\n",
       "\n",
       "    .dataframe thead th {\n",
       "        text-align: right;\n",
       "    }\n",
       "</style>\n",
       "<table border=\"1\" class=\"dataframe\">\n",
       "  <thead>\n",
       "    <tr style=\"text-align: right;\">\n",
       "      <th></th>\n",
       "      <th>Passenger Count_sum</th>\n",
       "    </tr>\n",
       "    <tr>\n",
       "      <th>Period</th>\n",
       "      <th></th>\n",
       "    </tr>\n",
       "  </thead>\n",
       "  <tbody>\n",
       "    <tr>\n",
       "      <th>2005-01-01</th>\n",
       "      <td>17222033</td>\n",
       "    </tr>\n",
       "    <tr>\n",
       "      <th>2006-01-01</th>\n",
       "      <td>33332970</td>\n",
       "    </tr>\n",
       "    <tr>\n",
       "      <th>2007-01-01</th>\n",
       "      <td>35554082</td>\n",
       "    </tr>\n",
       "    <tr>\n",
       "      <th>2008-01-01</th>\n",
       "      <td>37234678</td>\n",
       "    </tr>\n",
       "    <tr>\n",
       "      <th>2009-01-01</th>\n",
       "      <td>37338942</td>\n",
       "    </tr>\n",
       "    <tr>\n",
       "      <th>2010-01-01</th>\n",
       "      <td>39253999</td>\n",
       "    </tr>\n",
       "    <tr>\n",
       "      <th>2011-01-01</th>\n",
       "      <td>40927786</td>\n",
       "    </tr>\n",
       "    <tr>\n",
       "      <th>2012-01-01</th>\n",
       "      <td>44399885</td>\n",
       "    </tr>\n",
       "    <tr>\n",
       "      <th>2013-01-01</th>\n",
       "      <td>44945760</td>\n",
       "    </tr>\n",
       "    <tr>\n",
       "      <th>2014-01-01</th>\n",
       "      <td>47114631</td>\n",
       "    </tr>\n",
       "    <tr>\n",
       "      <th>2015-01-01</th>\n",
       "      <td>50057887</td>\n",
       "    </tr>\n",
       "    <tr>\n",
       "      <th>2016-01-01</th>\n",
       "      <td>11429847</td>\n",
       "    </tr>\n",
       "  </tbody>\n",
       "</table>\n",
       "</div>"
      ],
      "text/plain": [
       "            Passenger Count_sum\n",
       "Period                         \n",
       "2005-01-01             17222033\n",
       "2006-01-01             33332970\n",
       "2007-01-01             35554082\n",
       "2008-01-01             37234678\n",
       "2009-01-01             37338942\n",
       "2010-01-01             39253999\n",
       "2011-01-01             40927786\n",
       "2012-01-01             44399885\n",
       "2013-01-01             44945760\n",
       "2014-01-01             47114631\n",
       "2015-01-01             50057887\n",
       "2016-01-01             11429847"
      ]
     },
     "metadata": {},
     "output_type": "display_data"
    }
   ],
   "source": [
    "data = data.reset_index()\n",
    "data"
   ]
  },
  {
   "cell_type": "code",
   "execution_count": 27,
   "metadata": {},
   "outputs": [
    {
     "data": {
      "application/vnd.plotly.v1+json": {
       "config": {
        "plotlyServerURL": "https://plot.ly"
       },
       "data": [
        {
         "hovertemplate": "Period=%{x}<br>Passenger Count_sum=%{y}<extra></extra>",
         "legendgroup": "",
         "line": {
          "color": "#03fcdb",
          "dash": "solid"
         },
         "marker": {
          "symbol": "circle"
         },
         "mode": "lines",
         "name": "",
         "orientation": "v",
         "showlegend": false,
         "type": "scatter",
         "x": [
          "2005-01-01T00:00:00",
          "2006-01-01T00:00:00",
          "2007-01-01T00:00:00",
          "2008-01-01T00:00:00",
          "2009-01-01T00:00:00",
          "2010-01-01T00:00:00",
          "2011-01-01T00:00:00",
          "2012-01-01T00:00:00",
          "2013-01-01T00:00:00",
          "2014-01-01T00:00:00",
          "2015-01-01T00:00:00",
          "2016-01-01T00:00:00"
         ],
         "xaxis": "x",
         "y": [
          17222033,
          33332970,
          35554082,
          37234678,
          37338942,
          39253999,
          40927786,
          44399885,
          44945760,
          47114631,
          50057887,
          11429847
         ],
         "yaxis": "y"
        }
       ],
       "layout": {
        "autosize": true,
        "legend": {
         "tracegroupgap": 0
        },
        "template": {
         "data": {
          "bar": [
           {
            "error_x": {
             "color": "rgb(36,36,36)"
            },
            "error_y": {
             "color": "rgb(36,36,36)"
            },
            "marker": {
             "line": {
              "color": "rgb(234,234,242)",
              "width": 0.5
             },
             "pattern": {
              "fillmode": "overlay",
              "size": 10,
              "solidity": 0.2
             }
            },
            "type": "bar"
           }
          ],
          "barpolar": [
           {
            "marker": {
             "line": {
              "color": "rgb(234,234,242)",
              "width": 0.5
             },
             "pattern": {
              "fillmode": "overlay",
              "size": 10,
              "solidity": 0.2
             }
            },
            "type": "barpolar"
           }
          ],
          "carpet": [
           {
            "aaxis": {
             "endlinecolor": "rgb(36,36,36)",
             "gridcolor": "white",
             "linecolor": "white",
             "minorgridcolor": "white",
             "startlinecolor": "rgb(36,36,36)"
            },
            "baxis": {
             "endlinecolor": "rgb(36,36,36)",
             "gridcolor": "white",
             "linecolor": "white",
             "minorgridcolor": "white",
             "startlinecolor": "rgb(36,36,36)"
            },
            "type": "carpet"
           }
          ],
          "choropleth": [
           {
            "colorbar": {
             "outlinewidth": 0,
             "tickcolor": "rgb(36,36,36)",
             "ticklen": 8,
             "ticks": "outside",
             "tickwidth": 2
            },
            "type": "choropleth"
           }
          ],
          "contour": [
           {
            "colorbar": {
             "outlinewidth": 0,
             "tickcolor": "rgb(36,36,36)",
             "ticklen": 8,
             "ticks": "outside",
             "tickwidth": 2
            },
            "colorscale": [
             [
              0,
              "rgb(2,4,25)"
             ],
             [
              0.06274509803921569,
              "rgb(24,15,41)"
             ],
             [
              0.12549019607843137,
              "rgb(47,23,57)"
             ],
             [
              0.18823529411764706,
              "rgb(71,28,72)"
             ],
             [
              0.25098039215686274,
              "rgb(97,30,82)"
             ],
             [
              0.3137254901960784,
              "rgb(123,30,89)"
             ],
             [
              0.3764705882352941,
              "rgb(150,27,91)"
             ],
             [
              0.4392156862745098,
              "rgb(177,22,88)"
             ],
             [
              0.5019607843137255,
              "rgb(203,26,79)"
             ],
             [
              0.5647058823529412,
              "rgb(223,47,67)"
             ],
             [
              0.6274509803921569,
              "rgb(236,76,61)"
             ],
             [
              0.6901960784313725,
              "rgb(242,107,73)"
             ],
             [
              0.7529411764705882,
              "rgb(244,135,95)"
             ],
             [
              0.8156862745098039,
              "rgb(245,162,122)"
             ],
             [
              0.8784313725490196,
              "rgb(246,188,153)"
             ],
             [
              0.9411764705882353,
              "rgb(247,212,187)"
             ],
             [
              1,
              "rgb(250,234,220)"
             ]
            ],
            "type": "contour"
           }
          ],
          "contourcarpet": [
           {
            "colorbar": {
             "outlinewidth": 0,
             "tickcolor": "rgb(36,36,36)",
             "ticklen": 8,
             "ticks": "outside",
             "tickwidth": 2
            },
            "type": "contourcarpet"
           }
          ],
          "heatmap": [
           {
            "colorbar": {
             "outlinewidth": 0,
             "tickcolor": "rgb(36,36,36)",
             "ticklen": 8,
             "ticks": "outside",
             "tickwidth": 2
            },
            "colorscale": [
             [
              0,
              "rgb(2,4,25)"
             ],
             [
              0.06274509803921569,
              "rgb(24,15,41)"
             ],
             [
              0.12549019607843137,
              "rgb(47,23,57)"
             ],
             [
              0.18823529411764706,
              "rgb(71,28,72)"
             ],
             [
              0.25098039215686274,
              "rgb(97,30,82)"
             ],
             [
              0.3137254901960784,
              "rgb(123,30,89)"
             ],
             [
              0.3764705882352941,
              "rgb(150,27,91)"
             ],
             [
              0.4392156862745098,
              "rgb(177,22,88)"
             ],
             [
              0.5019607843137255,
              "rgb(203,26,79)"
             ],
             [
              0.5647058823529412,
              "rgb(223,47,67)"
             ],
             [
              0.6274509803921569,
              "rgb(236,76,61)"
             ],
             [
              0.6901960784313725,
              "rgb(242,107,73)"
             ],
             [
              0.7529411764705882,
              "rgb(244,135,95)"
             ],
             [
              0.8156862745098039,
              "rgb(245,162,122)"
             ],
             [
              0.8784313725490196,
              "rgb(246,188,153)"
             ],
             [
              0.9411764705882353,
              "rgb(247,212,187)"
             ],
             [
              1,
              "rgb(250,234,220)"
             ]
            ],
            "type": "heatmap"
           }
          ],
          "heatmapgl": [
           {
            "colorbar": {
             "outlinewidth": 0,
             "tickcolor": "rgb(36,36,36)",
             "ticklen": 8,
             "ticks": "outside",
             "tickwidth": 2
            },
            "colorscale": [
             [
              0,
              "rgb(2,4,25)"
             ],
             [
              0.06274509803921569,
              "rgb(24,15,41)"
             ],
             [
              0.12549019607843137,
              "rgb(47,23,57)"
             ],
             [
              0.18823529411764706,
              "rgb(71,28,72)"
             ],
             [
              0.25098039215686274,
              "rgb(97,30,82)"
             ],
             [
              0.3137254901960784,
              "rgb(123,30,89)"
             ],
             [
              0.3764705882352941,
              "rgb(150,27,91)"
             ],
             [
              0.4392156862745098,
              "rgb(177,22,88)"
             ],
             [
              0.5019607843137255,
              "rgb(203,26,79)"
             ],
             [
              0.5647058823529412,
              "rgb(223,47,67)"
             ],
             [
              0.6274509803921569,
              "rgb(236,76,61)"
             ],
             [
              0.6901960784313725,
              "rgb(242,107,73)"
             ],
             [
              0.7529411764705882,
              "rgb(244,135,95)"
             ],
             [
              0.8156862745098039,
              "rgb(245,162,122)"
             ],
             [
              0.8784313725490196,
              "rgb(246,188,153)"
             ],
             [
              0.9411764705882353,
              "rgb(247,212,187)"
             ],
             [
              1,
              "rgb(250,234,220)"
             ]
            ],
            "type": "heatmapgl"
           }
          ],
          "histogram": [
           {
            "marker": {
             "pattern": {
              "fillmode": "overlay",
              "size": 10,
              "solidity": 0.2
             }
            },
            "type": "histogram"
           }
          ],
          "histogram2d": [
           {
            "colorbar": {
             "outlinewidth": 0,
             "tickcolor": "rgb(36,36,36)",
             "ticklen": 8,
             "ticks": "outside",
             "tickwidth": 2
            },
            "colorscale": [
             [
              0,
              "rgb(2,4,25)"
             ],
             [
              0.06274509803921569,
              "rgb(24,15,41)"
             ],
             [
              0.12549019607843137,
              "rgb(47,23,57)"
             ],
             [
              0.18823529411764706,
              "rgb(71,28,72)"
             ],
             [
              0.25098039215686274,
              "rgb(97,30,82)"
             ],
             [
              0.3137254901960784,
              "rgb(123,30,89)"
             ],
             [
              0.3764705882352941,
              "rgb(150,27,91)"
             ],
             [
              0.4392156862745098,
              "rgb(177,22,88)"
             ],
             [
              0.5019607843137255,
              "rgb(203,26,79)"
             ],
             [
              0.5647058823529412,
              "rgb(223,47,67)"
             ],
             [
              0.6274509803921569,
              "rgb(236,76,61)"
             ],
             [
              0.6901960784313725,
              "rgb(242,107,73)"
             ],
             [
              0.7529411764705882,
              "rgb(244,135,95)"
             ],
             [
              0.8156862745098039,
              "rgb(245,162,122)"
             ],
             [
              0.8784313725490196,
              "rgb(246,188,153)"
             ],
             [
              0.9411764705882353,
              "rgb(247,212,187)"
             ],
             [
              1,
              "rgb(250,234,220)"
             ]
            ],
            "type": "histogram2d"
           }
          ],
          "histogram2dcontour": [
           {
            "colorbar": {
             "outlinewidth": 0,
             "tickcolor": "rgb(36,36,36)",
             "ticklen": 8,
             "ticks": "outside",
             "tickwidth": 2
            },
            "colorscale": [
             [
              0,
              "rgb(2,4,25)"
             ],
             [
              0.06274509803921569,
              "rgb(24,15,41)"
             ],
             [
              0.12549019607843137,
              "rgb(47,23,57)"
             ],
             [
              0.18823529411764706,
              "rgb(71,28,72)"
             ],
             [
              0.25098039215686274,
              "rgb(97,30,82)"
             ],
             [
              0.3137254901960784,
              "rgb(123,30,89)"
             ],
             [
              0.3764705882352941,
              "rgb(150,27,91)"
             ],
             [
              0.4392156862745098,
              "rgb(177,22,88)"
             ],
             [
              0.5019607843137255,
              "rgb(203,26,79)"
             ],
             [
              0.5647058823529412,
              "rgb(223,47,67)"
             ],
             [
              0.6274509803921569,
              "rgb(236,76,61)"
             ],
             [
              0.6901960784313725,
              "rgb(242,107,73)"
             ],
             [
              0.7529411764705882,
              "rgb(244,135,95)"
             ],
             [
              0.8156862745098039,
              "rgb(245,162,122)"
             ],
             [
              0.8784313725490196,
              "rgb(246,188,153)"
             ],
             [
              0.9411764705882353,
              "rgb(247,212,187)"
             ],
             [
              1,
              "rgb(250,234,220)"
             ]
            ],
            "type": "histogram2dcontour"
           }
          ],
          "mesh3d": [
           {
            "colorbar": {
             "outlinewidth": 0,
             "tickcolor": "rgb(36,36,36)",
             "ticklen": 8,
             "ticks": "outside",
             "tickwidth": 2
            },
            "type": "mesh3d"
           }
          ],
          "parcoords": [
           {
            "line": {
             "colorbar": {
              "outlinewidth": 0,
              "tickcolor": "rgb(36,36,36)",
              "ticklen": 8,
              "ticks": "outside",
              "tickwidth": 2
             }
            },
            "type": "parcoords"
           }
          ],
          "pie": [
           {
            "automargin": true,
            "type": "pie"
           }
          ],
          "scatter": [
           {
            "marker": {
             "colorbar": {
              "outlinewidth": 0,
              "tickcolor": "rgb(36,36,36)",
              "ticklen": 8,
              "ticks": "outside",
              "tickwidth": 2
             }
            },
            "type": "scatter"
           }
          ],
          "scatter3d": [
           {
            "line": {
             "colorbar": {
              "outlinewidth": 0,
              "tickcolor": "rgb(36,36,36)",
              "ticklen": 8,
              "ticks": "outside",
              "tickwidth": 2
             }
            },
            "marker": {
             "colorbar": {
              "outlinewidth": 0,
              "tickcolor": "rgb(36,36,36)",
              "ticklen": 8,
              "ticks": "outside",
              "tickwidth": 2
             }
            },
            "type": "scatter3d"
           }
          ],
          "scattercarpet": [
           {
            "marker": {
             "colorbar": {
              "outlinewidth": 0,
              "tickcolor": "rgb(36,36,36)",
              "ticklen": 8,
              "ticks": "outside",
              "tickwidth": 2
             }
            },
            "type": "scattercarpet"
           }
          ],
          "scattergeo": [
           {
            "marker": {
             "colorbar": {
              "outlinewidth": 0,
              "tickcolor": "rgb(36,36,36)",
              "ticklen": 8,
              "ticks": "outside",
              "tickwidth": 2
             }
            },
            "type": "scattergeo"
           }
          ],
          "scattergl": [
           {
            "marker": {
             "colorbar": {
              "outlinewidth": 0,
              "tickcolor": "rgb(36,36,36)",
              "ticklen": 8,
              "ticks": "outside",
              "tickwidth": 2
             }
            },
            "type": "scattergl"
           }
          ],
          "scattermapbox": [
           {
            "marker": {
             "colorbar": {
              "outlinewidth": 0,
              "tickcolor": "rgb(36,36,36)",
              "ticklen": 8,
              "ticks": "outside",
              "tickwidth": 2
             }
            },
            "type": "scattermapbox"
           }
          ],
          "scatterpolar": [
           {
            "marker": {
             "colorbar": {
              "outlinewidth": 0,
              "tickcolor": "rgb(36,36,36)",
              "ticklen": 8,
              "ticks": "outside",
              "tickwidth": 2
             }
            },
            "type": "scatterpolar"
           }
          ],
          "scatterpolargl": [
           {
            "marker": {
             "colorbar": {
              "outlinewidth": 0,
              "tickcolor": "rgb(36,36,36)",
              "ticklen": 8,
              "ticks": "outside",
              "tickwidth": 2
             }
            },
            "type": "scatterpolargl"
           }
          ],
          "scatterternary": [
           {
            "marker": {
             "colorbar": {
              "outlinewidth": 0,
              "tickcolor": "rgb(36,36,36)",
              "ticklen": 8,
              "ticks": "outside",
              "tickwidth": 2
             }
            },
            "type": "scatterternary"
           }
          ],
          "surface": [
           {
            "colorbar": {
             "outlinewidth": 0,
             "tickcolor": "rgb(36,36,36)",
             "ticklen": 8,
             "ticks": "outside",
             "tickwidth": 2
            },
            "colorscale": [
             [
              0,
              "rgb(2,4,25)"
             ],
             [
              0.06274509803921569,
              "rgb(24,15,41)"
             ],
             [
              0.12549019607843137,
              "rgb(47,23,57)"
             ],
             [
              0.18823529411764706,
              "rgb(71,28,72)"
             ],
             [
              0.25098039215686274,
              "rgb(97,30,82)"
             ],
             [
              0.3137254901960784,
              "rgb(123,30,89)"
             ],
             [
              0.3764705882352941,
              "rgb(150,27,91)"
             ],
             [
              0.4392156862745098,
              "rgb(177,22,88)"
             ],
             [
              0.5019607843137255,
              "rgb(203,26,79)"
             ],
             [
              0.5647058823529412,
              "rgb(223,47,67)"
             ],
             [
              0.6274509803921569,
              "rgb(236,76,61)"
             ],
             [
              0.6901960784313725,
              "rgb(242,107,73)"
             ],
             [
              0.7529411764705882,
              "rgb(244,135,95)"
             ],
             [
              0.8156862745098039,
              "rgb(245,162,122)"
             ],
             [
              0.8784313725490196,
              "rgb(246,188,153)"
             ],
             [
              0.9411764705882353,
              "rgb(247,212,187)"
             ],
             [
              1,
              "rgb(250,234,220)"
             ]
            ],
            "type": "surface"
           }
          ],
          "table": [
           {
            "cells": {
             "fill": {
              "color": "rgb(231,231,240)"
             },
             "line": {
              "color": "white"
             }
            },
            "header": {
             "fill": {
              "color": "rgb(183,183,191)"
             },
             "line": {
              "color": "white"
             }
            },
            "type": "table"
           }
          ]
         },
         "layout": {
          "annotationdefaults": {
           "arrowcolor": "rgb(67,103,167)"
          },
          "autotypenumbers": "strict",
          "coloraxis": {
           "colorbar": {
            "outlinewidth": 0,
            "tickcolor": "rgb(36,36,36)",
            "ticklen": 8,
            "ticks": "outside",
            "tickwidth": 2
           }
          },
          "colorscale": {
           "sequential": [
            [
             0,
             "rgb(2,4,25)"
            ],
            [
             0.06274509803921569,
             "rgb(24,15,41)"
            ],
            [
             0.12549019607843137,
             "rgb(47,23,57)"
            ],
            [
             0.18823529411764706,
             "rgb(71,28,72)"
            ],
            [
             0.25098039215686274,
             "rgb(97,30,82)"
            ],
            [
             0.3137254901960784,
             "rgb(123,30,89)"
            ],
            [
             0.3764705882352941,
             "rgb(150,27,91)"
            ],
            [
             0.4392156862745098,
             "rgb(177,22,88)"
            ],
            [
             0.5019607843137255,
             "rgb(203,26,79)"
            ],
            [
             0.5647058823529412,
             "rgb(223,47,67)"
            ],
            [
             0.6274509803921569,
             "rgb(236,76,61)"
            ],
            [
             0.6901960784313725,
             "rgb(242,107,73)"
            ],
            [
             0.7529411764705882,
             "rgb(244,135,95)"
            ],
            [
             0.8156862745098039,
             "rgb(245,162,122)"
            ],
            [
             0.8784313725490196,
             "rgb(246,188,153)"
            ],
            [
             0.9411764705882353,
             "rgb(247,212,187)"
            ],
            [
             1,
             "rgb(250,234,220)"
            ]
           ],
           "sequentialminus": [
            [
             0,
             "rgb(2,4,25)"
            ],
            [
             0.06274509803921569,
             "rgb(24,15,41)"
            ],
            [
             0.12549019607843137,
             "rgb(47,23,57)"
            ],
            [
             0.18823529411764706,
             "rgb(71,28,72)"
            ],
            [
             0.25098039215686274,
             "rgb(97,30,82)"
            ],
            [
             0.3137254901960784,
             "rgb(123,30,89)"
            ],
            [
             0.3764705882352941,
             "rgb(150,27,91)"
            ],
            [
             0.4392156862745098,
             "rgb(177,22,88)"
            ],
            [
             0.5019607843137255,
             "rgb(203,26,79)"
            ],
            [
             0.5647058823529412,
             "rgb(223,47,67)"
            ],
            [
             0.6274509803921569,
             "rgb(236,76,61)"
            ],
            [
             0.6901960784313725,
             "rgb(242,107,73)"
            ],
            [
             0.7529411764705882,
             "rgb(244,135,95)"
            ],
            [
             0.8156862745098039,
             "rgb(245,162,122)"
            ],
            [
             0.8784313725490196,
             "rgb(246,188,153)"
            ],
            [
             0.9411764705882353,
             "rgb(247,212,187)"
            ],
            [
             1,
             "rgb(250,234,220)"
            ]
           ]
          },
          "colorway": [
           "rgb(76,114,176)",
           "rgb(221,132,82)",
           "rgb(85,168,104)",
           "rgb(196,78,82)",
           "rgb(129,114,179)",
           "rgb(147,120,96)",
           "rgb(218,139,195)",
           "rgb(140,140,140)",
           "rgb(204,185,116)",
           "rgb(100,181,205)"
          ],
          "font": {
           "color": "rgb(36,36,36)"
          },
          "geo": {
           "bgcolor": "white",
           "lakecolor": "white",
           "landcolor": "rgb(234,234,242)",
           "showlakes": true,
           "showland": true,
           "subunitcolor": "white"
          },
          "hoverlabel": {
           "align": "left"
          },
          "hovermode": "closest",
          "paper_bgcolor": "white",
          "plot_bgcolor": "rgb(234,234,242)",
          "polar": {
           "angularaxis": {
            "gridcolor": "white",
            "linecolor": "white",
            "showgrid": true,
            "ticks": ""
           },
           "bgcolor": "rgb(234,234,242)",
           "radialaxis": {
            "gridcolor": "white",
            "linecolor": "white",
            "showgrid": true,
            "ticks": ""
           }
          },
          "scene": {
           "xaxis": {
            "backgroundcolor": "rgb(234,234,242)",
            "gridcolor": "white",
            "gridwidth": 2,
            "linecolor": "white",
            "showbackground": true,
            "showgrid": true,
            "ticks": "",
            "zerolinecolor": "white"
           },
           "yaxis": {
            "backgroundcolor": "rgb(234,234,242)",
            "gridcolor": "white",
            "gridwidth": 2,
            "linecolor": "white",
            "showbackground": true,
            "showgrid": true,
            "ticks": "",
            "zerolinecolor": "white"
           },
           "zaxis": {
            "backgroundcolor": "rgb(234,234,242)",
            "gridcolor": "white",
            "gridwidth": 2,
            "linecolor": "white",
            "showbackground": true,
            "showgrid": true,
            "ticks": "",
            "zerolinecolor": "white"
           }
          },
          "shapedefaults": {
           "fillcolor": "rgb(67,103,167)",
           "line": {
            "width": 0
           },
           "opacity": 0.5
          },
          "ternary": {
           "aaxis": {
            "gridcolor": "white",
            "linecolor": "white",
            "showgrid": true,
            "ticks": ""
           },
           "baxis": {
            "gridcolor": "white",
            "linecolor": "white",
            "showgrid": true,
            "ticks": ""
           },
           "bgcolor": "rgb(234,234,242)",
           "caxis": {
            "gridcolor": "white",
            "linecolor": "white",
            "showgrid": true,
            "ticks": ""
           }
          },
          "xaxis": {
           "automargin": true,
           "gridcolor": "white",
           "linecolor": "white",
           "showgrid": true,
           "ticks": "",
           "title": {
            "standoff": 15
           },
           "zerolinecolor": "white"
          },
          "yaxis": {
           "automargin": true,
           "gridcolor": "white",
           "linecolor": "white",
           "showgrid": true,
           "ticks": "",
           "title": {
            "standoff": 15
           },
           "zerolinecolor": "white"
          }
         }
        },
        "title": {
         "text": "San Fransisco Airport Total Passenger ( Annually Resampled)"
        },
        "xaxis": {
         "anchor": "y",
         "autorange": true,
         "domain": [
          0,
          1
         ],
         "range": [
          "2005-01-01",
          "2016-01-01"
         ],
         "title": {
          "text": "Year"
         },
         "type": "date"
        },
        "yaxis": {
         "anchor": "x",
         "autorange": true,
         "domain": [
          0,
          1
         ],
         "range": [
          9283844.777777778,
          52203889.222222224
         ],
         "title": {
          "text": "Total Passanger"
         },
         "type": "linear"
        }
       }
      },
      "image/png": "[encoded data removed]",
      "text/html": [
       "<div>                            <div id=\"b97cb99b-e91b-4a8e-a251-1050ee8d1d85\" class=\"plotly-graph-div\" style=\"height:525px; width:100%;\"></div>            <script type=\"text/javascript\">                require([\"plotly\"], function(Plotly) {                    window.PLOTLYENV=window.PLOTLYENV || {};                                    if (document.getElementById(\"b97cb99b-e91b-4a8e-a251-1050ee8d1d85\")) {                    Plotly.newPlot(                        \"b97cb99b-e91b-4a8e-a251-1050ee8d1d85\",                        [{\"hovertemplate\":\"Period=%{x}<br>Passenger Count_sum=%{y}<extra></extra>\",\"legendgroup\":\"\",\"line\":{\"color\":\"#03fcdb\",\"dash\":\"solid\"},\"marker\":{\"symbol\":\"circle\"},\"mode\":\"lines\",\"name\":\"\",\"orientation\":\"v\",\"showlegend\":false,\"type\":\"scatter\",\"x\":[\"2005-01-01T00:00:00\",\"2006-01-01T00:00:00\",\"2007-01-01T00:00:00\",\"2008-01-01T00:00:00\",\"2009-01-01T00:00:00\",\"2010-01-01T00:00:00\",\"2011-01-01T00:00:00\",\"2012-01-01T00:00:00\",\"2013-01-01T00:00:00\",\"2014-01-01T00:00:00\",\"2015-01-01T00:00:00\",\"2016-01-01T00:00:00\"],\"xaxis\":\"x\",\"y\":[17222033,33332970,35554082,37234678,37338942,39253999,40927786,44399885,44945760,47114631,50057887,11429847],\"yaxis\":\"y\"}],                        {\"legend\":{\"tracegroupgap\":0},\"template\":{\"data\":{\"bar\":[{\"error_x\":{\"color\":\"rgb(36,36,36)\"},\"error_y\":{\"color\":\"rgb(36,36,36)\"},\"marker\":{\"line\":{\"color\":\"rgb(234,234,242)\",\"width\":0.5},\"pattern\":{\"fillmode\":\"overlay\",\"size\":10,\"solidity\":0.2}},\"type\":\"bar\"}],\"barpolar\":[{\"marker\":{\"line\":{\"color\":\"rgb(234,234,242)\",\"width\":0.5},\"pattern\":{\"fillmode\":\"overlay\",\"size\":10,\"solidity\":0.2}},\"type\":\"barpolar\"}],\"carpet\":[{\"aaxis\":{\"endlinecolor\":\"rgb(36,36,36)\",\"gridcolor\":\"white\",\"linecolor\":\"white\",\"minorgridcolor\":\"white\",\"startlinecolor\":\"rgb(36,36,36)\"},\"baxis\":{\"endlinecolor\":\"rgb(36,36,36)\",\"gridcolor\":\"white\",\"linecolor\":\"white\",\"minorgridcolor\":\"white\",\"startlinecolor\":\"rgb(36,36,36)\"},\"type\":\"carpet\"}],\"choropleth\":[{\"colorbar\":{\"outlinewidth\":0,\"tickcolor\":\"rgb(36,36,36)\",\"ticklen\":8,\"ticks\":\"outside\",\"tickwidth\":2},\"type\":\"choropleth\"}],\"contour\":[{\"colorbar\":{\"outlinewidth\":0,\"tickcolor\":\"rgb(36,36,36)\",\"ticklen\":8,\"ticks\":\"outside\",\"tickwidth\":2},\"colorscale\":[[0.0,\"rgb(2,4,25)\"],[0.06274509803921569,\"rgb(24,15,41)\"],[0.12549019607843137,\"rgb(47,23,57)\"],[0.18823529411764706,\"rgb(71,28,72)\"],[0.25098039215686274,\"rgb(97,30,82)\"],[0.3137254901960784,\"rgb(123,30,89)\"],[0.3764705882352941,\"rgb(150,27,91)\"],[0.4392156862745098,\"rgb(177,22,88)\"],[0.5019607843137255,\"rgb(203,26,79)\"],[0.5647058823529412,\"rgb(223,47,67)\"],[0.6274509803921569,\"rgb(236,76,61)\"],[0.6901960784313725,\"rgb(242,107,73)\"],[0.7529411764705882,\"rgb(244,135,95)\"],[0.8156862745098039,\"rgb(245,162,122)\"],[0.8784313725490196,\"rgb(246,188,153)\"],[0.9411764705882353,\"rgb(247,212,187)\"],[1.0,\"rgb(250,234,220)\"]],\"type\":\"contour\"}],\"contourcarpet\":[{\"colorbar\":{\"outlinewidth\":0,\"tickcolor\":\"rgb(36,36,36)\",\"ticklen\":8,\"ticks\":\"outside\",\"tickwidth\":2},\"type\":\"contourcarpet\"}],\"heatmap\":[{\"colorbar\":{\"outlinewidth\":0,\"tickcolor\":\"rgb(36,36,36)\",\"ticklen\":8,\"ticks\":\"outside\",\"tickwidth\":2},\"colorscale\":[[0.0,\"rgb(2,4,25)\"],[0.06274509803921569,\"rgb(24,15,41)\"],[0.12549019607843137,\"rgb(47,23,57)\"],[0.18823529411764706,\"rgb(71,28,72)\"],[0.25098039215686274,\"rgb(97,30,82)\"],[0.3137254901960784,\"rgb(123,30,89)\"],[0.3764705882352941,\"rgb(150,27,91)\"],[0.4392156862745098,\"rgb(177,22,88)\"],[0.5019607843137255,\"rgb(203,26,79)\"],[0.5647058823529412,\"rgb(223,47,67)\"],[0.6274509803921569,\"rgb(236,76,61)\"],[0.6901960784313725,\"rgb(242,107,73)\"],[0.7529411764705882,\"rgb(244,135,95)\"],[0.8156862745098039,\"rgb(245,162,122)\"],[0.8784313725490196,\"rgb(246,188,153)\"],[0.9411764705882353,\"rgb(247,212,187)\"],[1.0,\"rgb(250,234,220)\"]],\"type\":\"heatmap\"}],\"heatmapgl\":[{\"colorbar\":{\"outlinewidth\":0,\"tickcolor\":\"rgb(36,36,36)\",\"ticklen\":8,\"ticks\":\"outside\",\"tickwidth\":2},\"colorscale\":[[0.0,\"rgb(2,4,25)\"],[0.06274509803921569,\"rgb(24,15,41)\"],[0.12549019607843137,\"rgb(47,23,57)\"],[0.18823529411764706,\"rgb(71,28,72)\"],[0.25098039215686274,\"rgb(97,30,82)\"],[0.3137254901960784,\"rgb(123,30,89)\"],[0.3764705882352941,\"rgb(150,27,91)\"],[0.4392156862745098,\"rgb(177,22,88)\"],[0.5019607843137255,\"rgb(203,26,79)\"],[0.5647058823529412,\"rgb(223,47,67)\"],[0.6274509803921569,\"rgb(236,76,61)\"],[0.6901960784313725,\"rgb(242,107,73)\"],[0.7529411764705882,\"rgb(244,135,95)\"],[0.8156862745098039,\"rgb(245,162,122)\"],[0.8784313725490196,\"rgb(246,188,153)\"],[0.9411764705882353,\"rgb(247,212,187)\"],[1.0,\"rgb(250,234,220)\"]],\"type\":\"heatmapgl\"}],\"histogram\":[{\"marker\":{\"pattern\":{\"fillmode\":\"overlay\",\"size\":10,\"solidity\":0.2}},\"type\":\"histogram\"}],\"histogram2d\":[{\"colorbar\":{\"outlinewidth\":0,\"tickcolor\":\"rgb(36,36,36)\",\"ticklen\":8,\"ticks\":\"outside\",\"tickwidth\":2},\"colorscale\":[[0.0,\"rgb(2,4,25)\"],[0.06274509803921569,\"rgb(24,15,41)\"],[0.12549019607843137,\"rgb(47,23,57)\"],[0.18823529411764706,\"rgb(71,28,72)\"],[0.25098039215686274,\"rgb(97,30,82)\"],[0.3137254901960784,\"rgb(123,30,89)\"],[0.3764705882352941,\"rgb(150,27,91)\"],[0.4392156862745098,\"rgb(177,22,88)\"],[0.5019607843137255,\"rgb(203,26,79)\"],[0.5647058823529412,\"rgb(223,47,67)\"],[0.6274509803921569,\"rgb(236,76,61)\"],[0.6901960784313725,\"rgb(242,107,73)\"],[0.7529411764705882,\"rgb(244,135,95)\"],[0.8156862745098039,\"rgb(245,162,122)\"],[0.8784313725490196,\"rgb(246,188,153)\"],[0.9411764705882353,\"rgb(247,212,187)\"],[1.0,\"rgb(250,234,220)\"]],\"type\":\"histogram2d\"}],\"histogram2dcontour\":[{\"colorbar\":{\"outlinewidth\":0,\"tickcolor\":\"rgb(36,36,36)\",\"ticklen\":8,\"ticks\":\"outside\",\"tickwidth\":2},\"colorscale\":[[0.0,\"rgb(2,4,25)\"],[0.06274509803921569,\"rgb(24,15,41)\"],[0.12549019607843137,\"rgb(47,23,57)\"],[0.18823529411764706,\"rgb(71,28,72)\"],[0.25098039215686274,\"rgb(97,30,82)\"],[0.3137254901960784,\"rgb(123,30,89)\"],[0.3764705882352941,\"rgb(150,27,91)\"],[0.4392156862745098,\"rgb(177,22,88)\"],[0.5019607843137255,\"rgb(203,26,79)\"],[0.5647058823529412,\"rgb(223,47,67)\"],[0.6274509803921569,\"rgb(236,76,61)\"],[0.6901960784313725,\"rgb(242,107,73)\"],[0.7529411764705882,\"rgb(244,135,95)\"],[0.8156862745098039,\"rgb(245,162,122)\"],[0.8784313725490196,\"rgb(246,188,153)\"],[0.9411764705882353,\"rgb(247,212,187)\"],[1.0,\"rgb(250,234,220)\"]],\"type\":\"histogram2dcontour\"}],\"mesh3d\":[{\"colorbar\":{\"outlinewidth\":0,\"tickcolor\":\"rgb(36,36,36)\",\"ticklen\":8,\"ticks\":\"outside\",\"tickwidth\":2},\"type\":\"mesh3d\"}],\"parcoords\":[{\"line\":{\"colorbar\":{\"outlinewidth\":0,\"tickcolor\":\"rgb(36,36,36)\",\"ticklen\":8,\"ticks\":\"outside\",\"tickwidth\":2}},\"type\":\"parcoords\"}],\"pie\":[{\"automargin\":true,\"type\":\"pie\"}],\"scatter\":[{\"marker\":{\"colorbar\":{\"outlinewidth\":0,\"tickcolor\":\"rgb(36,36,36)\",\"ticklen\":8,\"ticks\":\"outside\",\"tickwidth\":2}},\"type\":\"scatter\"}],\"scatter3d\":[{\"line\":{\"colorbar\":{\"outlinewidth\":0,\"tickcolor\":\"rgb(36,36,36)\",\"ticklen\":8,\"ticks\":\"outside\",\"tickwidth\":2}},\"marker\":{\"colorbar\":{\"outlinewidth\":0,\"tickcolor\":\"rgb(36,36,36)\",\"ticklen\":8,\"ticks\":\"outside\",\"tickwidth\":2}},\"type\":\"scatter3d\"}],\"scattercarpet\":[{\"marker\":{\"colorbar\":{\"outlinewidth\":0,\"tickcolor\":\"rgb(36,36,36)\",\"ticklen\":8,\"ticks\":\"outside\",\"tickwidth\":2}},\"type\":\"scattercarpet\"}],\"scattergeo\":[{\"marker\":{\"colorbar\":{\"outlinewidth\":0,\"tickcolor\":\"rgb(36,36,36)\",\"ticklen\":8,\"ticks\":\"outside\",\"tickwidth\":2}},\"type\":\"scattergeo\"}],\"scattergl\":[{\"marker\":{\"colorbar\":{\"outlinewidth\":0,\"tickcolor\":\"rgb(36,36,36)\",\"ticklen\":8,\"ticks\":\"outside\",\"tickwidth\":2}},\"type\":\"scattergl\"}],\"scattermapbox\":[{\"marker\":{\"colorbar\":{\"outlinewidth\":0,\"tickcolor\":\"rgb(36,36,36)\",\"ticklen\":8,\"ticks\":\"outside\",\"tickwidth\":2}},\"type\":\"scattermapbox\"}],\"scatterpolar\":[{\"marker\":{\"colorbar\":{\"outlinewidth\":0,\"tickcolor\":\"rgb(36,36,36)\",\"ticklen\":8,\"ticks\":\"outside\",\"tickwidth\":2}},\"type\":\"scatterpolar\"}],\"scatterpolargl\":[{\"marker\":{\"colorbar\":{\"outlinewidth\":0,\"tickcolor\":\"rgb(36,36,36)\",\"ticklen\":8,\"ticks\":\"outside\",\"tickwidth\":2}},\"type\":\"scatterpolargl\"}],\"scatterternary\":[{\"marker\":{\"colorbar\":{\"outlinewidth\":0,\"tickcolor\":\"rgb(36,36,36)\",\"ticklen\":8,\"ticks\":\"outside\",\"tickwidth\":2}},\"type\":\"scatterternary\"}],\"surface\":[{\"colorbar\":{\"outlinewidth\":0,\"tickcolor\":\"rgb(36,36,36)\",\"ticklen\":8,\"ticks\":\"outside\",\"tickwidth\":2},\"colorscale\":[[0.0,\"rgb(2,4,25)\"],[0.06274509803921569,\"rgb(24,15,41)\"],[0.12549019607843137,\"rgb(47,23,57)\"],[0.18823529411764706,\"rgb(71,28,72)\"],[0.25098039215686274,\"rgb(97,30,82)\"],[0.3137254901960784,\"rgb(123,30,89)\"],[0.3764705882352941,\"rgb(150,27,91)\"],[0.4392156862745098,\"rgb(177,22,88)\"],[0.5019607843137255,\"rgb(203,26,79)\"],[0.5647058823529412,\"rgb(223,47,67)\"],[0.6274509803921569,\"rgb(236,76,61)\"],[0.6901960784313725,\"rgb(242,107,73)\"],[0.7529411764705882,\"rgb(244,135,95)\"],[0.8156862745098039,\"rgb(245,162,122)\"],[0.8784313725490196,\"rgb(246,188,153)\"],[0.9411764705882353,\"rgb(247,212,187)\"],[1.0,\"rgb(250,234,220)\"]],\"type\":\"surface\"}],\"table\":[{\"cells\":{\"fill\":{\"color\":\"rgb(231,231,240)\"},\"line\":{\"color\":\"white\"}},\"header\":{\"fill\":{\"color\":\"rgb(183,183,191)\"},\"line\":{\"color\":\"white\"}},\"type\":\"table\"}]},\"layout\":{\"annotationdefaults\":{\"arrowcolor\":\"rgb(67,103,167)\"},\"autotypenumbers\":\"strict\",\"coloraxis\":{\"colorbar\":{\"outlinewidth\":0,\"tickcolor\":\"rgb(36,36,36)\",\"ticklen\":8,\"ticks\":\"outside\",\"tickwidth\":2}},\"colorscale\":{\"sequential\":[[0.0,\"rgb(2,4,25)\"],[0.06274509803921569,\"rgb(24,15,41)\"],[0.12549019607843137,\"rgb(47,23,57)\"],[0.18823529411764706,\"rgb(71,28,72)\"],[0.25098039215686274,\"rgb(97,30,82)\"],[0.3137254901960784,\"rgb(123,30,89)\"],[0.3764705882352941,\"rgb(150,27,91)\"],[0.4392156862745098,\"rgb(177,22,88)\"],[0.5019607843137255,\"rgb(203,26,79)\"],[0.5647058823529412,\"rgb(223,47,67)\"],[0.6274509803921569,\"rgb(236,76,61)\"],[0.6901960784313725,\"rgb(242,107,73)\"],[0.7529411764705882,\"rgb(244,135,95)\"],[0.8156862745098039,\"rgb(245,162,122)\"],[0.8784313725490196,\"rgb(246,188,153)\"],[0.9411764705882353,\"rgb(247,212,187)\"],[1.0,\"rgb(250,234,220)\"]],\"sequentialminus\":[[0.0,\"rgb(2,4,25)\"],[0.06274509803921569,\"rgb(24,15,41)\"],[0.12549019607843137,\"rgb(47,23,57)\"],[0.18823529411764706,\"rgb(71,28,72)\"],[0.25098039215686274,\"rgb(97,30,82)\"],[0.3137254901960784,\"rgb(123,30,89)\"],[0.3764705882352941,\"rgb(150,27,91)\"],[0.4392156862745098,\"rgb(177,22,88)\"],[0.5019607843137255,\"rgb(203,26,79)\"],[0.5647058823529412,\"rgb(223,47,67)\"],[0.6274509803921569,\"rgb(236,76,61)\"],[0.6901960784313725,\"rgb(242,107,73)\"],[0.7529411764705882,\"rgb(244,135,95)\"],[0.8156862745098039,\"rgb(245,162,122)\"],[0.8784313725490196,\"rgb(246,188,153)\"],[0.9411764705882353,\"rgb(247,212,187)\"],[1.0,\"rgb(250,234,220)\"]]},\"colorway\":[\"rgb(76,114,176)\",\"rgb(221,132,82)\",\"rgb(85,168,104)\",\"rgb(196,78,82)\",\"rgb(129,114,179)\",\"rgb(147,120,96)\",\"rgb(218,139,195)\",\"rgb(140,140,140)\",\"rgb(204,185,116)\",\"rgb(100,181,205)\"],\"font\":{\"color\":\"rgb(36,36,36)\"},\"geo\":{\"bgcolor\":\"white\",\"lakecolor\":\"white\",\"landcolor\":\"rgb(234,234,242)\",\"showlakes\":true,\"showland\":true,\"subunitcolor\":\"white\"},\"hoverlabel\":{\"align\":\"left\"},\"hovermode\":\"closest\",\"paper_bgcolor\":\"white\",\"plot_bgcolor\":\"rgb(234,234,242)\",\"polar\":{\"angularaxis\":{\"gridcolor\":\"white\",\"linecolor\":\"white\",\"showgrid\":true,\"ticks\":\"\"},\"bgcolor\":\"rgb(234,234,242)\",\"radialaxis\":{\"gridcolor\":\"white\",\"linecolor\":\"white\",\"showgrid\":true,\"ticks\":\"\"}},\"scene\":{\"xaxis\":{\"backgroundcolor\":\"rgb(234,234,242)\",\"gridcolor\":\"white\",\"gridwidth\":2,\"linecolor\":\"white\",\"showbackground\":true,\"showgrid\":true,\"ticks\":\"\",\"zerolinecolor\":\"white\"},\"yaxis\":{\"backgroundcolor\":\"rgb(234,234,242)\",\"gridcolor\":\"white\",\"gridwidth\":2,\"linecolor\":\"white\",\"showbackground\":true,\"showgrid\":true,\"ticks\":\"\",\"zerolinecolor\":\"white\"},\"zaxis\":{\"backgroundcolor\":\"rgb(234,234,242)\",\"gridcolor\":\"white\",\"gridwidth\":2,\"linecolor\":\"white\",\"showbackground\":true,\"showgrid\":true,\"ticks\":\"\",\"zerolinecolor\":\"white\"}},\"shapedefaults\":{\"fillcolor\":\"rgb(67,103,167)\",\"line\":{\"width\":0},\"opacity\":0.5},\"ternary\":{\"aaxis\":{\"gridcolor\":\"white\",\"linecolor\":\"white\",\"showgrid\":true,\"ticks\":\"\"},\"baxis\":{\"gridcolor\":\"white\",\"linecolor\":\"white\",\"showgrid\":true,\"ticks\":\"\"},\"bgcolor\":\"rgb(234,234,242)\",\"caxis\":{\"gridcolor\":\"white\",\"linecolor\":\"white\",\"showgrid\":true,\"ticks\":\"\"}},\"xaxis\":{\"automargin\":true,\"gridcolor\":\"white\",\"linecolor\":\"white\",\"showgrid\":true,\"ticks\":\"\",\"title\":{\"standoff\":15},\"zerolinecolor\":\"white\"},\"yaxis\":{\"automargin\":true,\"gridcolor\":\"white\",\"linecolor\":\"white\",\"showgrid\":true,\"ticks\":\"\",\"title\":{\"standoff\":15},\"zerolinecolor\":\"white\"}}},\"title\":{\"text\":\"San Fransisco Airport Total Passenger ( Annually Resampled)\"},\"xaxis\":{\"anchor\":\"y\",\"domain\":[0.0,1.0],\"title\":{\"text\":\"Year\"}},\"yaxis\":{\"anchor\":\"x\",\"domain\":[0.0,1.0],\"title\":{\"text\":\"Total Passanger\"}}},                        {\"responsive\": true}                    ).then(function(){\n",
       "                            \n",
       "var gd = document.getElementById('b97cb99b-e91b-4a8e-a251-1050ee8d1d85');\n",
       "var x = new MutationObserver(function (mutations, observer) {{\n",
       "        var display = window.getComputedStyle(gd).display;\n",
       "        if (!display || display === 'none') {{\n",
       "            console.log([gd, 'removed!']);\n",
       "            Plotly.purge(gd);\n",
       "            observer.disconnect();\n",
       "        }}\n",
       "}});\n",
       "\n",
       "// Listen for the removal of the full notebook cells\n",
       "var notebookContainer = gd.closest('#notebook-container');\n",
       "if (notebookContainer) {{\n",
       "    x.observe(notebookContainer, {childList: true});\n",
       "}}\n",
       "\n",
       "// Listen for the clearing of the current output cell\n",
       "var outputEl = gd.closest('.output');\n",
       "if (outputEl) {{\n",
       "    x.observe(outputEl, {childList: true});\n",
       "}}\n",
       "\n",
       "                        })                };                });            </script>        </div>"
      ]
     },
     "metadata": {},
     "output_type": "display_data"
    }
   ],
   "source": [
    "import plotly.express as px\n",
    "fig = px.line(data.sort_values(by=['Period'], ascending=[True]).reset_index(), x='Period', y='Passenger Count_sum', template='seaborn', title='San Fransisco Airport Total Passenger ( Annually Resampled)')\n",
    "fig.update_xaxes(title_text='Year')\n",
    "fig.update_yaxes(title_text='Total Passanger')\n",
    "fig.update_traces(line=dict(color='#03fcdb'))\n",
    "fig.show()"
   ]
  },
  {
   "cell_type": "code",
   "execution_count": null,
   "metadata": {},
   "outputs": [],
   "source": [
    "def tsplot(y, lags=None, title='', figsize=(14, 8)):\n",
    "    '''Examine the patterns of ACF and PACF, along with the time series plot and histogram.\n",
    "    \n",
    "    Original source: https://tomaugspurger.github.io/modern-7-timeseries.html\n",
    "    '''\n",
    "    fig = plt.figure(figsize=figsize)\n",
    "    layout = (2, 2)\n",
    "    ts_ax   = plt.subplot2grid(layout, (0, 0))\n",
    "    hist_ax = plt.subplot2grid(layout, (0, 1))\n",
    "    acf_ax  = plt.subplot2grid(layout, (1, 0))\n",
    "    pacf_ax = plt.subplot2grid(layout, (1, 1))\n",
    "    \n",
    "    y.plot(ax=ts_ax)\n",
    "    ts_ax.set_title(title)\n",
    "    y.plot(ax=hist_ax, kind='hist', bins=25)\n",
    "    hist_ax.set_title('Histogram')\n",
    "    smt.graphics.plot_acf(y, lags=lags, ax=acf_ax)\n",
    "    smt.graphics.plot_pacf(y, lags=lags, ax=pacf_ax)\n",
    "    [ax.set_xlim(0) for ax in [acf_ax, pacf_ax]]\n",
    "    sns.despine()\n",
    "    plt.tight_layout()\n",
    "    return ts_ax, acf_ax, pacf_ax"
   ]
  },
  {
   "cell_type": "code",
   "execution_count": 34,
   "metadata": {},
   "outputs": [],
   "source": [
    "from plotly.subplots import make_subplots\n",
    "import plotly.graph_objects as go\n",
    "from statsmodels.tsa.stattools import pacf, acf \n",
    "\n",
    "import statsmodels.api as sm\n",
    "import statsmodels.formula.api as smf\n",
    "import statsmodels.tsa.api as smt\n",
    "\n",
    "\n",
    "canvas = make_subplots(rows=2, cols=2)"
   ]
  },
  {
   "cell_type": "code",
   "execution_count": 42,
   "metadata": {},
   "outputs": [],
   "source": [
    "def create_acfpacf_plot(series, plot_pacf=False):\n",
    "    corr_array = pacf(series.dropna(), alpha=0.05) if plot_pacf else acf(series.dropna(), alpha=0.05)\n",
    "    lower_y = corr_array[1][:,0] - corr_array[0]\n",
    "    upper_y = corr_array[1][:,1] - corr_array[0]\n",
    "\n",
    "    fig = go.Figure()\n",
    "    [fig.add_scatter(x=(x,x), y=(0,corr_array[0][x]), mode='lines',line_color='#3f3f3f') \n",
    "     for x in range(len(corr_array[0]))]\n",
    "    fig.add_scatter(x=np.arange(len(corr_array[0])), y=corr_array[0], mode='markers', marker_color='#1f77b4',\n",
    "                   marker_size=12)\n",
    "    fig.add_scatter(x=np.arange(len(corr_array[0])), y=upper_y, mode='lines', line_color='rgba(255,255,255,0)')\n",
    "    fig.add_scatter(x=np.arange(len(corr_array[0])), y=lower_y, mode='lines',fillcolor='rgba(32, 146, 230,0.3)',\n",
    "            fill='tonexty', line_color='rgba(255,255,255,0)')\n",
    "    fig.update_traces(showlegend=False)\n",
    "    fig.update_xaxes(range=[-1,42])\n",
    "    fig.update_yaxes(zerolinecolor='#000000')\n",
    "    \n",
    "    title='Partial Autocorrelation (PACF)' if plot_pacf else 'Autocorrelation (ACF)'\n",
    "    fig.update_layout(title=title)\n",
    "    return fig"
   ]
  },
  {
   "cell_type": "code",
   "execution_count": 39,
   "metadata": {},
   "outputs": [],
   "source": [
    " corr_array = pacf(pd.read_csv('passanger_total.csv',index_col='Period',parse_dates=['Period']).dropna(), alpha=0.05)"
   ]
  },
  {
   "cell_type": "code",
   "execution_count": 40,
   "metadata": {},
   "outputs": [
    {
     "data": {
      "text/plain": [
       "(array([  1.        ,   0.86313304,   0.10029058,  -0.23543221,\n",
       "         -0.21441371,   0.14727721,  -0.0809476 ,   0.74976095,\n",
       "          0.16385802,   0.28190856,  -0.23139161,   0.12016628,\n",
       "          0.211444  ,  -0.85802377,  -0.13475691,   0.1681425 ,\n",
       "          0.98721544,  40.60546497,  -0.98519779,   1.92284676,\n",
       "          0.84786871,  -0.24924314,  -1.5281029 ,   1.4535211 ,\n",
       "          3.25323019,  -1.0811627 ,  -0.63527862,   0.21860687,\n",
       "          0.43181374,   0.93891594,   1.66338182,   1.56560981,\n",
       "        -10.06736579,  -1.0345004 ,  -1.13507926,   0.51566229,\n",
       "         -0.54784595,  -1.34231473,   1.04481251,  -4.4603666 ,\n",
       "         -1.7295075 ]),\n",
       " array([[ 1.00000000e+00,  1.00000000e+00],\n",
       "        [ 6.90567836e-01,  1.03569825e+00],\n",
       "        [-7.22746236e-02,  2.72855790e-01],\n",
       "        [-4.07997417e-01, -6.28670036e-02],\n",
       "        [-3.86978921e-01, -4.18485081e-02],\n",
       "        [-2.52879956e-02,  3.19842418e-01],\n",
       "        [-2.53512809e-01,  9.16176044e-02],\n",
       "        [ 5.77195741e-01,  9.22326155e-01],\n",
       "        [-8.70718269e-03,  3.36423231e-01],\n",
       "        [ 1.09343358e-01,  4.54473771e-01],\n",
       "        [-4.03956821e-01, -5.88264076e-02],\n",
       "        [-5.23989237e-02,  2.92731490e-01],\n",
       "        [ 3.88787959e-02,  3.84009209e-01],\n",
       "        [-1.03058897e+00, -6.85458559e-01],\n",
       "        [-3.07322121e-01,  3.78082926e-02],\n",
       "        [-4.42270363e-03,  3.40707710e-01],\n",
       "        [ 8.14650231e-01,  1.15978064e+00],\n",
       "        [ 4.04328998e+01,  4.07780302e+01],\n",
       "        [-1.15776300e+00, -8.12632587e-01],\n",
       "        [ 1.75028155e+00,  2.09541196e+00],\n",
       "        [ 6.75303500e-01,  1.02043391e+00],\n",
       "        [-4.21808346e-01, -7.66779329e-02],\n",
       "        [-1.70066810e+00, -1.35553769e+00],\n",
       "        [ 1.28095590e+00,  1.62608631e+00],\n",
       "        [ 3.08066499e+00,  3.42579540e+00],\n",
       "        [-1.25372791e+00, -9.08597496e-01],\n",
       "        [-8.07843825e-01, -4.62713412e-01],\n",
       "        [ 4.60416645e-02,  3.91172078e-01],\n",
       "        [ 2.59248536e-01,  6.04378950e-01],\n",
       "        [ 7.66350732e-01,  1.11148115e+00],\n",
       "        [ 1.49081662e+00,  1.83594703e+00],\n",
       "        [ 1.39304460e+00,  1.73817502e+00],\n",
       "        [-1.02399310e+01, -9.89480058e+00],\n",
       "        [-1.20706561e+00, -8.61935194e-01],\n",
       "        [-1.30764447e+00, -9.62514055e-01],\n",
       "        [ 3.43097080e-01,  6.88227493e-01],\n",
       "        [-7.20411155e-01, -3.75280741e-01],\n",
       "        [-1.51487994e+00, -1.16974953e+00],\n",
       "        [ 8.72247304e-01,  1.21737772e+00],\n",
       "        [-4.63293181e+00, -4.28780140e+00],\n",
       "        [-1.90207270e+00, -1.55694229e+00]]))"
      ]
     },
     "execution_count": 40,
     "metadata": {},
     "output_type": "execute_result"
    }
   ],
   "source": [
    "corr_array"
   ]
  },
  {
   "cell_type": "code",
   "execution_count": 44,
   "metadata": {},
   "outputs": [],
   "source": [
    "x = pd.read_csv('passanger_total.csv')"
   ]
  },
  {
   "cell_type": "code",
   "execution_count": 45,
   "metadata": {},
   "outputs": [
    {
     "data": {
      "text/plain": [
       "129"
      ]
     },
     "execution_count": 45,
     "metadata": {},
     "output_type": "execute_result"
    }
   ],
   "source": [
    "len(x)"
   ]
  },
  {
   "cell_type": "code",
   "execution_count": 46,
   "metadata": {},
   "outputs": [
    {
     "data": {
      "application/vnd.jupyter.widget-view+json": {
       "model_id": "4a014c475d9d4cef8f0e3b9942917770"
      },
      "text/html": [
       "<div>\n",
       "<style scoped>\n",
       "    .dataframe tbody tr th:only-of-type {\n",
       "        vertical-align: middle;\n",
       "    }\n",
       "\n",
       "    .dataframe tbody tr th {\n",
       "        vertical-align: top;\n",
       "    }\n",
       "\n",
       "    .dataframe thead th {\n",
       "        text-align: right;\n",
       "    }\n",
       "</style>\n",
       "<table border=\"1\" class=\"dataframe\">\n",
       "  <thead>\n",
       "    <tr style=\"text-align: right;\">\n",
       "      <th></th>\n",
       "      <th>Period</th>\n",
       "      <th>Passenger Count_sum</th>\n",
       "    </tr>\n",
       "  </thead>\n",
       "  <tbody>\n",
       "    <tr>\n",
       "      <th>0</th>\n",
       "      <td>2005-07-01</td>\n",
       "      <td>3225769</td>\n",
       "    </tr>\n",
       "    <tr>\n",
       "      <th>1</th>\n",
       "      <td>2005-08-01</td>\n",
       "      <td>3195866</td>\n",
       "    </tr>\n",
       "    <tr>\n",
       "      <th>2</th>\n",
       "      <td>2005-09-01</td>\n",
       "      <td>2740553</td>\n",
       "    </tr>\n",
       "    <tr>\n",
       "      <th>3</th>\n",
       "      <td>2005-10-01</td>\n",
       "      <td>2770715</td>\n",
       "    </tr>\n",
       "    <tr>\n",
       "      <th>4</th>\n",
       "      <td>2005-11-01</td>\n",
       "      <td>2617333</td>\n",
       "    </tr>\n",
       "    <tr>\n",
       "      <th>...</th>\n",
       "      <td>...</td>\n",
       "      <td>...</td>\n",
       "    </tr>\n",
       "    <tr>\n",
       "      <th>124</th>\n",
       "      <td>2015-11-01</td>\n",
       "      <td>4013814</td>\n",
       "    </tr>\n",
       "    <tr>\n",
       "      <th>125</th>\n",
       "      <td>2015-12-01</td>\n",
       "      <td>4129052</td>\n",
       "    </tr>\n",
       "    <tr>\n",
       "      <th>126</th>\n",
       "      <td>2016-01-01</td>\n",
       "      <td>3748529</td>\n",
       "    </tr>\n",
       "    <tr>\n",
       "      <th>127</th>\n",
       "      <td>2016-02-01</td>\n",
       "      <td>3543639</td>\n",
       "    </tr>\n",
       "    <tr>\n",
       "      <th>128</th>\n",
       "      <td>2016-03-01</td>\n",
       "      <td>4137679</td>\n",
       "    </tr>\n",
       "  </tbody>\n",
       "</table>\n",
       "<p>129 rows × 2 columns</p>\n",
       "</div>"
      ],
      "text/plain": [
       "         Period  Passenger Count_sum\n",
       "0    2005-07-01              3225769\n",
       "1    2005-08-01              3195866\n",
       "2    2005-09-01              2740553\n",
       "3    2005-10-01              2770715\n",
       "4    2005-11-01              2617333\n",
       "..          ...                  ...\n",
       "124  2015-11-01              4013814\n",
       "125  2015-12-01              4129052\n",
       "126  2016-01-01              3748529\n",
       "127  2016-02-01              3543639\n",
       "128  2016-03-01              4137679\n",
       "\n",
       "[129 rows x 2 columns]"
      ]
     },
     "metadata": {},
     "output_type": "display_data"
    }
   ],
   "source": [
    "x"
   ]
  },
  {
   "cell_type": "code",
   "execution_count": 58,
   "metadata": {},
   "outputs": [],
   "source": []
  },
  {
   "cell_type": "code",
   "execution_count": 53,
   "metadata": {},
   "outputs": [
    {
     "data": {
      "application/vnd.jupyter.widget-view+json": {
       "model_id": "cebaef44ce30471fa00f742efdbc5719"
      },
      "text/html": [
       "<div>\n",
       "<style scoped>\n",
       "    .dataframe tbody tr th:only-of-type {\n",
       "        vertical-align: middle;\n",
       "    }\n",
       "\n",
       "    .dataframe tbody tr th {\n",
       "        vertical-align: top;\n",
       "    }\n",
       "\n",
       "    .dataframe thead th {\n",
       "        text-align: right;\n",
       "    }\n",
       "</style>\n",
       "<table border=\"1\" class=\"dataframe\">\n",
       "  <thead>\n",
       "    <tr style=\"text-align: right;\">\n",
       "      <th></th>\n",
       "      <th>Passenger Count_sum</th>\n",
       "      <th>Period</th>\n",
       "      <th>Year</th>\n",
       "      <th>Month</th>\n",
       "    </tr>\n",
       "    <tr>\n",
       "      <th>Period</th>\n",
       "      <th></th>\n",
       "      <th></th>\n",
       "      <th></th>\n",
       "      <th></th>\n",
       "    </tr>\n",
       "  </thead>\n",
       "  <tbody>\n",
       "    <tr>\n",
       "      <th>2005-07-01</th>\n",
       "      <td>3225769</td>\n",
       "      <td>Jul</td>\n",
       "      <td>2005</td>\n",
       "      <td>Jul</td>\n",
       "    </tr>\n",
       "    <tr>\n",
       "      <th>2005-08-01</th>\n",
       "      <td>3195866</td>\n",
       "      <td>Aug</td>\n",
       "      <td>2005</td>\n",
       "      <td>Aug</td>\n",
       "    </tr>\n",
       "    <tr>\n",
       "      <th>2005-09-01</th>\n",
       "      <td>2740553</td>\n",
       "      <td>Sep</td>\n",
       "      <td>2005</td>\n",
       "      <td>Sep</td>\n",
       "    </tr>\n",
       "    <tr>\n",
       "      <th>2005-10-01</th>\n",
       "      <td>2770715</td>\n",
       "      <td>Oct</td>\n",
       "      <td>2005</td>\n",
       "      <td>Oct</td>\n",
       "    </tr>\n",
       "    <tr>\n",
       "      <th>2005-11-01</th>\n",
       "      <td>2617333</td>\n",
       "      <td>Nov</td>\n",
       "      <td>2005</td>\n",
       "      <td>Nov</td>\n",
       "    </tr>\n",
       "    <tr>\n",
       "      <th>...</th>\n",
       "      <td>...</td>\n",
       "      <td>...</td>\n",
       "      <td>...</td>\n",
       "      <td>...</td>\n",
       "    </tr>\n",
       "    <tr>\n",
       "      <th>2015-11-01</th>\n",
       "      <td>4013814</td>\n",
       "      <td>Nov</td>\n",
       "      <td>2015</td>\n",
       "      <td>Nov</td>\n",
       "    </tr>\n",
       "    <tr>\n",
       "      <th>2015-12-01</th>\n",
       "      <td>4129052</td>\n",
       "      <td>Dec</td>\n",
       "      <td>2015</td>\n",
       "      <td>Dec</td>\n",
       "    </tr>\n",
       "    <tr>\n",
       "      <th>2016-01-01</th>\n",
       "      <td>3748529</td>\n",
       "      <td>Jan</td>\n",
       "      <td>2016</td>\n",
       "      <td>Jan</td>\n",
       "    </tr>\n",
       "    <tr>\n",
       "      <th>2016-02-01</th>\n",
       "      <td>3543639</td>\n",
       "      <td>Feb</td>\n",
       "      <td>2016</td>\n",
       "      <td>Feb</td>\n",
       "    </tr>\n",
       "    <tr>\n",
       "      <th>2016-03-01</th>\n",
       "      <td>4137679</td>\n",
       "      <td>Mar</td>\n",
       "      <td>2016</td>\n",
       "      <td>Mar</td>\n",
       "    </tr>\n",
       "  </tbody>\n",
       "</table>\n",
       "<p>129 rows × 4 columns</p>\n",
       "</div>"
      ],
      "text/plain": [
       "            Passenger Count_sum Period  Year Month\n",
       "Period                                            \n",
       "2005-07-01              3225769    Jul  2005   Jul\n",
       "2005-08-01              3195866    Aug  2005   Aug\n",
       "2005-09-01              2740553    Sep  2005   Sep\n",
       "2005-10-01              2770715    Oct  2005   Oct\n",
       "2005-11-01              2617333    Nov  2005   Nov\n",
       "...                         ...    ...   ...   ...\n",
       "2015-11-01              4013814    Nov  2015   Nov\n",
       "2015-12-01              4129052    Dec  2015   Dec\n",
       "2016-01-01              3748529    Jan  2016   Jan\n",
       "2016-02-01              3543639    Feb  2016   Feb\n",
       "2016-03-01              4137679    Mar  2016   Mar\n",
       "\n",
       "[129 rows x 4 columns]"
      ]
     },
     "metadata": {},
     "output_type": "display_data"
    },
    {
     "name": "stderr",
     "output_type": "stream",
     "text": [
      "Exception in thread Thread-48:\n",
      "Traceback (most recent call last):\n",
      "  File \"c:\\users\\fakhri robi aulia\\appdata\\local\\programs\\python\\python38\\lib\\threading.py\", line 932, in _bootstrap_inner\n",
      "    self.run()\n",
      "  File \"c:\\users\\fakhri robi aulia\\appdata\\local\\programs\\python\\python38\\lib\\threading.py\", line 870, in run\n",
      "    self._target(*self._args, **self._kwargs)\n",
      "  File \"bamboolib\\\\setup\\\\ipython_display.py\", line 210, in bamboolib.setup.ipython_display.lazy_load_bamboolib_ui.load_bamboolib_ui\n",
      "  File \"bamboolib\\\\wrangler.py\", line 828, in bamboolib.wrangler.create_dataframe_ui\n",
      "  File \"bamboolib\\\\df_manager.py\", line 86, in bamboolib.df_manager.DfManager.__init__\n",
      "  File \"bamboolib\\\\df_manager.py\", line 144, in bamboolib.df_manager.DfManager._maybe_perform_normalization\n",
      "  File \"bamboolib\\\\df_manager.py\", line 219, in bamboolib.df_manager.DfManager._maybe_reset_index\n",
      "  File \"c:\\users\\fakhri robi aulia\\appdata\\local\\programs\\python\\python38\\lib\\site-packages\\pandas\\core\\frame.py\", line 4859, in reset_index\n"
     ]
    }
   ],
   "source": [
    "data"
   ]
  },
  {
   "cell_type": "code",
   "execution_count": 70,
   "metadata": {},
   "outputs": [],
   "source": [
    "# Examine seasonal trend in the data\n",
    "def start_boxplot()  : \n",
    "    data = pd.read_csv(DATA_PATH,index_col='Period',parse_dates=['Period'])\n",
    "    data['Month'] = data.index.strftime('%b')\n",
    "    data['Year'] = data.index.year\n",
    "\n",
    "    ts_pivot = data.pivot(index='Year', columns='Month', values='Passenger Count_sum')\n",
    "\n",
    "    data = data.drop(['Month', 'Year'], axis=1)\n",
    "\n",
    "    # put the months in order\n",
    "    month_names = pd.date_range(start='2005-01-01', periods=12, freq='MS').strftime('%b')\n",
    "    ts_pivot = ts_pivot.reindex(columns=month_names)\n",
    "\n",
    "    # plot it\n",
    "\n",
    "\n",
    "    fig = ts_pivot.plot(kind='violin')\n",
    "    fig.show()\n",
    "    return ts_pivot,fig.to_json()\n"
   ]
  },
  {
   "cell_type": "code",
   "execution_count": 24,
   "metadata": {},
   "outputs": [],
   "source": [
    "data = pd.read_csv(DATA_PATH,index_col='Period',parse_dates=['Period'])\n",
    "data['Month'] = data.index.strftime('%b')\n",
    "data['Year'] = data.index.year\n",
    "\n",
    "# ts_pivot = data.pivot(index='Year', columns='Month', values='Passenger Count_sum')\n",
    "\n",
    "# data = data.drop(['Month', 'Year'], axis=1)\n",
    "\n",
    "# put the months in order\n",
    "month_names = pd.date_range(start='2005-01-01', periods=12, freq='MS').strftime('%b')\n"
   ]
  },
  {
   "cell_type": "code",
   "execution_count": 30,
   "metadata": {},
   "outputs": [],
   "source": [
    "ts_pivot = pd.read_csv('passanger_total.csv',index_col='Period',parse_dates=['Period'])\n",
    "ts_pivot['Month'] = ts_pivot.index.strftime('%b')\n",
    "\n",
    "\n"
   ]
  },
  {
   "cell_type": "code",
   "execution_count": 36,
   "metadata": {},
   "outputs": [
    {
     "data": {
      "text/html": [
       "<div>\n",
       "<style scoped>\n",
       "    .dataframe tbody tr th:only-of-type {\n",
       "        vertical-align: middle;\n",
       "    }\n",
       "\n",
       "    .dataframe tbody tr th {\n",
       "        vertical-align: top;\n",
       "    }\n",
       "\n",
       "    .dataframe thead th {\n",
       "        text-align: right;\n",
       "    }\n",
       "</style>\n",
       "<table border=\"1\" class=\"dataframe\">\n",
       "  <thead>\n",
       "    <tr style=\"text-align: right;\">\n",
       "      <th></th>\n",
       "      <th>Passenger Count_sum</th>\n",
       "      <th>Month</th>\n",
       "    </tr>\n",
       "    <tr>\n",
       "      <th>Period</th>\n",
       "      <th></th>\n",
       "      <th></th>\n",
       "    </tr>\n",
       "  </thead>\n",
       "  <tbody>\n",
       "    <tr>\n",
       "      <th>2005-07-01</th>\n",
       "      <td>3225769</td>\n",
       "      <td>Jul</td>\n",
       "    </tr>\n",
       "    <tr>\n",
       "      <th>2006-07-01</th>\n",
       "      <td>3227605</td>\n",
       "      <td>Jul</td>\n",
       "    </tr>\n",
       "    <tr>\n",
       "      <th>2007-07-01</th>\n",
       "      <td>3382382</td>\n",
       "      <td>Jul</td>\n",
       "    </tr>\n",
       "    <tr>\n",
       "      <th>2008-07-01</th>\n",
       "      <td>3603946</td>\n",
       "      <td>Jul</td>\n",
       "    </tr>\n",
       "    <tr>\n",
       "      <th>2009-07-01</th>\n",
       "      <td>3649702</td>\n",
       "      <td>Jul</td>\n",
       "    </tr>\n",
       "    <tr>\n",
       "      <th>2010-07-01</th>\n",
       "      <td>3765824</td>\n",
       "      <td>Jul</td>\n",
       "    </tr>\n",
       "    <tr>\n",
       "      <th>2011-07-01</th>\n",
       "      <td>3935589</td>\n",
       "      <td>Jul</td>\n",
       "    </tr>\n",
       "    <tr>\n",
       "      <th>2012-07-01</th>\n",
       "      <td>4284443</td>\n",
       "      <td>Jul</td>\n",
       "    </tr>\n",
       "    <tr>\n",
       "      <th>2013-07-01</th>\n",
       "      <td>4176486</td>\n",
       "      <td>Jul</td>\n",
       "    </tr>\n",
       "    <tr>\n",
       "      <th>2014-07-01</th>\n",
       "      <td>4499221</td>\n",
       "      <td>Jul</td>\n",
       "    </tr>\n",
       "    <tr>\n",
       "      <th>2015-07-01</th>\n",
       "      <td>4801148</td>\n",
       "      <td>Jul</td>\n",
       "    </tr>\n",
       "  </tbody>\n",
       "</table>\n",
       "</div>"
      ],
      "text/plain": [
       "            Passenger Count_sum Month\n",
       "Period                               \n",
       "2005-07-01              3225769   Jul\n",
       "2006-07-01              3227605   Jul\n",
       "2007-07-01              3382382   Jul\n",
       "2008-07-01              3603946   Jul\n",
       "2009-07-01              3649702   Jul\n",
       "2010-07-01              3765824   Jul\n",
       "2011-07-01              3935589   Jul\n",
       "2012-07-01              4284443   Jul\n",
       "2013-07-01              4176486   Jul\n",
       "2014-07-01              4499221   Jul\n",
       "2015-07-01              4801148   Jul"
      ]
     },
     "metadata": {},
     "output_type": "display_data"
    }
   ],
   "source": [
    "ts_pivot.loc[ts_pivot.Month=='Jul']"
   ]
  },
  {
   "cell_type": "code",
   "execution_count": 43,
   "metadata": {},
   "outputs": [
    {
     "ename": "ValueError",
     "evalue": "\n    Invalid value of type 'builtins.str' received for the 'x' property of box\n        Received value: 'Jul'\n\n    The 'x' property is an array that may be specified as a tuple,\n    list, numpy array, or pandas Series",
     "output_type": "error",
     "traceback": [
      "\u001b[1;31m---------------------------------------------------------------------------\u001b[0m",
      "\u001b[1;31mValueError\u001b[0m                                Traceback (most recent call last)",
      "\u001b[1;32mC:\\Users\\FAKHRI~1\\AppData\\Local\\Temp/ipykernel_19344/2328873178.py\u001b[0m in \u001b[0;36m<module>\u001b[1;34m\u001b[0m\n\u001b[0;32m      8\u001b[0m     \u001b[1;31m#print(df_plot.head())\u001b[0m\u001b[1;33m\u001b[0m\u001b[1;33m\u001b[0m\u001b[1;33m\u001b[0m\u001b[0m\n\u001b[0;32m      9\u001b[0m \u001b[1;33m\u001b[0m\u001b[0m\n\u001b[1;32m---> 10\u001b[1;33m     fig.add_trace(go.Box(x=month, y=ts_pivot.loc[ts_pivot.Month==month,'Passenger Count_sum'],\n\u001b[0m\u001b[0;32m     11\u001b[0m                          \u001b[0mnotched\u001b[0m\u001b[1;33m=\u001b[0m\u001b[1;32mTrue\u001b[0m\u001b[1;33m,\u001b[0m\u001b[1;33m\u001b[0m\u001b[1;33m\u001b[0m\u001b[0m\n\u001b[0;32m     12\u001b[0m                          \u001b[0mline\u001b[0m\u001b[1;33m=\u001b[0m\u001b[0mdict\u001b[0m\u001b[1;33m(\u001b[0m\u001b[0mcolor\u001b[0m\u001b[1;33m=\u001b[0m\u001b[0mcolors\u001b[0m\u001b[1;33m[\u001b[0m\u001b[0mi\u001b[0m\u001b[1;33m]\u001b[0m\u001b[1;33m)\u001b[0m\u001b[1;33m,\u001b[0m\u001b[1;33m\u001b[0m\u001b[1;33m\u001b[0m\u001b[0m\n",
      "\u001b[1;32mc:\\users\\fakhri robi aulia\\appdata\\local\\programs\\python\\python38\\lib\\site-packages\\plotly\\graph_objs\\_box.py\u001b[0m in \u001b[0;36m__init__\u001b[1;34m(self, arg, alignmentgroup, boxmean, boxpoints, customdata, customdatasrc, dx, dy, fillcolor, hoverinfo, hoverinfosrc, hoverlabel, hoveron, hovertemplate, hovertemplatesrc, hovertext, hovertextsrc, ids, idssrc, jitter, legendgroup, legendgrouptitle, legendrank, line, lowerfence, lowerfencesrc, marker, mean, meansrc, median, mediansrc, meta, metasrc, name, notched, notchspan, notchspansrc, notchwidth, offsetgroup, opacity, orientation, pointpos, q1, q1src, q3, q3src, quartilemethod, sd, sdsrc, selected, selectedpoints, showlegend, stream, text, textsrc, uid, uirevision, unselected, upperfence, upperfencesrc, visible, whiskerwidth, width, x, x0, xaxis, xcalendar, xhoverformat, xperiod, xperiod0, xperiodalignment, xsrc, y, y0, yaxis, ycalendar, yhoverformat, yperiod, yperiod0, yperiodalignment, ysrc, **kwargs)\u001b[0m\n\u001b[0;32m   3320\u001b[0m         \u001b[0m_v\u001b[0m \u001b[1;33m=\u001b[0m \u001b[0mx\u001b[0m \u001b[1;32mif\u001b[0m \u001b[0mx\u001b[0m \u001b[1;32mis\u001b[0m \u001b[1;32mnot\u001b[0m \u001b[1;32mNone\u001b[0m \u001b[1;32melse\u001b[0m \u001b[0m_v\u001b[0m\u001b[1;33m\u001b[0m\u001b[1;33m\u001b[0m\u001b[0m\n\u001b[0;32m   3321\u001b[0m         \u001b[1;32mif\u001b[0m \u001b[0m_v\u001b[0m \u001b[1;32mis\u001b[0m \u001b[1;32mnot\u001b[0m \u001b[1;32mNone\u001b[0m\u001b[1;33m:\u001b[0m\u001b[1;33m\u001b[0m\u001b[1;33m\u001b[0m\u001b[0m\n\u001b[1;32m-> 3322\u001b[1;33m             \u001b[0mself\u001b[0m\u001b[1;33m[\u001b[0m\u001b[1;34m\"x\"\u001b[0m\u001b[1;33m]\u001b[0m \u001b[1;33m=\u001b[0m \u001b[0m_v\u001b[0m\u001b[1;33m\u001b[0m\u001b[1;33m\u001b[0m\u001b[0m\n\u001b[0m\u001b[0;32m   3323\u001b[0m         \u001b[0m_v\u001b[0m \u001b[1;33m=\u001b[0m \u001b[0marg\u001b[0m\u001b[1;33m.\u001b[0m\u001b[0mpop\u001b[0m\u001b[1;33m(\u001b[0m\u001b[1;34m\"x0\"\u001b[0m\u001b[1;33m,\u001b[0m \u001b[1;32mNone\u001b[0m\u001b[1;33m)\u001b[0m\u001b[1;33m\u001b[0m\u001b[1;33m\u001b[0m\u001b[0m\n\u001b[0;32m   3324\u001b[0m         \u001b[0m_v\u001b[0m \u001b[1;33m=\u001b[0m \u001b[0mx0\u001b[0m \u001b[1;32mif\u001b[0m \u001b[0mx0\u001b[0m \u001b[1;32mis\u001b[0m \u001b[1;32mnot\u001b[0m \u001b[1;32mNone\u001b[0m \u001b[1;32melse\u001b[0m \u001b[0m_v\u001b[0m\u001b[1;33m\u001b[0m\u001b[1;33m\u001b[0m\u001b[0m\n",
      "\u001b[1;32mc:\\users\\fakhri robi aulia\\appdata\\local\\programs\\python\\python38\\lib\\site-packages\\plotly\\basedatatypes.py\u001b[0m in \u001b[0;36m__setitem__\u001b[1;34m(self, prop, value)\u001b[0m\n\u001b[0;32m   4817\u001b[0m                 \u001b[1;31m# ### Handle simple property ###\u001b[0m\u001b[1;33m\u001b[0m\u001b[1;33m\u001b[0m\u001b[1;33m\u001b[0m\u001b[0m\n\u001b[0;32m   4818\u001b[0m                 \u001b[1;32melse\u001b[0m\u001b[1;33m:\u001b[0m\u001b[1;33m\u001b[0m\u001b[1;33m\u001b[0m\u001b[0m\n\u001b[1;32m-> 4819\u001b[1;33m                     \u001b[0mself\u001b[0m\u001b[1;33m.\u001b[0m\u001b[0m_set_prop\u001b[0m\u001b[1;33m(\u001b[0m\u001b[0mprop\u001b[0m\u001b[1;33m,\u001b[0m \u001b[0mvalue\u001b[0m\u001b[1;33m)\u001b[0m\u001b[1;33m\u001b[0m\u001b[1;33m\u001b[0m\u001b[0m\n\u001b[0m\u001b[0;32m   4820\u001b[0m             \u001b[1;32melse\u001b[0m\u001b[1;33m:\u001b[0m\u001b[1;33m\u001b[0m\u001b[1;33m\u001b[0m\u001b[0m\n\u001b[0;32m   4821\u001b[0m                 \u001b[1;31m# Make sure properties dict is initialized\u001b[0m\u001b[1;33m\u001b[0m\u001b[1;33m\u001b[0m\u001b[1;33m\u001b[0m\u001b[0m\n",
      "\u001b[1;32mc:\\users\\fakhri robi aulia\\appdata\\local\\programs\\python\\python38\\lib\\site-packages\\plotly\\basedatatypes.py\u001b[0m in \u001b[0;36m_set_prop\u001b[1;34m(self, prop, val)\u001b[0m\n\u001b[0;32m   5161\u001b[0m                 \u001b[1;32mreturn\u001b[0m\u001b[1;33m\u001b[0m\u001b[1;33m\u001b[0m\u001b[0m\n\u001b[0;32m   5162\u001b[0m             \u001b[1;32melse\u001b[0m\u001b[1;33m:\u001b[0m\u001b[1;33m\u001b[0m\u001b[1;33m\u001b[0m\u001b[0m\n\u001b[1;32m-> 5163\u001b[1;33m                 \u001b[1;32mraise\u001b[0m \u001b[0merr\u001b[0m\u001b[1;33m\u001b[0m\u001b[1;33m\u001b[0m\u001b[0m\n\u001b[0m\u001b[0;32m   5164\u001b[0m \u001b[1;33m\u001b[0m\u001b[0m\n\u001b[0;32m   5165\u001b[0m         \u001b[1;31m# val is None\u001b[0m\u001b[1;33m\u001b[0m\u001b[1;33m\u001b[0m\u001b[1;33m\u001b[0m\u001b[0m\n",
      "\u001b[1;32mc:\\users\\fakhri robi aulia\\appdata\\local\\programs\\python\\python38\\lib\\site-packages\\plotly\\basedatatypes.py\u001b[0m in \u001b[0;36m_set_prop\u001b[1;34m(self, prop, val)\u001b[0m\n\u001b[0;32m   5156\u001b[0m \u001b[1;33m\u001b[0m\u001b[0m\n\u001b[0;32m   5157\u001b[0m         \u001b[1;32mtry\u001b[0m\u001b[1;33m:\u001b[0m\u001b[1;33m\u001b[0m\u001b[1;33m\u001b[0m\u001b[0m\n\u001b[1;32m-> 5158\u001b[1;33m             \u001b[0mval\u001b[0m \u001b[1;33m=\u001b[0m \u001b[0mvalidator\u001b[0m\u001b[1;33m.\u001b[0m\u001b[0mvalidate_coerce\u001b[0m\u001b[1;33m(\u001b[0m\u001b[0mval\u001b[0m\u001b[1;33m)\u001b[0m\u001b[1;33m\u001b[0m\u001b[1;33m\u001b[0m\u001b[0m\n\u001b[0m\u001b[0;32m   5159\u001b[0m         \u001b[1;32mexcept\u001b[0m \u001b[0mValueError\u001b[0m \u001b[1;32mas\u001b[0m \u001b[0merr\u001b[0m\u001b[1;33m:\u001b[0m\u001b[1;33m\u001b[0m\u001b[1;33m\u001b[0m\u001b[0m\n\u001b[0;32m   5160\u001b[0m             \u001b[1;32mif\u001b[0m \u001b[0mself\u001b[0m\u001b[1;33m.\u001b[0m\u001b[0m_skip_invalid\u001b[0m\u001b[1;33m:\u001b[0m\u001b[1;33m\u001b[0m\u001b[1;33m\u001b[0m\u001b[0m\n",
      "\u001b[1;32mc:\\users\\fakhri robi aulia\\appdata\\local\\programs\\python\\python38\\lib\\site-packages\\_plotly_utils\\basevalidators.py\u001b[0m in \u001b[0;36mvalidate_coerce\u001b[1;34m(self, v)\u001b[0m\n\u001b[0;32m    403\u001b[0m             \u001b[0mv\u001b[0m \u001b[1;33m=\u001b[0m \u001b[0mto_scalar_or_list\u001b[0m\u001b[1;33m(\u001b[0m\u001b[0mv\u001b[0m\u001b[1;33m)\u001b[0m\u001b[1;33m\u001b[0m\u001b[1;33m\u001b[0m\u001b[0m\n\u001b[0;32m    404\u001b[0m         \u001b[1;32melse\u001b[0m\u001b[1;33m:\u001b[0m\u001b[1;33m\u001b[0m\u001b[1;33m\u001b[0m\u001b[0m\n\u001b[1;32m--> 405\u001b[1;33m             \u001b[0mself\u001b[0m\u001b[1;33m.\u001b[0m\u001b[0mraise_invalid_val\u001b[0m\u001b[1;33m(\u001b[0m\u001b[0mv\u001b[0m\u001b[1;33m)\u001b[0m\u001b[1;33m\u001b[0m\u001b[1;33m\u001b[0m\u001b[0m\n\u001b[0m\u001b[0;32m    406\u001b[0m         \u001b[1;32mreturn\u001b[0m \u001b[0mv\u001b[0m\u001b[1;33m\u001b[0m\u001b[1;33m\u001b[0m\u001b[0m\n\u001b[0;32m    407\u001b[0m \u001b[1;33m\u001b[0m\u001b[0m\n",
      "\u001b[1;32mc:\\users\\fakhri robi aulia\\appdata\\local\\programs\\python\\python38\\lib\\site-packages\\_plotly_utils\\basevalidators.py\u001b[0m in \u001b[0;36mraise_invalid_val\u001b[1;34m(self, v, inds)\u001b[0m\n\u001b[0;32m    287\u001b[0m                 \u001b[0mname\u001b[0m \u001b[1;33m+=\u001b[0m \u001b[1;34m\"[\"\u001b[0m \u001b[1;33m+\u001b[0m \u001b[0mstr\u001b[0m\u001b[1;33m(\u001b[0m\u001b[0mi\u001b[0m\u001b[1;33m)\u001b[0m \u001b[1;33m+\u001b[0m \u001b[1;34m\"]\"\u001b[0m\u001b[1;33m\u001b[0m\u001b[1;33m\u001b[0m\u001b[0m\n\u001b[0;32m    288\u001b[0m \u001b[1;33m\u001b[0m\u001b[0m\n\u001b[1;32m--> 289\u001b[1;33m         raise ValueError(\n\u001b[0m\u001b[0;32m    290\u001b[0m             \"\"\"\n\u001b[0;32m    291\u001b[0m     \u001b[0mInvalid\u001b[0m \u001b[0mvalue\u001b[0m \u001b[0mof\u001b[0m \u001b[0mtype\u001b[0m \u001b[1;33m{\u001b[0m\u001b[0mtyp\u001b[0m\u001b[1;33m}\u001b[0m \u001b[0mreceived\u001b[0m \u001b[1;32mfor\u001b[0m \u001b[0mthe\u001b[0m \u001b[1;34m'{name}'\u001b[0m \u001b[0mproperty\u001b[0m \u001b[0mof\u001b[0m \u001b[1;33m{\u001b[0m\u001b[0mpname\u001b[0m\u001b[1;33m}\u001b[0m\u001b[1;33m\u001b[0m\u001b[1;33m\u001b[0m\u001b[0m\n",
      "\u001b[1;31mValueError\u001b[0m: \n    Invalid value of type 'builtins.str' received for the 'x' property of box\n        Received value: 'Jul'\n\n    The 'x' property is an array that may be specified as a tuple,\n    list, numpy array, or pandas Series"
     ]
    }
   ],
   "source": [
    "figure = go.Figure()\n",
    "\n",
    "colors = [ '#4287f5',  '#4287f6', '#4287f6', '#4287f6', '#4287f6', '#4287f6','#4287f7',  '#4287f6',  \n",
    "          '#4287f4', '#4287f6','#4287f6','#4287f6']\n",
    "\n",
    "fig=go.Figure()\n",
    "for i, month in enumerate(ts_pivot['Month'].unique()):\n",
    "    #print(df_plot.head())\n",
    "\n",
    "    fig.add_trace(go.Box(x=month, y=ts_pivot.loc[ts_pivot.Month==month,'Passenger Count_sum'],\n",
    "                         notched=True,\n",
    "                         line=dict(color=colors[i]),\n",
    "                         name=f'{month}'))\n",
    "\n",
    "fig.update_layout(boxmode='group', xaxis_tickangle=0)\n",
    "fig.show()"
   ]
  },
  {
   "cell_type": "code",
   "execution_count": 27,
   "metadata": {},
   "outputs": [
    {
     "ename": "ValueError",
     "evalue": "\n    Invalid value of type 'builtins.dict' received for the 'fillcolor' property of box\n        Received value: {'Jan': '#4287f5', 'Feb': '#4287f6', 'Mar': '#4287f6', 'Apr': '#4287f6', 'May': '#4287f6', 'Jun': '#4287f6', 'Jul': '#4287f7', 'Aug': '#4287f6', 'Sep': '#4287f4', 'Oct': '#4287f6', 'Nov': '#4287f6', 'Dec': '#4287f6'}\n\n    The 'fillcolor' property is a color and may be specified as:\n      - A hex string (e.g. '#ff0000')\n      - An rgb/rgba string (e.g. 'rgb(255,0,0)')\n      - An hsl/hsla string (e.g. 'hsl(0,100%,50%)')\n      - An hsv/hsva string (e.g. 'hsv(0,100%,100%)')\n      - A named CSS color:\n            aliceblue, antiquewhite, aqua, aquamarine, azure,\n            beige, bisque, black, blanchedalmond, blue,\n            blueviolet, brown, burlywood, cadetblue,\n            chartreuse, chocolate, coral, cornflowerblue,\n            cornsilk, crimson, cyan, darkblue, darkcyan,\n            darkgoldenrod, darkgray, darkgrey, darkgreen,\n            darkkhaki, darkmagenta, darkolivegreen, darkorange,\n            darkorchid, darkred, darksalmon, darkseagreen,\n            darkslateblue, darkslategray, darkslategrey,\n            darkturquoise, darkviolet, deeppink, deepskyblue,\n            dimgray, dimgrey, dodgerblue, firebrick,\n            floralwhite, forestgreen, fuchsia, gainsboro,\n            ghostwhite, gold, goldenrod, gray, grey, green,\n            greenyellow, honeydew, hotpink, indianred, indigo,\n            ivory, khaki, lavender, lavenderblush, lawngreen,\n            lemonchiffon, lightblue, lightcoral, lightcyan,\n            lightgoldenrodyellow, lightgray, lightgrey,\n            lightgreen, lightpink, lightsalmon, lightseagreen,\n            lightskyblue, lightslategray, lightslategrey,\n            lightsteelblue, lightyellow, lime, limegreen,\n            linen, magenta, maroon, mediumaquamarine,\n            mediumblue, mediumorchid, mediumpurple,\n            mediumseagreen, mediumslateblue, mediumspringgreen,\n            mediumturquoise, mediumvioletred, midnightblue,\n            mintcream, mistyrose, moccasin, navajowhite, navy,\n            oldlace, olive, olivedrab, orange, orangered,\n            orchid, palegoldenrod, palegreen, paleturquoise,\n            palevioletred, papayawhip, peachpuff, peru, pink,\n            plum, powderblue, purple, red, rosybrown,\n            royalblue, rebeccapurple, saddlebrown, salmon,\n            sandybrown, seagreen, seashell, sienna, silver,\n            skyblue, slateblue, slategray, slategrey, snow,\n            springgreen, steelblue, tan, teal, thistle, tomato,\n            turquoise, violet, wheat, white, whitesmoke,\n            yellow, yellowgreen",
     "output_type": "error",
     "traceback": [
      "\u001b[1;31m---------------------------------------------------------------------------\u001b[0m",
      "\u001b[1;31mValueError\u001b[0m                                Traceback (most recent call last)",
      "\u001b[1;32mC:\\Users\\FAKHRI~1\\AppData\\Local\\Temp/ipykernel_19344/1238828418.py\u001b[0m in \u001b[0;36m<module>\u001b[1;34m\u001b[0m\n\u001b[0;32m      1\u001b[0m \u001b[0mfig\u001b[0m \u001b[1;33m=\u001b[0m \u001b[0mts_pivot\u001b[0m\u001b[1;33m.\u001b[0m\u001b[0mplot\u001b[0m\u001b[1;33m(\u001b[0m\u001b[0mkind\u001b[0m\u001b[1;33m=\u001b[0m\u001b[1;34m'box'\u001b[0m\u001b[1;33m)\u001b[0m\u001b[1;33m\u001b[0m\u001b[1;33m\u001b[0m\u001b[0m\n\u001b[1;32m----> 2\u001b[1;33m fig.update_traces(fillcolor={\n\u001b[0m\u001b[0;32m      3\u001b[0m \u001b[1;34m'Jan'\u001b[0m \u001b[1;33m:\u001b[0m \u001b[1;34m'#4287f5'\u001b[0m\u001b[1;33m,\u001b[0m \u001b[1;34m'Feb'\u001b[0m \u001b[1;33m:\u001b[0m \u001b[1;34m'#4287f6'\u001b[0m\u001b[1;33m,\u001b[0m \u001b[1;34m'Mar'\u001b[0m\u001b[1;33m:\u001b[0m\u001b[1;34m'#4287f6'\u001b[0m\u001b[1;33m,\u001b[0m \u001b[1;34m'Apr'\u001b[0m\u001b[1;33m:\u001b[0m \u001b[1;34m'#4287f6'\u001b[0m\u001b[1;33m,\u001b[0m \u001b[1;34m'May'\u001b[0m\u001b[1;33m:\u001b[0m\u001b[1;34m'#4287f6'\u001b[0m\u001b[1;33m,\u001b[0m \u001b[1;34m'Jun'\u001b[0m\u001b[1;33m:\u001b[0m\u001b[1;34m'#4287f6'\u001b[0m\u001b[1;33m,\u001b[0m\u001b[1;33m\u001b[0m\u001b[1;33m\u001b[0m\u001b[0m\n\u001b[0;32m      4\u001b[0m     \u001b[1;34m'Jul'\u001b[0m \u001b[1;33m:\u001b[0m \u001b[1;34m'#4287f7'\u001b[0m\u001b[1;33m,\u001b[0m \u001b[1;34m'Aug'\u001b[0m\u001b[1;33m:\u001b[0m \u001b[1;34m'#4287f6'\u001b[0m\u001b[1;33m,\u001b[0m \u001b[1;34m'Sep'\u001b[0m \u001b[1;33m:\u001b[0m \u001b[1;34m'#4287f4'\u001b[0m\u001b[1;33m,\u001b[0m \u001b[1;34m'Oct'\u001b[0m \u001b[1;33m:\u001b[0m \u001b[1;34m'#4287f6'\u001b[0m\u001b[1;33m,\u001b[0m\u001b[1;33m\u001b[0m\u001b[1;33m\u001b[0m\u001b[0m\n\u001b[0;32m      5\u001b[0m        'Nov': '#4287f6', 'Dec': '#4287f6'})\n",
      "\u001b[1;32mc:\\users\\fakhri robi aulia\\appdata\\local\\programs\\python\\python38\\lib\\site-packages\\plotly\\basedatatypes.py\u001b[0m in \u001b[0;36mupdate_traces\u001b[1;34m(self, patch, selector, row, col, secondary_y, overwrite, **kwargs)\u001b[0m\n\u001b[0;32m   1374\u001b[0m             \u001b[0mselector\u001b[0m\u001b[1;33m=\u001b[0m\u001b[0mselector\u001b[0m\u001b[1;33m,\u001b[0m \u001b[0mrow\u001b[0m\u001b[1;33m=\u001b[0m\u001b[0mrow\u001b[0m\u001b[1;33m,\u001b[0m \u001b[0mcol\u001b[0m\u001b[1;33m=\u001b[0m\u001b[0mcol\u001b[0m\u001b[1;33m,\u001b[0m \u001b[0msecondary_y\u001b[0m\u001b[1;33m=\u001b[0m\u001b[0msecondary_y\u001b[0m\u001b[1;33m\u001b[0m\u001b[1;33m\u001b[0m\u001b[0m\n\u001b[0;32m   1375\u001b[0m         ):\n\u001b[1;32m-> 1376\u001b[1;33m             \u001b[0mtrace\u001b[0m\u001b[1;33m.\u001b[0m\u001b[0mupdate\u001b[0m\u001b[1;33m(\u001b[0m\u001b[0mpatch\u001b[0m\u001b[1;33m,\u001b[0m \u001b[0moverwrite\u001b[0m\u001b[1;33m=\u001b[0m\u001b[0moverwrite\u001b[0m\u001b[1;33m,\u001b[0m \u001b[1;33m**\u001b[0m\u001b[0mkwargs\u001b[0m\u001b[1;33m)\u001b[0m\u001b[1;33m\u001b[0m\u001b[1;33m\u001b[0m\u001b[0m\n\u001b[0m\u001b[0;32m   1377\u001b[0m         \u001b[1;32mreturn\u001b[0m \u001b[0mself\u001b[0m\u001b[1;33m\u001b[0m\u001b[1;33m\u001b[0m\u001b[0m\n\u001b[0;32m   1378\u001b[0m \u001b[1;33m\u001b[0m\u001b[0m\n",
      "\u001b[1;32mc:\\users\\fakhri robi aulia\\appdata\\local\\programs\\python\\python38\\lib\\site-packages\\plotly\\basedatatypes.py\u001b[0m in \u001b[0;36mupdate\u001b[1;34m(self, dict1, overwrite, **kwargs)\u001b[0m\n\u001b[0;32m   5080\u001b[0m             \u001b[1;32mwith\u001b[0m \u001b[0mself\u001b[0m\u001b[1;33m.\u001b[0m\u001b[0mfigure\u001b[0m\u001b[1;33m.\u001b[0m\u001b[0mbatch_update\u001b[0m\u001b[1;33m(\u001b[0m\u001b[1;33m)\u001b[0m\u001b[1;33m:\u001b[0m\u001b[1;33m\u001b[0m\u001b[1;33m\u001b[0m\u001b[0m\n\u001b[0;32m   5081\u001b[0m                 \u001b[0mBaseFigure\u001b[0m\u001b[1;33m.\u001b[0m\u001b[0m_perform_update\u001b[0m\u001b[1;33m(\u001b[0m\u001b[0mself\u001b[0m\u001b[1;33m,\u001b[0m \u001b[0mdict1\u001b[0m\u001b[1;33m,\u001b[0m \u001b[0moverwrite\u001b[0m\u001b[1;33m=\u001b[0m\u001b[0moverwrite\u001b[0m\u001b[1;33m)\u001b[0m\u001b[1;33m\u001b[0m\u001b[1;33m\u001b[0m\u001b[0m\n\u001b[1;32m-> 5082\u001b[1;33m                 \u001b[0mBaseFigure\u001b[0m\u001b[1;33m.\u001b[0m\u001b[0m_perform_update\u001b[0m\u001b[1;33m(\u001b[0m\u001b[0mself\u001b[0m\u001b[1;33m,\u001b[0m \u001b[0mkwargs\u001b[0m\u001b[1;33m,\u001b[0m \u001b[0moverwrite\u001b[0m\u001b[1;33m=\u001b[0m\u001b[0moverwrite\u001b[0m\u001b[1;33m)\u001b[0m\u001b[1;33m\u001b[0m\u001b[1;33m\u001b[0m\u001b[0m\n\u001b[0m\u001b[0;32m   5083\u001b[0m         \u001b[1;32melse\u001b[0m\u001b[1;33m:\u001b[0m\u001b[1;33m\u001b[0m\u001b[1;33m\u001b[0m\u001b[0m\n\u001b[0;32m   5084\u001b[0m             \u001b[0mBaseFigure\u001b[0m\u001b[1;33m.\u001b[0m\u001b[0m_perform_update\u001b[0m\u001b[1;33m(\u001b[0m\u001b[0mself\u001b[0m\u001b[1;33m,\u001b[0m \u001b[0mdict1\u001b[0m\u001b[1;33m,\u001b[0m \u001b[0moverwrite\u001b[0m\u001b[1;33m=\u001b[0m\u001b[0moverwrite\u001b[0m\u001b[1;33m)\u001b[0m\u001b[1;33m\u001b[0m\u001b[1;33m\u001b[0m\u001b[0m\n",
      "\u001b[1;32mc:\\users\\fakhri robi aulia\\appdata\\local\\programs\\python\\python38\\lib\\site-packages\\plotly\\basedatatypes.py\u001b[0m in \u001b[0;36m_perform_update\u001b[1;34m(plotly_obj, update_obj, overwrite)\u001b[0m\n\u001b[0;32m   3919\u001b[0m                 \u001b[1;32melse\u001b[0m\u001b[1;33m:\u001b[0m\u001b[1;33m\u001b[0m\u001b[1;33m\u001b[0m\u001b[0m\n\u001b[0;32m   3920\u001b[0m                     \u001b[1;31m# Assign non-compound value\u001b[0m\u001b[1;33m\u001b[0m\u001b[1;33m\u001b[0m\u001b[1;33m\u001b[0m\u001b[0m\n\u001b[1;32m-> 3921\u001b[1;33m                     \u001b[0mplotly_obj\u001b[0m\u001b[1;33m[\u001b[0m\u001b[0mkey\u001b[0m\u001b[1;33m]\u001b[0m \u001b[1;33m=\u001b[0m \u001b[0mval\u001b[0m\u001b[1;33m\u001b[0m\u001b[1;33m\u001b[0m\u001b[0m\n\u001b[0m\u001b[0;32m   3922\u001b[0m \u001b[1;33m\u001b[0m\u001b[0m\n\u001b[0;32m   3923\u001b[0m         \u001b[1;32melif\u001b[0m \u001b[0misinstance\u001b[0m\u001b[1;33m(\u001b[0m\u001b[0mplotly_obj\u001b[0m\u001b[1;33m,\u001b[0m \u001b[0mtuple\u001b[0m\u001b[1;33m)\u001b[0m\u001b[1;33m:\u001b[0m\u001b[1;33m\u001b[0m\u001b[1;33m\u001b[0m\u001b[0m\n",
      "\u001b[1;32mc:\\users\\fakhri robi aulia\\appdata\\local\\programs\\python\\python38\\lib\\site-packages\\plotly\\basedatatypes.py\u001b[0m in \u001b[0;36m__setitem__\u001b[1;34m(self, prop, value)\u001b[0m\n\u001b[0;32m   4817\u001b[0m                 \u001b[1;31m# ### Handle simple property ###\u001b[0m\u001b[1;33m\u001b[0m\u001b[1;33m\u001b[0m\u001b[1;33m\u001b[0m\u001b[0m\n\u001b[0;32m   4818\u001b[0m                 \u001b[1;32melse\u001b[0m\u001b[1;33m:\u001b[0m\u001b[1;33m\u001b[0m\u001b[1;33m\u001b[0m\u001b[0m\n\u001b[1;32m-> 4819\u001b[1;33m                     \u001b[0mself\u001b[0m\u001b[1;33m.\u001b[0m\u001b[0m_set_prop\u001b[0m\u001b[1;33m(\u001b[0m\u001b[0mprop\u001b[0m\u001b[1;33m,\u001b[0m \u001b[0mvalue\u001b[0m\u001b[1;33m)\u001b[0m\u001b[1;33m\u001b[0m\u001b[1;33m\u001b[0m\u001b[0m\n\u001b[0m\u001b[0;32m   4820\u001b[0m             \u001b[1;32melse\u001b[0m\u001b[1;33m:\u001b[0m\u001b[1;33m\u001b[0m\u001b[1;33m\u001b[0m\u001b[0m\n\u001b[0;32m   4821\u001b[0m                 \u001b[1;31m# Make sure properties dict is initialized\u001b[0m\u001b[1;33m\u001b[0m\u001b[1;33m\u001b[0m\u001b[1;33m\u001b[0m\u001b[0m\n",
      "\u001b[1;32mc:\\users\\fakhri robi aulia\\appdata\\local\\programs\\python\\python38\\lib\\site-packages\\plotly\\basedatatypes.py\u001b[0m in \u001b[0;36m_set_prop\u001b[1;34m(self, prop, val)\u001b[0m\n\u001b[0;32m   5161\u001b[0m                 \u001b[1;32mreturn\u001b[0m\u001b[1;33m\u001b[0m\u001b[1;33m\u001b[0m\u001b[0m\n\u001b[0;32m   5162\u001b[0m             \u001b[1;32melse\u001b[0m\u001b[1;33m:\u001b[0m\u001b[1;33m\u001b[0m\u001b[1;33m\u001b[0m\u001b[0m\n\u001b[1;32m-> 5163\u001b[1;33m                 \u001b[1;32mraise\u001b[0m \u001b[0merr\u001b[0m\u001b[1;33m\u001b[0m\u001b[1;33m\u001b[0m\u001b[0m\n\u001b[0m\u001b[0;32m   5164\u001b[0m \u001b[1;33m\u001b[0m\u001b[0m\n\u001b[0;32m   5165\u001b[0m         \u001b[1;31m# val is None\u001b[0m\u001b[1;33m\u001b[0m\u001b[1;33m\u001b[0m\u001b[1;33m\u001b[0m\u001b[0m\n",
      "\u001b[1;32mc:\\users\\fakhri robi aulia\\appdata\\local\\programs\\python\\python38\\lib\\site-packages\\plotly\\basedatatypes.py\u001b[0m in \u001b[0;36m_set_prop\u001b[1;34m(self, prop, val)\u001b[0m\n\u001b[0;32m   5156\u001b[0m \u001b[1;33m\u001b[0m\u001b[0m\n\u001b[0;32m   5157\u001b[0m         \u001b[1;32mtry\u001b[0m\u001b[1;33m:\u001b[0m\u001b[1;33m\u001b[0m\u001b[1;33m\u001b[0m\u001b[0m\n\u001b[1;32m-> 5158\u001b[1;33m             \u001b[0mval\u001b[0m \u001b[1;33m=\u001b[0m \u001b[0mvalidator\u001b[0m\u001b[1;33m.\u001b[0m\u001b[0mvalidate_coerce\u001b[0m\u001b[1;33m(\u001b[0m\u001b[0mval\u001b[0m\u001b[1;33m)\u001b[0m\u001b[1;33m\u001b[0m\u001b[1;33m\u001b[0m\u001b[0m\n\u001b[0m\u001b[0;32m   5159\u001b[0m         \u001b[1;32mexcept\u001b[0m \u001b[0mValueError\u001b[0m \u001b[1;32mas\u001b[0m \u001b[0merr\u001b[0m\u001b[1;33m:\u001b[0m\u001b[1;33m\u001b[0m\u001b[1;33m\u001b[0m\u001b[0m\n\u001b[0;32m   5160\u001b[0m             \u001b[1;32mif\u001b[0m \u001b[0mself\u001b[0m\u001b[1;33m.\u001b[0m\u001b[0m_skip_invalid\u001b[0m\u001b[1;33m:\u001b[0m\u001b[1;33m\u001b[0m\u001b[1;33m\u001b[0m\u001b[0m\n",
      "\u001b[1;32mc:\\users\\fakhri robi aulia\\appdata\\local\\programs\\python\\python38\\lib\\site-packages\\_plotly_utils\\basevalidators.py\u001b[0m in \u001b[0;36mvalidate_coerce\u001b[1;34m(self, v, should_raise)\u001b[0m\n\u001b[0;32m   1380\u001b[0m             \u001b[0mvalidated_v\u001b[0m \u001b[1;33m=\u001b[0m \u001b[0mself\u001b[0m\u001b[1;33m.\u001b[0m\u001b[0mvc_scalar\u001b[0m\u001b[1;33m(\u001b[0m\u001b[0mv\u001b[0m\u001b[1;33m)\u001b[0m\u001b[1;33m\u001b[0m\u001b[1;33m\u001b[0m\u001b[0m\n\u001b[0;32m   1381\u001b[0m             \u001b[1;32mif\u001b[0m \u001b[0mvalidated_v\u001b[0m \u001b[1;32mis\u001b[0m \u001b[1;32mNone\u001b[0m \u001b[1;32mand\u001b[0m \u001b[0mshould_raise\u001b[0m\u001b[1;33m:\u001b[0m\u001b[1;33m\u001b[0m\u001b[1;33m\u001b[0m\u001b[0m\n\u001b[1;32m-> 1382\u001b[1;33m                 \u001b[0mself\u001b[0m\u001b[1;33m.\u001b[0m\u001b[0mraise_invalid_val\u001b[0m\u001b[1;33m(\u001b[0m\u001b[0mv\u001b[0m\u001b[1;33m)\u001b[0m\u001b[1;33m\u001b[0m\u001b[1;33m\u001b[0m\u001b[0m\n\u001b[0m\u001b[0;32m   1383\u001b[0m \u001b[1;33m\u001b[0m\u001b[0m\n\u001b[0;32m   1384\u001b[0m             \u001b[0mv\u001b[0m \u001b[1;33m=\u001b[0m \u001b[0mvalidated_v\u001b[0m\u001b[1;33m\u001b[0m\u001b[1;33m\u001b[0m\u001b[0m\n",
      "\u001b[1;32mc:\\users\\fakhri robi aulia\\appdata\\local\\programs\\python\\python38\\lib\\site-packages\\_plotly_utils\\basevalidators.py\u001b[0m in \u001b[0;36mraise_invalid_val\u001b[1;34m(self, v, inds)\u001b[0m\n\u001b[0;32m    287\u001b[0m                 \u001b[0mname\u001b[0m \u001b[1;33m+=\u001b[0m \u001b[1;34m\"[\"\u001b[0m \u001b[1;33m+\u001b[0m \u001b[0mstr\u001b[0m\u001b[1;33m(\u001b[0m\u001b[0mi\u001b[0m\u001b[1;33m)\u001b[0m \u001b[1;33m+\u001b[0m \u001b[1;34m\"]\"\u001b[0m\u001b[1;33m\u001b[0m\u001b[1;33m\u001b[0m\u001b[0m\n\u001b[0;32m    288\u001b[0m \u001b[1;33m\u001b[0m\u001b[0m\n\u001b[1;32m--> 289\u001b[1;33m         raise ValueError(\n\u001b[0m\u001b[0;32m    290\u001b[0m             \"\"\"\n\u001b[0;32m    291\u001b[0m     \u001b[0mInvalid\u001b[0m \u001b[0mvalue\u001b[0m \u001b[0mof\u001b[0m \u001b[0mtype\u001b[0m \u001b[1;33m{\u001b[0m\u001b[0mtyp\u001b[0m\u001b[1;33m}\u001b[0m \u001b[0mreceived\u001b[0m \u001b[1;32mfor\u001b[0m \u001b[0mthe\u001b[0m \u001b[1;34m'{name}'\u001b[0m \u001b[0mproperty\u001b[0m \u001b[0mof\u001b[0m \u001b[1;33m{\u001b[0m\u001b[0mpname\u001b[0m\u001b[1;33m}\u001b[0m\u001b[1;33m\u001b[0m\u001b[1;33m\u001b[0m\u001b[0m\n",
      "\u001b[1;31mValueError\u001b[0m: \n    Invalid value of type 'builtins.dict' received for the 'fillcolor' property of box\n        Received value: {'Jan': '#4287f5', 'Feb': '#4287f6', 'Mar': '#4287f6', 'Apr': '#4287f6', 'May': '#4287f6', 'Jun': '#4287f6', 'Jul': '#4287f7', 'Aug': '#4287f6', 'Sep': '#4287f4', 'Oct': '#4287f6', 'Nov': '#4287f6', 'Dec': '#4287f6'}\n\n    The 'fillcolor' property is a color and may be specified as:\n      - A hex string (e.g. '#ff0000')\n      - An rgb/rgba string (e.g. 'rgb(255,0,0)')\n      - An hsl/hsla string (e.g. 'hsl(0,100%,50%)')\n      - An hsv/hsva string (e.g. 'hsv(0,100%,100%)')\n      - A named CSS color:\n            aliceblue, antiquewhite, aqua, aquamarine, azure,\n            beige, bisque, black, blanchedalmond, blue,\n            blueviolet, brown, burlywood, cadetblue,\n            chartreuse, chocolate, coral, cornflowerblue,\n            cornsilk, crimson, cyan, darkblue, darkcyan,\n            darkgoldenrod, darkgray, darkgrey, darkgreen,\n            darkkhaki, darkmagenta, darkolivegreen, darkorange,\n            darkorchid, darkred, darksalmon, darkseagreen,\n            darkslateblue, darkslategray, darkslategrey,\n            darkturquoise, darkviolet, deeppink, deepskyblue,\n            dimgray, dimgrey, dodgerblue, firebrick,\n            floralwhite, forestgreen, fuchsia, gainsboro,\n            ghostwhite, gold, goldenrod, gray, grey, green,\n            greenyellow, honeydew, hotpink, indianred, indigo,\n            ivory, khaki, lavender, lavenderblush, lawngreen,\n            lemonchiffon, lightblue, lightcoral, lightcyan,\n            lightgoldenrodyellow, lightgray, lightgrey,\n            lightgreen, lightpink, lightsalmon, lightseagreen,\n            lightskyblue, lightslategray, lightslategrey,\n            lightsteelblue, lightyellow, lime, limegreen,\n            linen, magenta, maroon, mediumaquamarine,\n            mediumblue, mediumorchid, mediumpurple,\n            mediumseagreen, mediumslateblue, mediumspringgreen,\n            mediumturquoise, mediumvioletred, midnightblue,\n            mintcream, mistyrose, moccasin, navajowhite, navy,\n            oldlace, olive, olivedrab, orange, orangered,\n            orchid, palegoldenrod, palegreen, paleturquoise,\n            palevioletred, papayawhip, peachpuff, peru, pink,\n            plum, powderblue, purple, red, rosybrown,\n            royalblue, rebeccapurple, saddlebrown, salmon,\n            sandybrown, seagreen, seashell, sienna, silver,\n            skyblue, slateblue, slategray, slategrey, snow,\n            springgreen, steelblue, tan, teal, thistle, tomato,\n            turquoise, violet, wheat, white, whitesmoke,\n            yellow, yellowgreen"
     ]
    }
   ],
   "source": [
    "fig = ts_pivot.plot(kind='box')\n",
    "fig.update_traces(fillcolor={\n",
    "'Jan' : '#4287f5', 'Feb' : '#4287f6', 'Mar':'#4287f6', 'Apr': '#4287f6', 'May':'#4287f6', 'Jun':'#4287f6',\n",
    "    'Jul' : '#4287f7', 'Aug': '#4287f6', 'Sep' : '#4287f4', 'Oct' : '#4287f6',\n",
    "       'Nov': '#4287f6', 'Dec': '#4287f6'})\n",
    "# y = fig.to_json()"
   ]
  },
  {
   "cell_type": "code",
   "execution_count": 19,
   "metadata": {},
   "outputs": [
    {
     "data": {
      "text/plain": [
       "'{\"data\":[{\"alignmentgroup\":\"True\",\"hovertemplate\":\"variable=%{x}<br>value=%{y}<extra></extra>\",\"legendgroup\":\"\",\"line\":{\"color\":\"#4287f5\"},\"marker\":{\"color\":\"#636efa\"},\"name\":\"\",\"notched\":false,\"offsetgroup\":\"\",\"orientation\":\"v\",\"showlegend\":false,\"type\":\"box\",\"x\":[\"Jan\",\"Jan\",\"Jan\",\"Jan\",\"Jan\",\"Jan\",\"Jan\",\"Jan\",\"Jan\",\"Jan\",\"Jan\",\"Jan\",\"Feb\",\"Feb\",\"Feb\",\"Feb\",\"Feb\",\"Feb\",\"Feb\",\"Feb\",\"Feb\",\"Feb\",\"Feb\",\"Feb\",\"Mar\",\"Mar\",\"Mar\",\"Mar\",\"Mar\",\"Mar\",\"Mar\",\"Mar\",\"Mar\",\"Mar\",\"Mar\",\"Mar\",\"Apr\",\"Apr\",\"Apr\",\"Apr\",\"Apr\",\"Apr\",\"Apr\",\"Apr\",\"Apr\",\"Apr\",\"Apr\",\"Apr\",\"May\",\"May\",\"May\",\"May\",\"May\",\"May\",\"May\",\"May\",\"May\",\"May\",\"May\",\"May\",\"Jun\",\"Jun\",\"Jun\",\"Jun\",\"Jun\",\"Jun\",\"Jun\",\"Jun\",\"Jun\",\"Jun\",\"Jun\",\"Jun\",\"Jul\",\"Jul\",\"Jul\",\"Jul\",\"Jul\",\"Jul\",\"Jul\",\"Jul\",\"Jul\",\"Jul\",\"Jul\",\"Jul\",\"Aug\",\"Aug\",\"Aug\",\"Aug\",\"Aug\",\"Aug\",\"Aug\",\"Aug\",\"Aug\",\"Aug\",\"Aug\",\"Aug\",\"Sep\",\"Sep\",\"Sep\",\"Sep\",\"Sep\",\"Sep\",\"Sep\",\"Sep\",\"Sep\",\"Sep\",\"Sep\",\"Sep\",\"Oct\",\"Oct\",\"Oct\",\"Oct\",\"Oct\",\"Oct\",\"Oct\",\"Oct\",\"Oct\",\"Oct\",\"Oct\",\"Oct\",\"Nov\",\"Nov\",\"Nov\",\"Nov\",\"Nov\",\"Nov\",\"Nov\",\"Nov\",\"Nov\",\"Nov\",\"Nov\",\"Nov\",\"Dec\",\"Dec\",\"Dec\",\"Dec\",\"Dec\",\"Dec\",\"Dec\",\"Dec\",\"Dec\",\"Dec\",\"Dec\",\"Dec\"],\"x0\":\" \",\"xaxis\":\"x\",\"y\":[0.0,2448889.0,2507430.0,2670053.0,2644539.0,2785466.0,2883810.0,3211600.0,3204637.0,3432625.0,3550084.0,3748529.0,0.0,2223024.0,2304990.0,2595676.0,2359800.0,2515361.0,2610667.0,2998119.0,2966477.0,3078405.0,3248144.0,3543639.0,0.0,2708778.0,2820085.0,3127387.0,2925918.0,3105958.0,3129205.0,3472440.0,3593364.0,3765504.0,4001521.0,4137679.0,0.0,2773293.0,2869247.0,3029021.0,3024973.0,3139059.0,3200527.0,3563007.0,3604104.0,3881893.0,4021677.0,0.0,0.0,2829000.0,3056934.0,3305954.0,3177100.0,3380355.0,3547804.0,3820570.0,3933016.0,4147096.0,4361140.0,0.0,0.0,3071396.0,3263621.0,3453751.0,3419595.0,3612886.0,3766323.0,4107195.0,4146797.0,4321833.0,4558511.0,0.0,3225769.0,3227605.0,3382382.0,3603946.0,3649702.0,3765824.0,3935589.0,4284443.0,4176486.0,4499221.0,4801148.0,0.0,3195866.0,3143839.0,3436417.0,3612297.0,3650668.0,3771842.0,3917884.0,4356216.0,4347059.0,4524918.0,4796653.0,0.0,2740553.0,2720100.0,2957530.0,3004720.0,3191526.0,3356365.0,3564970.0,3819379.0,3781168.0,3919072.0,4201394.0,0.0,2770715.0,2834959.0,3129309.0,3124451.0,3249428.0,3490100.0,3602455.0,3844987.0,3910790.0,4059443.0,4374749.0,0.0,2617333.0,2653887.0,2922500.0,2744485.0,2971484.0,3163659.0,3326859.0,3478890.0,3466878.0,3628786.0,4013814.0,0.0,2671797.0,2698200.0,2903637.0,2962937.0,3074209.0,3167124.0,3441693.0,3443039.0,3814984.0,3855835.0,4129052.0,0.0],\"y0\":\" \",\"yaxis\":\"y\"}],\"layout\":{\"boxmode\":\"group\",\"legend\":{\"tracegroupgap\":0},\"margin\":{\"t\":60},\"template\":{\"data\":{\"bar\":[{\"error_x\":{\"color\":\"#2a3f5f\"},\"error_y\":{\"color\":\"#2a3f5f\"},\"marker\":{\"line\":{\"color\":\"#E5ECF6\",\"width\":0.5},\"pattern\":{\"fillmode\":\"overlay\",\"size\":10,\"solidity\":0.2}},\"type\":\"bar\"}],\"barpolar\":[{\"marker\":{\"line\":{\"color\":\"#E5ECF6\",\"width\":0.5},\"pattern\":{\"fillmode\":\"overlay\",\"size\":10,\"solidity\":0.2}},\"type\":\"barpolar\"}],\"carpet\":[{\"aaxis\":{\"endlinecolor\":\"#2a3f5f\",\"gridcolor\":\"white\",\"linecolor\":\"white\",\"minorgridcolor\":\"white\",\"startlinecolor\":\"#2a3f5f\"},\"baxis\":{\"endlinecolor\":\"#2a3f5f\",\"gridcolor\":\"white\",\"linecolor\":\"white\",\"minorgridcolor\":\"white\",\"startlinecolor\":\"#2a3f5f\"},\"type\":\"carpet\"}],\"choropleth\":[{\"colorbar\":{\"outlinewidth\":0,\"ticks\":\"\"},\"type\":\"choropleth\"}],\"contour\":[{\"colorbar\":{\"outlinewidth\":0,\"ticks\":\"\"},\"colorscale\":[[0.0,\"#0d0887\"],[0.1111111111111111,\"#46039f\"],[0.2222222222222222,\"#7201a8\"],[0.3333333333333333,\"#9c179e\"],[0.4444444444444444,\"#bd3786\"],[0.5555555555555556,\"#d8576b\"],[0.6666666666666666,\"#ed7953\"],[0.7777777777777778,\"#fb9f3a\"],[0.8888888888888888,\"#fdca26\"],[1.0,\"#f0f921\"]],\"type\":\"contour\"}],\"contourcarpet\":[{\"colorbar\":{\"outlinewidth\":0,\"ticks\":\"\"},\"type\":\"contourcarpet\"}],\"heatmap\":[{\"colorbar\":{\"outlinewidth\":0,\"ticks\":\"\"},\"colorscale\":[[0.0,\"#0d0887\"],[0.1111111111111111,\"#46039f\"],[0.2222222222222222,\"#7201a8\"],[0.3333333333333333,\"#9c179e\"],[0.4444444444444444,\"#bd3786\"],[0.5555555555555556,\"#d8576b\"],[0.6666666666666666,\"#ed7953\"],[0.7777777777777778,\"#fb9f3a\"],[0.8888888888888888,\"#fdca26\"],[1.0,\"#f0f921\"]],\"type\":\"heatmap\"}],\"heatmapgl\":[{\"colorbar\":{\"outlinewidth\":0,\"ticks\":\"\"},\"colorscale\":[[0.0,\"#0d0887\"],[0.1111111111111111,\"#46039f\"],[0.2222222222222222,\"#7201a8\"],[0.3333333333333333,\"#9c179e\"],[0.4444444444444444,\"#bd3786\"],[0.5555555555555556,\"#d8576b\"],[0.6666666666666666,\"#ed7953\"],[0.7777777777777778,\"#fb9f3a\"],[0.8888888888888888,\"#fdca26\"],[1.0,\"#f0f921\"]],\"type\":\"heatmapgl\"}],\"histogram\":[{\"marker\":{\"pattern\":{\"fillmode\":\"overlay\",\"size\":10,\"solidity\":0.2}},\"type\":\"histogram\"}],\"histogram2d\":[{\"colorbar\":{\"outlinewidth\":0,\"ticks\":\"\"},\"colorscale\":[[0.0,\"#0d0887\"],[0.1111111111111111,\"#46039f\"],[0.2222222222222222,\"#7201a8\"],[0.3333333333333333,\"#9c179e\"],[0.4444444444444444,\"#bd3786\"],[0.5555555555555556,\"#d8576b\"],[0.6666666666666666,\"#ed7953\"],[0.7777777777777778,\"#fb9f3a\"],[0.8888888888888888,\"#fdca26\"],[1.0,\"#f0f921\"]],\"type\":\"histogram2d\"}],\"histogram2dcontour\":[{\"colorbar\":{\"outlinewidth\":0,\"ticks\":\"\"},\"colorscale\":[[0.0,\"#0d0887\"],[0.1111111111111111,\"#46039f\"],[0.2222222222222222,\"#7201a8\"],[0.3333333333333333,\"#9c179e\"],[0.4444444444444444,\"#bd3786\"],[0.5555555555555556,\"#d8576b\"],[0.6666666666666666,\"#ed7953\"],[0.7777777777777778,\"#fb9f3a\"],[0.8888888888888888,\"#fdca26\"],[1.0,\"#f0f921\"]],\"type\":\"histogram2dcontour\"}],\"mesh3d\":[{\"colorbar\":{\"outlinewidth\":0,\"ticks\":\"\"},\"type\":\"mesh3d\"}],\"parcoords\":[{\"line\":{\"colorbar\":{\"outlinewidth\":0,\"ticks\":\"\"}},\"type\":\"parcoords\"}],\"pie\":[{\"automargin\":true,\"type\":\"pie\"}],\"scatter\":[{\"marker\":{\"colorbar\":{\"outlinewidth\":0,\"ticks\":\"\"}},\"type\":\"scatter\"}],\"scatter3d\":[{\"line\":{\"colorbar\":{\"outlinewidth\":0,\"ticks\":\"\"}},\"marker\":{\"colorbar\":{\"outlinewidth\":0,\"ticks\":\"\"}},\"type\":\"scatter3d\"}],\"scattercarpet\":[{\"marker\":{\"colorbar\":{\"outlinewidth\":0,\"ticks\":\"\"}},\"type\":\"scattercarpet\"}],\"scattergeo\":[{\"marker\":{\"colorbar\":{\"outlinewidth\":0,\"ticks\":\"\"}},\"type\":\"scattergeo\"}],\"scattergl\":[{\"marker\":{\"colorbar\":{\"outlinewidth\":0,\"ticks\":\"\"}},\"type\":\"scattergl\"}],\"scattermapbox\":[{\"marker\":{\"colorbar\":{\"outlinewidth\":0,\"ticks\":\"\"}},\"type\":\"scattermapbox\"}],\"scatterpolar\":[{\"marker\":{\"colorbar\":{\"outlinewidth\":0,\"ticks\":\"\"}},\"type\":\"scatterpolar\"}],\"scatterpolargl\":[{\"marker\":{\"colorbar\":{\"outlinewidth\":0,\"ticks\":\"\"}},\"type\":\"scatterpolargl\"}],\"scatterternary\":[{\"marker\":{\"colorbar\":{\"outlinewidth\":0,\"ticks\":\"\"}},\"type\":\"scatterternary\"}],\"surface\":[{\"colorbar\":{\"outlinewidth\":0,\"ticks\":\"\"},\"colorscale\":[[0.0,\"#0d0887\"],[0.1111111111111111,\"#46039f\"],[0.2222222222222222,\"#7201a8\"],[0.3333333333333333,\"#9c179e\"],[0.4444444444444444,\"#bd3786\"],[0.5555555555555556,\"#d8576b\"],[0.6666666666666666,\"#ed7953\"],[0.7777777777777778,\"#fb9f3a\"],[0.8888888888888888,\"#fdca26\"],[1.0,\"#f0f921\"]],\"type\":\"surface\"}],\"table\":[{\"cells\":{\"fill\":{\"color\":\"#EBF0F8\"},\"line\":{\"color\":\"white\"}},\"header\":{\"fill\":{\"color\":\"#C8D4E3\"},\"line\":{\"color\":\"white\"}},\"type\":\"table\"}]},\"layout\":{\"annotationdefaults\":{\"arrowcolor\":\"#2a3f5f\",\"arrowhead\":0,\"arrowwidth\":1},\"autotypenumbers\":\"strict\",\"coloraxis\":{\"colorbar\":{\"outlinewidth\":0,\"ticks\":\"\"}},\"colorscale\":{\"diverging\":[[0,\"#8e0152\"],[0.1,\"#c51b7d\"],[0.2,\"#de77ae\"],[0.3,\"#f1b6da\"],[0.4,\"#fde0ef\"],[0.5,\"#f7f7f7\"],[0.6,\"#e6f5d0\"],[0.7,\"#b8e186\"],[0.8,\"#7fbc41\"],[0.9,\"#4d9221\"],[1,\"#276419\"]],\"sequential\":[[0.0,\"#0d0887\"],[0.1111111111111111,\"#46039f\"],[0.2222222222222222,\"#7201a8\"],[0.3333333333333333,\"#9c179e\"],[0.4444444444444444,\"#bd3786\"],[0.5555555555555556,\"#d8576b\"],[0.6666666666666666,\"#ed7953\"],[0.7777777777777778,\"#fb9f3a\"],[0.8888888888888888,\"#fdca26\"],[1.0,\"#f0f921\"]],\"sequentialminus\":[[0.0,\"#0d0887\"],[0.1111111111111111,\"#46039f\"],[0.2222222222222222,\"#7201a8\"],[0.3333333333333333,\"#9c179e\"],[0.4444444444444444,\"#bd3786\"],[0.5555555555555556,\"#d8576b\"],[0.6666666666666666,\"#ed7953\"],[0.7777777777777778,\"#fb9f3a\"],[0.8888888888888888,\"#fdca26\"],[1.0,\"#f0f921\"]]},\"colorway\":[\"#636efa\",\"#EF553B\",\"#00cc96\",\"#ab63fa\",\"#FFA15A\",\"#19d3f3\",\"#FF6692\",\"#B6E880\",\"#FF97FF\",\"#FECB52\"],\"font\":{\"color\":\"#2a3f5f\"},\"geo\":{\"bgcolor\":\"white\",\"lakecolor\":\"white\",\"landcolor\":\"#E5ECF6\",\"showlakes\":true,\"showland\":true,\"subunitcolor\":\"white\"},\"hoverlabel\":{\"align\":\"left\"},\"hovermode\":\"closest\",\"mapbox\":{\"style\":\"light\"},\"paper_bgcolor\":\"white\",\"plot_bgcolor\":\"#E5ECF6\",\"polar\":{\"angularaxis\":{\"gridcolor\":\"white\",\"linecolor\":\"white\",\"ticks\":\"\"},\"bgcolor\":\"#E5ECF6\",\"radialaxis\":{\"gridcolor\":\"white\",\"linecolor\":\"white\",\"ticks\":\"\"}},\"scene\":{\"xaxis\":{\"backgroundcolor\":\"#E5ECF6\",\"gridcolor\":\"white\",\"gridwidth\":2,\"linecolor\":\"white\",\"showbackground\":true,\"ticks\":\"\",\"zerolinecolor\":\"white\"},\"yaxis\":{\"backgroundcolor\":\"#E5ECF6\",\"gridcolor\":\"white\",\"gridwidth\":2,\"linecolor\":\"white\",\"showbackground\":true,\"ticks\":\"\",\"zerolinecolor\":\"white\"},\"zaxis\":{\"backgroundcolor\":\"#E5ECF6\",\"gridcolor\":\"white\",\"gridwidth\":2,\"linecolor\":\"white\",\"showbackground\":true,\"ticks\":\"\",\"zerolinecolor\":\"white\"}},\"shapedefaults\":{\"line\":{\"color\":\"#2a3f5f\"}},\"ternary\":{\"aaxis\":{\"gridcolor\":\"white\",\"linecolor\":\"white\",\"ticks\":\"\"},\"baxis\":{\"gridcolor\":\"white\",\"linecolor\":\"white\",\"ticks\":\"\"},\"bgcolor\":\"#E5ECF6\",\"caxis\":{\"gridcolor\":\"white\",\"linecolor\":\"white\",\"ticks\":\"\"}},\"title\":{\"x\":0.05},\"xaxis\":{\"automargin\":true,\"gridcolor\":\"white\",\"linecolor\":\"white\",\"ticks\":\"\",\"title\":{\"standoff\":15},\"zerolinecolor\":\"white\",\"zerolinewidth\":2},\"yaxis\":{\"automargin\":true,\"gridcolor\":\"white\",\"linecolor\":\"white\",\"ticks\":\"\",\"title\":{\"standoff\":15},\"zerolinecolor\":\"white\",\"zerolinewidth\":2}}},\"xaxis\":{\"anchor\":\"y\",\"domain\":[0.0,1.0],\"title\":{\"text\":\"variable\"}},\"yaxis\":{\"anchor\":\"x\",\"domain\":[0.0,1.0],\"title\":{\"text\":\"value\"}}}}'"
      ]
     },
     "execution_count": 19,
     "metadata": {},
     "output_type": "execute_result"
    }
   ],
   "source": [
    "y"
   ]
  },
  {
   "cell_type": "code",
   "execution_count": 113,
   "metadata": {},
   "outputs": [
    {
     "ename": "LinAlgError",
     "evalue": "Matrix is not positive definite",
     "output_type": "error",
     "traceback": [
      "\u001b[1;31m---------------------------------------------------------------------------\u001b[0m",
      "\u001b[1;31mLinAlgError\u001b[0m                               Traceback (most recent call last)",
      "\u001b[1;32mC:\\Users\\FAKHRI~1\\AppData\\Local\\Temp/ipykernel_11704/189658483.py\u001b[0m in \u001b[0;36m<module>\u001b[1;34m\u001b[0m\n\u001b[0;32m      5\u001b[0m     \u001b[0msamples\u001b[0m\u001b[1;33m=\u001b[0m\u001b[0mts_pivot\u001b[0m\u001b[1;33m.\u001b[0m\u001b[0mvalues\u001b[0m\u001b[1;33m.\u001b[0m\u001b[0mT\u001b[0m\u001b[1;33m,\u001b[0m\u001b[1;33m\u001b[0m\u001b[1;33m\u001b[0m\u001b[0m\n\u001b[0;32m      6\u001b[0m     \u001b[0mbandwidth\u001b[0m\u001b[1;33m=\u001b[0m\u001b[1;36m4\u001b[0m\u001b[1;33m,\u001b[0m\u001b[1;33m\u001b[0m\u001b[1;33m\u001b[0m\u001b[0m\n\u001b[1;32m----> 7\u001b[1;33m     \u001b[0mkde_points\u001b[0m\u001b[1;33m=\u001b[0m\u001b[0mkde\u001b[0m\u001b[1;33m(\u001b[0m\u001b[0mts_pivot\u001b[0m\u001b[1;33m)\u001b[0m\u001b[1;33m.\u001b[0m\u001b[0mevaluate\u001b[0m\u001b[1;33m(\u001b[0m\u001b[0mts_pivot\u001b[0m\u001b[1;33m)\u001b[0m\u001b[1;33m,\u001b[0m\u001b[1;33m\u001b[0m\u001b[1;33m\u001b[0m\u001b[0m\n\u001b[0m\u001b[0;32m      8\u001b[0m     \u001b[0mcolorscale\u001b[0m\u001b[1;33m=\u001b[0m\u001b[1;34m\"viridis\"\u001b[0m\u001b[1;33m,\u001b[0m\u001b[1;33m\u001b[0m\u001b[1;33m\u001b[0m\u001b[0m\n\u001b[0;32m      9\u001b[0m     \u001b[0mcolormode\u001b[0m\u001b[1;33m=\u001b[0m\u001b[1;34m\"index\"\u001b[0m\u001b[1;33m,\u001b[0m\u001b[1;33m\u001b[0m\u001b[1;33m\u001b[0m\u001b[0m\n",
      "\u001b[1;32mc:\\users\\fakhri robi aulia\\appdata\\local\\programs\\python\\python38\\lib\\site-packages\\scipy\\stats\\kde.py\u001b[0m in \u001b[0;36mevaluate\u001b[1;34m(self, points)\u001b[0m\n\u001b[0;32m    250\u001b[0m             raise TypeError('%s has unexpected item size %d' %\n\u001b[0;32m    251\u001b[0m                             (output_dtype, itemsize))\n\u001b[1;32m--> 252\u001b[1;33m         result = gaussian_kernel_estimate[spec](self.dataset.T, self.weights[:, None],\n\u001b[0m\u001b[0;32m    253\u001b[0m                                                 points.T, self.inv_cov, output_dtype)\n\u001b[0;32m    254\u001b[0m         \u001b[1;32mreturn\u001b[0m \u001b[0mresult\u001b[0m\u001b[1;33m[\u001b[0m\u001b[1;33m:\u001b[0m\u001b[1;33m,\u001b[0m \u001b[1;36m0\u001b[0m\u001b[1;33m]\u001b[0m\u001b[1;33m\u001b[0m\u001b[1;33m\u001b[0m\u001b[0m\n",
      "\u001b[1;32m_stats.pyx\u001b[0m in \u001b[0;36mscipy.stats._stats.gaussian_kernel_estimate\u001b[1;34m()\u001b[0m\n",
      "\u001b[1;32m<__array_function__ internals>\u001b[0m in \u001b[0;36mcholesky\u001b[1;34m(*args, **kwargs)\u001b[0m\n",
      "\u001b[1;32mc:\\users\\fakhri robi aulia\\appdata\\local\\programs\\python\\python38\\lib\\site-packages\\numpy\\linalg\\linalg.py\u001b[0m in \u001b[0;36mcholesky\u001b[1;34m(a)\u001b[0m\n\u001b[0;32m    761\u001b[0m     \u001b[0mt\u001b[0m\u001b[1;33m,\u001b[0m \u001b[0mresult_t\u001b[0m \u001b[1;33m=\u001b[0m \u001b[0m_commonType\u001b[0m\u001b[1;33m(\u001b[0m\u001b[0ma\u001b[0m\u001b[1;33m)\u001b[0m\u001b[1;33m\u001b[0m\u001b[1;33m\u001b[0m\u001b[0m\n\u001b[0;32m    762\u001b[0m     \u001b[0msignature\u001b[0m \u001b[1;33m=\u001b[0m \u001b[1;34m'D->D'\u001b[0m \u001b[1;32mif\u001b[0m \u001b[0misComplexType\u001b[0m\u001b[1;33m(\u001b[0m\u001b[0mt\u001b[0m\u001b[1;33m)\u001b[0m \u001b[1;32melse\u001b[0m \u001b[1;34m'd->d'\u001b[0m\u001b[1;33m\u001b[0m\u001b[1;33m\u001b[0m\u001b[0m\n\u001b[1;32m--> 763\u001b[1;33m     \u001b[0mr\u001b[0m \u001b[1;33m=\u001b[0m \u001b[0mgufunc\u001b[0m\u001b[1;33m(\u001b[0m\u001b[0ma\u001b[0m\u001b[1;33m,\u001b[0m \u001b[0msignature\u001b[0m\u001b[1;33m=\u001b[0m\u001b[0msignature\u001b[0m\u001b[1;33m,\u001b[0m \u001b[0mextobj\u001b[0m\u001b[1;33m=\u001b[0m\u001b[0mextobj\u001b[0m\u001b[1;33m)\u001b[0m\u001b[1;33m\u001b[0m\u001b[1;33m\u001b[0m\u001b[0m\n\u001b[0m\u001b[0;32m    764\u001b[0m     \u001b[1;32mreturn\u001b[0m \u001b[0mwrap\u001b[0m\u001b[1;33m(\u001b[0m\u001b[0mr\u001b[0m\u001b[1;33m.\u001b[0m\u001b[0mastype\u001b[0m\u001b[1;33m(\u001b[0m\u001b[0mresult_t\u001b[0m\u001b[1;33m,\u001b[0m \u001b[0mcopy\u001b[0m\u001b[1;33m=\u001b[0m\u001b[1;32mFalse\u001b[0m\u001b[1;33m)\u001b[0m\u001b[1;33m)\u001b[0m\u001b[1;33m\u001b[0m\u001b[1;33m\u001b[0m\u001b[0m\n\u001b[0;32m    765\u001b[0m \u001b[1;33m\u001b[0m\u001b[0m\n",
      "\u001b[1;32mc:\\users\\fakhri robi aulia\\appdata\\local\\programs\\python\\python38\\lib\\site-packages\\numpy\\linalg\\linalg.py\u001b[0m in \u001b[0;36m_raise_linalgerror_nonposdef\u001b[1;34m(err, flag)\u001b[0m\n\u001b[0;32m     89\u001b[0m \u001b[1;33m\u001b[0m\u001b[0m\n\u001b[0;32m     90\u001b[0m \u001b[1;32mdef\u001b[0m \u001b[0m_raise_linalgerror_nonposdef\u001b[0m\u001b[1;33m(\u001b[0m\u001b[0merr\u001b[0m\u001b[1;33m,\u001b[0m \u001b[0mflag\u001b[0m\u001b[1;33m)\u001b[0m\u001b[1;33m:\u001b[0m\u001b[1;33m\u001b[0m\u001b[1;33m\u001b[0m\u001b[0m\n\u001b[1;32m---> 91\u001b[1;33m     \u001b[1;32mraise\u001b[0m \u001b[0mLinAlgError\u001b[0m\u001b[1;33m(\u001b[0m\u001b[1;34m\"Matrix is not positive definite\"\u001b[0m\u001b[1;33m)\u001b[0m\u001b[1;33m\u001b[0m\u001b[1;33m\u001b[0m\u001b[0m\n\u001b[0m\u001b[0;32m     92\u001b[0m \u001b[1;33m\u001b[0m\u001b[0m\n\u001b[0;32m     93\u001b[0m \u001b[1;32mdef\u001b[0m \u001b[0m_raise_linalgerror_eigenvalues_nonconvergence\u001b[0m\u001b[1;33m(\u001b[0m\u001b[0merr\u001b[0m\u001b[1;33m,\u001b[0m \u001b[0mflag\u001b[0m\u001b[1;33m)\u001b[0m\u001b[1;33m:\u001b[0m\u001b[1;33m\u001b[0m\u001b[1;33m\u001b[0m\u001b[0m\n",
      "\u001b[1;31mLinAlgError\u001b[0m: Matrix is not positive definite"
     ]
    }
   ],
   "source": [
    "from numpy.random import normal\n",
    "from ridgeplot import ridgeplot\n",
    "\n",
    "fig = ridgeplot(\n",
    "    samples=ts_pivot.values.T,\n",
    "    bandwidth=4,\n",
    "    kde_points=kde(ts_pivot).evaluate(ts_pivot),\n",
    "    colorscale=\"viridis\",\n",
    "    colormode=\"index\",\n",
    "    coloralpha=0.6,\n",
    "    labels=column_names,\n",
    ")"
   ]
  },
  {
   "cell_type": "code",
   "execution_count": 104,
   "metadata": {},
   "outputs": [
    {
     "data": {
      "text/plain": [
       "<bound method BaseFigure.show of Figure({\n",
       "    'data': [{'line': {'color': 'rgba(0,0,0,0)', 'width': 0},\n",
       "              'showlegend': False,\n",
       "              'type': 'scatter',\n",
       "              'x': array([      0.        ,    7512.08216433,   15024.16432866, ...,\n",
       "                          3733504.83567134, 3741016.91783567, 3748529.        ]),\n",
       "              'y': [0.0, 0.0, 0.0, ..., 0.0, 0.0, 0.0]},\n",
       "             {'fill': 'tonexty',\n",
       "              'fillcolor': 'rgba(253, 231, 37, 0.6)',\n",
       "              'line': {'color': 'rgba(0,0,0,0.6)', 'width': 1.4},\n",
       "              'mode': 'lines',\n",
       "              'name': 'Jan',\n",
       "              'type': 'scatter',\n",
       "              'x': array([      0.        ,    7512.08216433,   15024.16432866, ...,\n",
       "                          3733504.83567134, 3741016.91783567, 3748529.        ]),\n",
       "              'y': array([0.0083113, 0.       , 0.       , ..., 0.       , 0.       , 0.0083113])},\n",
       "             {'line': {'color': 'rgba(0,0,0,0)', 'width': 0},\n",
       "              'showlegend': False,\n",
       "              'type': 'scatter',\n",
       "              'x': array([      0.        ,    7101.48096192,   14202.96192385, ...,\n",
       "                          3529436.03807615, 3536537.51903808, 3543639.        ]),\n",
       "              'y': [-0.00831129750836318, -0.00831129750836318,\n",
       "                    -0.00831129750836318, ..., -0.00831129750836318,\n",
       "                    -0.00831129750836318, -0.00831129750836318]},\n",
       "             {'fill': 'tonexty',\n",
       "              'fillcolor': 'rgba(194.0909090909091, 223.63636363636363, 41.90909090909091, 0.6)',\n",
       "              'line': {'color': 'rgba(0,0,0,0.6)', 'width': 1.4},\n",
       "              'mode': 'lines',\n",
       "              'name': 'Feb',\n",
       "              'type': 'scatter',\n",
       "              'x': array([      0.        ,    7101.48096192,   14202.96192385, ...,\n",
       "                          3529436.03807615, 3536537.51903808, 3543639.        ]),\n",
       "              'y': array([ 0.       , -0.0083113, -0.0083113, ..., -0.0083113, -0.0083113,\n",
       "                           0.       ])},\n",
       "             {'line': {'color': 'rgba(0,0,0,0)', 'width': 0},\n",
       "              'showlegend': False,\n",
       "              'type': 'scatter',\n",
       "              'x': array([      0.        ,    8291.94188377,   16583.88376754, ...,\n",
       "                          4121095.11623247, 4129387.05811623, 4137679.        ]),\n",
       "              'y': [-0.01662259501672636, -0.01662259501672636,\n",
       "                    -0.01662259501672636, ..., -0.01662259501672636,\n",
       "                    -0.01662259501672636, -0.01662259501672636]},\n",
       "             {'fill': 'tonexty',\n",
       "              'fillcolor': 'rgba(135.8181818181819, 211.81818181818184, 71.63636363636358, 0.6)',\n",
       "              'line': {'color': 'rgba(0,0,0,0.6)', 'width': 1.4},\n",
       "              'mode': 'lines',\n",
       "              'name': 'Mar',\n",
       "              'type': 'scatter',\n",
       "              'x': array([      0.        ,    8291.94188377,   16583.88376754, ...,\n",
       "                          4121095.11623247, 4129387.05811623, 4137679.        ]),\n",
       "              'y': array([-0.0083113, -0.0166226, -0.0166226, ..., -0.0166226, -0.0166226,\n",
       "                          -0.0083113])},\n",
       "             {'line': {'color': 'rgba(0,0,0,0)', 'width': 0},\n",
       "              'showlegend': False,\n",
       "              'type': 'scatter',\n",
       "              'x': array([      0.        ,    8059.47294589,   16118.94589178, ...,\n",
       "                          4005558.05410822, 4013617.52705411, 4021677.        ]),\n",
       "              'y': [-0.02493389252508954, -0.02493389252508954,\n",
       "                    -0.02493389252508954, ..., -0.02493389252508954,\n",
       "                    -0.02493389252508954, -0.02493389252508954]},\n",
       "             {'fill': 'tonexty',\n",
       "              'fillcolor': 'rgba(84.09090909090914, 195.54545454545456, 102.99999999999997, 0.6)',\n",
       "              'line': {'color': 'rgba(0,0,0,0.6)', 'width': 1.4},\n",
       "              'mode': 'lines',\n",
       "              'name': 'Apr',\n",
       "              'type': 'scatter',\n",
       "              'x': array([      0.        ,    8059.47294589,   16118.94589178, ...,\n",
       "                          4005558.05410822, 4013617.52705411, 4021677.        ]),\n",
       "              'y': array([-0.0083113 , -0.02493389, -0.02493389, ..., -0.02493389, -0.02493389,\n",
       "                          -0.0166226 ])},\n",
       "             {'line': {'color': 'rgba(0,0,0,0)', 'width': 0},\n",
       "              'showlegend': False,\n",
       "              'type': 'scatter',\n",
       "              'x': array([      0.        ,    8739.75951904,   17479.51903808, ...,\n",
       "                          4343660.48096192, 4352400.24048096, 4361140.        ]),\n",
       "              'y': [-0.03324519003345272, -0.03324519003345272,\n",
       "                    -0.03324519003345272, ..., -0.03324519003345272,\n",
       "                    -0.03324519003345272, -0.03324519003345272]},\n",
       "             {'fill': 'tonexty',\n",
       "              'fillcolor': 'rgba(47.0, 176.1818181818182, 125.36363636363636, 0.6)',\n",
       "              'line': {'color': 'rgba(0,0,0,0.6)', 'width': 1.4},\n",
       "              'mode': 'lines',\n",
       "              'name': 'May',\n",
       "              'type': 'scatter',\n",
       "              'x': array([      0.        ,    8739.75951904,   17479.51903808, ...,\n",
       "                          4343660.48096192, 4352400.24048096, 4361140.        ]),\n",
       "              'y': array([-0.0166226 , -0.03324519, -0.03324519, ..., -0.03324519, -0.03324519,\n",
       "                          -0.02493389])},\n",
       "             {'line': {'color': 'rgba(0,0,0,0)', 'width': 0},\n",
       "              'showlegend': False,\n",
       "              'type': 'scatter',\n",
       "              'x': array([      0.        ,    9135.29258517,   18270.58517034, ...,\n",
       "                          4540240.41482966, 4549375.70741483, 4558511.        ]),\n",
       "              'y': [-0.0415564875418159, -0.0415564875418159, -0.0415564875418159,\n",
       "                    ..., -0.0415564875418159, -0.0415564875418159,\n",
       "                    -0.0415564875418159]},\n",
       "             {'fill': 'tonexty',\n",
       "              'fillcolor': 'rgba(31.63636363636364, 155.45454545454544, 137.45454545454547, 0.6)',\n",
       "              'line': {'color': 'rgba(0,0,0,0.6)', 'width': 1.4},\n",
       "              'mode': 'lines',\n",
       "              'name': 'Jun',\n",
       "              'type': 'scatter',\n",
       "              'x': array([      0.        ,    9135.29258517,   18270.58517034, ...,\n",
       "                          4540240.41482966, 4549375.70741483, 4558511.        ]),\n",
       "              'y': array([-0.02493389, -0.04155649, -0.04155649, ..., -0.04155649, -0.04155649,\n",
       "                          -0.03324519])},\n",
       "             {'line': {'color': 'rgba(0,0,0,0)', 'width': 0},\n",
       "              'showlegend': False,\n",
       "              'type': 'scatter',\n",
       "              'x': array([      0.        ,    9621.53907816,   19243.07815631, ...,\n",
       "                          4781904.92184369, 4791526.46092184, 4801148.        ]),\n",
       "              'y': [-0.04986778505017908, -0.04986778505017908,\n",
       "                    -0.04986778505017908, ..., -0.04986778505017908,\n",
       "                    -0.04986778505017908, -0.04986778505017908]},\n",
       "             {'fill': 'tonexty',\n",
       "              'fillcolor': 'rgba(37.36363636363636, 132.54545454545456, 141.54545454545453, 0.6)',\n",
       "              'line': {'color': 'rgba(0,0,0,0.6)', 'width': 1.4},\n",
       "              'mode': 'lines',\n",
       "              'name': 'Jul',\n",
       "              'type': 'scatter',\n",
       "              'x': array([      0.        ,    9621.53907816,   19243.07815631, ...,\n",
       "                          4781904.92184369, 4791526.46092184, 4801148.        ]),\n",
       "              'y': array([-0.04155649, -0.04986779, -0.04986779, ..., -0.04986779, -0.04986779,\n",
       "                          -0.04155649])},\n",
       "             {'line': {'color': 'rgba(0,0,0,0)', 'width': 0},\n",
       "              'showlegend': False,\n",
       "              'type': 'scatter',\n",
       "              'x': array([      0.        ,    9612.53106212,   19225.06212425, ...,\n",
       "                          4777427.93787575, 4787040.46893788, 4796653.        ]),\n",
       "              'y': [-0.05817908255854226, -0.05817908255854226,\n",
       "                    -0.05817908255854226, ..., -0.05817908255854226,\n",
       "                    -0.05817908255854226, -0.05817908255854226]},\n",
       "             {'fill': 'tonexty',\n",
       "              'fillcolor': 'rgba(46.0, 111.0909090909091, 142.0, 0.6)',\n",
       "              'line': {'color': 'rgba(0,0,0,0.6)', 'width': 1.4},\n",
       "              'mode': 'lines',\n",
       "              'name': 'Aug',\n",
       "              'type': 'scatter',\n",
       "              'x': array([      0.        ,    9612.53106212,   19225.06212425, ...,\n",
       "                          4777427.93787575, 4787040.46893788, 4796653.        ]),\n",
       "              'y': array([-0.04986779, -0.05817908, -0.05817908, ..., -0.05817908, -0.05817908,\n",
       "                          -0.04986779])},\n",
       "             {'line': {'color': 'rgba(0,0,0,0)', 'width': 0},\n",
       "              'showlegend': False,\n",
       "              'type': 'scatter',\n",
       "              'x': array([      0.        ,    8419.62725451,   16839.25450902, ...,\n",
       "                          4184554.74549098, 4192974.37274549, 4201394.        ]),\n",
       "              'y': [-0.06649038006690544, -0.06649038006690544,\n",
       "                    -0.06649038006690544, ..., -0.06649038006690544,\n",
       "                    -0.06649038006690544, -0.06649038006690544]},\n",
       "             {'fill': 'tonexty',\n",
       "              'fillcolor': 'rgba(56.09090909090909, 87.0909090909091, 139.27272727272728, 0.6)',\n",
       "              'line': {'color': 'rgba(0,0,0,0.6)', 'width': 1.4},\n",
       "              'mode': 'lines',\n",
       "              'name': 'Sep',\n",
       "              'type': 'scatter',\n",
       "              'x': array([      0.        ,    8419.62725451,   16839.25450902, ...,\n",
       "                          4184554.74549098, 4192974.37274549, 4201394.        ]),\n",
       "              'y': array([-0.05817908, -0.06649038, -0.06649038, ..., -0.06649038, -0.06649038,\n",
       "                          -0.05817908])},\n",
       "             {'line': {'color': 'rgba(0,0,0,0)', 'width': 0},\n",
       "              'showlegend': False,\n",
       "              'type': 'scatter',\n",
       "              'x': array([      0.        ,    8767.03206413,   17534.06412826, ...,\n",
       "                          4357214.93587174, 4365981.96793587, 4374749.        ]),\n",
       "              'y': [-0.07480167757526862, -0.07480167757526862,\n",
       "                    -0.07480167757526862, ..., -0.07480167757526862,\n",
       "                    -0.07480167757526862, -0.07480167757526862]},\n",
       "             {'fill': 'tonexty',\n",
       "              'fillcolor': 'rgba(65.63636363636364, 61.0, 130.8181818181818, 0.6)',\n",
       "              'line': {'color': 'rgba(0,0,0,0.6)', 'width': 1.4},\n",
       "              'mode': 'lines',\n",
       "              'name': 'Oct',\n",
       "              'type': 'scatter',\n",
       "              'x': array([      0.        ,    8767.03206413,   17534.06412826, ...,\n",
       "                          4357214.93587174, 4365981.96793587, 4374749.        ]),\n",
       "              'y': array([-0.06649038, -0.07480168, -0.07480168, ..., -0.07480168, -0.07480168,\n",
       "                          -0.06649038])},\n",
       "             {'line': {'color': 'rgba(0,0,0,0)', 'width': 0},\n",
       "              'showlegend': False,\n",
       "              'type': 'scatter',\n",
       "              'x': array([      0.        ,    8043.71543086,   16087.43086172, ...,\n",
       "                          3997726.56913828, 4005770.28456914, 4013814.        ]),\n",
       "              'y': [-0.0831129750836318, -0.0831129750836318, -0.0831129750836318,\n",
       "                    ..., -0.0831129750836318, -0.0831129750836318,\n",
       "                    -0.0831129750836318]},\n",
       "             {'fill': 'tonexty',\n",
       "              'fillcolor': 'rgba(71.27272727272727, 32.90909090909091, 113.45454545454545, 0.6)',\n",
       "              'line': {'color': 'rgba(0,0,0,0.6)', 'width': 1.4},\n",
       "              'mode': 'lines',\n",
       "              'name': 'Nov',\n",
       "              'type': 'scatter',\n",
       "              'x': array([      0.        ,    8043.71543086,   16087.43086172, ...,\n",
       "                          3997726.56913828, 4005770.28456914, 4013814.        ]),\n",
       "              'y': array([-0.07480168, -0.08311298, -0.08311298, ..., -0.08311298, -0.08311298,\n",
       "                          -0.07480168])},\n",
       "             {'line': {'color': 'rgba(0,0,0,0)', 'width': 0},\n",
       "              'showlegend': False,\n",
       "              'type': 'scatter',\n",
       "              'x': array([      0.        ,    8274.65330661,   16549.30661323, ...,\n",
       "                          4112502.69338677, 4120777.34669339, 4129052.        ]),\n",
       "              'y': [-0.09142427259199498, -0.09142427259199498,\n",
       "                    -0.09142427259199498, ..., -0.09142427259199498,\n",
       "                    -0.09142427259199498, -0.09142427259199498]},\n",
       "             {'fill': 'tonexty',\n",
       "              'fillcolor': 'rgba(68, 1, 84, 0.6)',\n",
       "              'line': {'color': 'rgba(0,0,0,0.6)', 'width': 1.4},\n",
       "              'mode': 'lines',\n",
       "              'name': 'Dec',\n",
       "              'type': 'scatter',\n",
       "              'x': array([      0.        ,    8274.65330661,   16549.30661323, ...,\n",
       "                          4112502.69338677, 4120777.34669339, 4129052.        ]),\n",
       "              'y': array([-0.08311298, -0.09142427, -0.09142427, ..., -0.09142427, -0.09142427,\n",
       "                          -0.08311298])}],\n",
       "    'layout': {'hovermode': False,\n",
       "               'legend': {'traceorder': 'normal'},\n",
       "               'template': '...',\n",
       "               'xaxis': {'range': [-240057.40000000002, 5041205.4],\n",
       "                         'showgrid': True,\n",
       "                         'showticklabels': True,\n",
       "                         'zeroline': False},\n",
       "               'yaxis': {'showgrid': True,\n",
       "                         'showticklabels': True,\n",
       "                         'ticktext': [Jan, Feb, Mar, Apr, May, Jun, Jul, Aug, Sep,\n",
       "                                      Oct, Nov, Dec],\n",
       "                         'tickvals': [0.0, -0.00831129750836318,\n",
       "                                      -0.01662259501672636, -0.02493389252508954,\n",
       "                                      -0.03324519003345272, -0.0415564875418159,\n",
       "                                      -0.04986778505017908, -0.05817908255854226,\n",
       "                                      -0.06649038006690544, -0.07480167757526862,\n",
       "                                      -0.0831129750836318, -0.09142427259199498],\n",
       "                         'zeroline': False}}\n",
       "})>"
      ]
     },
     "execution_count": 104,
     "metadata": {},
     "output_type": "execute_result"
    }
   ],
   "source": [
    "fig.show"
   ]
  },
  {
   "cell_type": "code",
   "execution_count": 35,
   "metadata": {},
   "outputs": [
    {
     "data": {
      "application/vnd.plotly.v1+json": {
       "config": {
        "plotlyServerURL": "https://plot.ly"
       },
       "data": [
        {
         "line": {
          "color": "white"
         },
         "mode": "lines",
         "type": "scatter",
         "x": [
          -20,
          40
         ],
         "y": [
          12,
          12
         ]
        },
        {
         "fill": "tonexty",
         "name": "Jan",
         "type": "scatter",
         "x": [
          null,
          2448889,
          2507430,
          2670053,
          2644539,
          2785466,
          2883810,
          3211600,
          3204637,
          3432625,
          3550084,
          3748529
         ],
         "y": [
          null,
          12.4,
          12.44504401218799,
          12.570173278754117,
          12.550541688467575,
          12.658977101351145,
          12.734647286941,
          12.986863285217446,
          12.98150564771783,
          13.15692961127697,
          13.247307715982888,
          13.4
         ]
        },
        {
         "line": {
          "color": "white"
         },
         "mode": "lines",
         "type": "scatter",
         "x": [
          -20,
          40
         ],
         "y": [
          11,
          11
         ]
        },
        {
         "fill": "tonexty",
         "name": "Feb",
         "type": "scatter",
         "visible": "legendonly",
         "x": [
          null,
          2223024,
          2304990,
          2595676,
          2359800,
          2515361,
          2610667,
          2998119,
          2966477,
          3078405,
          3248144,
          3543639
         ],
         "y": [
          null,
          11.4,
          11.46206653718154,
          11.68218065068169,
          11.503569927647346,
          11.621364288607959,
          11.693532180082764,
          11.986919730580071,
          11.962959681663468,
          12.047714133187947,
          12.176244401282736,
          12.4
         ]
        },
        {
         "line": {
          "color": "white"
         },
         "mode": "lines",
         "type": "scatter",
         "x": [
          -20,
          40
         ],
         "y": [
          10,
          10
         ]
        },
        {
         "fill": "tonexty",
         "name": "Mar",
         "type": "scatter",
         "x": [
          null,
          2708778,
          2820085,
          3127387,
          2925918,
          3105958,
          3129205,
          3472440,
          3593364,
          3765504,
          4001521,
          4137679
         ],
         "y": [
          null,
          10.4,
          10.477896929178439,
          10.692958714424583,
          10.551962942149247,
          10.677961874195624,
          10.694231020903478,
          10.934440104667853,
          11.019067381155168,
          11.139537588678293,
          11.304711383083923,
          11.4
         ]
        },
        {
         "line": {
          "color": "white"
         },
         "mode": "lines",
         "type": "scatter",
         "x": [
          -20,
          40
         ],
         "y": [
          9,
          9
         ]
        },
        {
         "fill": "tonexty",
         "name": "Apr",
         "type": "scatter",
         "x": [
          null,
          2773293,
          2869247,
          3029021,
          3024973,
          3139059,
          3200527,
          3563007,
          3604104,
          3881893,
          4021677,
          null
         ],
         "y": [
          null,
          9.4,
          9.476862567927817,
          9.604847226494412,
          9.601604634471444,
          9.692991579513995,
          9.742229634471444,
          10.032589011073517,
          10.065509170255307,
          10.288028042653544,
          10.4,
          null
         ]
        },
        {
         "line": {
          "color": "white"
         },
         "mode": "lines",
         "type": "scatter",
         "x": [
          -20,
          40
         ],
         "y": [
          8,
          8
         ]
        },
        {
         "fill": "tonexty",
         "name": "May",
         "type": "scatter",
         "x": [
          null,
          2829000,
          3056934,
          3305954,
          3177100,
          3380355,
          3547804,
          3820570,
          3933016,
          4147096,
          4361140,
          null
         ],
         "y": [
          null,
          8.4,
          8.548768389311682,
          8.71129922853003,
          8.627198558878431,
          8.759859412325245,
          8.86915033874189,
          9.047179761640582,
          9.120571227172452,
          9.260297361859882,
          9.4,
          null
         ]
        },
        {
         "line": {
          "color": "white"
         },
         "mode": "lines",
         "type": "scatter",
         "x": [
          -20,
          40
         ],
         "y": [
          7,
          7
         ]
        },
        {
         "fill": "tonexty",
         "name": "Jun",
         "type": "scatter",
         "x": [
          null,
          3071396,
          3263621,
          3453751,
          3419595,
          3612886,
          3766323,
          4107195,
          4146797,
          4321833,
          4558511,
          null
         ],
         "y": [
          null,
          7.4,
          7.529260346375365,
          7.657111924767083,
          7.634143963311513,
          7.764121133873306,
          7.867298763041191,
          8.096515736846175,
          8.123145822616273,
          8.240847547096223,
          8.4,
          null
         ]
        },
        {
         "line": {
          "color": "white"
         },
         "mode": "lines",
         "type": "scatter",
         "x": [
          -20,
          40
         ],
         "y": [
          6,
          6
         ]
        },
        {
         "fill": "tonexty",
         "name": "Jul",
         "type": "scatter",
         "x": [
          3225769,
          3227605,
          3382382,
          3603946,
          3649702,
          3765824,
          3935589,
          4284443,
          4176486,
          4499221,
          4801148,
          null
         ],
         "y": [
          6.4,
          6.401165433841634,
          6.499412903180759,
          6.640054615429049,
          6.669099054894092,
          6.742809571538024,
          6.850570941976502,
          7.072012258637446,
          7.003484621795772,
          7.20834643600048,
          7.4,
          null
         ]
        },
        {
         "line": {
          "color": "white"
         },
         "mode": "lines",
         "type": "scatter",
         "x": [
          -20,
          40
         ],
         "y": [
          5,
          5
         ]
        },
        {
         "fill": "tonexty",
         "name": "Aug",
         "type": "scatter",
         "x": [
          3195866,
          3143839,
          3436417,
          3612297,
          3650668,
          3771842,
          3917884,
          4356216,
          4347059,
          4524918,
          4796653,
          null
         ],
         "y": [
          5.431477831141314,
          5.4,
          5.577018103670468,
          5.683430561454586,
          5.706646119890078,
          5.779959874492835,
          5.868319484225085,
          6.133522949345783,
          6.12798270101778,
          6.235592510712035,
          6.4,
          null
         ]
        },
        {
         "line": {
          "color": "white"
         },
         "mode": "lines",
         "type": "scatter",
         "x": [
          -20,
          40
         ],
         "y": [
          4,
          4
         ]
        },
        {
         "fill": "tonexty",
         "name": "Sep",
         "type": "scatter",
         "x": [
          2740553,
          2720100,
          2957530,
          3004720,
          3191526,
          3356365,
          3564970,
          3819379,
          3781168,
          3919072,
          4201394,
          null
         ],
         "y": [
          4.413807522341953,
          4.4,
          4.560285534134345,
          4.5921428156733235,
          4.718252824894991,
          4.829533232430564,
          4.970359428985739,
          5.142107238671054,
          5.116311549226555,
          5.209408530649554,
          5.4,
          null
         ]
        },
        {
         "line": {
          "color": "white"
         },
         "mode": "lines",
         "type": "scatter",
         "x": [
          -20,
          40
         ],
         "y": [
          3,
          3
         ]
        },
        {
         "fill": "tonexty",
         "name": "Oct",
         "type": "scatter",
         "x": [
          2770715,
          2834959,
          3129309,
          3124451,
          3249428,
          3490100,
          3602455,
          3844987,
          3910790,
          4059443,
          4374749,
          null
         ],
         "y": [
          3.4,
          3.4400515201049355,
          3.623557605387417,
          3.6205289912807332,
          3.6984431751446665,
          3.848484882490022,
          3.918530155844577,
          4.069731439607889,
          4.11075488424809,
          4.203429353741878,
          4.4,
          null
         ]
        },
        {
         "line": {
          "color": "white"
         },
         "mode": "lines",
         "type": "scatter",
         "x": [
          -20,
          40
         ],
         "y": [
          2,
          2
         ]
        },
        {
         "fill": "tonexty",
         "name": "Nov",
         "type": "scatter",
         "x": [
          2617333,
          2653887,
          2922500,
          2744485,
          2971484,
          3163659,
          3326859,
          3478890,
          3466878,
          3628786,
          4013814,
          null
         ],
         "y": [
          2.4,
          2.426175794729753,
          2.6185257085488454,
          2.491051722150176,
          2.6536024478671747,
          2.7912162070232247,
          2.9080813845659197,
          3.0169486015205362,
          3.0083469807322833,
          3.124286975619432,
          3.4,
          null
         ]
        },
        {
         "line": {
          "color": "white"
         },
         "mode": "lines",
         "type": "scatter",
         "x": [
          -20,
          40
         ],
         "y": [
          1,
          1
         ]
        },
        {
         "fill": "tonexty",
         "name": "Dec",
         "type": "scatter",
         "x": [
          2671797,
          2698200,
          2903637,
          2962937,
          3074209,
          3167124,
          3441693,
          3443039,
          3814984,
          3855835,
          4129052,
          null
         ],
         "y": [
          1.4,
          1.4181183114828908,
          1.5590936383817522,
          1.599786585052033,
          1.67614384579226,
          1.7399041348288393,
          1.9283193401292156,
          1.9292429945342442,
          2.184479723864389,
          2.212512566434838,
          2.4,
          null
         ]
        }
       ],
       "layout": {
        "annotations": [
         {
          "showarrow": false,
          "text": "Jan",
          "x": -20,
          "y": 12,
          "yshift": 10
         },
         {
          "showarrow": false,
          "text": "Feb",
          "x": -20,
          "y": 11,
          "yshift": 10
         },
         {
          "showarrow": false,
          "text": "Mar",
          "x": -20,
          "y": 10,
          "yshift": 10
         },
         {
          "showarrow": false,
          "text": "Apr",
          "x": -20,
          "y": 9,
          "yshift": 10
         },
         {
          "showarrow": false,
          "text": "May",
          "x": -20,
          "y": 8,
          "yshift": 10
         },
         {
          "showarrow": false,
          "text": "Jun",
          "x": -20,
          "y": 7,
          "yshift": 10
         },
         {
          "showarrow": false,
          "text": "Jul",
          "x": -20,
          "y": 6,
          "yshift": 10
         },
         {
          "showarrow": false,
          "text": "Aug",
          "x": -20,
          "y": 5,
          "yshift": 10
         },
         {
          "showarrow": false,
          "text": "Sep",
          "x": -20,
          "y": 4,
          "yshift": 10
         },
         {
          "showarrow": false,
          "text": "Oct",
          "x": -20,
          "y": 3,
          "yshift": 10
         },
         {
          "showarrow": false,
          "text": "Nov",
          "x": -20,
          "y": 2,
          "yshift": 10
         },
         {
          "showarrow": false,
          "text": "Dec",
          "x": -20,
          "y": 1,
          "yshift": 10
         }
        ],
        "autosize": true,
        "template": {
         "data": {
          "bar": [
           {
            "error_x": {
             "color": "#2a3f5f"
            },
            "error_y": {
             "color": "#2a3f5f"
            },
            "marker": {
             "line": {
              "color": "#E5ECF6",
              "width": 0.5
             },
             "pattern": {
              "fillmode": "overlay",
              "size": 10,
              "solidity": 0.2
             }
            },
            "type": "bar"
           }
          ],
          "barpolar": [
           {
            "marker": {
             "line": {
              "color": "#E5ECF6",
              "width": 0.5
             },
             "pattern": {
              "fillmode": "overlay",
              "size": 10,
              "solidity": 0.2
             }
            },
            "type": "barpolar"
           }
          ],
          "carpet": [
           {
            "aaxis": {
             "endlinecolor": "#2a3f5f",
             "gridcolor": "white",
             "linecolor": "white",
             "minorgridcolor": "white",
             "startlinecolor": "#2a3f5f"
            },
            "baxis": {
             "endlinecolor": "#2a3f5f",
             "gridcolor": "white",
             "linecolor": "white",
             "minorgridcolor": "white",
             "startlinecolor": "#2a3f5f"
            },
            "type": "carpet"
           }
          ],
          "choropleth": [
           {
            "colorbar": {
             "outlinewidth": 0,
             "ticks": ""
            },
            "type": "choropleth"
           }
          ],
          "contour": [
           {
            "colorbar": {
             "outlinewidth": 0,
             "ticks": ""
            },
            "colorscale": [
             [
              0,
              "#0d0887"
             ],
             [
              0.1111111111111111,
              "#46039f"
             ],
             [
              0.2222222222222222,
              "#7201a8"
             ],
             [
              0.3333333333333333,
              "#9c179e"
             ],
             [
              0.4444444444444444,
              "#bd3786"
             ],
             [
              0.5555555555555556,
              "#d8576b"
             ],
             [
              0.6666666666666666,
              "#ed7953"
             ],
             [
              0.7777777777777778,
              "#fb9f3a"
             ],
             [
              0.8888888888888888,
              "#fdca26"
             ],
             [
              1,
              "#f0f921"
             ]
            ],
            "type": "contour"
           }
          ],
          "contourcarpet": [
           {
            "colorbar": {
             "outlinewidth": 0,
             "ticks": ""
            },
            "type": "contourcarpet"
           }
          ],
          "heatmap": [
           {
            "colorbar": {
             "outlinewidth": 0,
             "ticks": ""
            },
            "colorscale": [
             [
              0,
              "#0d0887"
             ],
             [
              0.1111111111111111,
              "#46039f"
             ],
             [
              0.2222222222222222,
              "#7201a8"
             ],
             [
              0.3333333333333333,
              "#9c179e"
             ],
             [
              0.4444444444444444,
              "#bd3786"
             ],
             [
              0.5555555555555556,
              "#d8576b"
             ],
             [
              0.6666666666666666,
              "#ed7953"
             ],
             [
              0.7777777777777778,
              "#fb9f3a"
             ],
             [
              0.8888888888888888,
              "#fdca26"
             ],
             [
              1,
              "#f0f921"
             ]
            ],
            "type": "heatmap"
           }
          ],
          "heatmapgl": [
           {
            "colorbar": {
             "outlinewidth": 0,
             "ticks": ""
            },
            "colorscale": [
             [
              0,
              "#0d0887"
             ],
             [
              0.1111111111111111,
              "#46039f"
             ],
             [
              0.2222222222222222,
              "#7201a8"
             ],
             [
              0.3333333333333333,
              "#9c179e"
             ],
             [
              0.4444444444444444,
              "#bd3786"
             ],
             [
              0.5555555555555556,
              "#d8576b"
             ],
             [
              0.6666666666666666,
              "#ed7953"
             ],
             [
              0.7777777777777778,
              "#fb9f3a"
             ],
             [
              0.8888888888888888,
              "#fdca26"
             ],
             [
              1,
              "#f0f921"
             ]
            ],
            "type": "heatmapgl"
           }
          ],
          "histogram": [
           {
            "marker": {
             "pattern": {
              "fillmode": "overlay",
              "size": 10,
              "solidity": 0.2
             }
            },
            "type": "histogram"
           }
          ],
          "histogram2d": [
           {
            "colorbar": {
             "outlinewidth": 0,
             "ticks": ""
            },
            "colorscale": [
             [
              0,
              "#0d0887"
             ],
             [
              0.1111111111111111,
              "#46039f"
             ],
             [
              0.2222222222222222,
              "#7201a8"
             ],
             [
              0.3333333333333333,
              "#9c179e"
             ],
             [
              0.4444444444444444,
              "#bd3786"
             ],
             [
              0.5555555555555556,
              "#d8576b"
             ],
             [
              0.6666666666666666,
              "#ed7953"
             ],
             [
              0.7777777777777778,
              "#fb9f3a"
             ],
             [
              0.8888888888888888,
              "#fdca26"
             ],
             [
              1,
              "#f0f921"
             ]
            ],
            "type": "histogram2d"
           }
          ],
          "histogram2dcontour": [
           {
            "colorbar": {
             "outlinewidth": 0,
             "ticks": ""
            },
            "colorscale": [
             [
              0,
              "#0d0887"
             ],
             [
              0.1111111111111111,
              "#46039f"
             ],
             [
              0.2222222222222222,
              "#7201a8"
             ],
             [
              0.3333333333333333,
              "#9c179e"
             ],
             [
              0.4444444444444444,
              "#bd3786"
             ],
             [
              0.5555555555555556,
              "#d8576b"
             ],
             [
              0.6666666666666666,
              "#ed7953"
             ],
             [
              0.7777777777777778,
              "#fb9f3a"
             ],
             [
              0.8888888888888888,
              "#fdca26"
             ],
             [
              1,
              "#f0f921"
             ]
            ],
            "type": "histogram2dcontour"
           }
          ],
          "mesh3d": [
           {
            "colorbar": {
             "outlinewidth": 0,
             "ticks": ""
            },
            "type": "mesh3d"
           }
          ],
          "parcoords": [
           {
            "line": {
             "colorbar": {
              "outlinewidth": 0,
              "ticks": ""
             }
            },
            "type": "parcoords"
           }
          ],
          "pie": [
           {
            "automargin": true,
            "type": "pie"
           }
          ],
          "scatter": [
           {
            "marker": {
             "colorbar": {
              "outlinewidth": 0,
              "ticks": ""
             }
            },
            "type": "scatter"
           }
          ],
          "scatter3d": [
           {
            "line": {
             "colorbar": {
              "outlinewidth": 0,
              "ticks": ""
             }
            },
            "marker": {
             "colorbar": {
              "outlinewidth": 0,
              "ticks": ""
             }
            },
            "type": "scatter3d"
           }
          ],
          "scattercarpet": [
           {
            "marker": {
             "colorbar": {
              "outlinewidth": 0,
              "ticks": ""
             }
            },
            "type": "scattercarpet"
           }
          ],
          "scattergeo": [
           {
            "marker": {
             "colorbar": {
              "outlinewidth": 0,
              "ticks": ""
             }
            },
            "type": "scattergeo"
           }
          ],
          "scattergl": [
           {
            "marker": {
             "colorbar": {
              "outlinewidth": 0,
              "ticks": ""
             }
            },
            "type": "scattergl"
           }
          ],
          "scattermapbox": [
           {
            "marker": {
             "colorbar": {
              "outlinewidth": 0,
              "ticks": ""
             }
            },
            "type": "scattermapbox"
           }
          ],
          "scatterpolar": [
           {
            "marker": {
             "colorbar": {
              "outlinewidth": 0,
              "ticks": ""
             }
            },
            "type": "scatterpolar"
           }
          ],
          "scatterpolargl": [
           {
            "marker": {
             "colorbar": {
              "outlinewidth": 0,
              "ticks": ""
             }
            },
            "type": "scatterpolargl"
           }
          ],
          "scatterternary": [
           {
            "marker": {
             "colorbar": {
              "outlinewidth": 0,
              "ticks": ""
             }
            },
            "type": "scatterternary"
           }
          ],
          "surface": [
           {
            "colorbar": {
             "outlinewidth": 0,
             "ticks": ""
            },
            "colorscale": [
             [
              0,
              "#0d0887"
             ],
             [
              0.1111111111111111,
              "#46039f"
             ],
             [
              0.2222222222222222,
              "#7201a8"
             ],
             [
              0.3333333333333333,
              "#9c179e"
             ],
             [
              0.4444444444444444,
              "#bd3786"
             ],
             [
              0.5555555555555556,
              "#d8576b"
             ],
             [
              0.6666666666666666,
              "#ed7953"
             ],
             [
              0.7777777777777778,
              "#fb9f3a"
             ],
             [
              0.8888888888888888,
              "#fdca26"
             ],
             [
              1,
              "#f0f921"
             ]
            ],
            "type": "surface"
           }
          ],
          "table": [
           {
            "cells": {
             "fill": {
              "color": "#EBF0F8"
             },
             "line": {
              "color": "white"
             }
            },
            "header": {
             "fill": {
              "color": "#C8D4E3"
             },
             "line": {
              "color": "white"
             }
            },
            "type": "table"
           }
          ]
         },
         "layout": {
          "annotationdefaults": {
           "arrowcolor": "#2a3f5f",
           "arrowhead": 0,
           "arrowwidth": 1
          },
          "autotypenumbers": "strict",
          "coloraxis": {
           "colorbar": {
            "outlinewidth": 0,
            "ticks": ""
           }
          },
          "colorscale": {
           "diverging": [
            [
             0,
             "#8e0152"
            ],
            [
             0.1,
             "#c51b7d"
            ],
            [
             0.2,
             "#de77ae"
            ],
            [
             0.3,
             "#f1b6da"
            ],
            [
             0.4,
             "#fde0ef"
            ],
            [
             0.5,
             "#f7f7f7"
            ],
            [
             0.6,
             "#e6f5d0"
            ],
            [
             0.7,
             "#b8e186"
            ],
            [
             0.8,
             "#7fbc41"
            ],
            [
             0.9,
             "#4d9221"
            ],
            [
             1,
             "#276419"
            ]
           ],
           "sequential": [
            [
             0,
             "#0d0887"
            ],
            [
             0.1111111111111111,
             "#46039f"
            ],
            [
             0.2222222222222222,
             "#7201a8"
            ],
            [
             0.3333333333333333,
             "#9c179e"
            ],
            [
             0.4444444444444444,
             "#bd3786"
            ],
            [
             0.5555555555555556,
             "#d8576b"
            ],
            [
             0.6666666666666666,
             "#ed7953"
            ],
            [
             0.7777777777777778,
             "#fb9f3a"
            ],
            [
             0.8888888888888888,
             "#fdca26"
            ],
            [
             1,
             "#f0f921"
            ]
           ],
           "sequentialminus": [
            [
             0,
             "#0d0887"
            ],
            [
             0.1111111111111111,
             "#46039f"
            ],
            [
             0.2222222222222222,
             "#7201a8"
            ],
            [
             0.3333333333333333,
             "#9c179e"
            ],
            [
             0.4444444444444444,
             "#bd3786"
            ],
            [
             0.5555555555555556,
             "#d8576b"
            ],
            [
             0.6666666666666666,
             "#ed7953"
            ],
            [
             0.7777777777777778,
             "#fb9f3a"
            ],
            [
             0.8888888888888888,
             "#fdca26"
            ],
            [
             1,
             "#f0f921"
            ]
           ]
          },
          "colorway": [
           "#636efa",
           "#EF553B",
           "#00cc96",
           "#ab63fa",
           "#FFA15A",
           "#19d3f3",
           "#FF6692",
           "#B6E880",
           "#FF97FF",
           "#FECB52"
          ],
          "font": {
           "color": "#2a3f5f"
          },
          "geo": {
           "bgcolor": "white",
           "lakecolor": "white",
           "landcolor": "#E5ECF6",
           "showlakes": true,
           "showland": true,
           "subunitcolor": "white"
          },
          "hoverlabel": {
           "align": "left"
          },
          "hovermode": "closest",
          "mapbox": {
           "style": "light"
          },
          "paper_bgcolor": "white",
          "plot_bgcolor": "#E5ECF6",
          "polar": {
           "angularaxis": {
            "gridcolor": "white",
            "linecolor": "white",
            "ticks": ""
           },
           "bgcolor": "#E5ECF6",
           "radialaxis": {
            "gridcolor": "white",
            "linecolor": "white",
            "ticks": ""
           }
          },
          "scene": {
           "xaxis": {
            "backgroundcolor": "#E5ECF6",
            "gridcolor": "white",
            "gridwidth": 2,
            "linecolor": "white",
            "showbackground": true,
            "ticks": "",
            "zerolinecolor": "white"
           },
           "yaxis": {
            "backgroundcolor": "#E5ECF6",
            "gridcolor": "white",
            "gridwidth": 2,
            "linecolor": "white",
            "showbackground": true,
            "ticks": "",
            "zerolinecolor": "white"
           },
           "zaxis": {
            "backgroundcolor": "#E5ECF6",
            "gridcolor": "white",
            "gridwidth": 2,
            "linecolor": "white",
            "showbackground": true,
            "ticks": "",
            "zerolinecolor": "white"
           }
          },
          "shapedefaults": {
           "line": {
            "color": "#2a3f5f"
           }
          },
          "ternary": {
           "aaxis": {
            "gridcolor": "white",
            "linecolor": "white",
            "ticks": ""
           },
           "baxis": {
            "gridcolor": "white",
            "linecolor": "white",
            "ticks": ""
           },
           "bgcolor": "#E5ECF6",
           "caxis": {
            "gridcolor": "white",
            "linecolor": "white",
            "ticks": ""
           }
          },
          "title": {
           "x": 0.05
          },
          "xaxis": {
           "automargin": true,
           "gridcolor": "white",
           "linecolor": "white",
           "ticks": "",
           "title": {
            "standoff": 15
           },
           "zerolinecolor": "white",
           "zerolinewidth": 2
          },
          "yaxis": {
           "automargin": true,
           "gridcolor": "white",
           "linecolor": "white",
           "ticks": "",
           "title": {
            "standoff": 15
           },
           "zerolinecolor": "white",
           "zerolinewidth": 2
          }
         }
        },
        "xaxis": {
         "autorange": true,
         "range": [
          -116918.00347826086,
          4801148
         ],
         "type": "linear"
        },
        "yaxis": {
         "autorange": true,
         "range": [
          0.29478672985781995,
          14.399052132701422
         ],
         "type": "linear"
        }
       }
      },
      "image/png": "[encoded data removed]",
      "text/html": [
       "<div>                            <div id=\"ba1ea150-870a-41d2-a9ad-7cf797138638\" class=\"plotly-graph-div\" style=\"height:525px; width:100%;\"></div>            <script type=\"text/javascript\">                require([\"plotly\"], function(Plotly) {                    window.PLOTLYENV=window.PLOTLYENV || {};                                    if (document.getElementById(\"ba1ea150-870a-41d2-a9ad-7cf797138638\")) {                    Plotly.newPlot(                        \"ba1ea150-870a-41d2-a9ad-7cf797138638\",                        [{\"line\":{\"color\":\"white\"},\"mode\":\"lines\",\"type\":\"scatter\",\"x\":[-20,40],\"y\":[12,12]},{\"fill\":\"tonexty\",\"name\":\"Jan\",\"type\":\"scatter\",\"x\":[null,2448889.0,2507430.0,2670053.0,2644539.0,2785466.0,2883810.0,3211600.0,3204637.0,3432625.0,3550084.0,3748529.0],\"y\":[null,12.4,12.44504401218799,12.570173278754117,12.550541688467575,12.658977101351145,12.734647286941,12.986863285217446,12.98150564771783,13.15692961127697,13.247307715982888,13.4]},{\"line\":{\"color\":\"white\"},\"mode\":\"lines\",\"type\":\"scatter\",\"x\":[-20,40],\"y\":[11,11]},{\"fill\":\"tonexty\",\"name\":\"Feb\",\"type\":\"scatter\",\"x\":[null,2223024.0,2304990.0,2595676.0,2359800.0,2515361.0,2610667.0,2998119.0,2966477.0,3078405.0,3248144.0,3543639.0],\"y\":[null,11.4,11.46206653718154,11.68218065068169,11.503569927647346,11.621364288607959,11.693532180082764,11.986919730580071,11.962959681663468,12.047714133187947,12.176244401282736,12.4]},{\"line\":{\"color\":\"white\"},\"mode\":\"lines\",\"type\":\"scatter\",\"x\":[-20,40],\"y\":[10,10]},{\"fill\":\"tonexty\",\"name\":\"Mar\",\"type\":\"scatter\",\"x\":[null,2708778.0,2820085.0,3127387.0,2925918.0,3105958.0,3129205.0,3472440.0,3593364.0,3765504.0,4001521.0,4137679.0],\"y\":[null,10.4,10.477896929178439,10.692958714424583,10.551962942149247,10.677961874195624,10.694231020903478,10.934440104667853,11.019067381155168,11.139537588678293,11.304711383083923,11.4]},{\"line\":{\"color\":\"white\"},\"mode\":\"lines\",\"type\":\"scatter\",\"x\":[-20,40],\"y\":[9,9]},{\"fill\":\"tonexty\",\"name\":\"Apr\",\"type\":\"scatter\",\"x\":[null,2773293.0,2869247.0,3029021.0,3024973.0,3139059.0,3200527.0,3563007.0,3604104.0,3881893.0,4021677.0,null],\"y\":[null,9.4,9.476862567927817,9.604847226494412,9.601604634471444,9.692991579513995,9.742229634471444,10.032589011073517,10.065509170255307,10.288028042653544,10.4,null]},{\"line\":{\"color\":\"white\"},\"mode\":\"lines\",\"type\":\"scatter\",\"x\":[-20,40],\"y\":[8,8]},{\"fill\":\"tonexty\",\"name\":\"May\",\"type\":\"scatter\",\"x\":[null,2829000.0,3056934.0,3305954.0,3177100.0,3380355.0,3547804.0,3820570.0,3933016.0,4147096.0,4361140.0,null],\"y\":[null,8.4,8.548768389311682,8.71129922853003,8.627198558878431,8.759859412325245,8.86915033874189,9.047179761640582,9.120571227172452,9.260297361859882,9.4,null]},{\"line\":{\"color\":\"white\"},\"mode\":\"lines\",\"type\":\"scatter\",\"x\":[-20,40],\"y\":[7,7]},{\"fill\":\"tonexty\",\"name\":\"Jun\",\"type\":\"scatter\",\"x\":[null,3071396.0,3263621.0,3453751.0,3419595.0,3612886.0,3766323.0,4107195.0,4146797.0,4321833.0,4558511.0,null],\"y\":[null,7.4,7.529260346375365,7.657111924767083,7.634143963311513,7.764121133873306,7.867298763041191,8.096515736846175,8.123145822616273,8.240847547096223,8.4,null]},{\"line\":{\"color\":\"white\"},\"mode\":\"lines\",\"type\":\"scatter\",\"x\":[-20,40],\"y\":[6,6]},{\"fill\":\"tonexty\",\"name\":\"Jul\",\"type\":\"scatter\",\"x\":[3225769.0,3227605.0,3382382.0,3603946.0,3649702.0,3765824.0,3935589.0,4284443.0,4176486.0,4499221.0,4801148.0,null],\"y\":[6.4,6.401165433841634,6.499412903180759,6.640054615429049,6.669099054894092,6.742809571538024,6.850570941976502,7.072012258637446,7.003484621795772,7.20834643600048,7.4,null]},{\"line\":{\"color\":\"white\"},\"mode\":\"lines\",\"type\":\"scatter\",\"x\":[-20,40],\"y\":[5,5]},{\"fill\":\"tonexty\",\"name\":\"Aug\",\"type\":\"scatter\",\"x\":[3195866.0,3143839.0,3436417.0,3612297.0,3650668.0,3771842.0,3917884.0,4356216.0,4347059.0,4524918.0,4796653.0,null],\"y\":[5.431477831141314,5.4,5.577018103670468,5.683430561454586,5.706646119890078,5.779959874492835,5.868319484225085,6.133522949345783,6.12798270101778,6.235592510712035,6.4,null]},{\"line\":{\"color\":\"white\"},\"mode\":\"lines\",\"type\":\"scatter\",\"x\":[-20,40],\"y\":[4,4]},{\"fill\":\"tonexty\",\"name\":\"Sep\",\"type\":\"scatter\",\"x\":[2740553.0,2720100.0,2957530.0,3004720.0,3191526.0,3356365.0,3564970.0,3819379.0,3781168.0,3919072.0,4201394.0,null],\"y\":[4.413807522341953,4.4,4.560285534134345,4.5921428156733235,4.718252824894991,4.829533232430564,4.970359428985739,5.142107238671054,5.116311549226555,5.209408530649554,5.4,null]},{\"line\":{\"color\":\"white\"},\"mode\":\"lines\",\"type\":\"scatter\",\"x\":[-20,40],\"y\":[3,3]},{\"fill\":\"tonexty\",\"name\":\"Oct\",\"type\":\"scatter\",\"x\":[2770715.0,2834959.0,3129309.0,3124451.0,3249428.0,3490100.0,3602455.0,3844987.0,3910790.0,4059443.0,4374749.0,null],\"y\":[3.4,3.4400515201049355,3.623557605387417,3.6205289912807332,3.6984431751446665,3.848484882490022,3.918530155844577,4.069731439607889,4.11075488424809,4.203429353741878,4.4,null]},{\"line\":{\"color\":\"white\"},\"mode\":\"lines\",\"type\":\"scatter\",\"x\":[-20,40],\"y\":[2,2]},{\"fill\":\"tonexty\",\"name\":\"Nov\",\"type\":\"scatter\",\"x\":[2617333.0,2653887.0,2922500.0,2744485.0,2971484.0,3163659.0,3326859.0,3478890.0,3466878.0,3628786.0,4013814.0,null],\"y\":[2.4,2.426175794729753,2.6185257085488454,2.491051722150176,2.6536024478671747,2.7912162070232247,2.9080813845659197,3.0169486015205362,3.0083469807322833,3.124286975619432,3.4,null]},{\"line\":{\"color\":\"white\"},\"mode\":\"lines\",\"type\":\"scatter\",\"x\":[-20,40],\"y\":[1,1]},{\"fill\":\"tonexty\",\"name\":\"Dec\",\"type\":\"scatter\",\"x\":[2671797.0,2698200.0,2903637.0,2962937.0,3074209.0,3167124.0,3441693.0,3443039.0,3814984.0,3855835.0,4129052.0,null],\"y\":[1.4,1.4181183114828908,1.5590936383817522,1.599786585052033,1.67614384579226,1.7399041348288393,1.9283193401292156,1.9292429945342442,2.184479723864389,2.212512566434838,2.4,null]}],                        {\"annotations\":[{\"showarrow\":false,\"text\":\"Jan\",\"x\":-20,\"y\":12,\"yshift\":10},{\"showarrow\":false,\"text\":\"Feb\",\"x\":-20,\"y\":11,\"yshift\":10},{\"showarrow\":false,\"text\":\"Mar\",\"x\":-20,\"y\":10,\"yshift\":10},{\"showarrow\":false,\"text\":\"Apr\",\"x\":-20,\"y\":9,\"yshift\":10},{\"showarrow\":false,\"text\":\"May\",\"x\":-20,\"y\":8,\"yshift\":10},{\"showarrow\":false,\"text\":\"Jun\",\"x\":-20,\"y\":7,\"yshift\":10},{\"showarrow\":false,\"text\":\"Jul\",\"x\":-20,\"y\":6,\"yshift\":10},{\"showarrow\":false,\"text\":\"Aug\",\"x\":-20,\"y\":5,\"yshift\":10},{\"showarrow\":false,\"text\":\"Sep\",\"x\":-20,\"y\":4,\"yshift\":10},{\"showarrow\":false,\"text\":\"Oct\",\"x\":-20,\"y\":3,\"yshift\":10},{\"showarrow\":false,\"text\":\"Nov\",\"x\":-20,\"y\":2,\"yshift\":10},{\"showarrow\":false,\"text\":\"Dec\",\"x\":-20,\"y\":1,\"yshift\":10}],\"template\":{\"data\":{\"bar\":[{\"error_x\":{\"color\":\"#2a3f5f\"},\"error_y\":{\"color\":\"#2a3f5f\"},\"marker\":{\"line\":{\"color\":\"#E5ECF6\",\"width\":0.5},\"pattern\":{\"fillmode\":\"overlay\",\"size\":10,\"solidity\":0.2}},\"type\":\"bar\"}],\"barpolar\":[{\"marker\":{\"line\":{\"color\":\"#E5ECF6\",\"width\":0.5},\"pattern\":{\"fillmode\":\"overlay\",\"size\":10,\"solidity\":0.2}},\"type\":\"barpolar\"}],\"carpet\":[{\"aaxis\":{\"endlinecolor\":\"#2a3f5f\",\"gridcolor\":\"white\",\"linecolor\":\"white\",\"minorgridcolor\":\"white\",\"startlinecolor\":\"#2a3f5f\"},\"baxis\":{\"endlinecolor\":\"#2a3f5f\",\"gridcolor\":\"white\",\"linecolor\":\"white\",\"minorgridcolor\":\"white\",\"startlinecolor\":\"#2a3f5f\"},\"type\":\"carpet\"}],\"choropleth\":[{\"colorbar\":{\"outlinewidth\":0,\"ticks\":\"\"},\"type\":\"choropleth\"}],\"contour\":[{\"colorbar\":{\"outlinewidth\":0,\"ticks\":\"\"},\"colorscale\":[[0.0,\"#0d0887\"],[0.1111111111111111,\"#46039f\"],[0.2222222222222222,\"#7201a8\"],[0.3333333333333333,\"#9c179e\"],[0.4444444444444444,\"#bd3786\"],[0.5555555555555556,\"#d8576b\"],[0.6666666666666666,\"#ed7953\"],[0.7777777777777778,\"#fb9f3a\"],[0.8888888888888888,\"#fdca26\"],[1.0,\"#f0f921\"]],\"type\":\"contour\"}],\"contourcarpet\":[{\"colorbar\":{\"outlinewidth\":0,\"ticks\":\"\"},\"type\":\"contourcarpet\"}],\"heatmap\":[{\"colorbar\":{\"outlinewidth\":0,\"ticks\":\"\"},\"colorscale\":[[0.0,\"#0d0887\"],[0.1111111111111111,\"#46039f\"],[0.2222222222222222,\"#7201a8\"],[0.3333333333333333,\"#9c179e\"],[0.4444444444444444,\"#bd3786\"],[0.5555555555555556,\"#d8576b\"],[0.6666666666666666,\"#ed7953\"],[0.7777777777777778,\"#fb9f3a\"],[0.8888888888888888,\"#fdca26\"],[1.0,\"#f0f921\"]],\"type\":\"heatmap\"}],\"heatmapgl\":[{\"colorbar\":{\"outlinewidth\":0,\"ticks\":\"\"},\"colorscale\":[[0.0,\"#0d0887\"],[0.1111111111111111,\"#46039f\"],[0.2222222222222222,\"#7201a8\"],[0.3333333333333333,\"#9c179e\"],[0.4444444444444444,\"#bd3786\"],[0.5555555555555556,\"#d8576b\"],[0.6666666666666666,\"#ed7953\"],[0.7777777777777778,\"#fb9f3a\"],[0.8888888888888888,\"#fdca26\"],[1.0,\"#f0f921\"]],\"type\":\"heatmapgl\"}],\"histogram\":[{\"marker\":{\"pattern\":{\"fillmode\":\"overlay\",\"size\":10,\"solidity\":0.2}},\"type\":\"histogram\"}],\"histogram2d\":[{\"colorbar\":{\"outlinewidth\":0,\"ticks\":\"\"},\"colorscale\":[[0.0,\"#0d0887\"],[0.1111111111111111,\"#46039f\"],[0.2222222222222222,\"#7201a8\"],[0.3333333333333333,\"#9c179e\"],[0.4444444444444444,\"#bd3786\"],[0.5555555555555556,\"#d8576b\"],[0.6666666666666666,\"#ed7953\"],[0.7777777777777778,\"#fb9f3a\"],[0.8888888888888888,\"#fdca26\"],[1.0,\"#f0f921\"]],\"type\":\"histogram2d\"}],\"histogram2dcontour\":[{\"colorbar\":{\"outlinewidth\":0,\"ticks\":\"\"},\"colorscale\":[[0.0,\"#0d0887\"],[0.1111111111111111,\"#46039f\"],[0.2222222222222222,\"#7201a8\"],[0.3333333333333333,\"#9c179e\"],[0.4444444444444444,\"#bd3786\"],[0.5555555555555556,\"#d8576b\"],[0.6666666666666666,\"#ed7953\"],[0.7777777777777778,\"#fb9f3a\"],[0.8888888888888888,\"#fdca26\"],[1.0,\"#f0f921\"]],\"type\":\"histogram2dcontour\"}],\"mesh3d\":[{\"colorbar\":{\"outlinewidth\":0,\"ticks\":\"\"},\"type\":\"mesh3d\"}],\"parcoords\":[{\"line\":{\"colorbar\":{\"outlinewidth\":0,\"ticks\":\"\"}},\"type\":\"parcoords\"}],\"pie\":[{\"automargin\":true,\"type\":\"pie\"}],\"scatter\":[{\"marker\":{\"colorbar\":{\"outlinewidth\":0,\"ticks\":\"\"}},\"type\":\"scatter\"}],\"scatter3d\":[{\"line\":{\"colorbar\":{\"outlinewidth\":0,\"ticks\":\"\"}},\"marker\":{\"colorbar\":{\"outlinewidth\":0,\"ticks\":\"\"}},\"type\":\"scatter3d\"}],\"scattercarpet\":[{\"marker\":{\"colorbar\":{\"outlinewidth\":0,\"ticks\":\"\"}},\"type\":\"scattercarpet\"}],\"scattergeo\":[{\"marker\":{\"colorbar\":{\"outlinewidth\":0,\"ticks\":\"\"}},\"type\":\"scattergeo\"}],\"scattergl\":[{\"marker\":{\"colorbar\":{\"outlinewidth\":0,\"ticks\":\"\"}},\"type\":\"scattergl\"}],\"scattermapbox\":[{\"marker\":{\"colorbar\":{\"outlinewidth\":0,\"ticks\":\"\"}},\"type\":\"scattermapbox\"}],\"scatterpolar\":[{\"marker\":{\"colorbar\":{\"outlinewidth\":0,\"ticks\":\"\"}},\"type\":\"scatterpolar\"}],\"scatterpolargl\":[{\"marker\":{\"colorbar\":{\"outlinewidth\":0,\"ticks\":\"\"}},\"type\":\"scatterpolargl\"}],\"scatterternary\":[{\"marker\":{\"colorbar\":{\"outlinewidth\":0,\"ticks\":\"\"}},\"type\":\"scatterternary\"}],\"surface\":[{\"colorbar\":{\"outlinewidth\":0,\"ticks\":\"\"},\"colorscale\":[[0.0,\"#0d0887\"],[0.1111111111111111,\"#46039f\"],[0.2222222222222222,\"#7201a8\"],[0.3333333333333333,\"#9c179e\"],[0.4444444444444444,\"#bd3786\"],[0.5555555555555556,\"#d8576b\"],[0.6666666666666666,\"#ed7953\"],[0.7777777777777778,\"#fb9f3a\"],[0.8888888888888888,\"#fdca26\"],[1.0,\"#f0f921\"]],\"type\":\"surface\"}],\"table\":[{\"cells\":{\"fill\":{\"color\":\"#EBF0F8\"},\"line\":{\"color\":\"white\"}},\"header\":{\"fill\":{\"color\":\"#C8D4E3\"},\"line\":{\"color\":\"white\"}},\"type\":\"table\"}]},\"layout\":{\"annotationdefaults\":{\"arrowcolor\":\"#2a3f5f\",\"arrowhead\":0,\"arrowwidth\":1},\"autotypenumbers\":\"strict\",\"coloraxis\":{\"colorbar\":{\"outlinewidth\":0,\"ticks\":\"\"}},\"colorscale\":{\"diverging\":[[0,\"#8e0152\"],[0.1,\"#c51b7d\"],[0.2,\"#de77ae\"],[0.3,\"#f1b6da\"],[0.4,\"#fde0ef\"],[0.5,\"#f7f7f7\"],[0.6,\"#e6f5d0\"],[0.7,\"#b8e186\"],[0.8,\"#7fbc41\"],[0.9,\"#4d9221\"],[1,\"#276419\"]],\"sequential\":[[0.0,\"#0d0887\"],[0.1111111111111111,\"#46039f\"],[0.2222222222222222,\"#7201a8\"],[0.3333333333333333,\"#9c179e\"],[0.4444444444444444,\"#bd3786\"],[0.5555555555555556,\"#d8576b\"],[0.6666666666666666,\"#ed7953\"],[0.7777777777777778,\"#fb9f3a\"],[0.8888888888888888,\"#fdca26\"],[1.0,\"#f0f921\"]],\"sequentialminus\":[[0.0,\"#0d0887\"],[0.1111111111111111,\"#46039f\"],[0.2222222222222222,\"#7201a8\"],[0.3333333333333333,\"#9c179e\"],[0.4444444444444444,\"#bd3786\"],[0.5555555555555556,\"#d8576b\"],[0.6666666666666666,\"#ed7953\"],[0.7777777777777778,\"#fb9f3a\"],[0.8888888888888888,\"#fdca26\"],[1.0,\"#f0f921\"]]},\"colorway\":[\"#636efa\",\"#EF553B\",\"#00cc96\",\"#ab63fa\",\"#FFA15A\",\"#19d3f3\",\"#FF6692\",\"#B6E880\",\"#FF97FF\",\"#FECB52\"],\"font\":{\"color\":\"#2a3f5f\"},\"geo\":{\"bgcolor\":\"white\",\"lakecolor\":\"white\",\"landcolor\":\"#E5ECF6\",\"showlakes\":true,\"showland\":true,\"subunitcolor\":\"white\"},\"hoverlabel\":{\"align\":\"left\"},\"hovermode\":\"closest\",\"mapbox\":{\"style\":\"light\"},\"paper_bgcolor\":\"white\",\"plot_bgcolor\":\"#E5ECF6\",\"polar\":{\"angularaxis\":{\"gridcolor\":\"white\",\"linecolor\":\"white\",\"ticks\":\"\"},\"bgcolor\":\"#E5ECF6\",\"radialaxis\":{\"gridcolor\":\"white\",\"linecolor\":\"white\",\"ticks\":\"\"}},\"scene\":{\"xaxis\":{\"backgroundcolor\":\"#E5ECF6\",\"gridcolor\":\"white\",\"gridwidth\":2,\"linecolor\":\"white\",\"showbackground\":true,\"ticks\":\"\",\"zerolinecolor\":\"white\"},\"yaxis\":{\"backgroundcolor\":\"#E5ECF6\",\"gridcolor\":\"white\",\"gridwidth\":2,\"linecolor\":\"white\",\"showbackground\":true,\"ticks\":\"\",\"zerolinecolor\":\"white\"},\"zaxis\":{\"backgroundcolor\":\"#E5ECF6\",\"gridcolor\":\"white\",\"gridwidth\":2,\"linecolor\":\"white\",\"showbackground\":true,\"ticks\":\"\",\"zerolinecolor\":\"white\"}},\"shapedefaults\":{\"line\":{\"color\":\"#2a3f5f\"}},\"ternary\":{\"aaxis\":{\"gridcolor\":\"white\",\"linecolor\":\"white\",\"ticks\":\"\"},\"baxis\":{\"gridcolor\":\"white\",\"linecolor\":\"white\",\"ticks\":\"\"},\"bgcolor\":\"#E5ECF6\",\"caxis\":{\"gridcolor\":\"white\",\"linecolor\":\"white\",\"ticks\":\"\"}},\"title\":{\"x\":0.05},\"xaxis\":{\"automargin\":true,\"gridcolor\":\"white\",\"linecolor\":\"white\",\"ticks\":\"\",\"title\":{\"standoff\":15},\"zerolinecolor\":\"white\",\"zerolinewidth\":2},\"yaxis\":{\"automargin\":true,\"gridcolor\":\"white\",\"linecolor\":\"white\",\"ticks\":\"\",\"title\":{\"standoff\":15},\"zerolinecolor\":\"white\",\"zerolinewidth\":2}}}},                        {\"responsive\": true}                    ).then(function(){\n",
       "                            \n",
       "var gd = document.getElementById('ba1ea150-870a-41d2-a9ad-7cf797138638');\n",
       "var x = new MutationObserver(function (mutations, observer) {{\n",
       "        var display = window.getComputedStyle(gd).display;\n",
       "        if (!display || display === 'none') {{\n",
       "            console.log([gd, 'removed!']);\n",
       "            Plotly.purge(gd);\n",
       "            observer.disconnect();\n",
       "        }}\n",
       "}});\n",
       "\n",
       "// Listen for the removal of the full notebook cells\n",
       "var notebookContainer = gd.closest('#notebook-container');\n",
       "if (notebookContainer) {{\n",
       "    x.observe(notebookContainer, {childList: true});\n",
       "}}\n",
       "\n",
       "// Listen for the clearing of the current output cell\n",
       "var outputEl = gd.closest('.output');\n",
       "if (outputEl) {{\n",
       "    x.observe(outputEl, {childList: true});\n",
       "}}\n",
       "\n",
       "                        })                };                });            </script>        </div>"
      ]
     },
     "metadata": {},
     "output_type": "display_data"
    }
   ],
   "source": [
    "array_dict = {} # instantiating an empty dictionnary\n",
    "import plotly.graph_objects as go \n",
    "for month in ts_pivot.columns:\n",
    "    array_dict[f'x_{month}'] = ts_pivot.loc[:,month]\n",
    "    array_dict[f'y_{month}'] = (array_dict[f'x_{month}'] - array_dict[f'x_{month}'].min()) \\\n",
    "                                / (array_dict[f'x_{month}'].max() - array_dict[f'x_{month}'].min())\n",
    "fig = go.Figure()\n",
    "month_list = ts_pivot.columns.to_list()\n",
    "for index, month in enumerate(month_list):\n",
    "    fig.add_trace(go.Scatter(\n",
    "                            x=[-20, 40], y=np.full(2, len(month_list)-index),\n",
    "                            mode='lines',\n",
    "                            line_color='white'))\n",
    "    \n",
    "    fig.add_trace(go.Scatter(\n",
    "                            x=array_dict[f'x_{month}'],\n",
    "                            y=array_dict[f'y_{month}'] + (len(month_list)-index) + 0.4,\n",
    "                            fill='tonexty',\n",
    "                            name=f'{month}'))\n",
    "    \n",
    "    # plotly.graph_objects' way of adding text to a figure\n",
    "    fig.add_annotation(\n",
    "                        x=-20,\n",
    "                        y=len(month_list)-index,\n",
    "                        text=f'{month}',\n",
    "                        showarrow=False,\n",
    "                        yshift=10)\n",
    "fig.show()"
   ]
  },
  {
   "cell_type": "code",
   "execution_count": 36,
   "metadata": {},
   "outputs": [
    {
     "data": {
      "text/html": [
       "<div>\n",
       "<style scoped>\n",
       "    .dataframe tbody tr th:only-of-type {\n",
       "        vertical-align: middle;\n",
       "    }\n",
       "\n",
       "    .dataframe tbody tr th {\n",
       "        vertical-align: top;\n",
       "    }\n",
       "\n",
       "    .dataframe thead th {\n",
       "        text-align: right;\n",
       "    }\n",
       "</style>\n",
       "<table border=\"1\" class=\"dataframe\">\n",
       "  <thead>\n",
       "    <tr style=\"text-align: right;\">\n",
       "      <th></th>\n",
       "      <th>Jan</th>\n",
       "      <th>Feb</th>\n",
       "      <th>Mar</th>\n",
       "      <th>Apr</th>\n",
       "      <th>May</th>\n",
       "      <th>Jun</th>\n",
       "      <th>Jul</th>\n",
       "      <th>Aug</th>\n",
       "      <th>Sep</th>\n",
       "      <th>Oct</th>\n",
       "      <th>Nov</th>\n",
       "      <th>Dec</th>\n",
       "    </tr>\n",
       "    <tr>\n",
       "      <th>Year</th>\n",
       "      <th></th>\n",
       "      <th></th>\n",
       "      <th></th>\n",
       "      <th></th>\n",
       "      <th></th>\n",
       "      <th></th>\n",
       "      <th></th>\n",
       "      <th></th>\n",
       "      <th></th>\n",
       "      <th></th>\n",
       "      <th></th>\n",
       "      <th></th>\n",
       "    </tr>\n",
       "  </thead>\n",
       "  <tbody>\n",
       "    <tr>\n",
       "      <th>2005</th>\n",
       "      <td>NaN</td>\n",
       "      <td>NaN</td>\n",
       "      <td>NaN</td>\n",
       "      <td>NaN</td>\n",
       "      <td>NaN</td>\n",
       "      <td>NaN</td>\n",
       "      <td>3225769.0</td>\n",
       "      <td>3195866.0</td>\n",
       "      <td>2740553.0</td>\n",
       "      <td>2770715.0</td>\n",
       "      <td>2617333.0</td>\n",
       "      <td>2671797.0</td>\n",
       "    </tr>\n",
       "    <tr>\n",
       "      <th>2006</th>\n",
       "      <td>2448889.0</td>\n",
       "      <td>2223024.0</td>\n",
       "      <td>2708778.0</td>\n",
       "      <td>2773293.0</td>\n",
       "      <td>2829000.0</td>\n",
       "      <td>3071396.0</td>\n",
       "      <td>3227605.0</td>\n",
       "      <td>3143839.0</td>\n",
       "      <td>2720100.0</td>\n",
       "      <td>2834959.0</td>\n",
       "      <td>2653887.0</td>\n",
       "      <td>2698200.0</td>\n",
       "    </tr>\n",
       "    <tr>\n",
       "      <th>2007</th>\n",
       "      <td>2507430.0</td>\n",
       "      <td>2304990.0</td>\n",
       "      <td>2820085.0</td>\n",
       "      <td>2869247.0</td>\n",
       "      <td>3056934.0</td>\n",
       "      <td>3263621.0</td>\n",
       "      <td>3382382.0</td>\n",
       "      <td>3436417.0</td>\n",
       "      <td>2957530.0</td>\n",
       "      <td>3129309.0</td>\n",
       "      <td>2922500.0</td>\n",
       "      <td>2903637.0</td>\n",
       "    </tr>\n",
       "    <tr>\n",
       "      <th>2008</th>\n",
       "      <td>2670053.0</td>\n",
       "      <td>2595676.0</td>\n",
       "      <td>3127387.0</td>\n",
       "      <td>3029021.0</td>\n",
       "      <td>3305954.0</td>\n",
       "      <td>3453751.0</td>\n",
       "      <td>3603946.0</td>\n",
       "      <td>3612297.0</td>\n",
       "      <td>3004720.0</td>\n",
       "      <td>3124451.0</td>\n",
       "      <td>2744485.0</td>\n",
       "      <td>2962937.0</td>\n",
       "    </tr>\n",
       "    <tr>\n",
       "      <th>2009</th>\n",
       "      <td>2644539.0</td>\n",
       "      <td>2359800.0</td>\n",
       "      <td>2925918.0</td>\n",
       "      <td>3024973.0</td>\n",
       "      <td>3177100.0</td>\n",
       "      <td>3419595.0</td>\n",
       "      <td>3649702.0</td>\n",
       "      <td>3650668.0</td>\n",
       "      <td>3191526.0</td>\n",
       "      <td>3249428.0</td>\n",
       "      <td>2971484.0</td>\n",
       "      <td>3074209.0</td>\n",
       "    </tr>\n",
       "    <tr>\n",
       "      <th>2010</th>\n",
       "      <td>2785466.0</td>\n",
       "      <td>2515361.0</td>\n",
       "      <td>3105958.0</td>\n",
       "      <td>3139059.0</td>\n",
       "      <td>3380355.0</td>\n",
       "      <td>3612886.0</td>\n",
       "      <td>3765824.0</td>\n",
       "      <td>3771842.0</td>\n",
       "      <td>3356365.0</td>\n",
       "      <td>3490100.0</td>\n",
       "      <td>3163659.0</td>\n",
       "      <td>3167124.0</td>\n",
       "    </tr>\n",
       "    <tr>\n",
       "      <th>2011</th>\n",
       "      <td>2883810.0</td>\n",
       "      <td>2610667.0</td>\n",
       "      <td>3129205.0</td>\n",
       "      <td>3200527.0</td>\n",
       "      <td>3547804.0</td>\n",
       "      <td>3766323.0</td>\n",
       "      <td>3935589.0</td>\n",
       "      <td>3917884.0</td>\n",
       "      <td>3564970.0</td>\n",
       "      <td>3602455.0</td>\n",
       "      <td>3326859.0</td>\n",
       "      <td>3441693.0</td>\n",
       "    </tr>\n",
       "    <tr>\n",
       "      <th>2012</th>\n",
       "      <td>3211600.0</td>\n",
       "      <td>2998119.0</td>\n",
       "      <td>3472440.0</td>\n",
       "      <td>3563007.0</td>\n",
       "      <td>3820570.0</td>\n",
       "      <td>4107195.0</td>\n",
       "      <td>4284443.0</td>\n",
       "      <td>4356216.0</td>\n",
       "      <td>3819379.0</td>\n",
       "      <td>3844987.0</td>\n",
       "      <td>3478890.0</td>\n",
       "      <td>3443039.0</td>\n",
       "    </tr>\n",
       "    <tr>\n",
       "      <th>2013</th>\n",
       "      <td>3204637.0</td>\n",
       "      <td>2966477.0</td>\n",
       "      <td>3593364.0</td>\n",
       "      <td>3604104.0</td>\n",
       "      <td>3933016.0</td>\n",
       "      <td>4146797.0</td>\n",
       "      <td>4176486.0</td>\n",
       "      <td>4347059.0</td>\n",
       "      <td>3781168.0</td>\n",
       "      <td>3910790.0</td>\n",
       "      <td>3466878.0</td>\n",
       "      <td>3814984.0</td>\n",
       "    </tr>\n",
       "    <tr>\n",
       "      <th>2014</th>\n",
       "      <td>3432625.0</td>\n",
       "      <td>3078405.0</td>\n",
       "      <td>3765504.0</td>\n",
       "      <td>3881893.0</td>\n",
       "      <td>4147096.0</td>\n",
       "      <td>4321833.0</td>\n",
       "      <td>4499221.0</td>\n",
       "      <td>4524918.0</td>\n",
       "      <td>3919072.0</td>\n",
       "      <td>4059443.0</td>\n",
       "      <td>3628786.0</td>\n",
       "      <td>3855835.0</td>\n",
       "    </tr>\n",
       "    <tr>\n",
       "      <th>2015</th>\n",
       "      <td>3550084.0</td>\n",
       "      <td>3248144.0</td>\n",
       "      <td>4001521.0</td>\n",
       "      <td>4021677.0</td>\n",
       "      <td>4361140.0</td>\n",
       "      <td>4558511.0</td>\n",
       "      <td>4801148.0</td>\n",
       "      <td>4796653.0</td>\n",
       "      <td>4201394.0</td>\n",
       "      <td>4374749.0</td>\n",
       "      <td>4013814.0</td>\n",
       "      <td>4129052.0</td>\n",
       "    </tr>\n",
       "    <tr>\n",
       "      <th>2016</th>\n",
       "      <td>3748529.0</td>\n",
       "      <td>3543639.0</td>\n",
       "      <td>4137679.0</td>\n",
       "      <td>NaN</td>\n",
       "      <td>NaN</td>\n",
       "      <td>NaN</td>\n",
       "      <td>NaN</td>\n",
       "      <td>NaN</td>\n",
       "      <td>NaN</td>\n",
       "      <td>NaN</td>\n",
       "      <td>NaN</td>\n",
       "      <td>NaN</td>\n",
       "    </tr>\n",
       "  </tbody>\n",
       "</table>\n",
       "</div>"
      ],
      "text/plain": [
       "            Jan        Feb        Mar        Apr        May        Jun  \\\n",
       "Year                                                                     \n",
       "2005        NaN        NaN        NaN        NaN        NaN        NaN   \n",
       "2006  2448889.0  2223024.0  2708778.0  2773293.0  2829000.0  3071396.0   \n",
       "2007  2507430.0  2304990.0  2820085.0  2869247.0  3056934.0  3263621.0   \n",
       "2008  2670053.0  2595676.0  3127387.0  3029021.0  3305954.0  3453751.0   \n",
       "2009  2644539.0  2359800.0  2925918.0  3024973.0  3177100.0  3419595.0   \n",
       "2010  2785466.0  2515361.0  3105958.0  3139059.0  3380355.0  3612886.0   \n",
       "2011  2883810.0  2610667.0  3129205.0  3200527.0  3547804.0  3766323.0   \n",
       "2012  3211600.0  2998119.0  3472440.0  3563007.0  3820570.0  4107195.0   \n",
       "2013  3204637.0  2966477.0  3593364.0  3604104.0  3933016.0  4146797.0   \n",
       "2014  3432625.0  3078405.0  3765504.0  3881893.0  4147096.0  4321833.0   \n",
       "2015  3550084.0  3248144.0  4001521.0  4021677.0  4361140.0  4558511.0   \n",
       "2016  3748529.0  3543639.0  4137679.0        NaN        NaN        NaN   \n",
       "\n",
       "            Jul        Aug        Sep        Oct        Nov        Dec  \n",
       "Year                                                                    \n",
       "2005  3225769.0  3195866.0  2740553.0  2770715.0  2617333.0  2671797.0  \n",
       "2006  3227605.0  3143839.0  2720100.0  2834959.0  2653887.0  2698200.0  \n",
       "2007  3382382.0  3436417.0  2957530.0  3129309.0  2922500.0  2903637.0  \n",
       "2008  3603946.0  3612297.0  3004720.0  3124451.0  2744485.0  2962937.0  \n",
       "2009  3649702.0  3650668.0  3191526.0  3249428.0  2971484.0  3074209.0  \n",
       "2010  3765824.0  3771842.0  3356365.0  3490100.0  3163659.0  3167124.0  \n",
       "2011  3935589.0  3917884.0  3564970.0  3602455.0  3326859.0  3441693.0  \n",
       "2012  4284443.0  4356216.0  3819379.0  3844987.0  3478890.0  3443039.0  \n",
       "2013  4176486.0  4347059.0  3781168.0  3910790.0  3466878.0  3814984.0  \n",
       "2014  4499221.0  4524918.0  3919072.0  4059443.0  3628786.0  3855835.0  \n",
       "2015  4801148.0  4796653.0  4201394.0  4374749.0  4013814.0  4129052.0  \n",
       "2016        NaN        NaN        NaN        NaN        NaN        NaN  "
      ]
     },
     "metadata": {},
     "output_type": "display_data"
    }
   ],
   "source": [
    "ts_pivot"
   ]
  },
  {
   "cell_type": "code",
   "execution_count": 47,
   "metadata": {},
   "outputs": [],
   "source": [
    "month_list = [x for x in ts_pivot.columns]\n",
    "import plotly.figure_factory as ff \n",
    "from scipy.stats.kde import gaussian_kde as kde"
   ]
  },
  {
   "cell_type": "code",
   "execution_count": 57,
   "metadata": {},
   "outputs": [],
   "source": []
  },
  {
   "cell_type": "code",
   "execution_count": 64,
   "metadata": {},
   "outputs": [
    {
     "data": {
      "text/html": [
       "<div>\n",
       "<style scoped>\n",
       "    .dataframe tbody tr th:only-of-type {\n",
       "        vertical-align: middle;\n",
       "    }\n",
       "\n",
       "    .dataframe tbody tr th {\n",
       "        vertical-align: top;\n",
       "    }\n",
       "\n",
       "    .dataframe thead th {\n",
       "        text-align: right;\n",
       "    }\n",
       "</style>\n",
       "<table border=\"1\" class=\"dataframe\">\n",
       "  <thead>\n",
       "    <tr style=\"text-align: right;\">\n",
       "      <th></th>\n",
       "      <th>Feb</th>\n",
       "      <th>kde</th>\n",
       "    </tr>\n",
       "    <tr>\n",
       "      <th>Year</th>\n",
       "      <th></th>\n",
       "      <th></th>\n",
       "    </tr>\n",
       "  </thead>\n",
       "  <tbody>\n",
       "    <tr>\n",
       "      <th>2005</th>\n",
       "      <td>0.0</td>\n",
       "      <td>6.099409e-08</td>\n",
       "    </tr>\n",
       "    <tr>\n",
       "      <th>2006</th>\n",
       "      <td>2223024.0</td>\n",
       "      <td>4.065100e-07</td>\n",
       "    </tr>\n",
       "    <tr>\n",
       "      <th>2007</th>\n",
       "      <td>2304990.0</td>\n",
       "      <td>4.404632e-07</td>\n",
       "    </tr>\n",
       "    <tr>\n",
       "      <th>2008</th>\n",
       "      <td>2595676.0</td>\n",
       "      <td>5.181545e-07</td>\n",
       "    </tr>\n",
       "    <tr>\n",
       "      <th>2009</th>\n",
       "      <td>2359800.0</td>\n",
       "      <td>4.606941e-07</td>\n",
       "    </tr>\n",
       "    <tr>\n",
       "      <th>2010</th>\n",
       "      <td>2515361.0</td>\n",
       "      <td>5.045299e-07</td>\n",
       "    </tr>\n",
       "    <tr>\n",
       "      <th>2011</th>\n",
       "      <td>2610667.0</td>\n",
       "      <td>5.199707e-07</td>\n",
       "    </tr>\n",
       "    <tr>\n",
       "      <th>2012</th>\n",
       "      <td>2998119.0</td>\n",
       "      <td>4.890809e-07</td>\n",
       "    </tr>\n",
       "    <tr>\n",
       "      <th>2013</th>\n",
       "      <td>2966477.0</td>\n",
       "      <td>4.967559e-07</td>\n",
       "    </tr>\n",
       "    <tr>\n",
       "      <th>2014</th>\n",
       "      <td>3078405.0</td>\n",
       "      <td>4.662875e-07</td>\n",
       "    </tr>\n",
       "    <tr>\n",
       "      <th>2015</th>\n",
       "      <td>3248144.0</td>\n",
       "      <td>4.054696e-07</td>\n",
       "    </tr>\n",
       "    <tr>\n",
       "      <th>2016</th>\n",
       "      <td>3543639.0</td>\n",
       "      <td>2.792680e-07</td>\n",
       "    </tr>\n",
       "  </tbody>\n",
       "</table>\n",
       "</div>"
      ],
      "text/plain": [
       "            Feb           kde\n",
       "Year                         \n",
       "2005        0.0  6.099409e-08\n",
       "2006  2223024.0  4.065100e-07\n",
       "2007  2304990.0  4.404632e-07\n",
       "2008  2595676.0  5.181545e-07\n",
       "2009  2359800.0  4.606941e-07\n",
       "2010  2515361.0  5.045299e-07\n",
       "2011  2610667.0  5.199707e-07\n",
       "2012  2998119.0  4.890809e-07\n",
       "2013  2966477.0  4.967559e-07\n",
       "2014  3078405.0  4.662875e-07\n",
       "2015  3248144.0  4.054696e-07\n",
       "2016  3543639.0  2.792680e-07"
      ]
     },
     "metadata": {},
     "output_type": "display_data"
    }
   ],
   "source": []
  },
  {
   "cell_type": "code",
   "execution_count": 26,
   "metadata": {},
   "outputs": [
    {
     "name": "stdout",
     "output_type": "stream",
     "text": [
      "Help on Box in module plotly.graph_objs._box object:\n",
      "\n",
      "class Box(plotly.basedatatypes.BaseTraceType)\n",
      " |  Box(arg=None, alignmentgroup=None, boxmean=None, boxpoints=None, customdata=None, customdatasrc=None, dx=None, dy=None, fillcolor=None, hoverinfo=None, hoverinfosrc=None, hoverlabel=None, hoveron=None, hovertemplate=None, hovertemplatesrc=None, hovertext=None, hovertextsrc=None, ids=None, idssrc=None, jitter=None, legendgroup=None, legendgrouptitle=None, legendrank=None, line=None, lowerfence=None, lowerfencesrc=None, marker=None, mean=None, meansrc=None, median=None, mediansrc=None, meta=None, metasrc=None, name=None, notched=None, notchspan=None, notchspansrc=None, notchwidth=None, offsetgroup=None, opacity=None, orientation=None, pointpos=None, q1=None, q1src=None, q3=None, q3src=None, quartilemethod=None, sd=None, sdsrc=None, selected=None, selectedpoints=None, showlegend=None, stream=None, text=None, textsrc=None, uid=None, uirevision=None, unselected=None, upperfence=None, upperfencesrc=None, visible=None, whiskerwidth=None, width=None, x=None, x0=None, xaxis=None, xcalendar=None, xhoverformat=None, xperiod=None, xperiod0=None, xperiodalignment=None, xsrc=None, y=None, y0=None, yaxis=None, ycalendar=None, yhoverformat=None, yperiod=None, yperiod0=None, yperiodalignment=None, ysrc=None, **kwargs)\n",
      " |  \n",
      " |  Base class for the all trace types.\n",
      " |  \n",
      " |  Specific trace type classes (Scatter, Bar, etc.) are code generated as\n",
      " |  subclasses of this class.\n",
      " |  \n",
      " |  Method resolution order:\n",
      " |      Box\n",
      " |      plotly.basedatatypes.BaseTraceType\n",
      " |      plotly.basedatatypes.BaseTraceHierarchyType\n",
      " |      plotly.basedatatypes.BasePlotlyType\n",
      " |      builtins.object\n",
      " |  \n",
      " |  Methods defined here:\n",
      " |  \n",
      " |  __init__(self, arg=None, alignmentgroup=None, boxmean=None, boxpoints=None, customdata=None, customdatasrc=None, dx=None, dy=None, fillcolor=None, hoverinfo=None, hoverinfosrc=None, hoverlabel=None, hoveron=None, hovertemplate=None, hovertemplatesrc=None, hovertext=None, hovertextsrc=None, ids=None, idssrc=None, jitter=None, legendgroup=None, legendgrouptitle=None, legendrank=None, line=None, lowerfence=None, lowerfencesrc=None, marker=None, mean=None, meansrc=None, median=None, mediansrc=None, meta=None, metasrc=None, name=None, notched=None, notchspan=None, notchspansrc=None, notchwidth=None, offsetgroup=None, opacity=None, orientation=None, pointpos=None, q1=None, q1src=None, q3=None, q3src=None, quartilemethod=None, sd=None, sdsrc=None, selected=None, selectedpoints=None, showlegend=None, stream=None, text=None, textsrc=None, uid=None, uirevision=None, unselected=None, upperfence=None, upperfencesrc=None, visible=None, whiskerwidth=None, width=None, x=None, x0=None, xaxis=None, xcalendar=None, xhoverformat=None, xperiod=None, xperiod0=None, xperiodalignment=None, xsrc=None, y=None, y0=None, yaxis=None, ycalendar=None, yhoverformat=None, yperiod=None, yperiod0=None, yperiodalignment=None, ysrc=None, **kwargs)\n",
      " |      Construct a new Box object\n",
      " |      \n",
      " |      Each box spans from quartile 1 (Q1) to quartile 3 (Q3). The\n",
      " |      second quartile (Q2, i.e. the median) is marked by a line\n",
      " |      inside the box. The fences grow outward from the boxes' edges,\n",
      " |      by default they span +/- 1.5 times the interquartile range\n",
      " |      (IQR: Q3-Q1), The sample mean and standard deviation as well as\n",
      " |      notches and the sample, outlier and suspected outliers points\n",
      " |      can be optionally added to the box plot. The values and\n",
      " |      positions corresponding to each boxes can be input using two\n",
      " |      signatures. The first signature expects users to supply the\n",
      " |      sample values in the `y` data array for vertical boxes (`x` for\n",
      " |      horizontal boxes). By supplying an `x` (`y`) array, one box per\n",
      " |      distinct `x` (`y`) value is drawn If no `x` (`y`) list is\n",
      " |      provided, a single box is drawn. In this case, the box is\n",
      " |      positioned with the trace `name` or with `x0` (`y0`) if\n",
      " |      provided. The second signature expects users to supply the\n",
      " |      boxes corresponding Q1, median and Q3 statistics in the `q1`,\n",
      " |      `median` and `q3` data arrays respectively. Other box features\n",
      " |      relying on statistics namely `lowerfence`, `upperfence`,\n",
      " |      `notchspan` can be set directly by the users. To have plotly\n",
      " |      compute them or to show sample points besides the boxes, users\n",
      " |      can set the `y` data array for vertical boxes (`x` for\n",
      " |      horizontal boxes) to a 2D array with the outer length\n",
      " |      corresponding to the number of boxes in the traces and the\n",
      " |      inner length corresponding the sample size.\n",
      " |      \n",
      " |      Parameters\n",
      " |      ----------\n",
      " |      arg\n",
      " |          dict of properties compatible with this constructor or\n",
      " |          an instance of :class:`plotly.graph_objs.Box`\n",
      " |      alignmentgroup\n",
      " |          Set several traces linked to the same position axis or\n",
      " |          matching axes to the same alignmentgroup. This controls\n",
      " |          whether bars compute their positional range dependently\n",
      " |          or independently.\n",
      " |      boxmean\n",
      " |          If True, the mean of the box(es)' underlying\n",
      " |          distribution is drawn as a dashed line inside the\n",
      " |          box(es). If \"sd\" the standard deviation is also drawn.\n",
      " |          Defaults to True when `mean` is set. Defaults to \"sd\"\n",
      " |          when `sd` is set Otherwise defaults to False.\n",
      " |      boxpoints\n",
      " |          If \"outliers\", only the sample points lying outside the\n",
      " |          whiskers are shown If \"suspectedoutliers\", the outlier\n",
      " |          points are shown and points either less than 4*Q1-3*Q3\n",
      " |          or greater than 4*Q3-3*Q1 are highlighted (see\n",
      " |          `outliercolor`) If \"all\", all sample points are shown\n",
      " |          If False, only the box(es) are shown with no sample\n",
      " |          points Defaults to \"suspectedoutliers\" when\n",
      " |          `marker.outliercolor` or `marker.line.outliercolor` is\n",
      " |          set. Defaults to \"all\" under the q1/median/q3\n",
      " |          signature. Otherwise defaults to \"outliers\".\n",
      " |      customdata\n",
      " |          Assigns extra data each datum. This may be useful when\n",
      " |          listening to hover, click and selection events. Note\n",
      " |          that, \"scatter\" traces also appends customdata items in\n",
      " |          the markers DOM elements\n",
      " |      customdatasrc\n",
      " |          Sets the source reference on Chart Studio Cloud for\n",
      " |          customdata .\n",
      " |      dx\n",
      " |          Sets the x coordinate step for multi-box traces set\n",
      " |          using q1/median/q3.\n",
      " |      dy\n",
      " |          Sets the y coordinate step for multi-box traces set\n",
      " |          using q1/median/q3.\n",
      " |      fillcolor\n",
      " |          Sets the fill color. Defaults to a half-transparent\n",
      " |          variant of the line color, marker color, or marker line\n",
      " |          color, whichever is available.\n",
      " |      hoverinfo\n",
      " |          Determines which trace information appear on hover. If\n",
      " |          `none` or `skip` are set, no information is displayed\n",
      " |          upon hovering. But, if `none` is set, click and hover\n",
      " |          events are still fired.\n",
      " |      hoverinfosrc\n",
      " |          Sets the source reference on Chart Studio Cloud for\n",
      " |          hoverinfo .\n",
      " |      hoverlabel\n",
      " |          :class:`plotly.graph_objects.box.Hoverlabel` instance\n",
      " |          or dict with compatible properties\n",
      " |      hoveron\n",
      " |          Do the hover effects highlight individual boxes  or\n",
      " |          sample points or both?\n",
      " |      hovertemplate\n",
      " |          Template string used for rendering the information that\n",
      " |          appear on hover box. Note that this will override\n",
      " |          `hoverinfo`. Variables are inserted using %{variable},\n",
      " |          for example \"y: %{y}\" as well as %{xother}, {%_xother},\n",
      " |          {%_xother_}, {%xother_}. When showing info for several\n",
      " |          points, \"xother\" will be added to those with different\n",
      " |          x positions from the first point. An underscore before\n",
      " |          or after \"(x|y)other\" will add a space on that side,\n",
      " |          only when this field is shown. Numbers are formatted\n",
      " |          using d3-format's syntax %{variable:d3-format}, for\n",
      " |          example \"Price: %{y:$.2f}\".\n",
      " |          https://github.com/d3/d3-format/tree/v1.4.5#d3-format\n",
      " |          for details on the formatting syntax. Dates are\n",
      " |          formatted using d3-time-format's syntax\n",
      " |          %{variable|d3-time-format}, for example \"Day:\n",
      " |          %{2019-01-01|%A}\". https://github.com/d3/d3-time-\n",
      " |          format/tree/v2.2.3#locale_format for details on the\n",
      " |          date formatting syntax. The variables available in\n",
      " |          `hovertemplate` are the ones emitted as event data\n",
      " |          described at this link\n",
      " |          https://plotly.com/javascript/plotlyjs-events/#event-\n",
      " |          data. Additionally, every attributes that can be\n",
      " |          specified per-point (the ones that are `arrayOk: true`)\n",
      " |          are available.  Anything contained in tag `<extra>` is\n",
      " |          displayed in the secondary box, for example\n",
      " |          \"<extra>{fullData.name}</extra>\". To hide the secondary\n",
      " |          box completely, use an empty tag `<extra></extra>`.\n",
      " |      hovertemplatesrc\n",
      " |          Sets the source reference on Chart Studio Cloud for\n",
      " |          hovertemplate .\n",
      " |      hovertext\n",
      " |          Same as `text`.\n",
      " |      hovertextsrc\n",
      " |          Sets the source reference on Chart Studio Cloud for\n",
      " |          hovertext .\n",
      " |      ids\n",
      " |          Assigns id labels to each datum. These ids for object\n",
      " |          constancy of data points during animation. Should be an\n",
      " |          array of strings, not numbers or any other type.\n",
      " |      idssrc\n",
      " |          Sets the source reference on Chart Studio Cloud for\n",
      " |          ids .\n",
      " |      jitter\n",
      " |          Sets the amount of jitter in the sample points drawn.\n",
      " |          If 0, the sample points align along the distribution\n",
      " |          axis. If 1, the sample points are drawn in a random\n",
      " |          jitter of width equal to the width of the box(es).\n",
      " |      legendgroup\n",
      " |          Sets the legend group for this trace. Traces part of\n",
      " |          the same legend group hide/show at the same time when\n",
      " |          toggling legend items.\n",
      " |      legendgrouptitle\n",
      " |          :class:`plotly.graph_objects.box.Legendgrouptitle`\n",
      " |          instance or dict with compatible properties\n",
      " |      legendrank\n",
      " |          Sets the legend rank for this trace. Items and groups\n",
      " |          with smaller ranks are presented on top/left side while\n",
      " |          with `*reversed* `legend.traceorder` they are on\n",
      " |          bottom/right side. The default legendrank is 1000, so\n",
      " |          that you can use ranks less than 1000 to place certain\n",
      " |          items before all unranked items, and ranks greater than\n",
      " |          1000 to go after all unranked items.\n",
      " |      line\n",
      " |          :class:`plotly.graph_objects.box.Line` instance or dict\n",
      " |          with compatible properties\n",
      " |      lowerfence\n",
      " |          Sets the lower fence values. There should be as many\n",
      " |          items as the number of boxes desired. This attribute\n",
      " |          has effect only under the q1/median/q3 signature. If\n",
      " |          `lowerfence` is not provided but a sample (in `y` or\n",
      " |          `x`) is set, we compute the lower as the last sample\n",
      " |          point below 1.5 times the IQR.\n",
      " |      lowerfencesrc\n",
      " |          Sets the source reference on Chart Studio Cloud for\n",
      " |          lowerfence .\n",
      " |      marker\n",
      " |          :class:`plotly.graph_objects.box.Marker` instance or\n",
      " |          dict with compatible properties\n",
      " |      mean\n",
      " |          Sets the mean values. There should be as many items as\n",
      " |          the number of boxes desired. This attribute has effect\n",
      " |          only under the q1/median/q3 signature. If `mean` is not\n",
      " |          provided but a sample (in `y` or `x`) is set, we\n",
      " |          compute the mean for each box using the sample values.\n",
      " |      meansrc\n",
      " |          Sets the source reference on Chart Studio Cloud for\n",
      " |          mean .\n",
      " |      median\n",
      " |          Sets the median values. There should be as many items\n",
      " |          as the number of boxes desired.\n",
      " |      mediansrc\n",
      " |          Sets the source reference on Chart Studio Cloud for\n",
      " |          median .\n",
      " |      meta\n",
      " |          Assigns extra meta information associated with this\n",
      " |          trace that can be used in various text attributes.\n",
      " |          Attributes such as trace `name`, graph, axis and\n",
      " |          colorbar `title.text`, annotation `text`\n",
      " |          `rangeselector`, `updatemenues` and `sliders` `label`\n",
      " |          text all support `meta`. To access the trace `meta`\n",
      " |          values in an attribute in the same trace, simply use\n",
      " |          `%{meta[i]}` where `i` is the index or key of the\n",
      " |          `meta` item in question. To access trace `meta` in\n",
      " |          layout attributes, use `%{data[n[.meta[i]}` where `i`\n",
      " |          is the index or key of the `meta` and `n` is the trace\n",
      " |          index.\n",
      " |      metasrc\n",
      " |          Sets the source reference on Chart Studio Cloud for\n",
      " |          meta .\n",
      " |      name\n",
      " |          Sets the trace name. The trace name appear as the\n",
      " |          legend item and on hover. For box traces, the name will\n",
      " |          also be used for the position coordinate, if `x` and\n",
      " |          `x0` (`y` and `y0` if horizontal) are missing and the\n",
      " |          position axis is categorical\n",
      " |      notched\n",
      " |          Determines whether or not notches are drawn. Notches\n",
      " |          displays a confidence interval around the median. We\n",
      " |          compute the confidence interval as median +/- 1.57 *\n",
      " |          IQR / sqrt(N), where IQR is the interquartile range and\n",
      " |          N is the sample size. If two boxes' notches do not\n",
      " |          overlap there is 95% confidence their medians differ.\n",
      " |          See https://sites.google.com/site/davidsstatistics/home\n",
      " |          /notched-box-plots for more info. Defaults to False\n",
      " |          unless `notchwidth` or `notchspan` is set.\n",
      " |      notchspan\n",
      " |          Sets the notch span from the boxes' `median` values.\n",
      " |          There should be as many items as the number of boxes\n",
      " |          desired. This attribute has effect only under the\n",
      " |          q1/median/q3 signature. If `notchspan` is not provided\n",
      " |          but a sample (in `y` or `x`) is set, we compute it as\n",
      " |          1.57 * IQR / sqrt(N), where N is the sample size.\n",
      " |      notchspansrc\n",
      " |          Sets the source reference on Chart Studio Cloud for\n",
      " |          notchspan .\n",
      " |      notchwidth\n",
      " |          Sets the width of the notches relative to the box'\n",
      " |          width. For example, with 0, the notches are as wide as\n",
      " |          the box(es).\n",
      " |      offsetgroup\n",
      " |          Set several traces linked to the same position axis or\n",
      " |          matching axes to the same offsetgroup where bars of the\n",
      " |          same position coordinate will line up.\n",
      " |      opacity\n",
      " |          Sets the opacity of the trace.\n",
      " |      orientation\n",
      " |          Sets the orientation of the box(es). If \"v\" (\"h\"), the\n",
      " |          distribution is visualized along the vertical\n",
      " |          (horizontal).\n",
      " |      pointpos\n",
      " |          Sets the position of the sample points in relation to\n",
      " |          the box(es). If 0, the sample points are places over\n",
      " |          the center of the box(es). Positive (negative) values\n",
      " |          correspond to positions to the right (left) for\n",
      " |          vertical boxes and above (below) for horizontal boxes\n",
      " |      q1\n",
      " |          Sets the Quartile 1 values. There should be as many\n",
      " |          items as the number of boxes desired.\n",
      " |      q1src\n",
      " |          Sets the source reference on Chart Studio Cloud for  q1\n",
      " |          .\n",
      " |      q3\n",
      " |          Sets the Quartile 3 values. There should be as many\n",
      " |          items as the number of boxes desired.\n",
      " |      q3src\n",
      " |          Sets the source reference on Chart Studio Cloud for  q3\n",
      " |          .\n",
      " |      quartilemethod\n",
      " |          Sets the method used to compute the sample's Q1 and Q3\n",
      " |          quartiles. The \"linear\" method uses the 25th percentile\n",
      " |          for Q1 and 75th percentile for Q3 as computed using\n",
      " |          method #10 (listed on http://www.amstat.org/publication\n",
      " |          s/jse/v14n3/langford.html). The \"exclusive\" method uses\n",
      " |          the median to divide the ordered dataset into two\n",
      " |          halves if the sample is odd, it does not include the\n",
      " |          median in either half - Q1 is then the median of the\n",
      " |          lower half and Q3 the median of the upper half. The\n",
      " |          \"inclusive\" method also uses the median to divide the\n",
      " |          ordered dataset into two halves but if the sample is\n",
      " |          odd, it includes the median in both halves - Q1 is then\n",
      " |          the median of the lower half and Q3 the median of the\n",
      " |          upper half.\n",
      " |      sd\n",
      " |          Sets the standard deviation values. There should be as\n",
      " |          many items as the number of boxes desired. This\n",
      " |          attribute has effect only under the q1/median/q3\n",
      " |          signature. If `sd` is not provided but a sample (in `y`\n",
      " |          or `x`) is set, we compute the standard deviation for\n",
      " |          each box using the sample values.\n",
      " |      sdsrc\n",
      " |          Sets the source reference on Chart Studio Cloud for  sd\n",
      " |          .\n",
      " |      selected\n",
      " |          :class:`plotly.graph_objects.box.Selected` instance or\n",
      " |          dict with compatible properties\n",
      " |      selectedpoints\n",
      " |          Array containing integer indices of selected points.\n",
      " |          Has an effect only for traces that support selections.\n",
      " |          Note that an empty array means an empty selection where\n",
      " |          the `unselected` are turned on for all points, whereas,\n",
      " |          any other non-array values means no selection all where\n",
      " |          the `selected` and `unselected` styles have no effect.\n",
      " |      showlegend\n",
      " |          Determines whether or not an item corresponding to this\n",
      " |          trace is shown in the legend.\n",
      " |      stream\n",
      " |          :class:`plotly.graph_objects.box.Stream` instance or\n",
      " |          dict with compatible properties\n",
      " |      text\n",
      " |          Sets the text elements associated with each sample\n",
      " |          value. If a single string, the same string appears over\n",
      " |          all the data points. If an array of string, the items\n",
      " |          are mapped in order to the this trace's (x,y)\n",
      " |          coordinates. To be seen, trace `hoverinfo` must contain\n",
      " |          a \"text\" flag.\n",
      " |      textsrc\n",
      " |          Sets the source reference on Chart Studio Cloud for\n",
      " |          text .\n",
      " |      uid\n",
      " |          Assign an id to this trace, Use this to provide object\n",
      " |          constancy between traces during animations and\n",
      " |          transitions.\n",
      " |      uirevision\n",
      " |          Controls persistence of some user-driven changes to the\n",
      " |          trace: `constraintrange` in `parcoords` traces, as well\n",
      " |          as some `editable: true` modifications such as `name`\n",
      " |          and `colorbar.title`. Defaults to `layout.uirevision`.\n",
      " |          Note that other user-driven trace attribute changes are\n",
      " |          controlled by `layout` attributes: `trace.visible` is\n",
      " |          controlled by `layout.legend.uirevision`,\n",
      " |          `selectedpoints` is controlled by\n",
      " |          `layout.selectionrevision`, and `colorbar.(x|y)`\n",
      " |          (accessible with `config: {editable: true}`) is\n",
      " |          controlled by `layout.editrevision`. Trace changes are\n",
      " |          tracked by `uid`, which only falls back on trace index\n",
      " |          if no `uid` is provided. So if your app can add/remove\n",
      " |          traces before the end of the `data` array, such that\n",
      " |          the same trace has a different index, you can still\n",
      " |          preserve user-driven changes if you give each trace a\n",
      " |          `uid` that stays with it as it moves.\n",
      " |      unselected\n",
      " |          :class:`plotly.graph_objects.box.Unselected` instance\n",
      " |          or dict with compatible properties\n",
      " |      upperfence\n",
      " |          Sets the upper fence values. There should be as many\n",
      " |          items as the number of boxes desired. This attribute\n",
      " |          has effect only under the q1/median/q3 signature. If\n",
      " |          `upperfence` is not provided but a sample (in `y` or\n",
      " |          `x`) is set, we compute the lower as the last sample\n",
      " |          point above 1.5 times the IQR.\n",
      " |      upperfencesrc\n",
      " |          Sets the source reference on Chart Studio Cloud for\n",
      " |          upperfence .\n",
      " |      visible\n",
      " |          Determines whether or not this trace is visible. If\n",
      " |          \"legendonly\", the trace is not drawn, but can appear as\n",
      " |          a legend item (provided that the legend itself is\n",
      " |          visible).\n",
      " |      whiskerwidth\n",
      " |          Sets the width of the whiskers relative to the box'\n",
      " |          width. For example, with 1, the whiskers are as wide as\n",
      " |          the box(es).\n",
      " |      width\n",
      " |          Sets the width of the box in data coordinate If 0\n",
      " |          (default value) the width is automatically selected\n",
      " |          based on the positions of other box traces in the same\n",
      " |          subplot.\n",
      " |      x\n",
      " |          Sets the x sample data or coordinates. See overview for\n",
      " |          more info.\n",
      " |      x0\n",
      " |          Sets the x coordinate for single-box traces or the\n",
      " |          starting coordinate for multi-box traces set using\n",
      " |          q1/median/q3. See overview for more info.\n",
      " |      xaxis\n",
      " |          Sets a reference between this trace's x coordinates and\n",
      " |          a 2D cartesian x axis. If \"x\" (the default value), the\n",
      " |          x coordinates refer to `layout.xaxis`. If \"x2\", the x\n",
      " |          coordinates refer to `layout.xaxis2`, and so on.\n",
      " |      xcalendar\n",
      " |          Sets the calendar system to use with `x` date data.\n",
      " |      xhoverformat\n",
      " |          Sets the hover text formatting rulefor `x`  using d3\n",
      " |          formatting mini-languages which are very similar to\n",
      " |          those in Python. For numbers, see:\n",
      " |          https://github.com/d3/d3-format/tree/v1.4.5#d3-format.\n",
      " |          And for dates see: https://github.com/d3/d3-time-\n",
      " |          format/tree/v2.2.3#locale_format. We add two items to\n",
      " |          d3's date formatter: \"%h\" for half of the year as a\n",
      " |          decimal number as well as \"%{n}f\" for fractional\n",
      " |          seconds with n digits. For example, *2016-10-13\n",
      " |          09:15:23.456* with tickformat \"%H~%M~%S.%2f\" would\n",
      " |          display *09~15~23.46*By default the values are\n",
      " |          formatted using `xaxis.hoverformat`.\n",
      " |      xperiod\n",
      " |          Only relevant when the axis `type` is \"date\". Sets the\n",
      " |          period positioning in milliseconds or \"M<n>\" on the x\n",
      " |          axis. Special values in the form of \"M<n>\" could be\n",
      " |          used to declare the number of months. In this case `n`\n",
      " |          must be a positive integer.\n",
      " |      xperiod0\n",
      " |          Only relevant when the axis `type` is \"date\". Sets the\n",
      " |          base for period positioning in milliseconds or date\n",
      " |          string on the x0 axis. When `x0period` is round number\n",
      " |          of weeks, the `x0period0` by default would be on a\n",
      " |          Sunday i.e. 2000-01-02, otherwise it would be at\n",
      " |          2000-01-01.\n",
      " |      xperiodalignment\n",
      " |          Only relevant when the axis `type` is \"date\". Sets the\n",
      " |          alignment of data points on the x axis.\n",
      " |      xsrc\n",
      " |          Sets the source reference on Chart Studio Cloud for  x\n",
      " |          .\n",
      " |      y\n",
      " |          Sets the y sample data or coordinates. See overview for\n",
      " |          more info.\n",
      " |      y0\n",
      " |          Sets the y coordinate for single-box traces or the\n",
      " |          starting coordinate for multi-box traces set using\n",
      " |          q1/median/q3. See overview for more info.\n",
      " |      yaxis\n",
      " |          Sets a reference between this trace's y coordinates and\n",
      " |          a 2D cartesian y axis. If \"y\" (the default value), the\n",
      " |          y coordinates refer to `layout.yaxis`. If \"y2\", the y\n",
      " |          coordinates refer to `layout.yaxis2`, and so on.\n",
      " |      ycalendar\n",
      " |          Sets the calendar system to use with `y` date data.\n",
      " |      yhoverformat\n",
      " |          Sets the hover text formatting rulefor `y`  using d3\n",
      " |          formatting mini-languages which are very similar to\n",
      " |          those in Python. For numbers, see:\n",
      " |          https://github.com/d3/d3-format/tree/v1.4.5#d3-format.\n",
      " |          And for dates see: https://github.com/d3/d3-time-\n",
      " |          format/tree/v2.2.3#locale_format. We add two items to\n",
      " |          d3's date formatter: \"%h\" for half of the year as a\n",
      " |          decimal number as well as \"%{n}f\" for fractional\n",
      " |          seconds with n digits. For example, *2016-10-13\n",
      " |          09:15:23.456* with tickformat \"%H~%M~%S.%2f\" would\n",
      " |          display *09~15~23.46*By default the values are\n",
      " |          formatted using `yaxis.hoverformat`.\n",
      " |      yperiod\n",
      " |          Only relevant when the axis `type` is \"date\". Sets the\n",
      " |          period positioning in milliseconds or \"M<n>\" on the y\n",
      " |          axis. Special values in the form of \"M<n>\" could be\n",
      " |          used to declare the number of months. In this case `n`\n",
      " |          must be a positive integer.\n",
      " |      yperiod0\n",
      " |          Only relevant when the axis `type` is \"date\". Sets the\n",
      " |          base for period positioning in milliseconds or date\n",
      " |          string on the y0 axis. When `y0period` is round number\n",
      " |          of weeks, the `y0period0` by default would be on a\n",
      " |          Sunday i.e. 2000-01-02, otherwise it would be at\n",
      " |          2000-01-01.\n",
      " |      yperiodalignment\n",
      " |          Only relevant when the axis `type` is \"date\". Sets the\n",
      " |          alignment of data points on the y axis.\n",
      " |      ysrc\n",
      " |          Sets the source reference on Chart Studio Cloud for  y\n",
      " |          .\n",
      " |      \n",
      " |      Returns\n",
      " |      -------\n",
      " |      Box\n",
      " |  \n",
      " |  ----------------------------------------------------------------------\n",
      " |  Readonly properties defined here:\n",
      " |  \n",
      " |  type\n",
      " |  \n",
      " |  ----------------------------------------------------------------------\n",
      " |  Data descriptors defined here:\n",
      " |  \n",
      " |  alignmentgroup\n",
      " |      Set several traces linked to the same position axis or matching\n",
      " |      axes to the same alignmentgroup. This controls whether bars\n",
      " |      compute their positional range dependently or independently.\n",
      " |      \n",
      " |      The 'alignmentgroup' property is a string and must be specified as:\n",
      " |        - A string\n",
      " |        - A number that will be converted to a string\n",
      " |      \n",
      " |      Returns\n",
      " |      -------\n",
      " |      str\n",
      " |  \n",
      " |  boxmean\n",
      " |      If True, the mean of the box(es)' underlying distribution is\n",
      " |      drawn as a dashed line inside the box(es). If \"sd\" the standard\n",
      " |      deviation is also drawn. Defaults to True when `mean` is set.\n",
      " |      Defaults to \"sd\" when `sd` is set Otherwise defaults to False.\n",
      " |      \n",
      " |      The 'boxmean' property is an enumeration that may be specified as:\n",
      " |        - One of the following enumeration values:\n",
      " |              [True, 'sd', False]\n",
      " |      \n",
      " |      Returns\n",
      " |      -------\n",
      " |      Any\n",
      " |  \n",
      " |  boxpoints\n",
      " |      If \"outliers\", only the sample points lying outside the\n",
      " |      whiskers are shown If \"suspectedoutliers\", the outlier points\n",
      " |      are shown and points either less than 4*Q1-3*Q3 or greater than\n",
      " |      4*Q3-3*Q1 are highlighted (see `outliercolor`) If \"all\", all\n",
      " |      sample points are shown If False, only the box(es) are shown\n",
      " |      with no sample points Defaults to \"suspectedoutliers\" when\n",
      " |      `marker.outliercolor` or `marker.line.outliercolor` is set.\n",
      " |      Defaults to \"all\" under the q1/median/q3 signature. Otherwise\n",
      " |      defaults to \"outliers\".\n",
      " |      \n",
      " |      The 'boxpoints' property is an enumeration that may be specified as:\n",
      " |        - One of the following enumeration values:\n",
      " |              ['all', 'outliers', 'suspectedoutliers', False]\n",
      " |      \n",
      " |      Returns\n",
      " |      -------\n",
      " |      Any\n",
      " |  \n",
      " |  customdata\n",
      " |      Assigns extra data each datum. This may be useful when\n",
      " |      listening to hover, click and selection events. Note that,\n",
      " |      \"scatter\" traces also appends customdata items in the markers\n",
      " |      DOM elements\n",
      " |      \n",
      " |      The 'customdata' property is an array that may be specified as a tuple,\n",
      " |      list, numpy array, or pandas Series\n",
      " |      \n",
      " |      Returns\n",
      " |      -------\n",
      " |      numpy.ndarray\n",
      " |  \n",
      " |  customdatasrc\n",
      " |      Sets the source reference on Chart Studio Cloud for  customdata\n",
      " |      .\n",
      " |      \n",
      " |      The 'customdatasrc' property must be specified as a string or\n",
      " |      as a plotly.grid_objs.Column object\n",
      " |      \n",
      " |      Returns\n",
      " |      -------\n",
      " |      str\n",
      " |  \n",
      " |  dx\n",
      " |      Sets the x coordinate step for multi-box traces set using\n",
      " |      q1/median/q3.\n",
      " |      \n",
      " |      The 'dx' property is a number and may be specified as:\n",
      " |        - An int or float\n",
      " |      \n",
      " |      Returns\n",
      " |      -------\n",
      " |      int|float\n",
      " |  \n",
      " |  dy\n",
      " |      Sets the y coordinate step for multi-box traces set using\n",
      " |      q1/median/q3.\n",
      " |      \n",
      " |      The 'dy' property is a number and may be specified as:\n",
      " |        - An int or float\n",
      " |      \n",
      " |      Returns\n",
      " |      -------\n",
      " |      int|float\n",
      " |  \n",
      " |  fillcolor\n",
      " |      Sets the fill color. Defaults to a half-transparent variant of\n",
      " |      the line color, marker color, or marker line color, whichever\n",
      " |      is available.\n",
      " |      \n",
      " |      The 'fillcolor' property is a color and may be specified as:\n",
      " |        - A hex string (e.g. '#ff0000')\n",
      " |        - An rgb/rgba string (e.g. 'rgb(255,0,0)')\n",
      " |        - An hsl/hsla string (e.g. 'hsl(0,100%,50%)')\n",
      " |        - An hsv/hsva string (e.g. 'hsv(0,100%,100%)')\n",
      " |        - A named CSS color:\n",
      " |              aliceblue, antiquewhite, aqua, aquamarine, azure,\n",
      " |              beige, bisque, black, blanchedalmond, blue,\n",
      " |              blueviolet, brown, burlywood, cadetblue,\n",
      " |              chartreuse, chocolate, coral, cornflowerblue,\n",
      " |              cornsilk, crimson, cyan, darkblue, darkcyan,\n",
      " |              darkgoldenrod, darkgray, darkgrey, darkgreen,\n",
      " |              darkkhaki, darkmagenta, darkolivegreen, darkorange,\n",
      " |              darkorchid, darkred, darksalmon, darkseagreen,\n",
      " |              darkslateblue, darkslategray, darkslategrey,\n",
      " |              darkturquoise, darkviolet, deeppink, deepskyblue,\n",
      " |              dimgray, dimgrey, dodgerblue, firebrick,\n",
      " |              floralwhite, forestgreen, fuchsia, gainsboro,\n",
      " |              ghostwhite, gold, goldenrod, gray, grey, green,\n",
      " |              greenyellow, honeydew, hotpink, indianred, indigo,\n",
      " |              ivory, khaki, lavender, lavenderblush, lawngreen,\n",
      " |              lemonchiffon, lightblue, lightcoral, lightcyan,\n",
      " |              lightgoldenrodyellow, lightgray, lightgrey,\n",
      " |              lightgreen, lightpink, lightsalmon, lightseagreen,\n",
      " |              lightskyblue, lightslategray, lightslategrey,\n",
      " |              lightsteelblue, lightyellow, lime, limegreen,\n",
      " |              linen, magenta, maroon, mediumaquamarine,\n",
      " |              mediumblue, mediumorchid, mediumpurple,\n",
      " |              mediumseagreen, mediumslateblue, mediumspringgreen,\n",
      " |              mediumturquoise, mediumvioletred, midnightblue,\n",
      " |              mintcream, mistyrose, moccasin, navajowhite, navy,\n",
      " |              oldlace, olive, olivedrab, orange, orangered,\n",
      " |              orchid, palegoldenrod, palegreen, paleturquoise,\n",
      " |              palevioletred, papayawhip, peachpuff, peru, pink,\n",
      " |              plum, powderblue, purple, red, rosybrown,\n",
      " |              royalblue, rebeccapurple, saddlebrown, salmon,\n",
      " |              sandybrown, seagreen, seashell, sienna, silver,\n",
      " |              skyblue, slateblue, slategray, slategrey, snow,\n",
      " |              springgreen, steelblue, tan, teal, thistle, tomato,\n",
      " |              turquoise, violet, wheat, white, whitesmoke,\n",
      " |              yellow, yellowgreen\n",
      " |      \n",
      " |      Returns\n",
      " |      -------\n",
      " |      str\n",
      " |  \n",
      " |  hoverinfo\n",
      " |      Determines which trace information appear on hover. If `none`\n",
      " |      or `skip` are set, no information is displayed upon hovering.\n",
      " |      But, if `none` is set, click and hover events are still fired.\n",
      " |      \n",
      " |      The 'hoverinfo' property is a flaglist and may be specified\n",
      " |      as a string containing:\n",
      " |        - Any combination of ['x', 'y', 'z', 'text', 'name'] joined with '+' characters\n",
      " |          (e.g. 'x+y')\n",
      " |          OR exactly one of ['all', 'none', 'skip'] (e.g. 'skip')\n",
      " |        - A list or array of the above\n",
      " |      \n",
      " |      Returns\n",
      " |      -------\n",
      " |      Any|numpy.ndarray\n",
      " |  \n",
      " |  hoverinfosrc\n",
      " |      Sets the source reference on Chart Studio Cloud for  hoverinfo\n",
      " |      .\n",
      " |      \n",
      " |      The 'hoverinfosrc' property must be specified as a string or\n",
      " |      as a plotly.grid_objs.Column object\n",
      " |      \n",
      " |      Returns\n",
      " |      -------\n",
      " |      str\n",
      " |  \n",
      " |  hoverlabel\n",
      " |      The 'hoverlabel' property is an instance of Hoverlabel\n",
      " |      that may be specified as:\n",
      " |        - An instance of :class:`plotly.graph_objs.box.Hoverlabel`\n",
      " |        - A dict of string/value properties that will be passed\n",
      " |          to the Hoverlabel constructor\n",
      " |      \n",
      " |          Supported dict properties:\n",
      " |              \n",
      " |              align\n",
      " |                  Sets the horizontal alignment of the text\n",
      " |                  content within hover label box. Has an effect\n",
      " |                  only if the hover label text spans more two or\n",
      " |                  more lines\n",
      " |              alignsrc\n",
      " |                  Sets the source reference on Chart Studio Cloud\n",
      " |                  for  align .\n",
      " |              bgcolor\n",
      " |                  Sets the background color of the hover labels\n",
      " |                  for this trace\n",
      " |              bgcolorsrc\n",
      " |                  Sets the source reference on Chart Studio Cloud\n",
      " |                  for  bgcolor .\n",
      " |              bordercolor\n",
      " |                  Sets the border color of the hover labels for\n",
      " |                  this trace.\n",
      " |              bordercolorsrc\n",
      " |                  Sets the source reference on Chart Studio Cloud\n",
      " |                  for  bordercolor .\n",
      " |              font\n",
      " |                  Sets the font used in hover labels.\n",
      " |              namelength\n",
      " |                  Sets the default length (in number of\n",
      " |                  characters) of the trace name in the hover\n",
      " |                  labels for all traces. -1 shows the whole name\n",
      " |                  regardless of length. 0-3 shows the first 0-3\n",
      " |                  characters, and an integer >3 will show the\n",
      " |                  whole name if it is less than that many\n",
      " |                  characters, but if it is longer, will truncate\n",
      " |                  to `namelength - 3` characters and add an\n",
      " |                  ellipsis.\n",
      " |              namelengthsrc\n",
      " |                  Sets the source reference on Chart Studio Cloud\n",
      " |                  for  namelength .\n",
      " |      \n",
      " |      Returns\n",
      " |      -------\n",
      " |      plotly.graph_objs.box.Hoverlabel\n",
      " |  \n",
      " |  hoveron\n",
      " |      Do the hover effects highlight individual boxes  or sample\n",
      " |      points or both?\n",
      " |      \n",
      " |      The 'hoveron' property is a flaglist and may be specified\n",
      " |      as a string containing:\n",
      " |        - Any combination of ['boxes', 'points'] joined with '+' characters\n",
      " |          (e.g. 'boxes+points')\n",
      " |      \n",
      " |      Returns\n",
      " |      -------\n",
      " |      Any\n",
      " |  \n",
      " |  hovertemplate\n",
      " |      Template string used for rendering the information that appear\n",
      " |      on hover box. Note that this will override `hoverinfo`.\n",
      " |      Variables are inserted using %{variable}, for example \"y: %{y}\"\n",
      " |      as well as %{xother}, {%_xother}, {%_xother_}, {%xother_}. When\n",
      " |      showing info for several points, \"xother\" will be added to\n",
      " |      those with different x positions from the first point. An\n",
      " |      underscore before or after \"(x|y)other\" will add a space on\n",
      " |      that side, only when this field is shown. Numbers are formatted\n",
      " |      using d3-format's syntax %{variable:d3-format}, for example\n",
      " |      \"Price: %{y:$.2f}\".\n",
      " |      https://github.com/d3/d3-format/tree/v1.4.5#d3-format for\n",
      " |      details on the formatting syntax. Dates are formatted using\n",
      " |      d3-time-format's syntax %{variable|d3-time-format}, for example\n",
      " |      \"Day: %{2019-01-01|%A}\". https://github.com/d3/d3-time-\n",
      " |      format/tree/v2.2.3#locale_format for details on the date\n",
      " |      formatting syntax. The variables available in `hovertemplate`\n",
      " |      are the ones emitted as event data described at this link\n",
      " |      https://plotly.com/javascript/plotlyjs-events/#event-data.\n",
      " |      Additionally, every attributes that can be specified per-point\n",
      " |      (the ones that are `arrayOk: true`) are available.  Anything\n",
      " |      contained in tag `<extra>` is displayed in the secondary box,\n",
      " |      for example \"<extra>{fullData.name}</extra>\". To hide the\n",
      " |      secondary box completely, use an empty tag `<extra></extra>`.\n",
      " |      \n",
      " |      The 'hovertemplate' property is a string and must be specified as:\n",
      " |        - A string\n",
      " |        - A number that will be converted to a string\n",
      " |        - A tuple, list, or one-dimensional numpy array of the above\n",
      " |      \n",
      " |      Returns\n",
      " |      -------\n",
      " |      str|numpy.ndarray\n",
      " |  \n",
      " |  hovertemplatesrc\n",
      " |      Sets the source reference on Chart Studio Cloud for\n",
      " |      hovertemplate .\n",
      " |      \n",
      " |      The 'hovertemplatesrc' property must be specified as a string or\n",
      " |      as a plotly.grid_objs.Column object\n",
      " |      \n",
      " |      Returns\n",
      " |      -------\n",
      " |      str\n",
      " |  \n",
      " |  hovertext\n",
      " |      Same as `text`.\n",
      " |      \n",
      " |      The 'hovertext' property is a string and must be specified as:\n",
      " |        - A string\n",
      " |        - A number that will be converted to a string\n",
      " |        - A tuple, list, or one-dimensional numpy array of the above\n",
      " |      \n",
      " |      Returns\n",
      " |      -------\n",
      " |      str|numpy.ndarray\n",
      " |  \n",
      " |  hovertextsrc\n",
      " |      Sets the source reference on Chart Studio Cloud for  hovertext\n",
      " |      .\n",
      " |      \n",
      " |      The 'hovertextsrc' property must be specified as a string or\n",
      " |      as a plotly.grid_objs.Column object\n",
      " |      \n",
      " |      Returns\n",
      " |      -------\n",
      " |      str\n",
      " |  \n",
      " |  ids\n",
      " |      Assigns id labels to each datum. These ids for object constancy\n",
      " |      of data points during animation. Should be an array of strings,\n",
      " |      not numbers or any other type.\n",
      " |      \n",
      " |      The 'ids' property is an array that may be specified as a tuple,\n",
      " |      list, numpy array, or pandas Series\n",
      " |      \n",
      " |      Returns\n",
      " |      -------\n",
      " |      numpy.ndarray\n",
      " |  \n",
      " |  idssrc\n",
      " |      Sets the source reference on Chart Studio Cloud for  ids .\n",
      " |      \n",
      " |      The 'idssrc' property must be specified as a string or\n",
      " |      as a plotly.grid_objs.Column object\n",
      " |      \n",
      " |      Returns\n",
      " |      -------\n",
      " |      str\n",
      " |  \n",
      " |  jitter\n",
      " |      Sets the amount of jitter in the sample points drawn. If 0, the\n",
      " |      sample points align along the distribution axis. If 1, the\n",
      " |      sample points are drawn in a random jitter of width equal to\n",
      " |      the width of the box(es).\n",
      " |      \n",
      " |      The 'jitter' property is a number and may be specified as:\n",
      " |        - An int or float in the interval [0, 1]\n",
      " |      \n",
      " |      Returns\n",
      " |      -------\n",
      " |      int|float\n",
      " |  \n",
      " |  legendgroup\n",
      " |      Sets the legend group for this trace. Traces part of the same\n",
      " |      legend group hide/show at the same time when toggling legend\n",
      " |      items.\n",
      " |      \n",
      " |      The 'legendgroup' property is a string and must be specified as:\n",
      " |        - A string\n",
      " |        - A number that will be converted to a string\n",
      " |      \n",
      " |      Returns\n",
      " |      -------\n",
      " |      str\n",
      " |  \n",
      " |  legendgrouptitle\n",
      " |      The 'legendgrouptitle' property is an instance of Legendgrouptitle\n",
      " |      that may be specified as:\n",
      " |        - An instance of :class:`plotly.graph_objs.box.Legendgrouptitle`\n",
      " |        - A dict of string/value properties that will be passed\n",
      " |          to the Legendgrouptitle constructor\n",
      " |      \n",
      " |          Supported dict properties:\n",
      " |              \n",
      " |              font\n",
      " |                  Sets this legend group's title font.\n",
      " |              text\n",
      " |                  Sets the title of the legend group.\n",
      " |      \n",
      " |      Returns\n",
      " |      -------\n",
      " |      plotly.graph_objs.box.Legendgrouptitle\n",
      " |  \n",
      " |  legendrank\n",
      " |      Sets the legend rank for this trace. Items and groups with\n",
      " |      smaller ranks are presented on top/left side while with\n",
      " |      `*reversed* `legend.traceorder` they are on bottom/right side.\n",
      " |      The default legendrank is 1000, so that you can use ranks less\n",
      " |      than 1000 to place certain items before all unranked items, and\n",
      " |      ranks greater than 1000 to go after all unranked items.\n",
      " |      \n",
      " |      The 'legendrank' property is a number and may be specified as:\n",
      " |        - An int or float\n",
      " |      \n",
      " |      Returns\n",
      " |      -------\n",
      " |      int|float\n",
      " |  \n",
      " |  line\n",
      " |      The 'line' property is an instance of Line\n",
      " |      that may be specified as:\n",
      " |        - An instance of :class:`plotly.graph_objs.box.Line`\n",
      " |        - A dict of string/value properties that will be passed\n",
      " |          to the Line constructor\n",
      " |      \n",
      " |          Supported dict properties:\n",
      " |              \n",
      " |              color\n",
      " |                  Sets the color of line bounding the box(es).\n",
      " |              width\n",
      " |                  Sets the width (in px) of line bounding the\n",
      " |                  box(es).\n",
      " |      \n",
      " |      Returns\n",
      " |      -------\n",
      " |      plotly.graph_objs.box.Line\n",
      " |  \n",
      " |  lowerfence\n",
      " |      Sets the lower fence values. There should be as many items as\n",
      " |      the number of boxes desired. This attribute has effect only\n",
      " |      under the q1/median/q3 signature. If `lowerfence` is not\n",
      " |      provided but a sample (in `y` or `x`) is set, we compute the\n",
      " |      lower as the last sample point below 1.5 times the IQR.\n",
      " |      \n",
      " |      The 'lowerfence' property is an array that may be specified as a tuple,\n",
      " |      list, numpy array, or pandas Series\n",
      " |      \n",
      " |      Returns\n",
      " |      -------\n",
      " |      numpy.ndarray\n",
      " |  \n",
      " |  lowerfencesrc\n",
      " |      Sets the source reference on Chart Studio Cloud for  lowerfence\n",
      " |      .\n",
      " |      \n",
      " |      The 'lowerfencesrc' property must be specified as a string or\n",
      " |      as a plotly.grid_objs.Column object\n",
      " |      \n",
      " |      Returns\n",
      " |      -------\n",
      " |      str\n",
      " |  \n",
      " |  marker\n",
      " |      The 'marker' property is an instance of Marker\n",
      " |      that may be specified as:\n",
      " |        - An instance of :class:`plotly.graph_objs.box.Marker`\n",
      " |        - A dict of string/value properties that will be passed\n",
      " |          to the Marker constructor\n",
      " |      \n",
      " |          Supported dict properties:\n",
      " |              \n",
      " |              color\n",
      " |                  Sets themarkercolor. It accepts either a\n",
      " |                  specific color or an array of numbers that are\n",
      " |                  mapped to the colorscale relative to the max\n",
      " |                  and min values of the array or relative to\n",
      " |                  `marker.cmin` and `marker.cmax` if set.\n",
      " |              line\n",
      " |                  :class:`plotly.graph_objects.box.marker.Line`\n",
      " |                  instance or dict with compatible properties\n",
      " |              opacity\n",
      " |                  Sets the marker opacity.\n",
      " |              outliercolor\n",
      " |                  Sets the color of the outlier sample points.\n",
      " |              size\n",
      " |                  Sets the marker size (in px).\n",
      " |              symbol\n",
      " |                  Sets the marker symbol type. Adding 100 is\n",
      " |                  equivalent to appending \"-open\" to a symbol\n",
      " |                  name. Adding 200 is equivalent to appending\n",
      " |                  \"-dot\" to a symbol name. Adding 300 is\n",
      " |                  equivalent to appending \"-open-dot\" or \"dot-\n",
      " |                  open\" to a symbol name.\n",
      " |      \n",
      " |      Returns\n",
      " |      -------\n",
      " |      plotly.graph_objs.box.Marker\n",
      " |  \n",
      " |  mean\n",
      " |      Sets the mean values. There should be as many items as the\n",
      " |      number of boxes desired. This attribute has effect only under\n",
      " |      the q1/median/q3 signature. If `mean` is not provided but a\n",
      " |      sample (in `y` or `x`) is set, we compute the mean for each box\n",
      " |      using the sample values.\n",
      " |      \n",
      " |      The 'mean' property is an array that may be specified as a tuple,\n",
      " |      list, numpy array, or pandas Series\n",
      " |      \n",
      " |      Returns\n",
      " |      -------\n",
      " |      numpy.ndarray\n",
      " |  \n",
      " |  meansrc\n",
      " |      Sets the source reference on Chart Studio Cloud for  mean .\n",
      " |      \n",
      " |      The 'meansrc' property must be specified as a string or\n",
      " |      as a plotly.grid_objs.Column object\n",
      " |      \n",
      " |      Returns\n",
      " |      -------\n",
      " |      str\n",
      " |  \n",
      " |  median\n",
      " |      Sets the median values. There should be as many items as the\n",
      " |      number of boxes desired.\n",
      " |      \n",
      " |      The 'median' property is an array that may be specified as a tuple,\n",
      " |      list, numpy array, or pandas Series\n",
      " |      \n",
      " |      Returns\n",
      " |      -------\n",
      " |      numpy.ndarray\n",
      " |  \n",
      " |  mediansrc\n",
      " |      Sets the source reference on Chart Studio Cloud for  median .\n",
      " |      \n",
      " |      The 'mediansrc' property must be specified as a string or\n",
      " |      as a plotly.grid_objs.Column object\n",
      " |      \n",
      " |      Returns\n",
      " |      -------\n",
      " |      str\n",
      " |  \n",
      " |  meta\n",
      " |      Assigns extra meta information associated with this trace that\n",
      " |      can be used in various text attributes. Attributes such as\n",
      " |      trace `name`, graph, axis and colorbar `title.text`, annotation\n",
      " |      `text` `rangeselector`, `updatemenues` and `sliders` `label`\n",
      " |      text all support `meta`. To access the trace `meta` values in\n",
      " |      an attribute in the same trace, simply use `%{meta[i]}` where\n",
      " |      `i` is the index or key of the `meta` item in question. To\n",
      " |      access trace `meta` in layout attributes, use\n",
      " |      `%{data[n[.meta[i]}` where `i` is the index or key of the\n",
      " |      `meta` and `n` is the trace index.\n",
      " |      \n",
      " |      The 'meta' property accepts values of any type\n",
      " |      \n",
      " |      Returns\n",
      " |      -------\n",
      " |      Any|numpy.ndarray\n",
      " |  \n",
      " |  metasrc\n",
      " |      Sets the source reference on Chart Studio Cloud for  meta .\n",
      " |      \n",
      " |      The 'metasrc' property must be specified as a string or\n",
      " |      as a plotly.grid_objs.Column object\n",
      " |      \n",
      " |      Returns\n",
      " |      -------\n",
      " |      str\n",
      " |  \n",
      " |  name\n",
      " |      Sets the trace name. The trace name appear as the legend item\n",
      " |      and on hover. For box traces, the name will also be used for\n",
      " |      the position coordinate, if `x` and `x0` (`y` and `y0` if\n",
      " |      horizontal) are missing and the position axis is categorical\n",
      " |      \n",
      " |      The 'name' property is a string and must be specified as:\n",
      " |        - A string\n",
      " |        - A number that will be converted to a string\n",
      " |      \n",
      " |      Returns\n",
      " |      -------\n",
      " |      str\n",
      " |  \n",
      " |  notched\n",
      " |      Determines whether or not notches are drawn. Notches displays a\n",
      " |      confidence interval around the median. We compute the\n",
      " |      confidence interval as median +/- 1.57 * IQR / sqrt(N), where\n",
      " |      IQR is the interquartile range and N is the sample size. If two\n",
      " |      boxes' notches do not overlap there is 95% confidence their\n",
      " |      medians differ. See\n",
      " |      https://sites.google.com/site/davidsstatistics/home/notched-\n",
      " |      box-plots for more info. Defaults to False unless `notchwidth`\n",
      " |      or `notchspan` is set.\n",
      " |      \n",
      " |      The 'notched' property must be specified as a bool\n",
      " |      (either True, or False)\n",
      " |      \n",
      " |      Returns\n",
      " |      -------\n",
      " |      bool\n",
      " |  \n",
      " |  notchspan\n",
      " |      Sets the notch span from the boxes' `median` values. There\n",
      " |      should be as many items as the number of boxes desired. This\n",
      " |      attribute has effect only under the q1/median/q3 signature. If\n",
      " |      `notchspan` is not provided but a sample (in `y` or `x`) is\n",
      " |      set, we compute it as 1.57 * IQR / sqrt(N), where N is the\n",
      " |      sample size.\n",
      " |      \n",
      " |      The 'notchspan' property is an array that may be specified as a tuple,\n",
      " |      list, numpy array, or pandas Series\n",
      " |      \n",
      " |      Returns\n",
      " |      -------\n",
      " |      numpy.ndarray\n",
      " |  \n",
      " |  notchspansrc\n",
      " |      Sets the source reference on Chart Studio Cloud for  notchspan\n",
      " |      .\n",
      " |      \n",
      " |      The 'notchspansrc' property must be specified as a string or\n",
      " |      as a plotly.grid_objs.Column object\n",
      " |      \n",
      " |      Returns\n",
      " |      -------\n",
      " |      str\n",
      " |  \n",
      " |  notchwidth\n",
      " |      Sets the width of the notches relative to the box' width. For\n",
      " |      example, with 0, the notches are as wide as the box(es).\n",
      " |      \n",
      " |      The 'notchwidth' property is a number and may be specified as:\n",
      " |        - An int or float in the interval [0, 0.5]\n",
      " |      \n",
      " |      Returns\n",
      " |      -------\n",
      " |      int|float\n",
      " |  \n",
      " |  offsetgroup\n",
      " |      Set several traces linked to the same position axis or matching\n",
      " |      axes to the same offsetgroup where bars of the same position\n",
      " |      coordinate will line up.\n",
      " |      \n",
      " |      The 'offsetgroup' property is a string and must be specified as:\n",
      " |        - A string\n",
      " |        - A number that will be converted to a string\n",
      " |      \n",
      " |      Returns\n",
      " |      -------\n",
      " |      str\n",
      " |  \n",
      " |  opacity\n",
      " |      Sets the opacity of the trace.\n",
      " |      \n",
      " |      The 'opacity' property is a number and may be specified as:\n",
      " |        - An int or float in the interval [0, 1]\n",
      " |      \n",
      " |      Returns\n",
      " |      -------\n",
      " |      int|float\n",
      " |  \n",
      " |  orientation\n",
      " |      Sets the orientation of the box(es). If \"v\" (\"h\"), the\n",
      " |      distribution is visualized along the vertical (horizontal).\n",
      " |      \n",
      " |      The 'orientation' property is an enumeration that may be specified as:\n",
      " |        - One of the following enumeration values:\n",
      " |              ['v', 'h']\n",
      " |      \n",
      " |      Returns\n",
      " |      -------\n",
      " |      Any\n",
      " |  \n",
      " |  pointpos\n",
      " |      Sets the position of the sample points in relation to the\n",
      " |      box(es). If 0, the sample points are places over the center of\n",
      " |      the box(es). Positive (negative) values correspond to positions\n",
      " |      to the right (left) for vertical boxes and above (below) for\n",
      " |      horizontal boxes\n",
      " |      \n",
      " |      The 'pointpos' property is a number and may be specified as:\n",
      " |        - An int or float in the interval [-2, 2]\n",
      " |      \n",
      " |      Returns\n",
      " |      -------\n",
      " |      int|float\n",
      " |  \n",
      " |  q1\n",
      " |      Sets the Quartile 1 values. There should be as many items as\n",
      " |      the number of boxes desired.\n",
      " |      \n",
      " |      The 'q1' property is an array that may be specified as a tuple,\n",
      " |      list, numpy array, or pandas Series\n",
      " |      \n",
      " |      Returns\n",
      " |      -------\n",
      " |      numpy.ndarray\n",
      " |  \n",
      " |  q1src\n",
      " |      Sets the source reference on Chart Studio Cloud for  q1 .\n",
      " |      \n",
      " |      The 'q1src' property must be specified as a string or\n",
      " |      as a plotly.grid_objs.Column object\n",
      " |      \n",
      " |      Returns\n",
      " |      -------\n",
      " |      str\n",
      " |  \n",
      " |  q3\n",
      " |      Sets the Quartile 3 values. There should be as many items as\n",
      " |      the number of boxes desired.\n",
      " |      \n",
      " |      The 'q3' property is an array that may be specified as a tuple,\n",
      " |      list, numpy array, or pandas Series\n",
      " |      \n",
      " |      Returns\n",
      " |      -------\n",
      " |      numpy.ndarray\n",
      " |  \n",
      " |  q3src\n",
      " |      Sets the source reference on Chart Studio Cloud for  q3 .\n",
      " |      \n",
      " |      The 'q3src' property must be specified as a string or\n",
      " |      as a plotly.grid_objs.Column object\n",
      " |      \n",
      " |      Returns\n",
      " |      -------\n",
      " |      str\n",
      " |  \n",
      " |  quartilemethod\n",
      " |      Sets the method used to compute the sample's Q1 and Q3\n",
      " |      quartiles. The \"linear\" method uses the 25th percentile for Q1\n",
      " |      and 75th percentile for Q3 as computed using method #10 (listed\n",
      " |      on http://www.amstat.org/publications/jse/v14n3/langford.html).\n",
      " |      The \"exclusive\" method uses the median to divide the ordered\n",
      " |      dataset into two halves if the sample is odd, it does not\n",
      " |      include the median in either half - Q1 is then the median of\n",
      " |      the lower half and Q3 the median of the upper half. The\n",
      " |      \"inclusive\" method also uses the median to divide the ordered\n",
      " |      dataset into two halves but if the sample is odd, it includes\n",
      " |      the median in both halves - Q1 is then the median of the lower\n",
      " |      half and Q3 the median of the upper half.\n",
      " |      \n",
      " |      The 'quartilemethod' property is an enumeration that may be specified as:\n",
      " |        - One of the following enumeration values:\n",
      " |              ['linear', 'exclusive', 'inclusive']\n",
      " |      \n",
      " |      Returns\n",
      " |      -------\n",
      " |      Any\n",
      " |  \n",
      " |  sd\n",
      " |      Sets the standard deviation values. There should be as many\n",
      " |      items as the number of boxes desired. This attribute has effect\n",
      " |      only under the q1/median/q3 signature. If `sd` is not provided\n",
      " |      but a sample (in `y` or `x`) is set, we compute the standard\n",
      " |      deviation for each box using the sample values.\n",
      " |      \n",
      " |      The 'sd' property is an array that may be specified as a tuple,\n",
      " |      list, numpy array, or pandas Series\n",
      " |      \n",
      " |      Returns\n",
      " |      -------\n",
      " |      numpy.ndarray\n",
      " |  \n",
      " |  sdsrc\n",
      " |      Sets the source reference on Chart Studio Cloud for  sd .\n",
      " |      \n",
      " |      The 'sdsrc' property must be specified as a string or\n",
      " |      as a plotly.grid_objs.Column object\n",
      " |      \n",
      " |      Returns\n",
      " |      -------\n",
      " |      str\n",
      " |  \n",
      " |  selected\n",
      " |      The 'selected' property is an instance of Selected\n",
      " |      that may be specified as:\n",
      " |        - An instance of :class:`plotly.graph_objs.box.Selected`\n",
      " |        - A dict of string/value properties that will be passed\n",
      " |          to the Selected constructor\n",
      " |      \n",
      " |          Supported dict properties:\n",
      " |              \n",
      " |              marker\n",
      " |                  :class:`plotly.graph_objects.box.selected.Marke\n",
      " |                  r` instance or dict with compatible properties\n",
      " |      \n",
      " |      Returns\n",
      " |      -------\n",
      " |      plotly.graph_objs.box.Selected\n",
      " |  \n",
      " |  selectedpoints\n",
      " |      Array containing integer indices of selected points. Has an\n",
      " |      effect only for traces that support selections. Note that an\n",
      " |      empty array means an empty selection where the `unselected` are\n",
      " |      turned on for all points, whereas, any other non-array values\n",
      " |      means no selection all where the `selected` and `unselected`\n",
      " |      styles have no effect.\n",
      " |      \n",
      " |      The 'selectedpoints' property accepts values of any type\n",
      " |      \n",
      " |      Returns\n",
      " |      -------\n",
      " |      Any\n",
      " |  \n",
      " |  showlegend\n",
      " |      Determines whether or not an item corresponding to this trace\n",
      " |      is shown in the legend.\n",
      " |      \n",
      " |      The 'showlegend' property must be specified as a bool\n",
      " |      (either True, or False)\n",
      " |      \n",
      " |      Returns\n",
      " |      -------\n",
      " |      bool\n",
      " |  \n",
      " |  stream\n",
      " |      The 'stream' property is an instance of Stream\n",
      " |      that may be specified as:\n",
      " |        - An instance of :class:`plotly.graph_objs.box.Stream`\n",
      " |        - A dict of string/value properties that will be passed\n",
      " |          to the Stream constructor\n",
      " |      \n",
      " |          Supported dict properties:\n",
      " |              \n",
      " |              maxpoints\n",
      " |                  Sets the maximum number of points to keep on\n",
      " |                  the plots from an incoming stream. If\n",
      " |                  `maxpoints` is set to 50, only the newest 50\n",
      " |                  points will be displayed on the plot.\n",
      " |              token\n",
      " |                  The stream id number links a data trace on a\n",
      " |                  plot with a stream. See https://chart-\n",
      " |                  studio.plotly.com/settings for more details.\n",
      " |      \n",
      " |      Returns\n",
      " |      -------\n",
      " |      plotly.graph_objs.box.Stream\n",
      " |  \n",
      " |  text\n",
      " |      Sets the text elements associated with each sample value. If a\n",
      " |      single string, the same string appears over all the data\n",
      " |      points. If an array of string, the items are mapped in order to\n",
      " |      the this trace's (x,y) coordinates. To be seen, trace\n",
      " |      `hoverinfo` must contain a \"text\" flag.\n",
      " |      \n",
      " |      The 'text' property is a string and must be specified as:\n",
      " |        - A string\n",
      " |        - A number that will be converted to a string\n",
      " |        - A tuple, list, or one-dimensional numpy array of the above\n",
      " |      \n",
      " |      Returns\n",
      " |      -------\n",
      " |      str|numpy.ndarray\n",
      " |  \n",
      " |  textsrc\n",
      " |      Sets the source reference on Chart Studio Cloud for  text .\n",
      " |      \n",
      " |      The 'textsrc' property must be specified as a string or\n",
      " |      as a plotly.grid_objs.Column object\n",
      " |      \n",
      " |      Returns\n",
      " |      -------\n",
      " |      str\n",
      " |  \n",
      " |  uid\n",
      " |      Assign an id to this trace, Use this to provide object\n",
      " |      constancy between traces during animations and transitions.\n",
      " |      \n",
      " |      The 'uid' property is a string and must be specified as:\n",
      " |        - A string\n",
      " |        - A number that will be converted to a string\n",
      " |      \n",
      " |      Returns\n",
      " |      -------\n",
      " |      str\n",
      " |  \n",
      " |  uirevision\n",
      " |      Controls persistence of some user-driven changes to the trace:\n",
      " |      `constraintrange` in `parcoords` traces, as well as some\n",
      " |      `editable: true` modifications such as `name` and\n",
      " |      `colorbar.title`. Defaults to `layout.uirevision`. Note that\n",
      " |      other user-driven trace attribute changes are controlled by\n",
      " |      `layout` attributes: `trace.visible` is controlled by\n",
      " |      `layout.legend.uirevision`, `selectedpoints` is controlled by\n",
      " |      `layout.selectionrevision`, and `colorbar.(x|y)` (accessible\n",
      " |      with `config: {editable: true}`) is controlled by\n",
      " |      `layout.editrevision`. Trace changes are tracked by `uid`,\n",
      " |      which only falls back on trace index if no `uid` is provided.\n",
      " |      So if your app can add/remove traces before the end of the\n",
      " |      `data` array, such that the same trace has a different index,\n",
      " |      you can still preserve user-driven changes if you give each\n",
      " |      trace a `uid` that stays with it as it moves.\n",
      " |      \n",
      " |      The 'uirevision' property accepts values of any type\n",
      " |      \n",
      " |      Returns\n",
      " |      -------\n",
      " |      Any\n",
      " |  \n",
      " |  unselected\n",
      " |      The 'unselected' property is an instance of Unselected\n",
      " |      that may be specified as:\n",
      " |        - An instance of :class:`plotly.graph_objs.box.Unselected`\n",
      " |        - A dict of string/value properties that will be passed\n",
      " |          to the Unselected constructor\n",
      " |      \n",
      " |          Supported dict properties:\n",
      " |              \n",
      " |              marker\n",
      " |                  :class:`plotly.graph_objects.box.unselected.Mar\n",
      " |                  ker` instance or dict with compatible\n",
      " |                  properties\n",
      " |      \n",
      " |      Returns\n",
      " |      -------\n",
      " |      plotly.graph_objs.box.Unselected\n",
      " |  \n",
      " |  upperfence\n",
      " |      Sets the upper fence values. There should be as many items as\n",
      " |      the number of boxes desired. This attribute has effect only\n",
      " |      under the q1/median/q3 signature. If `upperfence` is not\n",
      " |      provided but a sample (in `y` or `x`) is set, we compute the\n",
      " |      lower as the last sample point above 1.5 times the IQR.\n",
      " |      \n",
      " |      The 'upperfence' property is an array that may be specified as a tuple,\n",
      " |      list, numpy array, or pandas Series\n",
      " |      \n",
      " |      Returns\n",
      " |      -------\n",
      " |      numpy.ndarray\n",
      " |  \n",
      " |  upperfencesrc\n",
      " |      Sets the source reference on Chart Studio Cloud for  upperfence\n",
      " |      .\n",
      " |      \n",
      " |      The 'upperfencesrc' property must be specified as a string or\n",
      " |      as a plotly.grid_objs.Column object\n",
      " |      \n",
      " |      Returns\n",
      " |      -------\n",
      " |      str\n",
      " |  \n",
      " |  visible\n",
      " |      Determines whether or not this trace is visible. If\n",
      " |      \"legendonly\", the trace is not drawn, but can appear as a\n",
      " |      legend item (provided that the legend itself is visible).\n",
      " |      \n",
      " |      The 'visible' property is an enumeration that may be specified as:\n",
      " |        - One of the following enumeration values:\n",
      " |              [True, False, 'legendonly']\n",
      " |      \n",
      " |      Returns\n",
      " |      -------\n",
      " |      Any\n",
      " |  \n",
      " |  whiskerwidth\n",
      " |      Sets the width of the whiskers relative to the box' width. For\n",
      " |      example, with 1, the whiskers are as wide as the box(es).\n",
      " |      \n",
      " |      The 'whiskerwidth' property is a number and may be specified as:\n",
      " |        - An int or float in the interval [0, 1]\n",
      " |      \n",
      " |      Returns\n",
      " |      -------\n",
      " |      int|float\n",
      " |  \n",
      " |  width\n",
      " |      Sets the width of the box in data coordinate If 0 (default\n",
      " |      value) the width is automatically selected based on the\n",
      " |      positions of other box traces in the same subplot.\n",
      " |      \n",
      " |      The 'width' property is a number and may be specified as:\n",
      " |        - An int or float in the interval [0, inf]\n",
      " |      \n",
      " |      Returns\n",
      " |      -------\n",
      " |      int|float\n",
      " |  \n",
      " |  x\n",
      " |      Sets the x sample data or coordinates. See overview for more\n",
      " |      info.\n",
      " |      \n",
      " |      The 'x' property is an array that may be specified as a tuple,\n",
      " |      list, numpy array, or pandas Series\n",
      " |      \n",
      " |      Returns\n",
      " |      -------\n",
      " |      numpy.ndarray\n",
      " |  \n",
      " |  x0\n",
      " |      Sets the x coordinate for single-box traces or the starting\n",
      " |      coordinate for multi-box traces set using q1/median/q3. See\n",
      " |      overview for more info.\n",
      " |      \n",
      " |      The 'x0' property accepts values of any type\n",
      " |      \n",
      " |      Returns\n",
      " |      -------\n",
      " |      Any\n",
      " |  \n",
      " |  xaxis\n",
      " |      Sets a reference between this trace's x coordinates and a 2D\n",
      " |      cartesian x axis. If \"x\" (the default value), the x coordinates\n",
      " |      refer to `layout.xaxis`. If \"x2\", the x coordinates refer to\n",
      " |      `layout.xaxis2`, and so on.\n",
      " |      \n",
      " |      The 'xaxis' property is an identifier of a particular\n",
      " |      subplot, of type 'x', that may be specified as the string 'x'\n",
      " |      optionally followed by an integer >= 1\n",
      " |      (e.g. 'x', 'x1', 'x2', 'x3', etc.)\n",
      " |      \n",
      " |      Returns\n",
      " |      -------\n",
      " |      str\n",
      " |  \n",
      " |  xcalendar\n",
      " |      Sets the calendar system to use with `x` date data.\n",
      " |      \n",
      " |      The 'xcalendar' property is an enumeration that may be specified as:\n",
      " |        - One of the following enumeration values:\n",
      " |              ['chinese', 'coptic', 'discworld', 'ethiopian',\n",
      " |              'gregorian', 'hebrew', 'islamic', 'jalali', 'julian',\n",
      " |              'mayan', 'nanakshahi', 'nepali', 'persian', 'taiwan',\n",
      " |              'thai', 'ummalqura']\n",
      " |      \n",
      " |      Returns\n",
      " |      -------\n",
      " |      Any\n",
      " |  \n",
      " |  xhoverformat\n",
      " |      Sets the hover text formatting rulefor `x`  using d3 formatting\n",
      " |      mini-languages which are very similar to those in Python. For\n",
      " |      numbers, see:\n",
      " |      https://github.com/d3/d3-format/tree/v1.4.5#d3-format. And for\n",
      " |      dates see: https://github.com/d3/d3-time-\n",
      " |      format/tree/v2.2.3#locale_format. We add two items to d3's date\n",
      " |      formatter: \"%h\" for half of the year as a decimal number as\n",
      " |      well as \"%{n}f\" for fractional seconds with n digits. For\n",
      " |      example, *2016-10-13 09:15:23.456* with tickformat\n",
      " |      \"%H~%M~%S.%2f\" would display *09~15~23.46*By default the values\n",
      " |      are formatted using `xaxis.hoverformat`.\n",
      " |      \n",
      " |      The 'xhoverformat' property is a string and must be specified as:\n",
      " |        - A string\n",
      " |        - A number that will be converted to a string\n",
      " |      \n",
      " |      Returns\n",
      " |      -------\n",
      " |      str\n",
      " |  \n",
      " |  xperiod\n",
      " |      Only relevant when the axis `type` is \"date\". Sets the period\n",
      " |      positioning in milliseconds or \"M<n>\" on the x axis. Special\n",
      " |      values in the form of \"M<n>\" could be used to declare the\n",
      " |      number of months. In this case `n` must be a positive integer.\n",
      " |      \n",
      " |      The 'xperiod' property accepts values of any type\n",
      " |      \n",
      " |      Returns\n",
      " |      -------\n",
      " |      Any\n",
      " |  \n",
      " |  xperiod0\n",
      " |      Only relevant when the axis `type` is \"date\". Sets the base for\n",
      " |      period positioning in milliseconds or date string on the x0\n",
      " |      axis. When `x0period` is round number of weeks, the `x0period0`\n",
      " |      by default would be on a Sunday i.e. 2000-01-02, otherwise it\n",
      " |      would be at 2000-01-01.\n",
      " |      \n",
      " |      The 'xperiod0' property accepts values of any type\n",
      " |      \n",
      " |      Returns\n",
      " |      -------\n",
      " |      Any\n",
      " |  \n",
      " |  xperiodalignment\n",
      " |      Only relevant when the axis `type` is \"date\". Sets the\n",
      " |      alignment of data points on the x axis.\n",
      " |      \n",
      " |      The 'xperiodalignment' property is an enumeration that may be specified as:\n",
      " |        - One of the following enumeration values:\n",
      " |              ['start', 'middle', 'end']\n",
      " |      \n",
      " |      Returns\n",
      " |      -------\n",
      " |      Any\n",
      " |  \n",
      " |  xsrc\n",
      " |      Sets the source reference on Chart Studio Cloud for  x .\n",
      " |      \n",
      " |      The 'xsrc' property must be specified as a string or\n",
      " |      as a plotly.grid_objs.Column object\n",
      " |      \n",
      " |      Returns\n",
      " |      -------\n",
      " |      str\n",
      " |  \n",
      " |  y\n",
      " |      Sets the y sample data or coordinates. See overview for more\n",
      " |      info.\n",
      " |      \n",
      " |      The 'y' property is an array that may be specified as a tuple,\n",
      " |      list, numpy array, or pandas Series\n",
      " |      \n",
      " |      Returns\n",
      " |      -------\n",
      " |      numpy.ndarray\n",
      " |  \n",
      " |  y0\n",
      " |      Sets the y coordinate for single-box traces or the starting\n",
      " |      coordinate for multi-box traces set using q1/median/q3. See\n",
      " |      overview for more info.\n",
      " |      \n",
      " |      The 'y0' property accepts values of any type\n",
      " |      \n",
      " |      Returns\n",
      " |      -------\n",
      " |      Any\n",
      " |  \n",
      " |  yaxis\n",
      " |      Sets a reference between this trace's y coordinates and a 2D\n",
      " |      cartesian y axis. If \"y\" (the default value), the y coordinates\n",
      " |      refer to `layout.yaxis`. If \"y2\", the y coordinates refer to\n",
      " |      `layout.yaxis2`, and so on.\n",
      " |      \n",
      " |      The 'yaxis' property is an identifier of a particular\n",
      " |      subplot, of type 'y', that may be specified as the string 'y'\n",
      " |      optionally followed by an integer >= 1\n",
      " |      (e.g. 'y', 'y1', 'y2', 'y3', etc.)\n",
      " |      \n",
      " |      Returns\n",
      " |      -------\n",
      " |      str\n",
      " |  \n",
      " |  ycalendar\n",
      " |      Sets the calendar system to use with `y` date data.\n",
      " |      \n",
      " |      The 'ycalendar' property is an enumeration that may be specified as:\n",
      " |        - One of the following enumeration values:\n",
      " |              ['chinese', 'coptic', 'discworld', 'ethiopian',\n",
      " |              'gregorian', 'hebrew', 'islamic', 'jalali', 'julian',\n",
      " |              'mayan', 'nanakshahi', 'nepali', 'persian', 'taiwan',\n",
      " |              'thai', 'ummalqura']\n",
      " |      \n",
      " |      Returns\n",
      " |      -------\n",
      " |      Any\n",
      " |  \n",
      " |  yhoverformat\n",
      " |      Sets the hover text formatting rulefor `y`  using d3 formatting\n",
      " |      mini-languages which are very similar to those in Python. For\n",
      " |      numbers, see:\n",
      " |      https://github.com/d3/d3-format/tree/v1.4.5#d3-format. And for\n",
      " |      dates see: https://github.com/d3/d3-time-\n",
      " |      format/tree/v2.2.3#locale_format. We add two items to d3's date\n",
      " |      formatter: \"%h\" for half of the year as a decimal number as\n",
      " |      well as \"%{n}f\" for fractional seconds with n digits. For\n",
      " |      example, *2016-10-13 09:15:23.456* with tickformat\n",
      " |      \"%H~%M~%S.%2f\" would display *09~15~23.46*By default the values\n",
      " |      are formatted using `yaxis.hoverformat`.\n",
      " |      \n",
      " |      The 'yhoverformat' property is a string and must be specified as:\n",
      " |        - A string\n",
      " |        - A number that will be converted to a string\n",
      " |      \n",
      " |      Returns\n",
      " |      -------\n",
      " |      str\n",
      " |  \n",
      " |  yperiod\n",
      " |      Only relevant when the axis `type` is \"date\". Sets the period\n",
      " |      positioning in milliseconds or \"M<n>\" on the y axis. Special\n",
      " |      values in the form of \"M<n>\" could be used to declare the\n",
      " |      number of months. In this case `n` must be a positive integer.\n",
      " |      \n",
      " |      The 'yperiod' property accepts values of any type\n",
      " |      \n",
      " |      Returns\n",
      " |      -------\n",
      " |      Any\n",
      " |  \n",
      " |  yperiod0\n",
      " |      Only relevant when the axis `type` is \"date\". Sets the base for\n",
      " |      period positioning in milliseconds or date string on the y0\n",
      " |      axis. When `y0period` is round number of weeks, the `y0period0`\n",
      " |      by default would be on a Sunday i.e. 2000-01-02, otherwise it\n",
      " |      would be at 2000-01-01.\n",
      " |      \n",
      " |      The 'yperiod0' property accepts values of any type\n",
      " |      \n",
      " |      Returns\n",
      " |      -------\n",
      " |      Any\n",
      " |  \n",
      " |  yperiodalignment\n",
      " |      Only relevant when the axis `type` is \"date\". Sets the\n",
      " |      alignment of data points on the y axis.\n",
      " |      \n",
      " |      The 'yperiodalignment' property is an enumeration that may be specified as:\n",
      " |        - One of the following enumeration values:\n",
      " |              ['start', 'middle', 'end']\n",
      " |      \n",
      " |      Returns\n",
      " |      -------\n",
      " |      Any\n",
      " |  \n",
      " |  ysrc\n",
      " |      Sets the source reference on Chart Studio Cloud for  y .\n",
      " |      \n",
      " |      The 'ysrc' property must be specified as a string or\n",
      " |      as a plotly.grid_objs.Column object\n",
      " |      \n",
      " |      Returns\n",
      " |      -------\n",
      " |      str\n",
      " |  \n",
      " |  ----------------------------------------------------------------------\n",
      " |  Methods inherited from plotly.basedatatypes.BaseTraceType:\n",
      " |  \n",
      " |  on_click(self, callback, append=False)\n",
      " |      Register function to be called when the user clicks on one or more\n",
      " |      points in this trace.\n",
      " |      \n",
      " |      Note: Callbacks will only be triggered when the trace belongs to a\n",
      " |      instance of plotly.graph_objs.FigureWidget and it is displayed in an\n",
      " |      ipywidget context. Callbacks will not be triggered on figures\n",
      " |      that are displayed using plot/iplot.\n",
      " |      \n",
      " |      Parameters\n",
      " |      ----------\n",
      " |      callback\n",
      " |          Callable function that accepts 3 arguments\n",
      " |      \n",
      " |          - this trace\n",
      " |          - plotly.callbacks.Points object\n",
      " |          - plotly.callbacks.InputDeviceState object\n",
      " |      \n",
      " |      append : bool\n",
      " |          If False (the default), this callback replaces any previously\n",
      " |          defined on_click callbacks for this trace. If True,\n",
      " |          this callback is appended to the list of any previously defined\n",
      " |          callbacks.\n",
      " |      \n",
      " |      Returns\n",
      " |      -------\n",
      " |      None\n",
      " |      \n",
      " |      Examples\n",
      " |      --------\n",
      " |      \n",
      " |      >>> import plotly.graph_objects as go\n",
      " |      >>> from plotly.callbacks import Points, InputDeviceState\n",
      " |      >>> points, state = Points(), InputDeviceState()\n",
      " |      \n",
      " |      >>> def click_fn(trace, points, state):\n",
      " |      ...     inds = points.point_inds\n",
      " |      ...     # Do something\n",
      " |      \n",
      " |      >>> trace = go.Scatter(x=[1, 2], y=[3, 0])\n",
      " |      >>> trace.on_click(click_fn)\n",
      " |      \n",
      " |      Note: The creation of the `points` and `state` objects is optional,\n",
      " |      it's simply a convenience to help the text editor perform completion\n",
      " |      on the arguments inside `click_fn`\n",
      " |  \n",
      " |  on_deselect(self, callback, append=False)\n",
      " |      Register function to be called when the user deselects points\n",
      " |      in this trace using doubleclick.\n",
      " |      \n",
      " |      Note: Callbacks will only be triggered when the trace belongs to a\n",
      " |      instance of plotly.graph_objs.FigureWidget and it is displayed in an\n",
      " |      ipywidget context. Callbacks will not be triggered on figures\n",
      " |      that are displayed using plot/iplot.\n",
      " |      \n",
      " |      Parameters\n",
      " |      ----------\n",
      " |      callback\n",
      " |          Callable function that accepts 3 arguments\n",
      " |      \n",
      " |          - this trace\n",
      " |          - plotly.callbacks.Points object\n",
      " |      \n",
      " |      append : bool\n",
      " |          If False (the default), this callback replaces any previously\n",
      " |          defined on_deselect callbacks for this trace. If True,\n",
      " |          this callback is appended to the list of any previously defined\n",
      " |          callbacks.\n",
      " |      \n",
      " |      Returns\n",
      " |      -------\n",
      " |      None\n",
      " |      \n",
      " |      Examples\n",
      " |      --------\n",
      " |      \n",
      " |      >>> import plotly.graph_objects as go\n",
      " |      >>> from plotly.callbacks import Points\n",
      " |      >>> points = Points()\n",
      " |      \n",
      " |      >>> def deselect_fn(trace, points):\n",
      " |      ...     inds = points.point_inds\n",
      " |      ...     # Do something\n",
      " |      \n",
      " |      >>> trace = go.Scatter(x=[1, 2], y=[3, 0])\n",
      " |      >>> trace.on_deselect(deselect_fn)\n",
      " |      \n",
      " |      Note: The creation of the `points` object is optional,\n",
      " |      it's simply a convenience to help the text editor perform completion\n",
      " |      on the `points` arguments inside `selection_fn`\n",
      " |  \n",
      " |  on_hover(self, callback, append=False)\n",
      " |      Register function to be called when the user hovers over one or more\n",
      " |      points in this trace\n",
      " |      \n",
      " |      Note: Callbacks will only be triggered when the trace belongs to a\n",
      " |      instance of plotly.graph_objs.FigureWidget and it is displayed in an\n",
      " |      ipywidget context. Callbacks will not be triggered on figures\n",
      " |      that are displayed using plot/iplot.\n",
      " |      \n",
      " |      Parameters\n",
      " |      ----------\n",
      " |      callback\n",
      " |          Callable function that accepts 3 arguments\n",
      " |      \n",
      " |          - this trace\n",
      " |          - plotly.callbacks.Points object\n",
      " |          - plotly.callbacks.InputDeviceState object\n",
      " |      \n",
      " |      append : bool\n",
      " |          If False (the default), this callback replaces any previously\n",
      " |          defined on_hover callbacks for this trace. If True,\n",
      " |          this callback is appended to the list of any previously defined\n",
      " |          callbacks.\n",
      " |      \n",
      " |      Returns\n",
      " |      -------\n",
      " |      None\n",
      " |      \n",
      " |      Examples\n",
      " |      --------\n",
      " |      \n",
      " |      >>> import plotly.graph_objects as go\n",
      " |      >>> from plotly.callbacks import Points, InputDeviceState\n",
      " |      >>> points, state = Points(), InputDeviceState()\n",
      " |      \n",
      " |      >>> def hover_fn(trace, points, state):\n",
      " |      ...     inds = points.point_inds\n",
      " |      ...     # Do something\n",
      " |      \n",
      " |      >>> trace = go.Scatter(x=[1, 2], y=[3, 0])\n",
      " |      >>> trace.on_hover(hover_fn)\n",
      " |      \n",
      " |      Note: The creation of the `points` and `state` objects is optional,\n",
      " |      it's simply a convenience to help the text editor perform completion\n",
      " |      on the arguments inside `hover_fn`\n",
      " |  \n",
      " |  on_selection(self, callback, append=False)\n",
      " |      Register function to be called when the user selects one or more\n",
      " |      points in this trace.\n",
      " |      \n",
      " |      Note: Callbacks will only be triggered when the trace belongs to a\n",
      " |      instance of plotly.graph_objs.FigureWidget and it is displayed in an\n",
      " |      ipywidget context. Callbacks will not be triggered on figures\n",
      " |      that are displayed using plot/iplot.\n",
      " |      \n",
      " |      Parameters\n",
      " |      ----------\n",
      " |      callback\n",
      " |          Callable function that accepts 4 arguments\n",
      " |      \n",
      " |          - this trace\n",
      " |          - plotly.callbacks.Points object\n",
      " |          - plotly.callbacks.BoxSelector or plotly.callbacks.LassoSelector\n",
      " |      \n",
      " |      append : bool\n",
      " |          If False (the default), this callback replaces any previously\n",
      " |          defined on_selection callbacks for this trace. If True,\n",
      " |          this callback is appended to the list of any previously defined\n",
      " |          callbacks.\n",
      " |      \n",
      " |      Returns\n",
      " |      -------\n",
      " |      None\n",
      " |      \n",
      " |      Examples\n",
      " |      --------\n",
      " |      \n",
      " |      >>> import plotly.graph_objects as go\n",
      " |      >>> from plotly.callbacks import Points\n",
      " |      >>> points = Points()\n",
      " |      \n",
      " |      >>> def selection_fn(trace, points, selector):\n",
      " |      ...     inds = points.point_inds\n",
      " |      ...     # Do something\n",
      " |      \n",
      " |      >>> trace = go.Scatter(x=[1, 2], y=[3, 0])\n",
      " |      >>> trace.on_selection(selection_fn)\n",
      " |      \n",
      " |      Note: The creation of the `points` object is optional,\n",
      " |      it's simply a convenience to help the text editor perform completion\n",
      " |      on the `points` arguments inside `selection_fn`\n",
      " |  \n",
      " |  on_unhover(self, callback, append=False)\n",
      " |      Register function to be called when the user unhovers away from one\n",
      " |      or more points in this trace.\n",
      " |      \n",
      " |      Note: Callbacks will only be triggered when the trace belongs to a\n",
      " |      instance of plotly.graph_objs.FigureWidget and it is displayed in an\n",
      " |      ipywidget context. Callbacks will not be triggered on figures\n",
      " |      that are displayed using plot/iplot.\n",
      " |      \n",
      " |      Parameters\n",
      " |      ----------\n",
      " |      callback\n",
      " |          Callable function that accepts 3 arguments\n",
      " |      \n",
      " |          - this trace\n",
      " |          - plotly.callbacks.Points object\n",
      " |          - plotly.callbacks.InputDeviceState object\n",
      " |      \n",
      " |      append : bool\n",
      " |          If False (the default), this callback replaces any previously\n",
      " |          defined on_unhover callbacks for this trace. If True,\n",
      " |          this callback is appended to the list of any previously defined\n",
      " |          callbacks.\n",
      " |      \n",
      " |      Returns\n",
      " |      -------\n",
      " |      None\n",
      " |      \n",
      " |      Examples\n",
      " |      --------\n",
      " |      \n",
      " |      >>> import plotly.graph_objects as go\n",
      " |      >>> from plotly.callbacks import Points, InputDeviceState\n",
      " |      >>> points, state = Points(), InputDeviceState()\n",
      " |      \n",
      " |      >>> def unhover_fn(trace, points, state):\n",
      " |      ...     inds = points.point_inds\n",
      " |      ...     # Do something\n",
      " |      \n",
      " |      >>> trace = go.Scatter(x=[1, 2], y=[3, 0])\n",
      " |      >>> trace.on_unhover(unhover_fn)\n",
      " |      \n",
      " |      Note: The creation of the `points` and `state` objects is optional,\n",
      " |      it's simply a convenience to help the text editor perform completion\n",
      " |      on the arguments inside `unhover_fn`\n",
      " |  \n",
      " |  ----------------------------------------------------------------------\n",
      " |  Methods inherited from plotly.basedatatypes.BasePlotlyType:\n",
      " |  \n",
      " |  __contains__(self, prop)\n",
      " |      Determine whether object contains a property or nested property\n",
      " |      \n",
      " |      Parameters\n",
      " |      ----------\n",
      " |      prop : str|tuple\n",
      " |          If prop is a simple string (e.g. 'foo'), then return true of the\n",
      " |          object contains an element named 'foo'\n",
      " |      \n",
      " |          If prop is a property path string (e.g. 'foo[0].bar'),\n",
      " |          then return true if the obejct contains the nested elements for\n",
      " |          each entry in the path string (e.g. 'bar' in obj['foo'][0])\n",
      " |      \n",
      " |          If prop is a property path tuple (e.g. ('foo', 0, 'bar')),\n",
      " |          then return true if the object contains the nested elements for\n",
      " |          each entry in the path string (e.g. 'bar' in obj['foo'][0])\n",
      " |      \n",
      " |      Returns\n",
      " |      -------\n",
      " |      bool\n",
      " |  \n",
      " |  __eq__(self, other)\n",
      " |      Test for equality\n",
      " |      \n",
      " |      To be considered equal, `other` must have the same type as this object\n",
      " |      and their `to_plotly_json` representaitons must be identical.\n",
      " |      \n",
      " |      Parameters\n",
      " |      ----------\n",
      " |      other\n",
      " |          The object to compare against\n",
      " |      \n",
      " |      Returns\n",
      " |      -------\n",
      " |      bool\n",
      " |  \n",
      " |  __getitem__(self, prop)\n",
      " |      Get item or nested item from object\n",
      " |      \n",
      " |      Parameters\n",
      " |      ----------\n",
      " |      prop : str|tuple\n",
      " |      \n",
      " |          If prop is the name of a property of this object, then the\n",
      " |          property is returned.\n",
      " |      \n",
      " |          If prop is a nested property path string (e.g. 'foo[1].bar'),\n",
      " |          then a nested property is returned (e.g. obj['foo'][1]['bar'])\n",
      " |      \n",
      " |          If prop is a path tuple (e.g. ('foo', 1, 'bar')), then a nested\n",
      " |          property is returned (e.g. obj['foo'][1]['bar']).\n",
      " |      \n",
      " |      Returns\n",
      " |      -------\n",
      " |      Any\n",
      " |  \n",
      " |  __iter__(self)\n",
      " |      Return an iterator over the object's properties\n",
      " |  \n",
      " |  __reduce__(self)\n",
      " |      Custom implementation of reduce is used to support deep copying\n",
      " |      and pickling\n",
      " |  \n",
      " |  __repr__(self)\n",
      " |      Customize object representation when displayed in the\n",
      " |      terminal/notebook\n",
      " |  \n",
      " |  __setattr__(self, prop, value)\n",
      " |      Parameters\n",
      " |      ----------\n",
      " |      prop : str\n",
      " |          The name of a direct child of this object\n",
      " |      value\n",
      " |          New property value\n",
      " |      Returns\n",
      " |      -------\n",
      " |      None\n",
      " |  \n",
      " |  __setitem__(self, prop, value)\n",
      " |      Parameters\n",
      " |      ----------\n",
      " |      prop : str\n",
      " |          The name of a direct child of this object\n",
      " |      \n",
      " |          Note: Setting nested properties using property path string or\n",
      " |          property path tuples is not supported.\n",
      " |      value\n",
      " |          New property value\n",
      " |      \n",
      " |      Returns\n",
      " |      -------\n",
      " |      None\n",
      " |  \n",
      " |  on_change(self, callback, *args, **kwargs)\n",
      " |      Register callback function to be called when certain properties or\n",
      " |      subproperties of this object are modified.\n",
      " |      \n",
      " |      Callback will be invoked whenever ANY of these properties is\n",
      " |      modified. Furthermore, the callback will only be invoked once even\n",
      " |      if multiple properties are modified during the same restyle /\n",
      " |      relayout / update operation.\n",
      " |      \n",
      " |      Parameters\n",
      " |      ----------\n",
      " |      callback : function\n",
      " |          Function that accepts 1 + len(`args`) parameters. First parameter\n",
      " |          is this object. Second through last parameters are the\n",
      " |          property / subpropery values referenced by args.\n",
      " |      args : list[str|tuple[int|str]]\n",
      " |          List of property references where each reference may be one of:\n",
      " |      \n",
      " |            1) A property name string (e.g. 'foo') for direct properties\n",
      " |            2) A property path string (e.g. 'foo[0].bar') for\n",
      " |               subproperties\n",
      " |            3) A property path tuple (e.g. ('foo', 0, 'bar')) for\n",
      " |               subproperties\n",
      " |      \n",
      " |      append : bool\n",
      " |          True if callback should be appended to previously registered\n",
      " |          callback on the same properties, False if callback should replace\n",
      " |          previously registered callbacks on the same properties. Defaults\n",
      " |          to False.\n",
      " |      \n",
      " |      Examples\n",
      " |      --------\n",
      " |      \n",
      " |      Register callback that prints out the range extents of the xaxis and\n",
      " |      yaxis whenever either either of them changes.\n",
      " |      \n",
      " |      >>> import plotly.graph_objects as go\n",
      " |      >>> fig = go.Figure(go.Scatter(x=[1, 2], y=[1, 0]))\n",
      " |      >>> fig.layout.on_change(\n",
      " |      ...   lambda obj, xrange, yrange: print(\"%s-%s\" % (xrange, yrange)),\n",
      " |      ...   ('xaxis', 'range'), ('yaxis', 'range'))\n",
      " |      \n",
      " |      \n",
      " |      Returns\n",
      " |      -------\n",
      " |      None\n",
      " |  \n",
      " |  pop(self, key, *args)\n",
      " |      Remove the value associated with the specified key and return it\n",
      " |      \n",
      " |      Parameters\n",
      " |      ----------\n",
      " |      key: str\n",
      " |          Property name\n",
      " |      dflt\n",
      " |          The default value to return if key was not found in object\n",
      " |      \n",
      " |      Returns\n",
      " |      -------\n",
      " |      value\n",
      " |          The removed value that was previously associated with key\n",
      " |      \n",
      " |      Raises\n",
      " |      ------\n",
      " |      KeyError\n",
      " |          If key is not in object and no dflt argument specified\n",
      " |  \n",
      " |  to_plotly_json(self)\n",
      " |      Return plotly JSON representation of object as a Python dict\n",
      " |      \n",
      " |      Returns\n",
      " |      -------\n",
      " |      dict\n",
      " |  \n",
      " |  update(self, dict1=None, overwrite=False, **kwargs)\n",
      " |      Update the properties of an object with a dict and/or with\n",
      " |      keyword arguments.\n",
      " |      \n",
      " |      This recursively updates the structure of the original\n",
      " |      object with the values in the input dict / keyword arguments.\n",
      " |      \n",
      " |      Parameters\n",
      " |      ----------\n",
      " |      dict1 : dict\n",
      " |          Dictionary of properties to be updated\n",
      " |      overwrite: bool\n",
      " |          If True, overwrite existing properties. If False, apply updates\n",
      " |          to existing properties recursively, preserving existing\n",
      " |          properties that are not specified in the update operation.\n",
      " |      kwargs :\n",
      " |          Keyword/value pair of properties to be updated\n",
      " |      \n",
      " |      Returns\n",
      " |      -------\n",
      " |      BasePlotlyType\n",
      " |          Updated plotly object\n",
      " |  \n",
      " |  ----------------------------------------------------------------------\n",
      " |  Readonly properties inherited from plotly.basedatatypes.BasePlotlyType:\n",
      " |  \n",
      " |  figure\n",
      " |      Reference to the top-level Figure or FigureWidget that this object\n",
      " |      belongs to. None if the object does not belong to a Figure\n",
      " |      \n",
      " |      Returns\n",
      " |      -------\n",
      " |      Union[BaseFigure, None]\n",
      " |  \n",
      " |  parent\n",
      " |      Return the object's parent, or None if the object has no parent\n",
      " |      Returns\n",
      " |      -------\n",
      " |      BasePlotlyType|BaseFigure\n",
      " |  \n",
      " |  plotly_name\n",
      " |      The plotly name of the object\n",
      " |      \n",
      " |      Returns\n",
      " |      -------\n",
      " |      str\n",
      " |  \n",
      " |  ----------------------------------------------------------------------\n",
      " |  Data descriptors inherited from plotly.basedatatypes.BasePlotlyType:\n",
      " |  \n",
      " |  __dict__\n",
      " |      dictionary for instance variables (if defined)\n",
      " |  \n",
      " |  __weakref__\n",
      " |      list of weak references to the object (if defined)\n",
      " |  \n",
      " |  ----------------------------------------------------------------------\n",
      " |  Data and other attributes inherited from plotly.basedatatypes.BasePlotlyType:\n",
      " |  \n",
      " |  __hash__ = None\n",
      "\n"
     ]
    }
   ],
   "source": [
    "import plotly.graph_objects as go \n",
    "help(go.Box())"
   ]
  },
  {
   "cell_type": "code",
   "execution_count": 65,
   "metadata": {},
   "outputs": [],
   "source": []
  },
  {
   "cell_type": "code",
   "execution_count": 67,
   "metadata": {},
   "outputs": [
    {
     "data": {
      "application/vnd.plotly.v1+json": {
       "config": {
        "plotlyServerURL": "https://plot.ly"
       },
       "data": [
        {
         "hovertemplate": "Feb=%{x}<br>kde=%{y}<extra></extra>",
         "legendgroup": "",
         "line": {
          "color": "#636efa"
         },
         "marker": {
          "symbol": "circle"
         },
         "mode": "lines",
         "name": "",
         "orientation": "v",
         "showlegend": false,
         "stackgroup": "1",
         "type": "scatter",
         "x": [
          3543639,
          3248144,
          3078405,
          2998119,
          2966477,
          2610667,
          2595676,
          2515361,
          2359800,
          2304990,
          2223024,
          0
         ],
         "xaxis": "x",
         "y": [
          2.7926800700379535e-07,
          4.054695579159466e-07,
          4.6628750162728964e-07,
          4.890808804658093e-07,
          4.967558758831447e-07,
          5.199707252536733e-07,
          5.181544664701383e-07,
          5.045299365955382e-07,
          4.606940876831626e-07,
          4.4046323970462613e-07,
          4.0651002686316283e-07,
          6.09940909687383e-08
         ],
         "yaxis": "y"
        }
       ],
       "layout": {
        "autosize": true,
        "legend": {
         "tracegroupgap": 0
        },
        "margin": {
         "t": 60
        },
        "template": {
         "data": {
          "bar": [
           {
            "error_x": {
             "color": "#2a3f5f"
            },
            "error_y": {
             "color": "#2a3f5f"
            },
            "marker": {
             "line": {
              "color": "#E5ECF6",
              "width": 0.5
             },
             "pattern": {
              "fillmode": "overlay",
              "size": 10,
              "solidity": 0.2
             }
            },
            "type": "bar"
           }
          ],
          "barpolar": [
           {
            "marker": {
             "line": {
              "color": "#E5ECF6",
              "width": 0.5
             },
             "pattern": {
              "fillmode": "overlay",
              "size": 10,
              "solidity": 0.2
             }
            },
            "type": "barpolar"
           }
          ],
          "carpet": [
           {
            "aaxis": {
             "endlinecolor": "#2a3f5f",
             "gridcolor": "white",
             "linecolor": "white",
             "minorgridcolor": "white",
             "startlinecolor": "#2a3f5f"
            },
            "baxis": {
             "endlinecolor": "#2a3f5f",
             "gridcolor": "white",
             "linecolor": "white",
             "minorgridcolor": "white",
             "startlinecolor": "#2a3f5f"
            },
            "type": "carpet"
           }
          ],
          "choropleth": [
           {
            "colorbar": {
             "outlinewidth": 0,
             "ticks": ""
            },
            "type": "choropleth"
           }
          ],
          "contour": [
           {
            "colorbar": {
             "outlinewidth": 0,
             "ticks": ""
            },
            "colorscale": [
             [
              0,
              "#0d0887"
             ],
             [
              0.1111111111111111,
              "#46039f"
             ],
             [
              0.2222222222222222,
              "#7201a8"
             ],
             [
              0.3333333333333333,
              "#9c179e"
             ],
             [
              0.4444444444444444,
              "#bd3786"
             ],
             [
              0.5555555555555556,
              "#d8576b"
             ],
             [
              0.6666666666666666,
              "#ed7953"
             ],
             [
              0.7777777777777778,
              "#fb9f3a"
             ],
             [
              0.8888888888888888,
              "#fdca26"
             ],
             [
              1,
              "#f0f921"
             ]
            ],
            "type": "contour"
           }
          ],
          "contourcarpet": [
           {
            "colorbar": {
             "outlinewidth": 0,
             "ticks": ""
            },
            "type": "contourcarpet"
           }
          ],
          "heatmap": [
           {
            "colorbar": {
             "outlinewidth": 0,
             "ticks": ""
            },
            "colorscale": [
             [
              0,
              "#0d0887"
             ],
             [
              0.1111111111111111,
              "#46039f"
             ],
             [
              0.2222222222222222,
              "#7201a8"
             ],
             [
              0.3333333333333333,
              "#9c179e"
             ],
             [
              0.4444444444444444,
              "#bd3786"
             ],
             [
              0.5555555555555556,
              "#d8576b"
             ],
             [
              0.6666666666666666,
              "#ed7953"
             ],
             [
              0.7777777777777778,
              "#fb9f3a"
             ],
             [
              0.8888888888888888,
              "#fdca26"
             ],
             [
              1,
              "#f0f921"
             ]
            ],
            "type": "heatmap"
           }
          ],
          "heatmapgl": [
           {
            "colorbar": {
             "outlinewidth": 0,
             "ticks": ""
            },
            "colorscale": [
             [
              0,
              "#0d0887"
             ],
             [
              0.1111111111111111,
              "#46039f"
             ],
             [
              0.2222222222222222,
              "#7201a8"
             ],
             [
              0.3333333333333333,
              "#9c179e"
             ],
             [
              0.4444444444444444,
              "#bd3786"
             ],
             [
              0.5555555555555556,
              "#d8576b"
             ],
             [
              0.6666666666666666,
              "#ed7953"
             ],
             [
              0.7777777777777778,
              "#fb9f3a"
             ],
             [
              0.8888888888888888,
              "#fdca26"
             ],
             [
              1,
              "#f0f921"
             ]
            ],
            "type": "heatmapgl"
           }
          ],
          "histogram": [
           {
            "marker": {
             "pattern": {
              "fillmode": "overlay",
              "size": 10,
              "solidity": 0.2
             }
            },
            "type": "histogram"
           }
          ],
          "histogram2d": [
           {
            "colorbar": {
             "outlinewidth": 0,
             "ticks": ""
            },
            "colorscale": [
             [
              0,
              "#0d0887"
             ],
             [
              0.1111111111111111,
              "#46039f"
             ],
             [
              0.2222222222222222,
              "#7201a8"
             ],
             [
              0.3333333333333333,
              "#9c179e"
             ],
             [
              0.4444444444444444,
              "#bd3786"
             ],
             [
              0.5555555555555556,
              "#d8576b"
             ],
             [
              0.6666666666666666,
              "#ed7953"
             ],
             [
              0.7777777777777778,
              "#fb9f3a"
             ],
             [
              0.8888888888888888,
              "#fdca26"
             ],
             [
              1,
              "#f0f921"
             ]
            ],
            "type": "histogram2d"
           }
          ],
          "histogram2dcontour": [
           {
            "colorbar": {
             "outlinewidth": 0,
             "ticks": ""
            },
            "colorscale": [
             [
              0,
              "#0d0887"
             ],
             [
              0.1111111111111111,
              "#46039f"
             ],
             [
              0.2222222222222222,
              "#7201a8"
             ],
             [
              0.3333333333333333,
              "#9c179e"
             ],
             [
              0.4444444444444444,
              "#bd3786"
             ],
             [
              0.5555555555555556,
              "#d8576b"
             ],
             [
              0.6666666666666666,
              "#ed7953"
             ],
             [
              0.7777777777777778,
              "#fb9f3a"
             ],
             [
              0.8888888888888888,
              "#fdca26"
             ],
             [
              1,
              "#f0f921"
             ]
            ],
            "type": "histogram2dcontour"
           }
          ],
          "mesh3d": [
           {
            "colorbar": {
             "outlinewidth": 0,
             "ticks": ""
            },
            "type": "mesh3d"
           }
          ],
          "parcoords": [
           {
            "line": {
             "colorbar": {
              "outlinewidth": 0,
              "ticks": ""
             }
            },
            "type": "parcoords"
           }
          ],
          "pie": [
           {
            "automargin": true,
            "type": "pie"
           }
          ],
          "scatter": [
           {
            "marker": {
             "colorbar": {
              "outlinewidth": 0,
              "ticks": ""
             }
            },
            "type": "scatter"
           }
          ],
          "scatter3d": [
           {
            "line": {
             "colorbar": {
              "outlinewidth": 0,
              "ticks": ""
             }
            },
            "marker": {
             "colorbar": {
              "outlinewidth": 0,
              "ticks": ""
             }
            },
            "type": "scatter3d"
           }
          ],
          "scattercarpet": [
           {
            "marker": {
             "colorbar": {
              "outlinewidth": 0,
              "ticks": ""
             }
            },
            "type": "scattercarpet"
           }
          ],
          "scattergeo": [
           {
            "marker": {
             "colorbar": {
              "outlinewidth": 0,
              "ticks": ""
             }
            },
            "type": "scattergeo"
           }
          ],
          "scattergl": [
           {
            "marker": {
             "colorbar": {
              "outlinewidth": 0,
              "ticks": ""
             }
            },
            "type": "scattergl"
           }
          ],
          "scattermapbox": [
           {
            "marker": {
             "colorbar": {
              "outlinewidth": 0,
              "ticks": ""
             }
            },
            "type": "scattermapbox"
           }
          ],
          "scatterpolar": [
           {
            "marker": {
             "colorbar": {
              "outlinewidth": 0,
              "ticks": ""
             }
            },
            "type": "scatterpolar"
           }
          ],
          "scatterpolargl": [
           {
            "marker": {
             "colorbar": {
              "outlinewidth": 0,
              "ticks": ""
             }
            },
            "type": "scatterpolargl"
           }
          ],
          "scatterternary": [
           {
            "marker": {
             "colorbar": {
              "outlinewidth": 0,
              "ticks": ""
             }
            },
            "type": "scatterternary"
           }
          ],
          "surface": [
           {
            "colorbar": {
             "outlinewidth": 0,
             "ticks": ""
            },
            "colorscale": [
             [
              0,
              "#0d0887"
             ],
             [
              0.1111111111111111,
              "#46039f"
             ],
             [
              0.2222222222222222,
              "#7201a8"
             ],
             [
              0.3333333333333333,
              "#9c179e"
             ],
             [
              0.4444444444444444,
              "#bd3786"
             ],
             [
              0.5555555555555556,
              "#d8576b"
             ],
             [
              0.6666666666666666,
              "#ed7953"
             ],
             [
              0.7777777777777778,
              "#fb9f3a"
             ],
             [
              0.8888888888888888,
              "#fdca26"
             ],
             [
              1,
              "#f0f921"
             ]
            ],
            "type": "surface"
           }
          ],
          "table": [
           {
            "cells": {
             "fill": {
              "color": "#EBF0F8"
             },
             "line": {
              "color": "white"
             }
            },
            "header": {
             "fill": {
              "color": "#C8D4E3"
             },
             "line": {
              "color": "white"
             }
            },
            "type": "table"
           }
          ]
         },
         "layout": {
          "annotationdefaults": {
           "arrowcolor": "#2a3f5f",
           "arrowhead": 0,
           "arrowwidth": 1
          },
          "autotypenumbers": "strict",
          "coloraxis": {
           "colorbar": {
            "outlinewidth": 0,
            "ticks": ""
           }
          },
          "colorscale": {
           "diverging": [
            [
             0,
             "#8e0152"
            ],
            [
             0.1,
             "#c51b7d"
            ],
            [
             0.2,
             "#de77ae"
            ],
            [
             0.3,
             "#f1b6da"
            ],
            [
             0.4,
             "#fde0ef"
            ],
            [
             0.5,
             "#f7f7f7"
            ],
            [
             0.6,
             "#e6f5d0"
            ],
            [
             0.7,
             "#b8e186"
            ],
            [
             0.8,
             "#7fbc41"
            ],
            [
             0.9,
             "#4d9221"
            ],
            [
             1,
             "#276419"
            ]
           ],
           "sequential": [
            [
             0,
             "#0d0887"
            ],
            [
             0.1111111111111111,
             "#46039f"
            ],
            [
             0.2222222222222222,
             "#7201a8"
            ],
            [
             0.3333333333333333,
             "#9c179e"
            ],
            [
             0.4444444444444444,
             "#bd3786"
            ],
            [
             0.5555555555555556,
             "#d8576b"
            ],
            [
             0.6666666666666666,
             "#ed7953"
            ],
            [
             0.7777777777777778,
             "#fb9f3a"
            ],
            [
             0.8888888888888888,
             "#fdca26"
            ],
            [
             1,
             "#f0f921"
            ]
           ],
           "sequentialminus": [
            [
             0,
             "#0d0887"
            ],
            [
             0.1111111111111111,
             "#46039f"
            ],
            [
             0.2222222222222222,
             "#7201a8"
            ],
            [
             0.3333333333333333,
             "#9c179e"
            ],
            [
             0.4444444444444444,
             "#bd3786"
            ],
            [
             0.5555555555555556,
             "#d8576b"
            ],
            [
             0.6666666666666666,
             "#ed7953"
            ],
            [
             0.7777777777777778,
             "#fb9f3a"
            ],
            [
             0.8888888888888888,
             "#fdca26"
            ],
            [
             1,
             "#f0f921"
            ]
           ]
          },
          "colorway": [
           "#636efa",
           "#EF553B",
           "#00cc96",
           "#ab63fa",
           "#FFA15A",
           "#19d3f3",
           "#FF6692",
           "#B6E880",
           "#FF97FF",
           "#FECB52"
          ],
          "font": {
           "color": "#2a3f5f"
          },
          "geo": {
           "bgcolor": "white",
           "lakecolor": "white",
           "landcolor": "#E5ECF6",
           "showlakes": true,
           "showland": true,
           "subunitcolor": "white"
          },
          "hoverlabel": {
           "align": "left"
          },
          "hovermode": "closest",
          "mapbox": {
           "style": "light"
          },
          "paper_bgcolor": "white",
          "plot_bgcolor": "#E5ECF6",
          "polar": {
           "angularaxis": {
            "gridcolor": "white",
            "linecolor": "white",
            "ticks": ""
           },
           "bgcolor": "#E5ECF6",
           "radialaxis": {
            "gridcolor": "white",
            "linecolor": "white",
            "ticks": ""
           }
          },
          "scene": {
           "xaxis": {
            "backgroundcolor": "#E5ECF6",
            "gridcolor": "white",
            "gridwidth": 2,
            "linecolor": "white",
            "showbackground": true,
            "ticks": "",
            "zerolinecolor": "white"
           },
           "yaxis": {
            "backgroundcolor": "#E5ECF6",
            "gridcolor": "white",
            "gridwidth": 2,
            "linecolor": "white",
            "showbackground": true,
            "ticks": "",
            "zerolinecolor": "white"
           },
           "zaxis": {
            "backgroundcolor": "#E5ECF6",
            "gridcolor": "white",
            "gridwidth": 2,
            "linecolor": "white",
            "showbackground": true,
            "ticks": "",
            "zerolinecolor": "white"
           }
          },
          "shapedefaults": {
           "line": {
            "color": "#2a3f5f"
           }
          },
          "ternary": {
           "aaxis": {
            "gridcolor": "white",
            "linecolor": "white",
            "ticks": ""
           },
           "baxis": {
            "gridcolor": "white",
            "linecolor": "white",
            "ticks": ""
           },
           "bgcolor": "#E5ECF6",
           "caxis": {
            "gridcolor": "white",
            "linecolor": "white",
            "ticks": ""
           }
          },
          "title": {
           "x": 0.05
          },
          "xaxis": {
           "automargin": true,
           "gridcolor": "white",
           "linecolor": "white",
           "ticks": "",
           "title": {
            "standoff": 15
           },
           "zerolinecolor": "white",
           "zerolinewidth": 2
          },
          "yaxis": {
           "automargin": true,
           "gridcolor": "white",
           "linecolor": "white",
           "ticks": "",
           "title": {
            "standoff": 15
           },
           "zerolinecolor": "white",
           "zerolinewidth": 2
          }
         }
        },
        "xaxis": {
         "anchor": "y",
         "autorange": true,
         "domain": [
          0,
          1
         ],
         "range": [
          0,
          3543639
         ],
         "title": {
          "text": "Feb"
         },
         "type": "linear"
        },
        "yaxis": {
         "anchor": "x",
         "autorange": true,
         "domain": [
          0,
          1
         ],
         "range": [
          0,
          5.473376055301825e-07
         ],
         "title": {
          "text": "kde"
         },
         "type": "linear"
        }
       }
      },
      "image/png": "[encoded data removed]",
      "text/html": [
       "<div>                            <div id=\"27d6b410-1e1e-4ce0-9b33-f0596e7cf93e\" class=\"plotly-graph-div\" style=\"height:525px; width:100%;\"></div>            <script type=\"text/javascript\">                require([\"plotly\"], function(Plotly) {                    window.PLOTLYENV=window.PLOTLYENV || {};                                    if (document.getElementById(\"27d6b410-1e1e-4ce0-9b33-f0596e7cf93e\")) {                    Plotly.newPlot(                        \"27d6b410-1e1e-4ce0-9b33-f0596e7cf93e\",                        [{\"hovertemplate\":\"Feb=%{x}<br>kde=%{y}<extra></extra>\",\"legendgroup\":\"\",\"line\":{\"color\":\"#636efa\"},\"marker\":{\"symbol\":\"circle\"},\"mode\":\"lines\",\"name\":\"\",\"orientation\":\"v\",\"showlegend\":false,\"stackgroup\":\"1\",\"type\":\"scatter\",\"x\":[3543639.0,3248144.0,3078405.0,2998119.0,2966477.0,2610667.0,2595676.0,2515361.0,2359800.0,2304990.0,2223024.0,0.0],\"xaxis\":\"x\",\"y\":[2.7926800700379535e-7,4.054695579159466e-7,4.6628750162728964e-7,4.890808804658093e-7,4.967558758831447e-7,5.199707252536733e-7,5.181544664701383e-7,5.045299365955382e-7,4.606940876831626e-7,4.4046323970462613e-7,4.0651002686316283e-7,6.09940909687383e-8],\"yaxis\":\"y\"}],                        {\"legend\":{\"tracegroupgap\":0},\"margin\":{\"t\":60},\"template\":{\"data\":{\"bar\":[{\"error_x\":{\"color\":\"#2a3f5f\"},\"error_y\":{\"color\":\"#2a3f5f\"},\"marker\":{\"line\":{\"color\":\"#E5ECF6\",\"width\":0.5},\"pattern\":{\"fillmode\":\"overlay\",\"size\":10,\"solidity\":0.2}},\"type\":\"bar\"}],\"barpolar\":[{\"marker\":{\"line\":{\"color\":\"#E5ECF6\",\"width\":0.5},\"pattern\":{\"fillmode\":\"overlay\",\"size\":10,\"solidity\":0.2}},\"type\":\"barpolar\"}],\"carpet\":[{\"aaxis\":{\"endlinecolor\":\"#2a3f5f\",\"gridcolor\":\"white\",\"linecolor\":\"white\",\"minorgridcolor\":\"white\",\"startlinecolor\":\"#2a3f5f\"},\"baxis\":{\"endlinecolor\":\"#2a3f5f\",\"gridcolor\":\"white\",\"linecolor\":\"white\",\"minorgridcolor\":\"white\",\"startlinecolor\":\"#2a3f5f\"},\"type\":\"carpet\"}],\"choropleth\":[{\"colorbar\":{\"outlinewidth\":0,\"ticks\":\"\"},\"type\":\"choropleth\"}],\"contour\":[{\"colorbar\":{\"outlinewidth\":0,\"ticks\":\"\"},\"colorscale\":[[0.0,\"#0d0887\"],[0.1111111111111111,\"#46039f\"],[0.2222222222222222,\"#7201a8\"],[0.3333333333333333,\"#9c179e\"],[0.4444444444444444,\"#bd3786\"],[0.5555555555555556,\"#d8576b\"],[0.6666666666666666,\"#ed7953\"],[0.7777777777777778,\"#fb9f3a\"],[0.8888888888888888,\"#fdca26\"],[1.0,\"#f0f921\"]],\"type\":\"contour\"}],\"contourcarpet\":[{\"colorbar\":{\"outlinewidth\":0,\"ticks\":\"\"},\"type\":\"contourcarpet\"}],\"heatmap\":[{\"colorbar\":{\"outlinewidth\":0,\"ticks\":\"\"},\"colorscale\":[[0.0,\"#0d0887\"],[0.1111111111111111,\"#46039f\"],[0.2222222222222222,\"#7201a8\"],[0.3333333333333333,\"#9c179e\"],[0.4444444444444444,\"#bd3786\"],[0.5555555555555556,\"#d8576b\"],[0.6666666666666666,\"#ed7953\"],[0.7777777777777778,\"#fb9f3a\"],[0.8888888888888888,\"#fdca26\"],[1.0,\"#f0f921\"]],\"type\":\"heatmap\"}],\"heatmapgl\":[{\"colorbar\":{\"outlinewidth\":0,\"ticks\":\"\"},\"colorscale\":[[0.0,\"#0d0887\"],[0.1111111111111111,\"#46039f\"],[0.2222222222222222,\"#7201a8\"],[0.3333333333333333,\"#9c179e\"],[0.4444444444444444,\"#bd3786\"],[0.5555555555555556,\"#d8576b\"],[0.6666666666666666,\"#ed7953\"],[0.7777777777777778,\"#fb9f3a\"],[0.8888888888888888,\"#fdca26\"],[1.0,\"#f0f921\"]],\"type\":\"heatmapgl\"}],\"histogram\":[{\"marker\":{\"pattern\":{\"fillmode\":\"overlay\",\"size\":10,\"solidity\":0.2}},\"type\":\"histogram\"}],\"histogram2d\":[{\"colorbar\":{\"outlinewidth\":0,\"ticks\":\"\"},\"colorscale\":[[0.0,\"#0d0887\"],[0.1111111111111111,\"#46039f\"],[0.2222222222222222,\"#7201a8\"],[0.3333333333333333,\"#9c179e\"],[0.4444444444444444,\"#bd3786\"],[0.5555555555555556,\"#d8576b\"],[0.6666666666666666,\"#ed7953\"],[0.7777777777777778,\"#fb9f3a\"],[0.8888888888888888,\"#fdca26\"],[1.0,\"#f0f921\"]],\"type\":\"histogram2d\"}],\"histogram2dcontour\":[{\"colorbar\":{\"outlinewidth\":0,\"ticks\":\"\"},\"colorscale\":[[0.0,\"#0d0887\"],[0.1111111111111111,\"#46039f\"],[0.2222222222222222,\"#7201a8\"],[0.3333333333333333,\"#9c179e\"],[0.4444444444444444,\"#bd3786\"],[0.5555555555555556,\"#d8576b\"],[0.6666666666666666,\"#ed7953\"],[0.7777777777777778,\"#fb9f3a\"],[0.8888888888888888,\"#fdca26\"],[1.0,\"#f0f921\"]],\"type\":\"histogram2dcontour\"}],\"mesh3d\":[{\"colorbar\":{\"outlinewidth\":0,\"ticks\":\"\"},\"type\":\"mesh3d\"}],\"parcoords\":[{\"line\":{\"colorbar\":{\"outlinewidth\":0,\"ticks\":\"\"}},\"type\":\"parcoords\"}],\"pie\":[{\"automargin\":true,\"type\":\"pie\"}],\"scatter\":[{\"marker\":{\"colorbar\":{\"outlinewidth\":0,\"ticks\":\"\"}},\"type\":\"scatter\"}],\"scatter3d\":[{\"line\":{\"colorbar\":{\"outlinewidth\":0,\"ticks\":\"\"}},\"marker\":{\"colorbar\":{\"outlinewidth\":0,\"ticks\":\"\"}},\"type\":\"scatter3d\"}],\"scattercarpet\":[{\"marker\":{\"colorbar\":{\"outlinewidth\":0,\"ticks\":\"\"}},\"type\":\"scattercarpet\"}],\"scattergeo\":[{\"marker\":{\"colorbar\":{\"outlinewidth\":0,\"ticks\":\"\"}},\"type\":\"scattergeo\"}],\"scattergl\":[{\"marker\":{\"colorbar\":{\"outlinewidth\":0,\"ticks\":\"\"}},\"type\":\"scattergl\"}],\"scattermapbox\":[{\"marker\":{\"colorbar\":{\"outlinewidth\":0,\"ticks\":\"\"}},\"type\":\"scattermapbox\"}],\"scatterpolar\":[{\"marker\":{\"colorbar\":{\"outlinewidth\":0,\"ticks\":\"\"}},\"type\":\"scatterpolar\"}],\"scatterpolargl\":[{\"marker\":{\"colorbar\":{\"outlinewidth\":0,\"ticks\":\"\"}},\"type\":\"scatterpolargl\"}],\"scatterternary\":[{\"marker\":{\"colorbar\":{\"outlinewidth\":0,\"ticks\":\"\"}},\"type\":\"scatterternary\"}],\"surface\":[{\"colorbar\":{\"outlinewidth\":0,\"ticks\":\"\"},\"colorscale\":[[0.0,\"#0d0887\"],[0.1111111111111111,\"#46039f\"],[0.2222222222222222,\"#7201a8\"],[0.3333333333333333,\"#9c179e\"],[0.4444444444444444,\"#bd3786\"],[0.5555555555555556,\"#d8576b\"],[0.6666666666666666,\"#ed7953\"],[0.7777777777777778,\"#fb9f3a\"],[0.8888888888888888,\"#fdca26\"],[1.0,\"#f0f921\"]],\"type\":\"surface\"}],\"table\":[{\"cells\":{\"fill\":{\"color\":\"#EBF0F8\"},\"line\":{\"color\":\"white\"}},\"header\":{\"fill\":{\"color\":\"#C8D4E3\"},\"line\":{\"color\":\"white\"}},\"type\":\"table\"}]},\"layout\":{\"annotationdefaults\":{\"arrowcolor\":\"#2a3f5f\",\"arrowhead\":0,\"arrowwidth\":1},\"autotypenumbers\":\"strict\",\"coloraxis\":{\"colorbar\":{\"outlinewidth\":0,\"ticks\":\"\"}},\"colorscale\":{\"diverging\":[[0,\"#8e0152\"],[0.1,\"#c51b7d\"],[0.2,\"#de77ae\"],[0.3,\"#f1b6da\"],[0.4,\"#fde0ef\"],[0.5,\"#f7f7f7\"],[0.6,\"#e6f5d0\"],[0.7,\"#b8e186\"],[0.8,\"#7fbc41\"],[0.9,\"#4d9221\"],[1,\"#276419\"]],\"sequential\":[[0.0,\"#0d0887\"],[0.1111111111111111,\"#46039f\"],[0.2222222222222222,\"#7201a8\"],[0.3333333333333333,\"#9c179e\"],[0.4444444444444444,\"#bd3786\"],[0.5555555555555556,\"#d8576b\"],[0.6666666666666666,\"#ed7953\"],[0.7777777777777778,\"#fb9f3a\"],[0.8888888888888888,\"#fdca26\"],[1.0,\"#f0f921\"]],\"sequentialminus\":[[0.0,\"#0d0887\"],[0.1111111111111111,\"#46039f\"],[0.2222222222222222,\"#7201a8\"],[0.3333333333333333,\"#9c179e\"],[0.4444444444444444,\"#bd3786\"],[0.5555555555555556,\"#d8576b\"],[0.6666666666666666,\"#ed7953\"],[0.7777777777777778,\"#fb9f3a\"],[0.8888888888888888,\"#fdca26\"],[1.0,\"#f0f921\"]]},\"colorway\":[\"#636efa\",\"#EF553B\",\"#00cc96\",\"#ab63fa\",\"#FFA15A\",\"#19d3f3\",\"#FF6692\",\"#B6E880\",\"#FF97FF\",\"#FECB52\"],\"font\":{\"color\":\"#2a3f5f\"},\"geo\":{\"bgcolor\":\"white\",\"lakecolor\":\"white\",\"landcolor\":\"#E5ECF6\",\"showlakes\":true,\"showland\":true,\"subunitcolor\":\"white\"},\"hoverlabel\":{\"align\":\"left\"},\"hovermode\":\"closest\",\"mapbox\":{\"style\":\"light\"},\"paper_bgcolor\":\"white\",\"plot_bgcolor\":\"#E5ECF6\",\"polar\":{\"angularaxis\":{\"gridcolor\":\"white\",\"linecolor\":\"white\",\"ticks\":\"\"},\"bgcolor\":\"#E5ECF6\",\"radialaxis\":{\"gridcolor\":\"white\",\"linecolor\":\"white\",\"ticks\":\"\"}},\"scene\":{\"xaxis\":{\"backgroundcolor\":\"#E5ECF6\",\"gridcolor\":\"white\",\"gridwidth\":2,\"linecolor\":\"white\",\"showbackground\":true,\"ticks\":\"\",\"zerolinecolor\":\"white\"},\"yaxis\":{\"backgroundcolor\":\"#E5ECF6\",\"gridcolor\":\"white\",\"gridwidth\":2,\"linecolor\":\"white\",\"showbackground\":true,\"ticks\":\"\",\"zerolinecolor\":\"white\"},\"zaxis\":{\"backgroundcolor\":\"#E5ECF6\",\"gridcolor\":\"white\",\"gridwidth\":2,\"linecolor\":\"white\",\"showbackground\":true,\"ticks\":\"\",\"zerolinecolor\":\"white\"}},\"shapedefaults\":{\"line\":{\"color\":\"#2a3f5f\"}},\"ternary\":{\"aaxis\":{\"gridcolor\":\"white\",\"linecolor\":\"white\",\"ticks\":\"\"},\"baxis\":{\"gridcolor\":\"white\",\"linecolor\":\"white\",\"ticks\":\"\"},\"bgcolor\":\"#E5ECF6\",\"caxis\":{\"gridcolor\":\"white\",\"linecolor\":\"white\",\"ticks\":\"\"}},\"title\":{\"x\":0.05},\"xaxis\":{\"automargin\":true,\"gridcolor\":\"white\",\"linecolor\":\"white\",\"ticks\":\"\",\"title\":{\"standoff\":15},\"zerolinecolor\":\"white\",\"zerolinewidth\":2},\"yaxis\":{\"automargin\":true,\"gridcolor\":\"white\",\"linecolor\":\"white\",\"ticks\":\"\",\"title\":{\"standoff\":15},\"zerolinecolor\":\"white\",\"zerolinewidth\":2}}},\"xaxis\":{\"anchor\":\"y\",\"domain\":[0.0,1.0],\"title\":{\"text\":\"Feb\"}},\"yaxis\":{\"anchor\":\"x\",\"domain\":[0.0,1.0],\"title\":{\"text\":\"kde\"}}},                        {\"responsive\": true}                    ).then(function(){\n",
       "                            \n",
       "var gd = document.getElementById('27d6b410-1e1e-4ce0-9b33-f0596e7cf93e');\n",
       "var x = new MutationObserver(function (mutations, observer) {{\n",
       "        var display = window.getComputedStyle(gd).display;\n",
       "        if (!display || display === 'none') {{\n",
       "            console.log([gd, 'removed!']);\n",
       "            Plotly.purge(gd);\n",
       "            observer.disconnect();\n",
       "        }}\n",
       "}});\n",
       "\n",
       "// Listen for the removal of the full notebook cells\n",
       "var notebookContainer = gd.closest('#notebook-container');\n",
       "if (notebookContainer) {{\n",
       "    x.observe(notebookContainer, {childList: true});\n",
       "}}\n",
       "\n",
       "// Listen for the clearing of the current output cell\n",
       "var outputEl = gd.closest('.output');\n",
       "if (outputEl) {{\n",
       "    x.observe(outputEl, {childList: true});\n",
       "}}\n",
       "\n",
       "                        })                };                });            </script>        </div>"
      ]
     },
     "metadata": {},
     "output_type": "display_data"
    }
   ],
   "source": []
  },
  {
   "cell_type": "code",
   "execution_count": 90,
   "metadata": {},
   "outputs": [
    {
     "data": {
      "application/vnd.plotly.v1+json": {
       "config": {
        "plotlyServerURL": "https://plot.ly"
       },
       "data": [
        {
         "line": {
          "color": "white"
         },
         "mode": "lines",
         "type": "scatter",
         "x": [
          3748529,
          3550084,
          3432625,
          3211600,
          3204637,
          2883810,
          2785466,
          2670053,
          2644539,
          2507430,
          2448889,
          0
         ],
         "y": [
          2.9820547205116604e-07,
          3.7215470188076997e-07,
          4.112554443223471e-07,
          4.6735565462089626e-07,
          4.6865152900391916e-07,
          4.890337518042682e-07,
          4.78564864479361e-07,
          4.563146317854197e-07,
          4.500260540424797e-07,
          4.087389552547646e-07,
          3.8780746454881577e-07,
          5.6574226896981415e-08
         ]
        },
        {
         "fill": "tozeroy",
         "name": "Jan",
         "type": "scatter",
         "x": [
          3748529,
          3550084,
          3432625,
          3211600,
          3204637,
          2883810,
          2785466,
          2670053,
          2644539,
          2507430,
          2448889,
          0
         ],
         "y": [
          2.9820547205116604e-07,
          3.7215470188076997e-07,
          4.112554443223471e-07,
          4.6735565462089626e-07,
          4.6865152900391916e-07,
          4.890337518042682e-07,
          4.78564864479361e-07,
          4.563146317854197e-07,
          4.500260540424797e-07,
          4.087389552547646e-07,
          3.8780746454881577e-07,
          5.6574226896981415e-08
         ]
        },
        {
         "line": {
          "color": "white"
         },
         "mode": "lines",
         "type": "scatter",
         "x": [
          3543639,
          3248144,
          3078405,
          2998119,
          2966477,
          2610667,
          2595676,
          2515361,
          2359800,
          2304990,
          2223024,
          0
         ],
         "y": [
          2.7926800700379535e-07,
          4.054695579159466e-07,
          4.6628750162728964e-07,
          4.890808804658093e-07,
          4.967558758831447e-07,
          5.199707252536733e-07,
          5.181544664701383e-07,
          5.045299365955382e-07,
          4.606940876831626e-07,
          4.4046323970462613e-07,
          4.0651002686316283e-07,
          6.09940909687383e-08
         ]
        },
        {
         "fill": "tozeroy",
         "name": "Feb",
         "type": "scatter",
         "x": [
          3543639,
          3248144,
          3078405,
          2998119,
          2966477,
          2610667,
          2595676,
          2515361,
          2359800,
          2304990,
          2223024,
          0
         ],
         "y": [
          2.7926800700379535e-07,
          4.054695579159466e-07,
          4.6628750162728964e-07,
          4.890808804658093e-07,
          4.967558758831447e-07,
          5.199707252536733e-07,
          5.181544664701383e-07,
          5.045299365955382e-07,
          4.606940876831626e-07,
          4.4046323970462613e-07,
          4.0651002686316283e-07,
          6.09940909687383e-08
         ]
        },
        {
         "line": {
          "color": "white"
         },
         "mode": "lines",
         "type": "scatter",
         "x": [
          4137679,
          4001521,
          3765504,
          3593364,
          3472440,
          3129205,
          3127387,
          3105958,
          2925918,
          2820085,
          2708778,
          0
         ],
         "y": [
          2.7616635661899414e-07,
          3.18921904471686e-07,
          3.8537421984948836e-07,
          4.2213541430551577e-07,
          4.3949947728336417e-07,
          4.4103924707950035e-07,
          4.408460303633584e-07,
          4.3840933091804604e-07,
          4.068391472733366e-07,
          3.7998562970413645e-07,
          3.4653376348164285e-07,
          5.1129407353830684e-08
         ]
        },
        {
         "fill": "tozeroy",
         "name": "Mar",
         "type": "scatter",
         "x": [
          4137679,
          4001521,
          3765504,
          3593364,
          3472440,
          3129205,
          3127387,
          3105958,
          2925918,
          2820085,
          2708778,
          0
         ],
         "y": [
          2.7616635661899414e-07,
          3.18921904471686e-07,
          3.8537421984948836e-07,
          4.2213541430551577e-07,
          4.3949947728336417e-07,
          4.4103924707950035e-07,
          4.408460303633584e-07,
          4.3840933091804604e-07,
          4.068391472733366e-07,
          3.7998562970413645e-07,
          3.4653376348164285e-07,
          5.1129407353830684e-08
         ]
        },
        {
         "line": {
          "color": "white"
         },
         "mode": "lines",
         "type": "scatter",
         "x": [
          4021677,
          3881893,
          3604104,
          3563007,
          3200527,
          3139059,
          3029021,
          3024973,
          2869247,
          2773293,
          0,
          0
         ],
         "y": [
          2.648300045054704e-07,
          2.943982596859583e-07,
          3.4035214019321296e-07,
          3.451689900428339e-07,
          3.5935755064711836e-07,
          3.5640815056953957e-07,
          3.4732133747908903e-07,
          3.468970485443716e-07,
          3.26109018485472e-07,
          3.094302452515672e-07,
          8.154464659358574e-08,
          8.154464659358574e-08
         ]
        },
        {
         "fill": "tozeroy",
         "name": "Apr",
         "type": "scatter",
         "x": [
          4021677,
          3881893,
          3604104,
          3563007,
          3200527,
          3139059,
          3029021,
          3024973,
          2869247,
          2773293,
          0,
          0
         ],
         "y": [
          2.648300045054704e-07,
          2.943982596859583e-07,
          3.4035214019321296e-07,
          3.451689900428339e-07,
          3.5935755064711836e-07,
          3.5640815056953957e-07,
          3.4732133747908903e-07,
          3.468970485443716e-07,
          3.26109018485472e-07,
          3.094302452515672e-07,
          8.154464659358574e-08,
          8.154464659358574e-08
         ]
        },
        {
         "line": {
          "color": "white"
         },
         "mode": "lines",
         "type": "scatter",
         "x": [
          4361140,
          4147096,
          3933016,
          3820570,
          3547804,
          3380355,
          3305954,
          3177100,
          3056934,
          2829000,
          0,
          0
         ],
         "y": [
          2.384426096919982e-07,
          2.757429600488727e-07,
          3.0530494325861197e-07,
          3.165279025566647e-07,
          3.2868720047499026e-07,
          3.2475192277010015e-07,
          3.20235843079803e-07,
          3.086274004689562e-07,
          2.9387400051661077e-07,
          2.576123271494688e-07,
          7.556206848498967e-08,
          7.556206848498967e-08
         ]
        },
        {
         "fill": "tozeroy",
         "name": "May",
         "type": "scatter",
         "x": [
          4361140,
          4147096,
          3933016,
          3820570,
          3547804,
          3380355,
          3305954,
          3177100,
          3056934,
          2829000,
          0,
          0
         ],
         "y": [
          2.384426096919982e-07,
          2.757429600488727e-07,
          3.0530494325861197e-07,
          3.165279025566647e-07,
          3.2868720047499026e-07,
          3.2475192277010015e-07,
          3.20235843079803e-07,
          3.086274004689562e-07,
          2.9387400051661077e-07,
          2.576123271494688e-07,
          7.556206848498967e-08,
          7.556206848498967e-08
         ]
        },
        {
         "line": {
          "color": "white"
         },
         "mode": "lines",
         "type": "scatter",
         "x": [
          4558511,
          4321833,
          4146797,
          4107195,
          3766323,
          3612886,
          3453751,
          3419595,
          3263621,
          3071396,
          0,
          0
         ],
         "y": [
          2.38499583066979e-07,
          2.750228165486945e-07,
          2.959910358221995e-07,
          2.9982514665158213e-07,
          3.1630090578994636e-07,
          3.1330445863487163e-07,
          3.034253502478927e-07,
          3.004569779949297e-07,
          2.8346480637043344e-07,
          2.559989042584462e-07,
          7.15946301050395e-08,
          7.15946301050395e-08
         ]
        },
        {
         "fill": "tozeroy",
         "name": "Jun",
         "type": "scatter",
         "x": [
          4558511,
          4321833,
          4146797,
          4107195,
          3766323,
          3612886,
          3453751,
          3419595,
          3263621,
          3071396,
          0,
          0
         ],
         "y": [
          2.38499583066979e-07,
          2.750228165486945e-07,
          2.959910358221995e-07,
          2.9982514665158213e-07,
          3.1630090578994636e-07,
          3.1330445863487163e-07,
          3.034253502478927e-07,
          3.004569779949297e-07,
          2.8346480637043344e-07,
          2.559989042584462e-07,
          7.15946301050395e-08,
          7.15946301050395e-08
         ]
        },
        {
         "line": {
          "color": "white"
         },
         "mode": "lines",
         "type": "scatter",
         "x": [
          4801148,
          4499221,
          4284443,
          4176486,
          3935589,
          3765824,
          3649702,
          3603946,
          3382382,
          3227605,
          3225769,
          0
         ],
         "y": [
          2.3454563129363702e-07,
          3.1053953540042676e-07,
          3.5639724695703394e-07,
          3.7464501719990884e-07,
          3.9956466909073884e-07,
          4.0178370205454275e-07,
          3.955042074002405e-07,
          3.9130924150805314e-07,
          3.5825216404512757e-07,
          3.245457041174559e-07,
          3.241044157832881e-07,
          4.470191490580777e-08
         ]
        },
        {
         "fill": "tozeroy",
         "name": "Jul",
         "type": "scatter",
         "x": [
          4801148,
          4499221,
          4284443,
          4176486,
          3935589,
          3765824,
          3649702,
          3603946,
          3382382,
          3227605,
          3225769,
          0
         ],
         "y": [
          2.3454563129363702e-07,
          3.1053953540042676e-07,
          3.5639724695703394e-07,
          3.7464501719990884e-07,
          3.9956466909073884e-07,
          4.0178370205454275e-07,
          3.955042074002405e-07,
          3.9130924150805314e-07,
          3.5825216404512757e-07,
          3.245457041174559e-07,
          3.241044157832881e-07,
          4.470191490580777e-08
         ]
        },
        {
         "line": {
          "color": "white"
         },
         "mode": "lines",
         "type": "scatter",
         "x": [
          4796653,
          4524918,
          4356216,
          4347059,
          3917884,
          3771842,
          3650668,
          3612297,
          3436417,
          3195866,
          3143839,
          0
         ],
         "y": [
          2.433781318817514e-07,
          3.067953230541245e-07,
          3.4037589511710804e-07,
          3.4200852517080824e-07,
          3.8826540307579555e-07,
          3.879743792894985e-07,
          3.8101869808077565e-07,
          3.775664487934195e-07,
          3.54500135391067e-07,
          3.0662222239045206e-07,
          2.9439734715939747e-07,
          4.411314772247949e-08
         ]
        },
        {
         "fill": "tozeroy",
         "name": "Aug",
         "type": "scatter",
         "x": [
          4796653,
          4524918,
          4356216,
          4347059,
          3917884,
          3771842,
          3650668,
          3612297,
          3436417,
          3195866,
          3143839,
          0
         ],
         "y": [
          2.433781318817514e-07,
          3.067953230541245e-07,
          3.4037589511710804e-07,
          3.4200852517080824e-07,
          3.8826540307579555e-07,
          3.879743792894985e-07,
          3.8101869808077565e-07,
          3.775664487934195e-07,
          3.54500135391067e-07,
          3.0662222239045206e-07,
          2.9439734715939747e-07,
          4.411314772247949e-08
         ]
        },
        {
         "line": {
          "color": "white"
         },
         "mode": "lines",
         "type": "scatter",
         "x": [
          4201394,
          3919072,
          3819379,
          3781168,
          3564970,
          3356365,
          3191526,
          3004720,
          2957530,
          2740553,
          2720100,
          0
         ],
         "y": [
          2.760584061218314e-07,
          3.574846082093801e-07,
          3.8127341415312277e-07,
          3.8941708668329165e-07,
          4.2331495984313473e-07,
          4.3343498839285507e-07,
          4.2452240670182533e-07,
          3.970603151203629e-07,
          3.874753644779736e-07,
          3.3233978350060746e-07,
          3.2638726058304154e-07,
          5.016181056378619e-08
         ]
        },
        {
         "fill": "tozeroy",
         "name": "Sep",
         "type": "scatter",
         "x": [
          4201394,
          3919072,
          3819379,
          3781168,
          3564970,
          3356365,
          3191526,
          3004720,
          2957530,
          2740553,
          2720100,
          0
         ],
         "y": [
          2.760584061218314e-07,
          3.574846082093801e-07,
          3.8127341415312277e-07,
          3.8941708668329165e-07,
          4.2331495984313473e-07,
          4.3343498839285507e-07,
          4.2452240670182533e-07,
          3.970603151203629e-07,
          3.874753644779736e-07,
          3.3233978350060746e-07,
          3.2638726058304154e-07,
          5.016181056378619e-08
         ]
        },
        {
         "line": {
          "color": "white"
         },
         "mode": "lines",
         "type": "scatter",
         "x": [
          4374749,
          4059443,
          3910790,
          3844987,
          3602455,
          3490100,
          3249428,
          3129309,
          3124451,
          2834959,
          2770715,
          0
         ],
         "y": [
          2.5162270519625567e-07,
          3.4002147055508465e-07,
          3.745838056977308e-07,
          3.875048708410521e-07,
          4.190816940153664e-07,
          4.2392392683864187e-07,
          4.117949448463253e-07,
          3.9462813786129783e-07,
          3.9378995112669587e-07,
          3.2711267707463926e-07,
          3.08871961214574e-07,
          4.871423899259342e-08
         ]
        },
        {
         "fill": "tozeroy",
         "name": "Oct",
         "type": "scatter",
         "x": [
          4374749,
          4059443,
          3910790,
          3844987,
          3602455,
          3490100,
          3249428,
          3129309,
          3124451,
          2834959,
          2770715,
          0
         ],
         "y": [
          2.5162270519625567e-07,
          3.4002147055508465e-07,
          3.745838056977308e-07,
          3.875048708410521e-07,
          4.190816940153664e-07,
          4.2392392683864187e-07,
          4.117949448463253e-07,
          3.9462813786129783e-07,
          3.9378995112669587e-07,
          3.2711267707463926e-07,
          3.08871961214574e-07,
          4.871423899259342e-08
         ]
        },
        {
         "line": {
          "color": "white"
         },
         "mode": "lines",
         "type": "scatter",
         "x": [
          4013814,
          3628786,
          3478890,
          3466878,
          3326859,
          3163659,
          2971484,
          2922500,
          2744485,
          2653887,
          2617333,
          0
         ],
         "y": [
          2.609799247485486e-07,
          3.986939650234845e-07,
          4.403953651243186e-07,
          4.432214228955167e-07,
          4.6935386228325685e-07,
          4.818701544203012e-07,
          4.695028615981898e-07,
          4.617160171073515e-07,
          4.192777449242382e-07,
          3.904982752586211e-07,
          3.77816980362274e-07,
          5.40341595190106e-08
         ]
        },
        {
         "fill": "tozeroy",
         "name": "Nov",
         "type": "scatter",
         "x": [
          4013814,
          3628786,
          3478890,
          3466878,
          3326859,
          3163659,
          2971484,
          2922500,
          2744485,
          2653887,
          2617333,
          0
         ],
         "y": [
          2.609799247485486e-07,
          3.986939650234845e-07,
          4.403953651243186e-07,
          4.432214228955167e-07,
          4.6935386228325685e-07,
          4.818701544203012e-07,
          4.695028615981898e-07,
          4.617160171073515e-07,
          4.192777449242382e-07,
          3.904982752586211e-07,
          3.77816980362274e-07,
          5.40341595190106e-08
         ]
        },
        {
         "line": {
          "color": "white"
         },
         "mode": "lines",
         "type": "scatter",
         "x": [
          4129052,
          3855835,
          3814984,
          3443039,
          3441693,
          3167124,
          3074209,
          2962937,
          2903637,
          2698200,
          2671797,
          0
         ],
         "y": [
          2.603566254010491e-07,
          3.4510968191194527e-07,
          3.56809717400687e-07,
          4.36465549050939e-07,
          4.366375543203027e-07,
          4.4895753840079967e-07,
          4.4219778709182297e-07,
          4.2679604200106326e-07,
          4.154941627321098e-07,
          3.6205896421505484e-07,
          3.538650669170617e-07,
          5.169235738966025e-08
         ]
        },
        {
         "fill": "tozeroy",
         "name": "Dec",
         "type": "scatter",
         "x": [
          4129052,
          3855835,
          3814984,
          3443039,
          3441693,
          3167124,
          3074209,
          2962937,
          2903637,
          2698200,
          2671797,
          0
         ],
         "y": [
          2.603566254010491e-07,
          3.4510968191194527e-07,
          3.56809717400687e-07,
          4.36465549050939e-07,
          4.366375543203027e-07,
          4.4895753840079967e-07,
          4.4219778709182297e-07,
          4.2679604200106326e-07,
          4.154941627321098e-07,
          3.6205896421505484e-07,
          3.538650669170617e-07,
          5.169235738966025e-08
         ]
        }
       ],
       "layout": {
        "autosize": true,
        "template": {
         "data": {
          "bar": [
           {
            "error_x": {
             "color": "#2a3f5f"
            },
            "error_y": {
             "color": "#2a3f5f"
            },
            "marker": {
             "line": {
              "color": "#E5ECF6",
              "width": 0.5
             },
             "pattern": {
              "fillmode": "overlay",
              "size": 10,
              "solidity": 0.2
             }
            },
            "type": "bar"
           }
          ],
          "barpolar": [
           {
            "marker": {
             "line": {
              "color": "#E5ECF6",
              "width": 0.5
             },
             "pattern": {
              "fillmode": "overlay",
              "size": 10,
              "solidity": 0.2
             }
            },
            "type": "barpolar"
           }
          ],
          "carpet": [
           {
            "aaxis": {
             "endlinecolor": "#2a3f5f",
             "gridcolor": "white",
             "linecolor": "white",
             "minorgridcolor": "white",
             "startlinecolor": "#2a3f5f"
            },
            "baxis": {
             "endlinecolor": "#2a3f5f",
             "gridcolor": "white",
             "linecolor": "white",
             "minorgridcolor": "white",
             "startlinecolor": "#2a3f5f"
            },
            "type": "carpet"
           }
          ],
          "choropleth": [
           {
            "colorbar": {
             "outlinewidth": 0,
             "ticks": ""
            },
            "type": "choropleth"
           }
          ],
          "contour": [
           {
            "colorbar": {
             "outlinewidth": 0,
             "ticks": ""
            },
            "colorscale": [
             [
              0,
              "#0d0887"
             ],
             [
              0.1111111111111111,
              "#46039f"
             ],
             [
              0.2222222222222222,
              "#7201a8"
             ],
             [
              0.3333333333333333,
              "#9c179e"
             ],
             [
              0.4444444444444444,
              "#bd3786"
             ],
             [
              0.5555555555555556,
              "#d8576b"
             ],
             [
              0.6666666666666666,
              "#ed7953"
             ],
             [
              0.7777777777777778,
              "#fb9f3a"
             ],
             [
              0.8888888888888888,
              "#fdca26"
             ],
             [
              1,
              "#f0f921"
             ]
            ],
            "type": "contour"
           }
          ],
          "contourcarpet": [
           {
            "colorbar": {
             "outlinewidth": 0,
             "ticks": ""
            },
            "type": "contourcarpet"
           }
          ],
          "heatmap": [
           {
            "colorbar": {
             "outlinewidth": 0,
             "ticks": ""
            },
            "colorscale": [
             [
              0,
              "#0d0887"
             ],
             [
              0.1111111111111111,
              "#46039f"
             ],
             [
              0.2222222222222222,
              "#7201a8"
             ],
             [
              0.3333333333333333,
              "#9c179e"
             ],
             [
              0.4444444444444444,
              "#bd3786"
             ],
             [
              0.5555555555555556,
              "#d8576b"
             ],
             [
              0.6666666666666666,
              "#ed7953"
             ],
             [
              0.7777777777777778,
              "#fb9f3a"
             ],
             [
              0.8888888888888888,
              "#fdca26"
             ],
             [
              1,
              "#f0f921"
             ]
            ],
            "type": "heatmap"
           }
          ],
          "heatmapgl": [
           {
            "colorbar": {
             "outlinewidth": 0,
             "ticks": ""
            },
            "colorscale": [
             [
              0,
              "#0d0887"
             ],
             [
              0.1111111111111111,
              "#46039f"
             ],
             [
              0.2222222222222222,
              "#7201a8"
             ],
             [
              0.3333333333333333,
              "#9c179e"
             ],
             [
              0.4444444444444444,
              "#bd3786"
             ],
             [
              0.5555555555555556,
              "#d8576b"
             ],
             [
              0.6666666666666666,
              "#ed7953"
             ],
             [
              0.7777777777777778,
              "#fb9f3a"
             ],
             [
              0.8888888888888888,
              "#fdca26"
             ],
             [
              1,
              "#f0f921"
             ]
            ],
            "type": "heatmapgl"
           }
          ],
          "histogram": [
           {
            "marker": {
             "pattern": {
              "fillmode": "overlay",
              "size": 10,
              "solidity": 0.2
             }
            },
            "type": "histogram"
           }
          ],
          "histogram2d": [
           {
            "colorbar": {
             "outlinewidth": 0,
             "ticks": ""
            },
            "colorscale": [
             [
              0,
              "#0d0887"
             ],
             [
              0.1111111111111111,
              "#46039f"
             ],
             [
              0.2222222222222222,
              "#7201a8"
             ],
             [
              0.3333333333333333,
              "#9c179e"
             ],
             [
              0.4444444444444444,
              "#bd3786"
             ],
             [
              0.5555555555555556,
              "#d8576b"
             ],
             [
              0.6666666666666666,
              "#ed7953"
             ],
             [
              0.7777777777777778,
              "#fb9f3a"
             ],
             [
              0.8888888888888888,
              "#fdca26"
             ],
             [
              1,
              "#f0f921"
             ]
            ],
            "type": "histogram2d"
           }
          ],
          "histogram2dcontour": [
           {
            "colorbar": {
             "outlinewidth": 0,
             "ticks": ""
            },
            "colorscale": [
             [
              0,
              "#0d0887"
             ],
             [
              0.1111111111111111,
              "#46039f"
             ],
             [
              0.2222222222222222,
              "#7201a8"
             ],
             [
              0.3333333333333333,
              "#9c179e"
             ],
             [
              0.4444444444444444,
              "#bd3786"
             ],
             [
              0.5555555555555556,
              "#d8576b"
             ],
             [
              0.6666666666666666,
              "#ed7953"
             ],
             [
              0.7777777777777778,
              "#fb9f3a"
             ],
             [
              0.8888888888888888,
              "#fdca26"
             ],
             [
              1,
              "#f0f921"
             ]
            ],
            "type": "histogram2dcontour"
           }
          ],
          "mesh3d": [
           {
            "colorbar": {
             "outlinewidth": 0,
             "ticks": ""
            },
            "type": "mesh3d"
           }
          ],
          "parcoords": [
           {
            "line": {
             "colorbar": {
              "outlinewidth": 0,
              "ticks": ""
             }
            },
            "type": "parcoords"
           }
          ],
          "pie": [
           {
            "automargin": true,
            "type": "pie"
           }
          ],
          "scatter": [
           {
            "marker": {
             "colorbar": {
              "outlinewidth": 0,
              "ticks": ""
             }
            },
            "type": "scatter"
           }
          ],
          "scatter3d": [
           {
            "line": {
             "colorbar": {
              "outlinewidth": 0,
              "ticks": ""
             }
            },
            "marker": {
             "colorbar": {
              "outlinewidth": 0,
              "ticks": ""
             }
            },
            "type": "scatter3d"
           }
          ],
          "scattercarpet": [
           {
            "marker": {
             "colorbar": {
              "outlinewidth": 0,
              "ticks": ""
             }
            },
            "type": "scattercarpet"
           }
          ],
          "scattergeo": [
           {
            "marker": {
             "colorbar": {
              "outlinewidth": 0,
              "ticks": ""
             }
            },
            "type": "scattergeo"
           }
          ],
          "scattergl": [
           {
            "marker": {
             "colorbar": {
              "outlinewidth": 0,
              "ticks": ""
             }
            },
            "type": "scattergl"
           }
          ],
          "scattermapbox": [
           {
            "marker": {
             "colorbar": {
              "outlinewidth": 0,
              "ticks": ""
             }
            },
            "type": "scattermapbox"
           }
          ],
          "scatterpolar": [
           {
            "marker": {
             "colorbar": {
              "outlinewidth": 0,
              "ticks": ""
             }
            },
            "type": "scatterpolar"
           }
          ],
          "scatterpolargl": [
           {
            "marker": {
             "colorbar": {
              "outlinewidth": 0,
              "ticks": ""
             }
            },
            "type": "scatterpolargl"
           }
          ],
          "scatterternary": [
           {
            "marker": {
             "colorbar": {
              "outlinewidth": 0,
              "ticks": ""
             }
            },
            "type": "scatterternary"
           }
          ],
          "surface": [
           {
            "colorbar": {
             "outlinewidth": 0,
             "ticks": ""
            },
            "colorscale": [
             [
              0,
              "#0d0887"
             ],
             [
              0.1111111111111111,
              "#46039f"
             ],
             [
              0.2222222222222222,
              "#7201a8"
             ],
             [
              0.3333333333333333,
              "#9c179e"
             ],
             [
              0.4444444444444444,
              "#bd3786"
             ],
             [
              0.5555555555555556,
              "#d8576b"
             ],
             [
              0.6666666666666666,
              "#ed7953"
             ],
             [
              0.7777777777777778,
              "#fb9f3a"
             ],
             [
              0.8888888888888888,
              "#fdca26"
             ],
             [
              1,
              "#f0f921"
             ]
            ],
            "type": "surface"
           }
          ],
          "table": [
           {
            "cells": {
             "fill": {
              "color": "#EBF0F8"
             },
             "line": {
              "color": "white"
             }
            },
            "header": {
             "fill": {
              "color": "#C8D4E3"
             },
             "line": {
              "color": "white"
             }
            },
            "type": "table"
           }
          ]
         },
         "layout": {
          "annotationdefaults": {
           "arrowcolor": "#2a3f5f",
           "arrowhead": 0,
           "arrowwidth": 1
          },
          "autotypenumbers": "strict",
          "coloraxis": {
           "colorbar": {
            "outlinewidth": 0,
            "ticks": ""
           }
          },
          "colorscale": {
           "diverging": [
            [
             0,
             "#8e0152"
            ],
            [
             0.1,
             "#c51b7d"
            ],
            [
             0.2,
             "#de77ae"
            ],
            [
             0.3,
             "#f1b6da"
            ],
            [
             0.4,
             "#fde0ef"
            ],
            [
             0.5,
             "#f7f7f7"
            ],
            [
             0.6,
             "#e6f5d0"
            ],
            [
             0.7,
             "#b8e186"
            ],
            [
             0.8,
             "#7fbc41"
            ],
            [
             0.9,
             "#4d9221"
            ],
            [
             1,
             "#276419"
            ]
           ],
           "sequential": [
            [
             0,
             "#0d0887"
            ],
            [
             0.1111111111111111,
             "#46039f"
            ],
            [
             0.2222222222222222,
             "#7201a8"
            ],
            [
             0.3333333333333333,
             "#9c179e"
            ],
            [
             0.4444444444444444,
             "#bd3786"
            ],
            [
             0.5555555555555556,
             "#d8576b"
            ],
            [
             0.6666666666666666,
             "#ed7953"
            ],
            [
             0.7777777777777778,
             "#fb9f3a"
            ],
            [
             0.8888888888888888,
             "#fdca26"
            ],
            [
             1,
             "#f0f921"
            ]
           ],
           "sequentialminus": [
            [
             0,
             "#0d0887"
            ],
            [
             0.1111111111111111,
             "#46039f"
            ],
            [
             0.2222222222222222,
             "#7201a8"
            ],
            [
             0.3333333333333333,
             "#9c179e"
            ],
            [
             0.4444444444444444,
             "#bd3786"
            ],
            [
             0.5555555555555556,
             "#d8576b"
            ],
            [
             0.6666666666666666,
             "#ed7953"
            ],
            [
             0.7777777777777778,
             "#fb9f3a"
            ],
            [
             0.8888888888888888,
             "#fdca26"
            ],
            [
             1,
             "#f0f921"
            ]
           ]
          },
          "colorway": [
           "#636efa",
           "#EF553B",
           "#00cc96",
           "#ab63fa",
           "#FFA15A",
           "#19d3f3",
           "#FF6692",
           "#B6E880",
           "#FF97FF",
           "#FECB52"
          ],
          "font": {
           "color": "#2a3f5f"
          },
          "geo": {
           "bgcolor": "white",
           "lakecolor": "white",
           "landcolor": "#E5ECF6",
           "showlakes": true,
           "showland": true,
           "subunitcolor": "white"
          },
          "hoverlabel": {
           "align": "left"
          },
          "hovermode": "closest",
          "mapbox": {
           "style": "light"
          },
          "paper_bgcolor": "white",
          "plot_bgcolor": "#E5ECF6",
          "polar": {
           "angularaxis": {
            "gridcolor": "white",
            "linecolor": "white",
            "ticks": ""
           },
           "bgcolor": "#E5ECF6",
           "radialaxis": {
            "gridcolor": "white",
            "linecolor": "white",
            "ticks": ""
           }
          },
          "scene": {
           "xaxis": {
            "backgroundcolor": "#E5ECF6",
            "gridcolor": "white",
            "gridwidth": 2,
            "linecolor": "white",
            "showbackground": true,
            "ticks": "",
            "zerolinecolor": "white"
           },
           "yaxis": {
            "backgroundcolor": "#E5ECF6",
            "gridcolor": "white",
            "gridwidth": 2,
            "linecolor": "white",
            "showbackground": true,
            "ticks": "",
            "zerolinecolor": "white"
           },
           "zaxis": {
            "backgroundcolor": "#E5ECF6",
            "gridcolor": "white",
            "gridwidth": 2,
            "linecolor": "white",
            "showbackground": true,
            "ticks": "",
            "zerolinecolor": "white"
           }
          },
          "shapedefaults": {
           "line": {
            "color": "#2a3f5f"
           }
          },
          "ternary": {
           "aaxis": {
            "gridcolor": "white",
            "linecolor": "white",
            "ticks": ""
           },
           "baxis": {
            "gridcolor": "white",
            "linecolor": "white",
            "ticks": ""
           },
           "bgcolor": "#E5ECF6",
           "caxis": {
            "gridcolor": "white",
            "linecolor": "white",
            "ticks": ""
           }
          },
          "title": {
           "x": 0.05
          },
          "xaxis": {
           "automargin": true,
           "gridcolor": "white",
           "linecolor": "white",
           "ticks": "",
           "title": {
            "standoff": 15
           },
           "zerolinecolor": "white",
           "zerolinewidth": 2
          },
          "yaxis": {
           "automargin": true,
           "gridcolor": "white",
           "linecolor": "white",
           "ticks": "",
           "title": {
            "standoff": 15
           },
           "zerolinecolor": "white",
           "zerolinewidth": 2
          }
         }
        },
        "xaxis": {
         "autorange": true,
         "range": [
          0,
          4801148
         ],
         "type": "linear"
        },
        "yaxis": {
         "autorange": true,
         "range": [
          0,
          5.596097491519355e-07
         ],
         "type": "linear"
        }
       }
      },
      "image/png": "[encoded data removed]",
      "text/html": [
       "<div>                            <div id=\"f367d915-a069-47c9-9b04-d4ebaa907dfc\" class=\"plotly-graph-div\" style=\"height:525px; width:100%;\"></div>            <script type=\"text/javascript\">                require([\"plotly\"], function(Plotly) {                    window.PLOTLYENV=window.PLOTLYENV || {};                                    if (document.getElementById(\"f367d915-a069-47c9-9b04-d4ebaa907dfc\")) {                    Plotly.newPlot(                        \"f367d915-a069-47c9-9b04-d4ebaa907dfc\",                        [{\"line\":{\"color\":\"white\"},\"mode\":\"lines\",\"type\":\"scatter\",\"x\":[3748529.0,3550084.0,3432625.0,3211600.0,3204637.0,2883810.0,2785466.0,2670053.0,2644539.0,2507430.0,2448889.0,0.0],\"y\":[2.9820547205116604e-7,3.7215470188076997e-7,4.112554443223471e-7,4.6735565462089626e-7,4.6865152900391916e-7,4.890337518042682e-7,4.78564864479361e-7,4.563146317854197e-7,4.500260540424797e-7,4.087389552547646e-7,3.8780746454881577e-7,5.6574226896981415e-8]},{\"fill\":\"tozeroy\",\"name\":\"Jan\",\"type\":\"scatter\",\"x\":[3748529.0,3550084.0,3432625.0,3211600.0,3204637.0,2883810.0,2785466.0,2670053.0,2644539.0,2507430.0,2448889.0,0.0],\"y\":[2.9820547205116604e-7,3.7215470188076997e-7,4.112554443223471e-7,4.6735565462089626e-7,4.6865152900391916e-7,4.890337518042682e-7,4.78564864479361e-7,4.563146317854197e-7,4.500260540424797e-7,4.087389552547646e-7,3.8780746454881577e-7,5.6574226896981415e-8]},{\"line\":{\"color\":\"white\"},\"mode\":\"lines\",\"type\":\"scatter\",\"x\":[3543639.0,3248144.0,3078405.0,2998119.0,2966477.0,2610667.0,2595676.0,2515361.0,2359800.0,2304990.0,2223024.0,0.0],\"y\":[2.7926800700379535e-7,4.054695579159466e-7,4.6628750162728964e-7,4.890808804658093e-7,4.967558758831447e-7,5.199707252536733e-7,5.181544664701383e-7,5.045299365955382e-7,4.606940876831626e-7,4.4046323970462613e-7,4.0651002686316283e-7,6.09940909687383e-8]},{\"fill\":\"tozeroy\",\"name\":\"Feb\",\"type\":\"scatter\",\"x\":[3543639.0,3248144.0,3078405.0,2998119.0,2966477.0,2610667.0,2595676.0,2515361.0,2359800.0,2304990.0,2223024.0,0.0],\"y\":[2.7926800700379535e-7,4.054695579159466e-7,4.6628750162728964e-7,4.890808804658093e-7,4.967558758831447e-7,5.199707252536733e-7,5.181544664701383e-7,5.045299365955382e-7,4.606940876831626e-7,4.4046323970462613e-7,4.0651002686316283e-7,6.09940909687383e-8]},{\"line\":{\"color\":\"white\"},\"mode\":\"lines\",\"type\":\"scatter\",\"x\":[4137679.0,4001521.0,3765504.0,3593364.0,3472440.0,3129205.0,3127387.0,3105958.0,2925918.0,2820085.0,2708778.0,0.0],\"y\":[2.7616635661899414e-7,3.18921904471686e-7,3.8537421984948836e-7,4.2213541430551577e-7,4.3949947728336417e-7,4.4103924707950035e-7,4.408460303633584e-7,4.3840933091804604e-7,4.068391472733366e-7,3.7998562970413645e-7,3.4653376348164285e-7,5.1129407353830684e-8]},{\"fill\":\"tozeroy\",\"name\":\"Mar\",\"type\":\"scatter\",\"x\":[4137679.0,4001521.0,3765504.0,3593364.0,3472440.0,3129205.0,3127387.0,3105958.0,2925918.0,2820085.0,2708778.0,0.0],\"y\":[2.7616635661899414e-7,3.18921904471686e-7,3.8537421984948836e-7,4.2213541430551577e-7,4.3949947728336417e-7,4.4103924707950035e-7,4.408460303633584e-7,4.3840933091804604e-7,4.068391472733366e-7,3.7998562970413645e-7,3.4653376348164285e-7,5.1129407353830684e-8]},{\"line\":{\"color\":\"white\"},\"mode\":\"lines\",\"type\":\"scatter\",\"x\":[4021677.0,3881893.0,3604104.0,3563007.0,3200527.0,3139059.0,3029021.0,3024973.0,2869247.0,2773293.0,0.0,0.0],\"y\":[2.648300045054704e-7,2.943982596859583e-7,3.4035214019321296e-7,3.451689900428339e-7,3.5935755064711836e-7,3.5640815056953957e-7,3.4732133747908903e-7,3.468970485443716e-7,3.26109018485472e-7,3.094302452515672e-7,8.154464659358574e-8,8.154464659358574e-8]},{\"fill\":\"tozeroy\",\"name\":\"Apr\",\"type\":\"scatter\",\"x\":[4021677.0,3881893.0,3604104.0,3563007.0,3200527.0,3139059.0,3029021.0,3024973.0,2869247.0,2773293.0,0.0,0.0],\"y\":[2.648300045054704e-7,2.943982596859583e-7,3.4035214019321296e-7,3.451689900428339e-7,3.5935755064711836e-7,3.5640815056953957e-7,3.4732133747908903e-7,3.468970485443716e-7,3.26109018485472e-7,3.094302452515672e-7,8.154464659358574e-8,8.154464659358574e-8]},{\"line\":{\"color\":\"white\"},\"mode\":\"lines\",\"type\":\"scatter\",\"x\":[4361140.0,4147096.0,3933016.0,3820570.0,3547804.0,3380355.0,3305954.0,3177100.0,3056934.0,2829000.0,0.0,0.0],\"y\":[2.384426096919982e-7,2.757429600488727e-7,3.0530494325861197e-7,3.165279025566647e-7,3.2868720047499026e-7,3.2475192277010015e-7,3.20235843079803e-7,3.086274004689562e-7,2.9387400051661077e-7,2.576123271494688e-7,7.556206848498967e-8,7.556206848498967e-8]},{\"fill\":\"tozeroy\",\"name\":\"May\",\"type\":\"scatter\",\"x\":[4361140.0,4147096.0,3933016.0,3820570.0,3547804.0,3380355.0,3305954.0,3177100.0,3056934.0,2829000.0,0.0,0.0],\"y\":[2.384426096919982e-7,2.757429600488727e-7,3.0530494325861197e-7,3.165279025566647e-7,3.2868720047499026e-7,3.2475192277010015e-7,3.20235843079803e-7,3.086274004689562e-7,2.9387400051661077e-7,2.576123271494688e-7,7.556206848498967e-8,7.556206848498967e-8]},{\"line\":{\"color\":\"white\"},\"mode\":\"lines\",\"type\":\"scatter\",\"x\":[4558511.0,4321833.0,4146797.0,4107195.0,3766323.0,3612886.0,3453751.0,3419595.0,3263621.0,3071396.0,0.0,0.0],\"y\":[2.38499583066979e-7,2.750228165486945e-7,2.959910358221995e-7,2.9982514665158213e-7,3.1630090578994636e-7,3.1330445863487163e-7,3.034253502478927e-7,3.004569779949297e-7,2.8346480637043344e-7,2.559989042584462e-7,7.15946301050395e-8,7.15946301050395e-8]},{\"fill\":\"tozeroy\",\"name\":\"Jun\",\"type\":\"scatter\",\"x\":[4558511.0,4321833.0,4146797.0,4107195.0,3766323.0,3612886.0,3453751.0,3419595.0,3263621.0,3071396.0,0.0,0.0],\"y\":[2.38499583066979e-7,2.750228165486945e-7,2.959910358221995e-7,2.9982514665158213e-7,3.1630090578994636e-7,3.1330445863487163e-7,3.034253502478927e-7,3.004569779949297e-7,2.8346480637043344e-7,2.559989042584462e-7,7.15946301050395e-8,7.15946301050395e-8]},{\"line\":{\"color\":\"white\"},\"mode\":\"lines\",\"type\":\"scatter\",\"x\":[4801148.0,4499221.0,4284443.0,4176486.0,3935589.0,3765824.0,3649702.0,3603946.0,3382382.0,3227605.0,3225769.0,0.0],\"y\":[2.3454563129363702e-7,3.1053953540042676e-7,3.5639724695703394e-7,3.7464501719990884e-7,3.9956466909073884e-7,4.0178370205454275e-7,3.955042074002405e-7,3.9130924150805314e-7,3.5825216404512757e-7,3.245457041174559e-7,3.241044157832881e-7,4.470191490580777e-8]},{\"fill\":\"tozeroy\",\"name\":\"Jul\",\"type\":\"scatter\",\"x\":[4801148.0,4499221.0,4284443.0,4176486.0,3935589.0,3765824.0,3649702.0,3603946.0,3382382.0,3227605.0,3225769.0,0.0],\"y\":[2.3454563129363702e-7,3.1053953540042676e-7,3.5639724695703394e-7,3.7464501719990884e-7,3.9956466909073884e-7,4.0178370205454275e-7,3.955042074002405e-7,3.9130924150805314e-7,3.5825216404512757e-7,3.245457041174559e-7,3.241044157832881e-7,4.470191490580777e-8]},{\"line\":{\"color\":\"white\"},\"mode\":\"lines\",\"type\":\"scatter\",\"x\":[4796653.0,4524918.0,4356216.0,4347059.0,3917884.0,3771842.0,3650668.0,3612297.0,3436417.0,3195866.0,3143839.0,0.0],\"y\":[2.433781318817514e-7,3.067953230541245e-7,3.4037589511710804e-7,3.4200852517080824e-7,3.8826540307579555e-7,3.879743792894985e-7,3.8101869808077565e-7,3.775664487934195e-7,3.54500135391067e-7,3.0662222239045206e-7,2.9439734715939747e-7,4.411314772247949e-8]},{\"fill\":\"tozeroy\",\"name\":\"Aug\",\"type\":\"scatter\",\"x\":[4796653.0,4524918.0,4356216.0,4347059.0,3917884.0,3771842.0,3650668.0,3612297.0,3436417.0,3195866.0,3143839.0,0.0],\"y\":[2.433781318817514e-7,3.067953230541245e-7,3.4037589511710804e-7,3.4200852517080824e-7,3.8826540307579555e-7,3.879743792894985e-7,3.8101869808077565e-7,3.775664487934195e-7,3.54500135391067e-7,3.0662222239045206e-7,2.9439734715939747e-7,4.411314772247949e-8]},{\"line\":{\"color\":\"white\"},\"mode\":\"lines\",\"type\":\"scatter\",\"x\":[4201394.0,3919072.0,3819379.0,3781168.0,3564970.0,3356365.0,3191526.0,3004720.0,2957530.0,2740553.0,2720100.0,0.0],\"y\":[2.760584061218314e-7,3.574846082093801e-7,3.8127341415312277e-7,3.8941708668329165e-7,4.2331495984313473e-7,4.3343498839285507e-7,4.2452240670182533e-7,3.970603151203629e-7,3.874753644779736e-7,3.3233978350060746e-7,3.2638726058304154e-7,5.016181056378619e-8]},{\"fill\":\"tozeroy\",\"name\":\"Sep\",\"type\":\"scatter\",\"x\":[4201394.0,3919072.0,3819379.0,3781168.0,3564970.0,3356365.0,3191526.0,3004720.0,2957530.0,2740553.0,2720100.0,0.0],\"y\":[2.760584061218314e-7,3.574846082093801e-7,3.8127341415312277e-7,3.8941708668329165e-7,4.2331495984313473e-7,4.3343498839285507e-7,4.2452240670182533e-7,3.970603151203629e-7,3.874753644779736e-7,3.3233978350060746e-7,3.2638726058304154e-7,5.016181056378619e-8]},{\"line\":{\"color\":\"white\"},\"mode\":\"lines\",\"type\":\"scatter\",\"x\":[4374749.0,4059443.0,3910790.0,3844987.0,3602455.0,3490100.0,3249428.0,3129309.0,3124451.0,2834959.0,2770715.0,0.0],\"y\":[2.5162270519625567e-7,3.4002147055508465e-7,3.745838056977308e-7,3.875048708410521e-7,4.190816940153664e-7,4.2392392683864187e-7,4.117949448463253e-7,3.9462813786129783e-7,3.9378995112669587e-7,3.2711267707463926e-7,3.08871961214574e-7,4.871423899259342e-8]},{\"fill\":\"tozeroy\",\"name\":\"Oct\",\"type\":\"scatter\",\"x\":[4374749.0,4059443.0,3910790.0,3844987.0,3602455.0,3490100.0,3249428.0,3129309.0,3124451.0,2834959.0,2770715.0,0.0],\"y\":[2.5162270519625567e-7,3.4002147055508465e-7,3.745838056977308e-7,3.875048708410521e-7,4.190816940153664e-7,4.2392392683864187e-7,4.117949448463253e-7,3.9462813786129783e-7,3.9378995112669587e-7,3.2711267707463926e-7,3.08871961214574e-7,4.871423899259342e-8]},{\"line\":{\"color\":\"white\"},\"mode\":\"lines\",\"type\":\"scatter\",\"x\":[4013814.0,3628786.0,3478890.0,3466878.0,3326859.0,3163659.0,2971484.0,2922500.0,2744485.0,2653887.0,2617333.0,0.0],\"y\":[2.609799247485486e-7,3.986939650234845e-7,4.403953651243186e-7,4.432214228955167e-7,4.6935386228325685e-7,4.818701544203012e-7,4.695028615981898e-7,4.617160171073515e-7,4.192777449242382e-7,3.904982752586211e-7,3.77816980362274e-7,5.40341595190106e-8]},{\"fill\":\"tozeroy\",\"name\":\"Nov\",\"type\":\"scatter\",\"x\":[4013814.0,3628786.0,3478890.0,3466878.0,3326859.0,3163659.0,2971484.0,2922500.0,2744485.0,2653887.0,2617333.0,0.0],\"y\":[2.609799247485486e-7,3.986939650234845e-7,4.403953651243186e-7,4.432214228955167e-7,4.6935386228325685e-7,4.818701544203012e-7,4.695028615981898e-7,4.617160171073515e-7,4.192777449242382e-7,3.904982752586211e-7,3.77816980362274e-7,5.40341595190106e-8]},{\"line\":{\"color\":\"white\"},\"mode\":\"lines\",\"type\":\"scatter\",\"x\":[4129052.0,3855835.0,3814984.0,3443039.0,3441693.0,3167124.0,3074209.0,2962937.0,2903637.0,2698200.0,2671797.0,0.0],\"y\":[2.603566254010491e-7,3.4510968191194527e-7,3.56809717400687e-7,4.36465549050939e-7,4.366375543203027e-7,4.4895753840079967e-7,4.4219778709182297e-7,4.2679604200106326e-7,4.154941627321098e-7,3.6205896421505484e-7,3.538650669170617e-7,5.169235738966025e-8]},{\"fill\":\"tozeroy\",\"name\":\"Dec\",\"type\":\"scatter\",\"x\":[4129052.0,3855835.0,3814984.0,3443039.0,3441693.0,3167124.0,3074209.0,2962937.0,2903637.0,2698200.0,2671797.0,0.0],\"y\":[2.603566254010491e-7,3.4510968191194527e-7,3.56809717400687e-7,4.36465549050939e-7,4.366375543203027e-7,4.4895753840079967e-7,4.4219778709182297e-7,4.2679604200106326e-7,4.154941627321098e-7,3.6205896421505484e-7,3.538650669170617e-7,5.169235738966025e-8]}],                        {\"template\":{\"data\":{\"bar\":[{\"error_x\":{\"color\":\"#2a3f5f\"},\"error_y\":{\"color\":\"#2a3f5f\"},\"marker\":{\"line\":{\"color\":\"#E5ECF6\",\"width\":0.5},\"pattern\":{\"fillmode\":\"overlay\",\"size\":10,\"solidity\":0.2}},\"type\":\"bar\"}],\"barpolar\":[{\"marker\":{\"line\":{\"color\":\"#E5ECF6\",\"width\":0.5},\"pattern\":{\"fillmode\":\"overlay\",\"size\":10,\"solidity\":0.2}},\"type\":\"barpolar\"}],\"carpet\":[{\"aaxis\":{\"endlinecolor\":\"#2a3f5f\",\"gridcolor\":\"white\",\"linecolor\":\"white\",\"minorgridcolor\":\"white\",\"startlinecolor\":\"#2a3f5f\"},\"baxis\":{\"endlinecolor\":\"#2a3f5f\",\"gridcolor\":\"white\",\"linecolor\":\"white\",\"minorgridcolor\":\"white\",\"startlinecolor\":\"#2a3f5f\"},\"type\":\"carpet\"}],\"choropleth\":[{\"colorbar\":{\"outlinewidth\":0,\"ticks\":\"\"},\"type\":\"choropleth\"}],\"contour\":[{\"colorbar\":{\"outlinewidth\":0,\"ticks\":\"\"},\"colorscale\":[[0.0,\"#0d0887\"],[0.1111111111111111,\"#46039f\"],[0.2222222222222222,\"#7201a8\"],[0.3333333333333333,\"#9c179e\"],[0.4444444444444444,\"#bd3786\"],[0.5555555555555556,\"#d8576b\"],[0.6666666666666666,\"#ed7953\"],[0.7777777777777778,\"#fb9f3a\"],[0.8888888888888888,\"#fdca26\"],[1.0,\"#f0f921\"]],\"type\":\"contour\"}],\"contourcarpet\":[{\"colorbar\":{\"outlinewidth\":0,\"ticks\":\"\"},\"type\":\"contourcarpet\"}],\"heatmap\":[{\"colorbar\":{\"outlinewidth\":0,\"ticks\":\"\"},\"colorscale\":[[0.0,\"#0d0887\"],[0.1111111111111111,\"#46039f\"],[0.2222222222222222,\"#7201a8\"],[0.3333333333333333,\"#9c179e\"],[0.4444444444444444,\"#bd3786\"],[0.5555555555555556,\"#d8576b\"],[0.6666666666666666,\"#ed7953\"],[0.7777777777777778,\"#fb9f3a\"],[0.8888888888888888,\"#fdca26\"],[1.0,\"#f0f921\"]],\"type\":\"heatmap\"}],\"heatmapgl\":[{\"colorbar\":{\"outlinewidth\":0,\"ticks\":\"\"},\"colorscale\":[[0.0,\"#0d0887\"],[0.1111111111111111,\"#46039f\"],[0.2222222222222222,\"#7201a8\"],[0.3333333333333333,\"#9c179e\"],[0.4444444444444444,\"#bd3786\"],[0.5555555555555556,\"#d8576b\"],[0.6666666666666666,\"#ed7953\"],[0.7777777777777778,\"#fb9f3a\"],[0.8888888888888888,\"#fdca26\"],[1.0,\"#f0f921\"]],\"type\":\"heatmapgl\"}],\"histogram\":[{\"marker\":{\"pattern\":{\"fillmode\":\"overlay\",\"size\":10,\"solidity\":0.2}},\"type\":\"histogram\"}],\"histogram2d\":[{\"colorbar\":{\"outlinewidth\":0,\"ticks\":\"\"},\"colorscale\":[[0.0,\"#0d0887\"],[0.1111111111111111,\"#46039f\"],[0.2222222222222222,\"#7201a8\"],[0.3333333333333333,\"#9c179e\"],[0.4444444444444444,\"#bd3786\"],[0.5555555555555556,\"#d8576b\"],[0.6666666666666666,\"#ed7953\"],[0.7777777777777778,\"#fb9f3a\"],[0.8888888888888888,\"#fdca26\"],[1.0,\"#f0f921\"]],\"type\":\"histogram2d\"}],\"histogram2dcontour\":[{\"colorbar\":{\"outlinewidth\":0,\"ticks\":\"\"},\"colorscale\":[[0.0,\"#0d0887\"],[0.1111111111111111,\"#46039f\"],[0.2222222222222222,\"#7201a8\"],[0.3333333333333333,\"#9c179e\"],[0.4444444444444444,\"#bd3786\"],[0.5555555555555556,\"#d8576b\"],[0.6666666666666666,\"#ed7953\"],[0.7777777777777778,\"#fb9f3a\"],[0.8888888888888888,\"#fdca26\"],[1.0,\"#f0f921\"]],\"type\":\"histogram2dcontour\"}],\"mesh3d\":[{\"colorbar\":{\"outlinewidth\":0,\"ticks\":\"\"},\"type\":\"mesh3d\"}],\"parcoords\":[{\"line\":{\"colorbar\":{\"outlinewidth\":0,\"ticks\":\"\"}},\"type\":\"parcoords\"}],\"pie\":[{\"automargin\":true,\"type\":\"pie\"}],\"scatter\":[{\"marker\":{\"colorbar\":{\"outlinewidth\":0,\"ticks\":\"\"}},\"type\":\"scatter\"}],\"scatter3d\":[{\"line\":{\"colorbar\":{\"outlinewidth\":0,\"ticks\":\"\"}},\"marker\":{\"colorbar\":{\"outlinewidth\":0,\"ticks\":\"\"}},\"type\":\"scatter3d\"}],\"scattercarpet\":[{\"marker\":{\"colorbar\":{\"outlinewidth\":0,\"ticks\":\"\"}},\"type\":\"scattercarpet\"}],\"scattergeo\":[{\"marker\":{\"colorbar\":{\"outlinewidth\":0,\"ticks\":\"\"}},\"type\":\"scattergeo\"}],\"scattergl\":[{\"marker\":{\"colorbar\":{\"outlinewidth\":0,\"ticks\":\"\"}},\"type\":\"scattergl\"}],\"scattermapbox\":[{\"marker\":{\"colorbar\":{\"outlinewidth\":0,\"ticks\":\"\"}},\"type\":\"scattermapbox\"}],\"scatterpolar\":[{\"marker\":{\"colorbar\":{\"outlinewidth\":0,\"ticks\":\"\"}},\"type\":\"scatterpolar\"}],\"scatterpolargl\":[{\"marker\":{\"colorbar\":{\"outlinewidth\":0,\"ticks\":\"\"}},\"type\":\"scatterpolargl\"}],\"scatterternary\":[{\"marker\":{\"colorbar\":{\"outlinewidth\":0,\"ticks\":\"\"}},\"type\":\"scatterternary\"}],\"surface\":[{\"colorbar\":{\"outlinewidth\":0,\"ticks\":\"\"},\"colorscale\":[[0.0,\"#0d0887\"],[0.1111111111111111,\"#46039f\"],[0.2222222222222222,\"#7201a8\"],[0.3333333333333333,\"#9c179e\"],[0.4444444444444444,\"#bd3786\"],[0.5555555555555556,\"#d8576b\"],[0.6666666666666666,\"#ed7953\"],[0.7777777777777778,\"#fb9f3a\"],[0.8888888888888888,\"#fdca26\"],[1.0,\"#f0f921\"]],\"type\":\"surface\"}],\"table\":[{\"cells\":{\"fill\":{\"color\":\"#EBF0F8\"},\"line\":{\"color\":\"white\"}},\"header\":{\"fill\":{\"color\":\"#C8D4E3\"},\"line\":{\"color\":\"white\"}},\"type\":\"table\"}]},\"layout\":{\"annotationdefaults\":{\"arrowcolor\":\"#2a3f5f\",\"arrowhead\":0,\"arrowwidth\":1},\"autotypenumbers\":\"strict\",\"coloraxis\":{\"colorbar\":{\"outlinewidth\":0,\"ticks\":\"\"}},\"colorscale\":{\"diverging\":[[0,\"#8e0152\"],[0.1,\"#c51b7d\"],[0.2,\"#de77ae\"],[0.3,\"#f1b6da\"],[0.4,\"#fde0ef\"],[0.5,\"#f7f7f7\"],[0.6,\"#e6f5d0\"],[0.7,\"#b8e186\"],[0.8,\"#7fbc41\"],[0.9,\"#4d9221\"],[1,\"#276419\"]],\"sequential\":[[0.0,\"#0d0887\"],[0.1111111111111111,\"#46039f\"],[0.2222222222222222,\"#7201a8\"],[0.3333333333333333,\"#9c179e\"],[0.4444444444444444,\"#bd3786\"],[0.5555555555555556,\"#d8576b\"],[0.6666666666666666,\"#ed7953\"],[0.7777777777777778,\"#fb9f3a\"],[0.8888888888888888,\"#fdca26\"],[1.0,\"#f0f921\"]],\"sequentialminus\":[[0.0,\"#0d0887\"],[0.1111111111111111,\"#46039f\"],[0.2222222222222222,\"#7201a8\"],[0.3333333333333333,\"#9c179e\"],[0.4444444444444444,\"#bd3786\"],[0.5555555555555556,\"#d8576b\"],[0.6666666666666666,\"#ed7953\"],[0.7777777777777778,\"#fb9f3a\"],[0.8888888888888888,\"#fdca26\"],[1.0,\"#f0f921\"]]},\"colorway\":[\"#636efa\",\"#EF553B\",\"#00cc96\",\"#ab63fa\",\"#FFA15A\",\"#19d3f3\",\"#FF6692\",\"#B6E880\",\"#FF97FF\",\"#FECB52\"],\"font\":{\"color\":\"#2a3f5f\"},\"geo\":{\"bgcolor\":\"white\",\"lakecolor\":\"white\",\"landcolor\":\"#E5ECF6\",\"showlakes\":true,\"showland\":true,\"subunitcolor\":\"white\"},\"hoverlabel\":{\"align\":\"left\"},\"hovermode\":\"closest\",\"mapbox\":{\"style\":\"light\"},\"paper_bgcolor\":\"white\",\"plot_bgcolor\":\"#E5ECF6\",\"polar\":{\"angularaxis\":{\"gridcolor\":\"white\",\"linecolor\":\"white\",\"ticks\":\"\"},\"bgcolor\":\"#E5ECF6\",\"radialaxis\":{\"gridcolor\":\"white\",\"linecolor\":\"white\",\"ticks\":\"\"}},\"scene\":{\"xaxis\":{\"backgroundcolor\":\"#E5ECF6\",\"gridcolor\":\"white\",\"gridwidth\":2,\"linecolor\":\"white\",\"showbackground\":true,\"ticks\":\"\",\"zerolinecolor\":\"white\"},\"yaxis\":{\"backgroundcolor\":\"#E5ECF6\",\"gridcolor\":\"white\",\"gridwidth\":2,\"linecolor\":\"white\",\"showbackground\":true,\"ticks\":\"\",\"zerolinecolor\":\"white\"},\"zaxis\":{\"backgroundcolor\":\"#E5ECF6\",\"gridcolor\":\"white\",\"gridwidth\":2,\"linecolor\":\"white\",\"showbackground\":true,\"ticks\":\"\",\"zerolinecolor\":\"white\"}},\"shapedefaults\":{\"line\":{\"color\":\"#2a3f5f\"}},\"ternary\":{\"aaxis\":{\"gridcolor\":\"white\",\"linecolor\":\"white\",\"ticks\":\"\"},\"baxis\":{\"gridcolor\":\"white\",\"linecolor\":\"white\",\"ticks\":\"\"},\"bgcolor\":\"#E5ECF6\",\"caxis\":{\"gridcolor\":\"white\",\"linecolor\":\"white\",\"ticks\":\"\"}},\"title\":{\"x\":0.05},\"xaxis\":{\"automargin\":true,\"gridcolor\":\"white\",\"linecolor\":\"white\",\"ticks\":\"\",\"title\":{\"standoff\":15},\"zerolinecolor\":\"white\",\"zerolinewidth\":2},\"yaxis\":{\"automargin\":true,\"gridcolor\":\"white\",\"linecolor\":\"white\",\"ticks\":\"\",\"title\":{\"standoff\":15},\"zerolinecolor\":\"white\",\"zerolinewidth\":2}}}},                        {\"responsive\": true}                    ).then(function(){\n",
       "                            \n",
       "var gd = document.getElementById('f367d915-a069-47c9-9b04-d4ebaa907dfc');\n",
       "var x = new MutationObserver(function (mutations, observer) {{\n",
       "        var display = window.getComputedStyle(gd).display;\n",
       "        if (!display || display === 'none') {{\n",
       "            console.log([gd, 'removed!']);\n",
       "            Plotly.purge(gd);\n",
       "            observer.disconnect();\n",
       "        }}\n",
       "}});\n",
       "\n",
       "// Listen for the removal of the full notebook cells\n",
       "var notebookContainer = gd.closest('#notebook-container');\n",
       "if (notebookContainer) {{\n",
       "    x.observe(notebookContainer, {childList: true});\n",
       "}}\n",
       "\n",
       "// Listen for the clearing of the current output cell\n",
       "var outputEl = gd.closest('.output');\n",
       "if (outputEl) {{\n",
       "    x.observe(outputEl, {childList: true});\n",
       "}}\n",
       "\n",
       "                        })                };                });            </script>        </div>"
      ]
     },
     "metadata": {},
     "output_type": "display_data"
    }
   ],
   "source": [
    "from plotly.subplots import make_subplots\n",
    "figure = go.Figure()\n",
    "for idx,month in enumerate(month_list) : \n",
    "    y = idx+1 \n",
    "    df = ts_pivot.loc[:,[month]].fillna(0)\n",
    "    df['kde'] = kde(df[month]).evaluate(df[month])\n",
    "    df.sort_values(month,ascending=False,inplace=True)\n",
    "#     figure.append_trace(go.Scatter(\n",
    "#         x = df[month],y=df['kde'],fill='tozeroy',name=f'{month}'\n",
    "    \n",
    "#     ),row=y,col=1)\n",
    "#     for index, year in enumerate(year_list):\n",
    "    figure.add_trace(go.Scatter(\n",
    "                            x=df[month], y= df['kde'] ,\n",
    "                            mode='lines',\n",
    "                            line_color='white'))\n",
    "    \n",
    "    figure.add_trace(go.Scatter(\n",
    "                            x=df[month], y= df['kde'] ,\n",
    "                            fill='tozeroy',\n",
    "                            name=f'{month}'))\n",
    "    \n",
    "    # plotly.graph_objects' way of adding text to a figure\n",
    "#     figure.add_annotation(\n",
    "#                         x=-20,\n",
    "#                         y=len(year_list)-index,\n",
    "#                         text=f'{month}',\n",
    "#                         showarrow=False,\n",
    "#                         yshift=10)\n",
    "\n",
    "figure.show()"
   ]
  },
  {
   "cell_type": "code",
   "execution_count": 79,
   "metadata": {},
   "outputs": [
    {
     "data": {
      "application/vnd.plotly.v1+json": {
       "config": {
        "plotlyServerURL": "https://plot.ly"
       },
       "data": [
        {
         "fill": "tozeroy",
         "name": "Jan",
         "type": "scatter",
         "x": [
          3748529,
          3550084,
          3432625,
          3211600,
          3204637,
          2883810,
          2785466,
          2670053,
          2644539,
          2507430,
          2448889,
          0
         ],
         "xaxis": "x",
         "y": [
          2.9820547205116604e-07,
          3.7215470188076997e-07,
          4.112554443223471e-07,
          4.6735565462089626e-07,
          4.6865152900391916e-07,
          4.890337518042682e-07,
          4.78564864479361e-07,
          4.563146317854197e-07,
          4.500260540424797e-07,
          4.087389552547646e-07,
          3.8780746454881577e-07,
          5.6574226896981415e-08
         ],
         "yaxis": "y"
        },
        {
         "fill": "tozeroy",
         "name": "Feb",
         "type": "scatter",
         "x": [
          3543639,
          3248144,
          3078405,
          2998119,
          2966477,
          2610667,
          2595676,
          2515361,
          2359800,
          2304990,
          2223024,
          0
         ],
         "xaxis": "x2",
         "y": [
          2.7926800700379535e-07,
          4.054695579159466e-07,
          4.6628750162728964e-07,
          4.890808804658093e-07,
          4.967558758831447e-07,
          5.199707252536733e-07,
          5.181544664701383e-07,
          5.045299365955382e-07,
          4.606940876831626e-07,
          4.4046323970462613e-07,
          4.0651002686316283e-07,
          6.09940909687383e-08
         ],
         "yaxis": "y2"
        },
        {
         "fill": "tozeroy",
         "name": "Mar",
         "type": "scatter",
         "x": [
          4137679,
          4001521,
          3765504,
          3593364,
          3472440,
          3129205,
          3127387,
          3105958,
          2925918,
          2820085,
          2708778,
          0
         ],
         "xaxis": "x3",
         "y": [
          2.7616635661899414e-07,
          3.18921904471686e-07,
          3.8537421984948836e-07,
          4.2213541430551577e-07,
          4.3949947728336417e-07,
          4.4103924707950035e-07,
          4.408460303633584e-07,
          4.3840933091804604e-07,
          4.068391472733366e-07,
          3.7998562970413645e-07,
          3.4653376348164285e-07,
          5.1129407353830684e-08
         ],
         "yaxis": "y3"
        },
        {
         "fill": "tozeroy",
         "name": "Apr",
         "type": "scatter",
         "x": [
          4021677,
          3881893,
          3604104,
          3563007,
          3200527,
          3139059,
          3029021,
          3024973,
          2869247,
          2773293,
          0,
          0
         ],
         "xaxis": "x4",
         "y": [
          2.648300045054704e-07,
          2.943982596859583e-07,
          3.4035214019321296e-07,
          3.451689900428339e-07,
          3.5935755064711836e-07,
          3.5640815056953957e-07,
          3.4732133747908903e-07,
          3.468970485443716e-07,
          3.26109018485472e-07,
          3.094302452515672e-07,
          8.154464659358574e-08,
          8.154464659358574e-08
         ],
         "yaxis": "y4"
        },
        {
         "fill": "tozeroy",
         "name": "May",
         "type": "scatter",
         "x": [
          4361140,
          4147096,
          3933016,
          3820570,
          3547804,
          3380355,
          3305954,
          3177100,
          3056934,
          2829000,
          0,
          0
         ],
         "xaxis": "x5",
         "y": [
          2.384426096919982e-07,
          2.757429600488727e-07,
          3.0530494325861197e-07,
          3.165279025566647e-07,
          3.2868720047499026e-07,
          3.2475192277010015e-07,
          3.20235843079803e-07,
          3.086274004689562e-07,
          2.9387400051661077e-07,
          2.576123271494688e-07,
          7.556206848498967e-08,
          7.556206848498967e-08
         ],
         "yaxis": "y5"
        },
        {
         "fill": "tozeroy",
         "name": "Jun",
         "type": "scatter",
         "x": [
          4558511,
          4321833,
          4146797,
          4107195,
          3766323,
          3612886,
          3453751,
          3419595,
          3263621,
          3071396,
          0,
          0
         ],
         "xaxis": "x6",
         "y": [
          2.38499583066979e-07,
          2.750228165486945e-07,
          2.959910358221995e-07,
          2.9982514665158213e-07,
          3.1630090578994636e-07,
          3.1330445863487163e-07,
          3.034253502478927e-07,
          3.004569779949297e-07,
          2.8346480637043344e-07,
          2.559989042584462e-07,
          7.15946301050395e-08,
          7.15946301050395e-08
         ],
         "yaxis": "y6"
        },
        {
         "fill": "tozeroy",
         "name": "Jul",
         "type": "scatter",
         "x": [
          4801148,
          4499221,
          4284443,
          4176486,
          3935589,
          3765824,
          3649702,
          3603946,
          3382382,
          3227605,
          3225769,
          0
         ],
         "xaxis": "x7",
         "y": [
          2.3454563129363702e-07,
          3.1053953540042676e-07,
          3.5639724695703394e-07,
          3.7464501719990884e-07,
          3.9956466909073884e-07,
          4.0178370205454275e-07,
          3.955042074002405e-07,
          3.9130924150805314e-07,
          3.5825216404512757e-07,
          3.245457041174559e-07,
          3.241044157832881e-07,
          4.470191490580777e-08
         ],
         "yaxis": "y7"
        },
        {
         "fill": "tozeroy",
         "name": "Aug",
         "type": "scatter",
         "x": [
          4796653,
          4524918,
          4356216,
          4347059,
          3917884,
          3771842,
          3650668,
          3612297,
          3436417,
          3195866,
          3143839,
          0
         ],
         "xaxis": "x8",
         "y": [
          2.433781318817514e-07,
          3.067953230541245e-07,
          3.4037589511710804e-07,
          3.4200852517080824e-07,
          3.8826540307579555e-07,
          3.879743792894985e-07,
          3.8101869808077565e-07,
          3.775664487934195e-07,
          3.54500135391067e-07,
          3.0662222239045206e-07,
          2.9439734715939747e-07,
          4.411314772247949e-08
         ],
         "yaxis": "y8"
        },
        {
         "fill": "tozeroy",
         "name": "Sep",
         "type": "scatter",
         "x": [
          4201394,
          3919072,
          3819379,
          3781168,
          3564970,
          3356365,
          3191526,
          3004720,
          2957530,
          2740553,
          2720100,
          0
         ],
         "xaxis": "x9",
         "y": [
          2.760584061218314e-07,
          3.574846082093801e-07,
          3.8127341415312277e-07,
          3.8941708668329165e-07,
          4.2331495984313473e-07,
          4.3343498839285507e-07,
          4.2452240670182533e-07,
          3.970603151203629e-07,
          3.874753644779736e-07,
          3.3233978350060746e-07,
          3.2638726058304154e-07,
          5.016181056378619e-08
         ],
         "yaxis": "y9"
        },
        {
         "fill": "tozeroy",
         "name": "Oct",
         "type": "scatter",
         "x": [
          4374749,
          4059443,
          3910790,
          3844987,
          3602455,
          3490100,
          3249428,
          3129309,
          3124451,
          2834959,
          2770715,
          0
         ],
         "xaxis": "x10",
         "y": [
          2.5162270519625567e-07,
          3.4002147055508465e-07,
          3.745838056977308e-07,
          3.875048708410521e-07,
          4.190816940153664e-07,
          4.2392392683864187e-07,
          4.117949448463253e-07,
          3.9462813786129783e-07,
          3.9378995112669587e-07,
          3.2711267707463926e-07,
          3.08871961214574e-07,
          4.871423899259342e-08
         ],
         "yaxis": "y10"
        },
        {
         "fill": "tozeroy",
         "name": "Nov",
         "type": "scatter",
         "x": [
          4013814,
          3628786,
          3478890,
          3466878,
          3326859,
          3163659,
          2971484,
          2922500,
          2744485,
          2653887,
          2617333,
          0
         ],
         "xaxis": "x11",
         "y": [
          2.609799247485486e-07,
          3.986939650234845e-07,
          4.403953651243186e-07,
          4.432214228955167e-07,
          4.6935386228325685e-07,
          4.818701544203012e-07,
          4.695028615981898e-07,
          4.617160171073515e-07,
          4.192777449242382e-07,
          3.904982752586211e-07,
          3.77816980362274e-07,
          5.40341595190106e-08
         ],
         "yaxis": "y11"
        },
        {
         "fill": "tozeroy",
         "name": "Dec",
         "type": "scatter",
         "x": [
          4129052,
          3855835,
          3814984,
          3443039,
          3441693,
          3167124,
          3074209,
          2962937,
          2903637,
          2698200,
          2671797,
          0
         ],
         "xaxis": "x12",
         "y": [
          2.603566254010491e-07,
          3.4510968191194527e-07,
          3.56809717400687e-07,
          4.36465549050939e-07,
          4.366375543203027e-07,
          4.4895753840079967e-07,
          4.4219778709182297e-07,
          4.2679604200106326e-07,
          4.154941627321098e-07,
          3.6205896421505484e-07,
          3.538650669170617e-07,
          5.169235738966025e-08
         ],
         "yaxis": "y12"
        }
       ],
       "layout": {
        "autosize": true,
        "template": {
         "data": {
          "bar": [
           {
            "error_x": {
             "color": "#2a3f5f"
            },
            "error_y": {
             "color": "#2a3f5f"
            },
            "marker": {
             "line": {
              "color": "#E5ECF6",
              "width": 0.5
             },
             "pattern": {
              "fillmode": "overlay",
              "size": 10,
              "solidity": 0.2
             }
            },
            "type": "bar"
           }
          ],
          "barpolar": [
           {
            "marker": {
             "line": {
              "color": "#E5ECF6",
              "width": 0.5
             },
             "pattern": {
              "fillmode": "overlay",
              "size": 10,
              "solidity": 0.2
             }
            },
            "type": "barpolar"
           }
          ],
          "carpet": [
           {
            "aaxis": {
             "endlinecolor": "#2a3f5f",
             "gridcolor": "white",
             "linecolor": "white",
             "minorgridcolor": "white",
             "startlinecolor": "#2a3f5f"
            },
            "baxis": {
             "endlinecolor": "#2a3f5f",
             "gridcolor": "white",
             "linecolor": "white",
             "minorgridcolor": "white",
             "startlinecolor": "#2a3f5f"
            },
            "type": "carpet"
           }
          ],
          "choropleth": [
           {
            "colorbar": {
             "outlinewidth": 0,
             "ticks": ""
            },
            "type": "choropleth"
           }
          ],
          "contour": [
           {
            "colorbar": {
             "outlinewidth": 0,
             "ticks": ""
            },
            "colorscale": [
             [
              0,
              "#0d0887"
             ],
             [
              0.1111111111111111,
              "#46039f"
             ],
             [
              0.2222222222222222,
              "#7201a8"
             ],
             [
              0.3333333333333333,
              "#9c179e"
             ],
             [
              0.4444444444444444,
              "#bd3786"
             ],
             [
              0.5555555555555556,
              "#d8576b"
             ],
             [
              0.6666666666666666,
              "#ed7953"
             ],
             [
              0.7777777777777778,
              "#fb9f3a"
             ],
             [
              0.8888888888888888,
              "#fdca26"
             ],
             [
              1,
              "#f0f921"
             ]
            ],
            "type": "contour"
           }
          ],
          "contourcarpet": [
           {
            "colorbar": {
             "outlinewidth": 0,
             "ticks": ""
            },
            "type": "contourcarpet"
           }
          ],
          "heatmap": [
           {
            "colorbar": {
             "outlinewidth": 0,
             "ticks": ""
            },
            "colorscale": [
             [
              0,
              "#0d0887"
             ],
             [
              0.1111111111111111,
              "#46039f"
             ],
             [
              0.2222222222222222,
              "#7201a8"
             ],
             [
              0.3333333333333333,
              "#9c179e"
             ],
             [
              0.4444444444444444,
              "#bd3786"
             ],
             [
              0.5555555555555556,
              "#d8576b"
             ],
             [
              0.6666666666666666,
              "#ed7953"
             ],
             [
              0.7777777777777778,
              "#fb9f3a"
             ],
             [
              0.8888888888888888,
              "#fdca26"
             ],
             [
              1,
              "#f0f921"
             ]
            ],
            "type": "heatmap"
           }
          ],
          "heatmapgl": [
           {
            "colorbar": {
             "outlinewidth": 0,
             "ticks": ""
            },
            "colorscale": [
             [
              0,
              "#0d0887"
             ],
             [
              0.1111111111111111,
              "#46039f"
             ],
             [
              0.2222222222222222,
              "#7201a8"
             ],
             [
              0.3333333333333333,
              "#9c179e"
             ],
             [
              0.4444444444444444,
              "#bd3786"
             ],
             [
              0.5555555555555556,
              "#d8576b"
             ],
             [
              0.6666666666666666,
              "#ed7953"
             ],
             [
              0.7777777777777778,
              "#fb9f3a"
             ],
             [
              0.8888888888888888,
              "#fdca26"
             ],
             [
              1,
              "#f0f921"
             ]
            ],
            "type": "heatmapgl"
           }
          ],
          "histogram": [
           {
            "marker": {
             "pattern": {
              "fillmode": "overlay",
              "size": 10,
              "solidity": 0.2
             }
            },
            "type": "histogram"
           }
          ],
          "histogram2d": [
           {
            "colorbar": {
             "outlinewidth": 0,
             "ticks": ""
            },
            "colorscale": [
             [
              0,
              "#0d0887"
             ],
             [
              0.1111111111111111,
              "#46039f"
             ],
             [
              0.2222222222222222,
              "#7201a8"
             ],
             [
              0.3333333333333333,
              "#9c179e"
             ],
             [
              0.4444444444444444,
              "#bd3786"
             ],
             [
              0.5555555555555556,
              "#d8576b"
             ],
             [
              0.6666666666666666,
              "#ed7953"
             ],
             [
              0.7777777777777778,
              "#fb9f3a"
             ],
             [
              0.8888888888888888,
              "#fdca26"
             ],
             [
              1,
              "#f0f921"
             ]
            ],
            "type": "histogram2d"
           }
          ],
          "histogram2dcontour": [
           {
            "colorbar": {
             "outlinewidth": 0,
             "ticks": ""
            },
            "colorscale": [
             [
              0,
              "#0d0887"
             ],
             [
              0.1111111111111111,
              "#46039f"
             ],
             [
              0.2222222222222222,
              "#7201a8"
             ],
             [
              0.3333333333333333,
              "#9c179e"
             ],
             [
              0.4444444444444444,
              "#bd3786"
             ],
             [
              0.5555555555555556,
              "#d8576b"
             ],
             [
              0.6666666666666666,
              "#ed7953"
             ],
             [
              0.7777777777777778,
              "#fb9f3a"
             ],
             [
              0.8888888888888888,
              "#fdca26"
             ],
             [
              1,
              "#f0f921"
             ]
            ],
            "type": "histogram2dcontour"
           }
          ],
          "mesh3d": [
           {
            "colorbar": {
             "outlinewidth": 0,
             "ticks": ""
            },
            "type": "mesh3d"
           }
          ],
          "parcoords": [
           {
            "line": {
             "colorbar": {
              "outlinewidth": 0,
              "ticks": ""
             }
            },
            "type": "parcoords"
           }
          ],
          "pie": [
           {
            "automargin": true,
            "type": "pie"
           }
          ],
          "scatter": [
           {
            "marker": {
             "colorbar": {
              "outlinewidth": 0,
              "ticks": ""
             }
            },
            "type": "scatter"
           }
          ],
          "scatter3d": [
           {
            "line": {
             "colorbar": {
              "outlinewidth": 0,
              "ticks": ""
             }
            },
            "marker": {
             "colorbar": {
              "outlinewidth": 0,
              "ticks": ""
             }
            },
            "type": "scatter3d"
           }
          ],
          "scattercarpet": [
           {
            "marker": {
             "colorbar": {
              "outlinewidth": 0,
              "ticks": ""
             }
            },
            "type": "scattercarpet"
           }
          ],
          "scattergeo": [
           {
            "marker": {
             "colorbar": {
              "outlinewidth": 0,
              "ticks": ""
             }
            },
            "type": "scattergeo"
           }
          ],
          "scattergl": [
           {
            "marker": {
             "colorbar": {
              "outlinewidth": 0,
              "ticks": ""
             }
            },
            "type": "scattergl"
           }
          ],
          "scattermapbox": [
           {
            "marker": {
             "colorbar": {
              "outlinewidth": 0,
              "ticks": ""
             }
            },
            "type": "scattermapbox"
           }
          ],
          "scatterpolar": [
           {
            "marker": {
             "colorbar": {
              "outlinewidth": 0,
              "ticks": ""
             }
            },
            "type": "scatterpolar"
           }
          ],
          "scatterpolargl": [
           {
            "marker": {
             "colorbar": {
              "outlinewidth": 0,
              "ticks": ""
             }
            },
            "type": "scatterpolargl"
           }
          ],
          "scatterternary": [
           {
            "marker": {
             "colorbar": {
              "outlinewidth": 0,
              "ticks": ""
             }
            },
            "type": "scatterternary"
           }
          ],
          "surface": [
           {
            "colorbar": {
             "outlinewidth": 0,
             "ticks": ""
            },
            "colorscale": [
             [
              0,
              "#0d0887"
             ],
             [
              0.1111111111111111,
              "#46039f"
             ],
             [
              0.2222222222222222,
              "#7201a8"
             ],
             [
              0.3333333333333333,
              "#9c179e"
             ],
             [
              0.4444444444444444,
              "#bd3786"
             ],
             [
              0.5555555555555556,
              "#d8576b"
             ],
             [
              0.6666666666666666,
              "#ed7953"
             ],
             [
              0.7777777777777778,
              "#fb9f3a"
             ],
             [
              0.8888888888888888,
              "#fdca26"
             ],
             [
              1,
              "#f0f921"
             ]
            ],
            "type": "surface"
           }
          ],
          "table": [
           {
            "cells": {
             "fill": {
              "color": "#EBF0F8"
             },
             "line": {
              "color": "white"
             }
            },
            "header": {
             "fill": {
              "color": "#C8D4E3"
             },
             "line": {
              "color": "white"
             }
            },
            "type": "table"
           }
          ]
         },
         "layout": {
          "annotationdefaults": {
           "arrowcolor": "#2a3f5f",
           "arrowhead": 0,
           "arrowwidth": 1
          },
          "autotypenumbers": "strict",
          "coloraxis": {
           "colorbar": {
            "outlinewidth": 0,
            "ticks": ""
           }
          },
          "colorscale": {
           "diverging": [
            [
             0,
             "#8e0152"
            ],
            [
             0.1,
             "#c51b7d"
            ],
            [
             0.2,
             "#de77ae"
            ],
            [
             0.3,
             "#f1b6da"
            ],
            [
             0.4,
             "#fde0ef"
            ],
            [
             0.5,
             "#f7f7f7"
            ],
            [
             0.6,
             "#e6f5d0"
            ],
            [
             0.7,
             "#b8e186"
            ],
            [
             0.8,
             "#7fbc41"
            ],
            [
             0.9,
             "#4d9221"
            ],
            [
             1,
             "#276419"
            ]
           ],
           "sequential": [
            [
             0,
             "#0d0887"
            ],
            [
             0.1111111111111111,
             "#46039f"
            ],
            [
             0.2222222222222222,
             "#7201a8"
            ],
            [
             0.3333333333333333,
             "#9c179e"
            ],
            [
             0.4444444444444444,
             "#bd3786"
            ],
            [
             0.5555555555555556,
             "#d8576b"
            ],
            [
             0.6666666666666666,
             "#ed7953"
            ],
            [
             0.7777777777777778,
             "#fb9f3a"
            ],
            [
             0.8888888888888888,
             "#fdca26"
            ],
            [
             1,
             "#f0f921"
            ]
           ],
           "sequentialminus": [
            [
             0,
             "#0d0887"
            ],
            [
             0.1111111111111111,
             "#46039f"
            ],
            [
             0.2222222222222222,
             "#7201a8"
            ],
            [
             0.3333333333333333,
             "#9c179e"
            ],
            [
             0.4444444444444444,
             "#bd3786"
            ],
            [
             0.5555555555555556,
             "#d8576b"
            ],
            [
             0.6666666666666666,
             "#ed7953"
            ],
            [
             0.7777777777777778,
             "#fb9f3a"
            ],
            [
             0.8888888888888888,
             "#fdca26"
            ],
            [
             1,
             "#f0f921"
            ]
           ]
          },
          "colorway": [
           "#636efa",
           "#EF553B",
           "#00cc96",
           "#ab63fa",
           "#FFA15A",
           "#19d3f3",
           "#FF6692",
           "#B6E880",
           "#FF97FF",
           "#FECB52"
          ],
          "font": {
           "color": "#2a3f5f"
          },
          "geo": {
           "bgcolor": "white",
           "lakecolor": "white",
           "landcolor": "#E5ECF6",
           "showlakes": true,
           "showland": true,
           "subunitcolor": "white"
          },
          "hoverlabel": {
           "align": "left"
          },
          "hovermode": "closest",
          "mapbox": {
           "style": "light"
          },
          "paper_bgcolor": "white",
          "plot_bgcolor": "#E5ECF6",
          "polar": {
           "angularaxis": {
            "gridcolor": "white",
            "linecolor": "white",
            "ticks": ""
           },
           "bgcolor": "#E5ECF6",
           "radialaxis": {
            "gridcolor": "white",
            "linecolor": "white",
            "ticks": ""
           }
          },
          "scene": {
           "xaxis": {
            "backgroundcolor": "#E5ECF6",
            "gridcolor": "white",
            "gridwidth": 2,
            "linecolor": "white",
            "showbackground": true,
            "ticks": "",
            "zerolinecolor": "white"
           },
           "yaxis": {
            "backgroundcolor": "#E5ECF6",
            "gridcolor": "white",
            "gridwidth": 2,
            "linecolor": "white",
            "showbackground": true,
            "ticks": "",
            "zerolinecolor": "white"
           },
           "zaxis": {
            "backgroundcolor": "#E5ECF6",
            "gridcolor": "white",
            "gridwidth": 2,
            "linecolor": "white",
            "showbackground": true,
            "ticks": "",
            "zerolinecolor": "white"
           }
          },
          "shapedefaults": {
           "line": {
            "color": "#2a3f5f"
           }
          },
          "ternary": {
           "aaxis": {
            "gridcolor": "white",
            "linecolor": "white",
            "ticks": ""
           },
           "baxis": {
            "gridcolor": "white",
            "linecolor": "white",
            "ticks": ""
           },
           "bgcolor": "#E5ECF6",
           "caxis": {
            "gridcolor": "white",
            "linecolor": "white",
            "ticks": ""
           }
          },
          "title": {
           "x": 0.05
          },
          "xaxis": {
           "automargin": true,
           "gridcolor": "white",
           "linecolor": "white",
           "ticks": "",
           "title": {
            "standoff": 15
           },
           "zerolinecolor": "white",
           "zerolinewidth": 2
          },
          "yaxis": {
           "automargin": true,
           "gridcolor": "white",
           "linecolor": "white",
           "ticks": "",
           "title": {
            "standoff": 15
           },
           "zerolinecolor": "white",
           "zerolinewidth": 2
          }
         }
        },
        "xaxis": {
         "anchor": "y",
         "autorange": true,
         "domain": [
          0,
          1
         ],
         "range": [
          0,
          3748529
         ],
         "type": "linear"
        },
        "xaxis10": {
         "anchor": "y10",
         "autorange": true,
         "domain": [
          0,
          1
         ],
         "range": [
          0,
          4374749
         ],
         "type": "linear"
        },
        "xaxis11": {
         "anchor": "y11",
         "autorange": true,
         "domain": [
          0,
          1
         ],
         "range": [
          0,
          4013814
         ],
         "type": "linear"
        },
        "xaxis12": {
         "anchor": "y12",
         "autorange": true,
         "domain": [
          0,
          1
         ],
         "range": [
          0,
          4129052
         ],
         "type": "linear"
        },
        "xaxis2": {
         "anchor": "y2",
         "autorange": true,
         "domain": [
          0,
          1
         ],
         "range": [
          0,
          3543639
         ],
         "type": "linear"
        },
        "xaxis3": {
         "anchor": "y3",
         "autorange": true,
         "domain": [
          0,
          1
         ],
         "range": [
          0,
          4137679
         ],
         "type": "linear"
        },
        "xaxis4": {
         "anchor": "y4",
         "autorange": true,
         "domain": [
          0,
          1
         ],
         "range": [
          0,
          4021677
         ],
         "type": "linear"
        },
        "xaxis5": {
         "anchor": "y5",
         "autorange": true,
         "domain": [
          0,
          1
         ],
         "range": [
          0,
          4361140
         ],
         "type": "linear"
        },
        "xaxis6": {
         "anchor": "y6",
         "autorange": true,
         "domain": [
          0,
          1
         ],
         "range": [
          0,
          4558511
         ],
         "type": "linear"
        },
        "xaxis7": {
         "anchor": "y7",
         "autorange": true,
         "domain": [
          0,
          1
         ],
         "range": [
          0,
          4801148
         ],
         "type": "linear"
        },
        "xaxis8": {
         "anchor": "y8",
         "autorange": true,
         "domain": [
          0,
          1
         ],
         "range": [
          0,
          4796653
         ],
         "type": "linear"
        },
        "xaxis9": {
         "anchor": "y9",
         "autorange": true,
         "domain": [
          0,
          1
         ],
         "range": [
          0,
          4201394
         ],
         "type": "linear"
        },
        "yaxis": {
         "anchor": "x",
         "autorange": true,
         "domain": [
          0.9395833333333334,
          1
         ],
         "range": [
          0,
          8.080899602463698e-07
         ],
         "type": "linear"
        },
        "yaxis10": {
         "anchor": "x10",
         "autorange": true,
         "domain": [
          0.17083333333333334,
          0.23125
         ],
         "range": [
          0,
          7.005010756877843e-07
         ],
         "type": "linear"
        },
        "yaxis11": {
         "anchor": "x11",
         "autorange": true,
         "domain": [
          0.08541666666666667,
          0.14583333333333334
         ],
         "range": [
          0,
          7.962526768198708e-07
         ],
         "type": "linear"
        },
        "yaxis12": {
         "anchor": "x12",
         "autorange": true,
         "domain": [
          0,
          0.060416666666666674
         ],
         "range": [
          0,
          7.418671574714068e-07
         ],
         "type": "linear"
        },
        "yaxis2": {
         "anchor": "x2",
         "autorange": true,
         "domain": [
          0.8541666666666667,
          0.9145833333333334
         ],
         "range": [
          0,
          8.5921088503456e-07
         ],
         "type": "linear"
        },
        "yaxis3": {
         "anchor": "x3",
         "autorange": true,
         "domain": [
          0.76875,
          0.8291666666666667
         ],
         "range": [
          0,
          7.287828014419094e-07
         ],
         "type": "linear"
        },
        "yaxis4": {
         "anchor": "x4",
         "autorange": true,
         "domain": [
          0.6833333333333333,
          0.74375
         ],
         "range": [
          0,
          5.93810197650509e-07
         ],
         "type": "linear"
        },
        "yaxis5": {
         "anchor": "x5",
         "autorange": true,
         "domain": [
          0.5979166666666667,
          0.6583333333333333
         ],
         "range": [
          0,
          5.431298469387303e-07
         ],
         "type": "linear"
        },
        "yaxis6": {
         "anchor": "x6",
         "autorange": true,
         "domain": [
          0.5125000000000001,
          0.5729166666666667
         ],
         "range": [
          0,
          5.226624654078885e-07
         ],
         "type": "linear"
        },
        "yaxis7": {
         "anchor": "x7",
         "autorange": true,
         "domain": [
          0.42708333333333337,
          0.48750000000000004
         ],
         "range": [
          0,
          6.639160888650564e-07
         ],
         "type": "linear"
        },
        "yaxis8": {
         "anchor": "x8",
         "autorange": true,
         "domain": [
          0.3416666666666667,
          0.40208333333333335
         ],
         "range": [
          0,
          6.41578158928665e-07
         ],
         "type": "linear"
        },
        "yaxis9": {
         "anchor": "x9",
         "autorange": true,
         "domain": [
          0.25625000000000003,
          0.3166666666666667
         ],
         "range": [
          0,
          7.162173597374813e-07
         ],
         "type": "linear"
        }
       }
      },
      "image/png": "[encoded data removed]",
      "text/html": [
       "<div>                            <div id=\"35d765f1-f71c-4142-86b5-4be358bc0840\" class=\"plotly-graph-div\" style=\"height:525px; width:100%;\"></div>            <script type=\"text/javascript\">                require([\"plotly\"], function(Plotly) {                    window.PLOTLYENV=window.PLOTLYENV || {};                                    if (document.getElementById(\"35d765f1-f71c-4142-86b5-4be358bc0840\")) {                    Plotly.newPlot(                        \"35d765f1-f71c-4142-86b5-4be358bc0840\",                        [{\"fill\":\"tozeroy\",\"name\":\"Jan\",\"type\":\"scatter\",\"x\":[3748529.0,3550084.0,3432625.0,3211600.0,3204637.0,2883810.0,2785466.0,2670053.0,2644539.0,2507430.0,2448889.0,0.0],\"xaxis\":\"x\",\"y\":[2.9820547205116604e-7,3.7215470188076997e-7,4.112554443223471e-7,4.6735565462089626e-7,4.6865152900391916e-7,4.890337518042682e-7,4.78564864479361e-7,4.563146317854197e-7,4.500260540424797e-7,4.087389552547646e-7,3.8780746454881577e-7,5.6574226896981415e-8],\"yaxis\":\"y\"},{\"fill\":\"tozeroy\",\"name\":\"Feb\",\"type\":\"scatter\",\"x\":[3543639.0,3248144.0,3078405.0,2998119.0,2966477.0,2610667.0,2595676.0,2515361.0,2359800.0,2304990.0,2223024.0,0.0],\"xaxis\":\"x2\",\"y\":[2.7926800700379535e-7,4.054695579159466e-7,4.6628750162728964e-7,4.890808804658093e-7,4.967558758831447e-7,5.199707252536733e-7,5.181544664701383e-7,5.045299365955382e-7,4.606940876831626e-7,4.4046323970462613e-7,4.0651002686316283e-7,6.09940909687383e-8],\"yaxis\":\"y2\"},{\"fill\":\"tozeroy\",\"name\":\"Mar\",\"type\":\"scatter\",\"x\":[4137679.0,4001521.0,3765504.0,3593364.0,3472440.0,3129205.0,3127387.0,3105958.0,2925918.0,2820085.0,2708778.0,0.0],\"xaxis\":\"x3\",\"y\":[2.7616635661899414e-7,3.18921904471686e-7,3.8537421984948836e-7,4.2213541430551577e-7,4.3949947728336417e-7,4.4103924707950035e-7,4.408460303633584e-7,4.3840933091804604e-7,4.068391472733366e-7,3.7998562970413645e-7,3.4653376348164285e-7,5.1129407353830684e-8],\"yaxis\":\"y3\"},{\"fill\":\"tozeroy\",\"name\":\"Apr\",\"type\":\"scatter\",\"x\":[4021677.0,3881893.0,3604104.0,3563007.0,3200527.0,3139059.0,3029021.0,3024973.0,2869247.0,2773293.0,0.0,0.0],\"xaxis\":\"x4\",\"y\":[2.648300045054704e-7,2.943982596859583e-7,3.4035214019321296e-7,3.451689900428339e-7,3.5935755064711836e-7,3.5640815056953957e-7,3.4732133747908903e-7,3.468970485443716e-7,3.26109018485472e-7,3.094302452515672e-7,8.154464659358574e-8,8.154464659358574e-8],\"yaxis\":\"y4\"},{\"fill\":\"tozeroy\",\"name\":\"May\",\"type\":\"scatter\",\"x\":[4361140.0,4147096.0,3933016.0,3820570.0,3547804.0,3380355.0,3305954.0,3177100.0,3056934.0,2829000.0,0.0,0.0],\"xaxis\":\"x5\",\"y\":[2.384426096919982e-7,2.757429600488727e-7,3.0530494325861197e-7,3.165279025566647e-7,3.2868720047499026e-7,3.2475192277010015e-7,3.20235843079803e-7,3.086274004689562e-7,2.9387400051661077e-7,2.576123271494688e-7,7.556206848498967e-8,7.556206848498967e-8],\"yaxis\":\"y5\"},{\"fill\":\"tozeroy\",\"name\":\"Jun\",\"type\":\"scatter\",\"x\":[4558511.0,4321833.0,4146797.0,4107195.0,3766323.0,3612886.0,3453751.0,3419595.0,3263621.0,3071396.0,0.0,0.0],\"xaxis\":\"x6\",\"y\":[2.38499583066979e-7,2.750228165486945e-7,2.959910358221995e-7,2.9982514665158213e-7,3.1630090578994636e-7,3.1330445863487163e-7,3.034253502478927e-7,3.004569779949297e-7,2.8346480637043344e-7,2.559989042584462e-7,7.15946301050395e-8,7.15946301050395e-8],\"yaxis\":\"y6\"},{\"fill\":\"tozeroy\",\"name\":\"Jul\",\"type\":\"scatter\",\"x\":[4801148.0,4499221.0,4284443.0,4176486.0,3935589.0,3765824.0,3649702.0,3603946.0,3382382.0,3227605.0,3225769.0,0.0],\"xaxis\":\"x7\",\"y\":[2.3454563129363702e-7,3.1053953540042676e-7,3.5639724695703394e-7,3.7464501719990884e-7,3.9956466909073884e-7,4.0178370205454275e-7,3.955042074002405e-7,3.9130924150805314e-7,3.5825216404512757e-7,3.245457041174559e-7,3.241044157832881e-7,4.470191490580777e-8],\"yaxis\":\"y7\"},{\"fill\":\"tozeroy\",\"name\":\"Aug\",\"type\":\"scatter\",\"x\":[4796653.0,4524918.0,4356216.0,4347059.0,3917884.0,3771842.0,3650668.0,3612297.0,3436417.0,3195866.0,3143839.0,0.0],\"xaxis\":\"x8\",\"y\":[2.433781318817514e-7,3.067953230541245e-7,3.4037589511710804e-7,3.4200852517080824e-7,3.8826540307579555e-7,3.879743792894985e-7,3.8101869808077565e-7,3.775664487934195e-7,3.54500135391067e-7,3.0662222239045206e-7,2.9439734715939747e-7,4.411314772247949e-8],\"yaxis\":\"y8\"},{\"fill\":\"tozeroy\",\"name\":\"Sep\",\"type\":\"scatter\",\"x\":[4201394.0,3919072.0,3819379.0,3781168.0,3564970.0,3356365.0,3191526.0,3004720.0,2957530.0,2740553.0,2720100.0,0.0],\"xaxis\":\"x9\",\"y\":[2.760584061218314e-7,3.574846082093801e-7,3.8127341415312277e-7,3.8941708668329165e-7,4.2331495984313473e-7,4.3343498839285507e-7,4.2452240670182533e-7,3.970603151203629e-7,3.874753644779736e-7,3.3233978350060746e-7,3.2638726058304154e-7,5.016181056378619e-8],\"yaxis\":\"y9\"},{\"fill\":\"tozeroy\",\"name\":\"Oct\",\"type\":\"scatter\",\"x\":[4374749.0,4059443.0,3910790.0,3844987.0,3602455.0,3490100.0,3249428.0,3129309.0,3124451.0,2834959.0,2770715.0,0.0],\"xaxis\":\"x10\",\"y\":[2.5162270519625567e-7,3.4002147055508465e-7,3.745838056977308e-7,3.875048708410521e-7,4.190816940153664e-7,4.2392392683864187e-7,4.117949448463253e-7,3.9462813786129783e-7,3.9378995112669587e-7,3.2711267707463926e-7,3.08871961214574e-7,4.871423899259342e-8],\"yaxis\":\"y10\"},{\"fill\":\"tozeroy\",\"name\":\"Nov\",\"type\":\"scatter\",\"x\":[4013814.0,3628786.0,3478890.0,3466878.0,3326859.0,3163659.0,2971484.0,2922500.0,2744485.0,2653887.0,2617333.0,0.0],\"xaxis\":\"x11\",\"y\":[2.609799247485486e-7,3.986939650234845e-7,4.403953651243186e-7,4.432214228955167e-7,4.6935386228325685e-7,4.818701544203012e-7,4.695028615981898e-7,4.617160171073515e-7,4.192777449242382e-7,3.904982752586211e-7,3.77816980362274e-7,5.40341595190106e-8],\"yaxis\":\"y11\"},{\"fill\":\"tozeroy\",\"name\":\"Dec\",\"type\":\"scatter\",\"x\":[4129052.0,3855835.0,3814984.0,3443039.0,3441693.0,3167124.0,3074209.0,2962937.0,2903637.0,2698200.0,2671797.0,0.0],\"xaxis\":\"x12\",\"y\":[2.603566254010491e-7,3.4510968191194527e-7,3.56809717400687e-7,4.36465549050939e-7,4.366375543203027e-7,4.4895753840079967e-7,4.4219778709182297e-7,4.2679604200106326e-7,4.154941627321098e-7,3.6205896421505484e-7,3.538650669170617e-7,5.169235738966025e-8],\"yaxis\":\"y12\"}],                        {\"template\":{\"data\":{\"bar\":[{\"error_x\":{\"color\":\"#2a3f5f\"},\"error_y\":{\"color\":\"#2a3f5f\"},\"marker\":{\"line\":{\"color\":\"#E5ECF6\",\"width\":0.5},\"pattern\":{\"fillmode\":\"overlay\",\"size\":10,\"solidity\":0.2}},\"type\":\"bar\"}],\"barpolar\":[{\"marker\":{\"line\":{\"color\":\"#E5ECF6\",\"width\":0.5},\"pattern\":{\"fillmode\":\"overlay\",\"size\":10,\"solidity\":0.2}},\"type\":\"barpolar\"}],\"carpet\":[{\"aaxis\":{\"endlinecolor\":\"#2a3f5f\",\"gridcolor\":\"white\",\"linecolor\":\"white\",\"minorgridcolor\":\"white\",\"startlinecolor\":\"#2a3f5f\"},\"baxis\":{\"endlinecolor\":\"#2a3f5f\",\"gridcolor\":\"white\",\"linecolor\":\"white\",\"minorgridcolor\":\"white\",\"startlinecolor\":\"#2a3f5f\"},\"type\":\"carpet\"}],\"choropleth\":[{\"colorbar\":{\"outlinewidth\":0,\"ticks\":\"\"},\"type\":\"choropleth\"}],\"contour\":[{\"colorbar\":{\"outlinewidth\":0,\"ticks\":\"\"},\"colorscale\":[[0.0,\"#0d0887\"],[0.1111111111111111,\"#46039f\"],[0.2222222222222222,\"#7201a8\"],[0.3333333333333333,\"#9c179e\"],[0.4444444444444444,\"#bd3786\"],[0.5555555555555556,\"#d8576b\"],[0.6666666666666666,\"#ed7953\"],[0.7777777777777778,\"#fb9f3a\"],[0.8888888888888888,\"#fdca26\"],[1.0,\"#f0f921\"]],\"type\":\"contour\"}],\"contourcarpet\":[{\"colorbar\":{\"outlinewidth\":0,\"ticks\":\"\"},\"type\":\"contourcarpet\"}],\"heatmap\":[{\"colorbar\":{\"outlinewidth\":0,\"ticks\":\"\"},\"colorscale\":[[0.0,\"#0d0887\"],[0.1111111111111111,\"#46039f\"],[0.2222222222222222,\"#7201a8\"],[0.3333333333333333,\"#9c179e\"],[0.4444444444444444,\"#bd3786\"],[0.5555555555555556,\"#d8576b\"],[0.6666666666666666,\"#ed7953\"],[0.7777777777777778,\"#fb9f3a\"],[0.8888888888888888,\"#fdca26\"],[1.0,\"#f0f921\"]],\"type\":\"heatmap\"}],\"heatmapgl\":[{\"colorbar\":{\"outlinewidth\":0,\"ticks\":\"\"},\"colorscale\":[[0.0,\"#0d0887\"],[0.1111111111111111,\"#46039f\"],[0.2222222222222222,\"#7201a8\"],[0.3333333333333333,\"#9c179e\"],[0.4444444444444444,\"#bd3786\"],[0.5555555555555556,\"#d8576b\"],[0.6666666666666666,\"#ed7953\"],[0.7777777777777778,\"#fb9f3a\"],[0.8888888888888888,\"#fdca26\"],[1.0,\"#f0f921\"]],\"type\":\"heatmapgl\"}],\"histogram\":[{\"marker\":{\"pattern\":{\"fillmode\":\"overlay\",\"size\":10,\"solidity\":0.2}},\"type\":\"histogram\"}],\"histogram2d\":[{\"colorbar\":{\"outlinewidth\":0,\"ticks\":\"\"},\"colorscale\":[[0.0,\"#0d0887\"],[0.1111111111111111,\"#46039f\"],[0.2222222222222222,\"#7201a8\"],[0.3333333333333333,\"#9c179e\"],[0.4444444444444444,\"#bd3786\"],[0.5555555555555556,\"#d8576b\"],[0.6666666666666666,\"#ed7953\"],[0.7777777777777778,\"#fb9f3a\"],[0.8888888888888888,\"#fdca26\"],[1.0,\"#f0f921\"]],\"type\":\"histogram2d\"}],\"histogram2dcontour\":[{\"colorbar\":{\"outlinewidth\":0,\"ticks\":\"\"},\"colorscale\":[[0.0,\"#0d0887\"],[0.1111111111111111,\"#46039f\"],[0.2222222222222222,\"#7201a8\"],[0.3333333333333333,\"#9c179e\"],[0.4444444444444444,\"#bd3786\"],[0.5555555555555556,\"#d8576b\"],[0.6666666666666666,\"#ed7953\"],[0.7777777777777778,\"#fb9f3a\"],[0.8888888888888888,\"#fdca26\"],[1.0,\"#f0f921\"]],\"type\":\"histogram2dcontour\"}],\"mesh3d\":[{\"colorbar\":{\"outlinewidth\":0,\"ticks\":\"\"},\"type\":\"mesh3d\"}],\"parcoords\":[{\"line\":{\"colorbar\":{\"outlinewidth\":0,\"ticks\":\"\"}},\"type\":\"parcoords\"}],\"pie\":[{\"automargin\":true,\"type\":\"pie\"}],\"scatter\":[{\"marker\":{\"colorbar\":{\"outlinewidth\":0,\"ticks\":\"\"}},\"type\":\"scatter\"}],\"scatter3d\":[{\"line\":{\"colorbar\":{\"outlinewidth\":0,\"ticks\":\"\"}},\"marker\":{\"colorbar\":{\"outlinewidth\":0,\"ticks\":\"\"}},\"type\":\"scatter3d\"}],\"scattercarpet\":[{\"marker\":{\"colorbar\":{\"outlinewidth\":0,\"ticks\":\"\"}},\"type\":\"scattercarpet\"}],\"scattergeo\":[{\"marker\":{\"colorbar\":{\"outlinewidth\":0,\"ticks\":\"\"}},\"type\":\"scattergeo\"}],\"scattergl\":[{\"marker\":{\"colorbar\":{\"outlinewidth\":0,\"ticks\":\"\"}},\"type\":\"scattergl\"}],\"scattermapbox\":[{\"marker\":{\"colorbar\":{\"outlinewidth\":0,\"ticks\":\"\"}},\"type\":\"scattermapbox\"}],\"scatterpolar\":[{\"marker\":{\"colorbar\":{\"outlinewidth\":0,\"ticks\":\"\"}},\"type\":\"scatterpolar\"}],\"scatterpolargl\":[{\"marker\":{\"colorbar\":{\"outlinewidth\":0,\"ticks\":\"\"}},\"type\":\"scatterpolargl\"}],\"scatterternary\":[{\"marker\":{\"colorbar\":{\"outlinewidth\":0,\"ticks\":\"\"}},\"type\":\"scatterternary\"}],\"surface\":[{\"colorbar\":{\"outlinewidth\":0,\"ticks\":\"\"},\"colorscale\":[[0.0,\"#0d0887\"],[0.1111111111111111,\"#46039f\"],[0.2222222222222222,\"#7201a8\"],[0.3333333333333333,\"#9c179e\"],[0.4444444444444444,\"#bd3786\"],[0.5555555555555556,\"#d8576b\"],[0.6666666666666666,\"#ed7953\"],[0.7777777777777778,\"#fb9f3a\"],[0.8888888888888888,\"#fdca26\"],[1.0,\"#f0f921\"]],\"type\":\"surface\"}],\"table\":[{\"cells\":{\"fill\":{\"color\":\"#EBF0F8\"},\"line\":{\"color\":\"white\"}},\"header\":{\"fill\":{\"color\":\"#C8D4E3\"},\"line\":{\"color\":\"white\"}},\"type\":\"table\"}]},\"layout\":{\"annotationdefaults\":{\"arrowcolor\":\"#2a3f5f\",\"arrowhead\":0,\"arrowwidth\":1},\"autotypenumbers\":\"strict\",\"coloraxis\":{\"colorbar\":{\"outlinewidth\":0,\"ticks\":\"\"}},\"colorscale\":{\"diverging\":[[0,\"#8e0152\"],[0.1,\"#c51b7d\"],[0.2,\"#de77ae\"],[0.3,\"#f1b6da\"],[0.4,\"#fde0ef\"],[0.5,\"#f7f7f7\"],[0.6,\"#e6f5d0\"],[0.7,\"#b8e186\"],[0.8,\"#7fbc41\"],[0.9,\"#4d9221\"],[1,\"#276419\"]],\"sequential\":[[0.0,\"#0d0887\"],[0.1111111111111111,\"#46039f\"],[0.2222222222222222,\"#7201a8\"],[0.3333333333333333,\"#9c179e\"],[0.4444444444444444,\"#bd3786\"],[0.5555555555555556,\"#d8576b\"],[0.6666666666666666,\"#ed7953\"],[0.7777777777777778,\"#fb9f3a\"],[0.8888888888888888,\"#fdca26\"],[1.0,\"#f0f921\"]],\"sequentialminus\":[[0.0,\"#0d0887\"],[0.1111111111111111,\"#46039f\"],[0.2222222222222222,\"#7201a8\"],[0.3333333333333333,\"#9c179e\"],[0.4444444444444444,\"#bd3786\"],[0.5555555555555556,\"#d8576b\"],[0.6666666666666666,\"#ed7953\"],[0.7777777777777778,\"#fb9f3a\"],[0.8888888888888888,\"#fdca26\"],[1.0,\"#f0f921\"]]},\"colorway\":[\"#636efa\",\"#EF553B\",\"#00cc96\",\"#ab63fa\",\"#FFA15A\",\"#19d3f3\",\"#FF6692\",\"#B6E880\",\"#FF97FF\",\"#FECB52\"],\"font\":{\"color\":\"#2a3f5f\"},\"geo\":{\"bgcolor\":\"white\",\"lakecolor\":\"white\",\"landcolor\":\"#E5ECF6\",\"showlakes\":true,\"showland\":true,\"subunitcolor\":\"white\"},\"hoverlabel\":{\"align\":\"left\"},\"hovermode\":\"closest\",\"mapbox\":{\"style\":\"light\"},\"paper_bgcolor\":\"white\",\"plot_bgcolor\":\"#E5ECF6\",\"polar\":{\"angularaxis\":{\"gridcolor\":\"white\",\"linecolor\":\"white\",\"ticks\":\"\"},\"bgcolor\":\"#E5ECF6\",\"radialaxis\":{\"gridcolor\":\"white\",\"linecolor\":\"white\",\"ticks\":\"\"}},\"scene\":{\"xaxis\":{\"backgroundcolor\":\"#E5ECF6\",\"gridcolor\":\"white\",\"gridwidth\":2,\"linecolor\":\"white\",\"showbackground\":true,\"ticks\":\"\",\"zerolinecolor\":\"white\"},\"yaxis\":{\"backgroundcolor\":\"#E5ECF6\",\"gridcolor\":\"white\",\"gridwidth\":2,\"linecolor\":\"white\",\"showbackground\":true,\"ticks\":\"\",\"zerolinecolor\":\"white\"},\"zaxis\":{\"backgroundcolor\":\"#E5ECF6\",\"gridcolor\":\"white\",\"gridwidth\":2,\"linecolor\":\"white\",\"showbackground\":true,\"ticks\":\"\",\"zerolinecolor\":\"white\"}},\"shapedefaults\":{\"line\":{\"color\":\"#2a3f5f\"}},\"ternary\":{\"aaxis\":{\"gridcolor\":\"white\",\"linecolor\":\"white\",\"ticks\":\"\"},\"baxis\":{\"gridcolor\":\"white\",\"linecolor\":\"white\",\"ticks\":\"\"},\"bgcolor\":\"#E5ECF6\",\"caxis\":{\"gridcolor\":\"white\",\"linecolor\":\"white\",\"ticks\":\"\"}},\"title\":{\"x\":0.05},\"xaxis\":{\"automargin\":true,\"gridcolor\":\"white\",\"linecolor\":\"white\",\"ticks\":\"\",\"title\":{\"standoff\":15},\"zerolinecolor\":\"white\",\"zerolinewidth\":2},\"yaxis\":{\"automargin\":true,\"gridcolor\":\"white\",\"linecolor\":\"white\",\"ticks\":\"\",\"title\":{\"standoff\":15},\"zerolinecolor\":\"white\",\"zerolinewidth\":2}}},\"xaxis\":{\"anchor\":\"y\",\"domain\":[0.0,1.0]},\"xaxis10\":{\"anchor\":\"y10\",\"domain\":[0.0,1.0]},\"xaxis11\":{\"anchor\":\"y11\",\"domain\":[0.0,1.0]},\"xaxis12\":{\"anchor\":\"y12\",\"domain\":[0.0,1.0]},\"xaxis2\":{\"anchor\":\"y2\",\"domain\":[0.0,1.0]},\"xaxis3\":{\"anchor\":\"y3\",\"domain\":[0.0,1.0]},\"xaxis4\":{\"anchor\":\"y4\",\"domain\":[0.0,1.0]},\"xaxis5\":{\"anchor\":\"y5\",\"domain\":[0.0,1.0]},\"xaxis6\":{\"anchor\":\"y6\",\"domain\":[0.0,1.0]},\"xaxis7\":{\"anchor\":\"y7\",\"domain\":[0.0,1.0]},\"xaxis8\":{\"anchor\":\"y8\",\"domain\":[0.0,1.0]},\"xaxis9\":{\"anchor\":\"y9\",\"domain\":[0.0,1.0]},\"yaxis\":{\"anchor\":\"x\",\"domain\":[0.9395833333333334,1.0]},\"yaxis10\":{\"anchor\":\"x10\",\"domain\":[0.17083333333333334,0.23125]},\"yaxis11\":{\"anchor\":\"x11\",\"domain\":[0.08541666666666667,0.14583333333333334]},\"yaxis12\":{\"anchor\":\"x12\",\"domain\":[0.0,0.060416666666666674]},\"yaxis2\":{\"anchor\":\"x2\",\"domain\":[0.8541666666666667,0.9145833333333334]},\"yaxis3\":{\"anchor\":\"x3\",\"domain\":[0.76875,0.8291666666666667]},\"yaxis4\":{\"anchor\":\"x4\",\"domain\":[0.6833333333333333,0.74375]},\"yaxis5\":{\"anchor\":\"x5\",\"domain\":[0.5979166666666667,0.6583333333333333]},\"yaxis6\":{\"anchor\":\"x6\",\"domain\":[0.5125000000000001,0.5729166666666667]},\"yaxis7\":{\"anchor\":\"x7\",\"domain\":[0.42708333333333337,0.48750000000000004]},\"yaxis8\":{\"anchor\":\"x8\",\"domain\":[0.3416666666666667,0.40208333333333335]},\"yaxis9\":{\"anchor\":\"x9\",\"domain\":[0.25625000000000003,0.3166666666666667]}},                        {\"responsive\": true}                    ).then(function(){\n",
       "                            \n",
       "var gd = document.getElementById('35d765f1-f71c-4142-86b5-4be358bc0840');\n",
       "var x = new MutationObserver(function (mutations, observer) {{\n",
       "        var display = window.getComputedStyle(gd).display;\n",
       "        if (!display || display === 'none') {{\n",
       "            console.log([gd, 'removed!']);\n",
       "            Plotly.purge(gd);\n",
       "            observer.disconnect();\n",
       "        }}\n",
       "}});\n",
       "\n",
       "// Listen for the removal of the full notebook cells\n",
       "var notebookContainer = gd.closest('#notebook-container');\n",
       "if (notebookContainer) {{\n",
       "    x.observe(notebookContainer, {childList: true});\n",
       "}}\n",
       "\n",
       "// Listen for the clearing of the current output cell\n",
       "var outputEl = gd.closest('.output');\n",
       "if (outputEl) {{\n",
       "    x.observe(outputEl, {childList: true});\n",
       "}}\n",
       "\n",
       "                        })                };                });            </script>        </div>"
      ]
     },
     "metadata": {},
     "output_type": "display_data"
    }
   ],
   "source": [
    "figure.show()"
   ]
  },
  {
   "cell_type": "code",
   "execution_count": 73,
   "metadata": {},
   "outputs": [
    {
     "name": "stdout",
     "output_type": "stream",
     "text": [
      "('{\"data\":[{\"alignmentgroup\":\"True\",\"hovertemplate\":\"variable=%{x}<br>value=%{y}<extra></extra>\",\"legendgroup\":\"\",\"marker\":{\"color\":\"#636efa\"},\"name\":\"\",\"notched\":false,\"offsetgroup\":\"\",\"orientation\":\"v\",\"showlegend\":false,\"type\":\"box\",\"x\":[\"Jan\",\"Jan\",\"Jan\",\"Jan\",\"Jan\",\"Jan\",\"Jan\",\"Jan\",\"Jan\",\"Jan\",\"Jan\",\"Jan\",\"Feb\",\"Feb\",\"Feb\",\"Feb\",\"Feb\",\"Feb\",\"Feb\",\"Feb\",\"Feb\",\"Feb\",\"Feb\",\"Feb\",\"Mar\",\"Mar\",\"Mar\",\"Mar\",\"Mar\",\"Mar\",\"Mar\",\"Mar\",\"Mar\",\"Mar\",\"Mar\",\"Mar\",\"Apr\",\"Apr\",\"Apr\",\"Apr\",\"Apr\",\"Apr\",\"Apr\",\"Apr\",\"Apr\",\"Apr\",\"Apr\",\"Apr\",\"May\",\"May\",\"May\",\"May\",\"May\",\"May\",\"May\",\"May\",\"May\",\"May\",\"May\",\"May\",\"Jun\",\"Jun\",\"Jun\",\"Jun\",\"Jun\",\"Jun\",\"Jun\",\"Jun\",\"Jun\",\"Jun\",\"Jun\",\"Jun\",\"Jul\",\"Jul\",\"Jul\",\"Jul\",\"Jul\",\"Jul\",\"Jul\",\"Jul\",\"Jul\",\"Jul\",\"Jul\",\"Jul\",\"Aug\",\"Aug\",\"Aug\",\"Aug\",\"Aug\",\"Aug\",\"Aug\",\"Aug\",\"Aug\",\"Aug\",\"Aug\",\"Aug\",\"Sep\",\"Sep\",\"Sep\",\"Sep\",\"Sep\",\"Sep\",\"Sep\",\"Sep\",\"Sep\",\"Sep\",\"Sep\",\"Sep\",\"Oct\",\"Oct\",\"Oct\",\"Oct\",\"Oct\",\"Oct\",\"Oct\",\"Oct\",\"Oct\",\"Oct\",\"Oct\",\"Oct\",\"Nov\",\"Nov\",\"Nov\",\"Nov\",\"Nov\",\"Nov\",\"Nov\",\"Nov\",\"Nov\",\"Nov\",\"Nov\",\"Nov\",\"Dec\",\"Dec\",\"Dec\",\"Dec\",\"Dec\",\"Dec\",\"Dec\",\"Dec\",\"Dec\",\"Dec\",\"Dec\",\"Dec\"],\"x0\":\" '\n",
      " '\",\"xaxis\":\"x\",\"y\":[null,2448889.0,2507430.0,2670053.0,2644539.0,2785466.0,2883810.0,3211600.0,3204637.0,3432625.0,3550084.0,3748529.0,null,2223024.0,2304990.0,2595676.0,2359800.0,2515361.0,2610667.0,2998119.0,2966477.0,3078405.0,3248144.0,3543639.0,null,2708778.0,2820085.0,3127387.0,2925918.0,3105958.0,3129205.0,3472440.0,3593364.0,3765504.0,4001521.0,4137679.0,null,2773293.0,2869247.0,3029021.0,3024973.0,3139059.0,3200527.0,3563007.0,3604104.0,3881893.0,4021677.0,null,null,2829000.0,3056934.0,3305954.0,3177100.0,3380355.0,3547804.0,3820570.0,3933016.0,4147096.0,4361140.0,null,null,3071396.0,3263621.0,3453751.0,3419595.0,3612886.0,3766323.0,4107195.0,4146797.0,4321833.0,4558511.0,null,3225769.0,3227605.0,3382382.0,3603946.0,3649702.0,3765824.0,3935589.0,4284443.0,4176486.0,4499221.0,4801148.0,null,3195866.0,3143839.0,3436417.0,3612297.0,3650668.0,3771842.0,3917884.0,4356216.0,4347059.0,4524918.0,4796653.0,null,2740553.0,2720100.0,2957530.0,3004720.0,3191526.0,3356365.0,3564970.0,3819379.0,3781168.0,3919072.0,4201394.0,null,2770715.0,2834959.0,3129309.0,3124451.0,3249428.0,3490100.0,3602455.0,3844987.0,3910790.0,4059443.0,4374749.0,null,2617333.0,2653887.0,2922500.0,2744485.0,2971484.0,3163659.0,3326859.0,3478890.0,3466878.0,3628786.0,4013814.0,null,2671797.0,2698200.0,2903637.0,2962937.0,3074209.0,3167124.0,3441693.0,3443039.0,3814984.0,3855835.0,4129052.0,null],\"y0\":\" '\n",
      " '\",\"yaxis\":\"y\"}],\"layout\":{\"boxmode\":\"group\",\"legend\":{\"tracegroupgap\":0},\"margin\":{\"t\":60},\"template\":{\"data\":{\"bar\":[{\"error_x\":{\"color\":\"#2a3f5f\"},\"error_y\":{\"color\":\"#2a3f5f\"},\"marker\":{\"line\":{\"color\":\"#E5ECF6\",\"width\":0.5},\"pattern\":{\"fillmode\":\"overlay\",\"size\":10,\"solidity\":0.2}},\"type\":\"bar\"}],\"barpolar\":[{\"marker\":{\"line\":{\"color\":\"#E5ECF6\",\"width\":0.5},\"pattern\":{\"fillmode\":\"overlay\",\"size\":10,\"solidity\":0.2}},\"type\":\"barpolar\"}],\"carpet\":[{\"aaxis\":{\"endlinecolor\":\"#2a3f5f\",\"gridcolor\":\"white\",\"linecolor\":\"white\",\"minorgridcolor\":\"white\",\"startlinecolor\":\"#2a3f5f\"},\"baxis\":{\"endlinecolor\":\"#2a3f5f\",\"gridcolor\":\"white\",\"linecolor\":\"white\",\"minorgridcolor\":\"white\",\"startlinecolor\":\"#2a3f5f\"},\"type\":\"carpet\"}],\"choropleth\":[{\"colorbar\":{\"outlinewidth\":0,\"ticks\":\"\"},\"type\":\"choropleth\"}],\"contour\":[{\"colorbar\":{\"outlinewidth\":0,\"ticks\":\"\"},\"colorscale\":[[0.0,\"#0d0887\"],[0.1111111111111111,\"#46039f\"],[0.2222222222222222,\"#7201a8\"],[0.3333333333333333,\"#9c179e\"],[0.4444444444444444,\"#bd3786\"],[0.5555555555555556,\"#d8576b\"],[0.6666666666666666,\"#ed7953\"],[0.7777777777777778,\"#fb9f3a\"],[0.8888888888888888,\"#fdca26\"],[1.0,\"#f0f921\"]],\"type\":\"contour\"}],\"contourcarpet\":[{\"colorbar\":{\"outlinewidth\":0,\"ticks\":\"\"},\"type\":\"contourcarpet\"}],\"heatmap\":[{\"colorbar\":{\"outlinewidth\":0,\"ticks\":\"\"},\"colorscale\":[[0.0,\"#0d0887\"],[0.1111111111111111,\"#46039f\"],[0.2222222222222222,\"#7201a8\"],[0.3333333333333333,\"#9c179e\"],[0.4444444444444444,\"#bd3786\"],[0.5555555555555556,\"#d8576b\"],[0.6666666666666666,\"#ed7953\"],[0.7777777777777778,\"#fb9f3a\"],[0.8888888888888888,\"#fdca26\"],[1.0,\"#f0f921\"]],\"type\":\"heatmap\"}],\"heatmapgl\":[{\"colorbar\":{\"outlinewidth\":0,\"ticks\":\"\"},\"colorscale\":[[0.0,\"#0d0887\"],[0.1111111111111111,\"#46039f\"],[0.2222222222222222,\"#7201a8\"],[0.3333333333333333,\"#9c179e\"],[0.4444444444444444,\"#bd3786\"],[0.5555555555555556,\"#d8576b\"],[0.6666666666666666,\"#ed7953\"],[0.7777777777777778,\"#fb9f3a\"],[0.8888888888888888,\"#fdca26\"],[1.0,\"#f0f921\"]],\"type\":\"heatmapgl\"}],\"histogram\":[{\"marker\":{\"pattern\":{\"fillmode\":\"overlay\",\"size\":10,\"solidity\":0.2}},\"type\":\"histogram\"}],\"histogram2d\":[{\"colorbar\":{\"outlinewidth\":0,\"ticks\":\"\"},\"colorscale\":[[0.0,\"#0d0887\"],[0.1111111111111111,\"#46039f\"],[0.2222222222222222,\"#7201a8\"],[0.3333333333333333,\"#9c179e\"],[0.4444444444444444,\"#bd3786\"],[0.5555555555555556,\"#d8576b\"],[0.6666666666666666,\"#ed7953\"],[0.7777777777777778,\"#fb9f3a\"],[0.8888888888888888,\"#fdca26\"],[1.0,\"#f0f921\"]],\"type\":\"histogram2d\"}],\"histogram2dcontour\":[{\"colorbar\":{\"outlinewidth\":0,\"ticks\":\"\"},\"colorscale\":[[0.0,\"#0d0887\"],[0.1111111111111111,\"#46039f\"],[0.2222222222222222,\"#7201a8\"],[0.3333333333333333,\"#9c179e\"],[0.4444444444444444,\"#bd3786\"],[0.5555555555555556,\"#d8576b\"],[0.6666666666666666,\"#ed7953\"],[0.7777777777777778,\"#fb9f3a\"],[0.8888888888888888,\"#fdca26\"],[1.0,\"#f0f921\"]],\"type\":\"histogram2dcontour\"}],\"mesh3d\":[{\"colorbar\":{\"outlinewidth\":0,\"ticks\":\"\"},\"type\":\"mesh3d\"}],\"parcoords\":[{\"line\":{\"colorbar\":{\"outlinewidth\":0,\"ticks\":\"\"}},\"type\":\"parcoords\"}],\"pie\":[{\"automargin\":true,\"type\":\"pie\"}],\"scatter\":[{\"marker\":{\"colorbar\":{\"outlinewidth\":0,\"ticks\":\"\"}},\"type\":\"scatter\"}],\"scatter3d\":[{\"line\":{\"colorbar\":{\"outlinewidth\":0,\"ticks\":\"\"}},\"marker\":{\"colorbar\":{\"outlinewidth\":0,\"ticks\":\"\"}},\"type\":\"scatter3d\"}],\"scattercarpet\":[{\"marker\":{\"colorbar\":{\"outlinewidth\":0,\"ticks\":\"\"}},\"type\":\"scattercarpet\"}],\"scattergeo\":[{\"marker\":{\"colorbar\":{\"outlinewidth\":0,\"ticks\":\"\"}},\"type\":\"scattergeo\"}],\"scattergl\":[{\"marker\":{\"colorbar\":{\"outlinewidth\":0,\"ticks\":\"\"}},\"type\":\"scattergl\"}],\"scattermapbox\":[{\"marker\":{\"colorbar\":{\"outlinewidth\":0,\"ticks\":\"\"}},\"type\":\"scattermapbox\"}],\"scatterpolar\":[{\"marker\":{\"colorbar\":{\"outlinewidth\":0,\"ticks\":\"\"}},\"type\":\"scatterpolar\"}],\"scatterpolargl\":[{\"marker\":{\"colorbar\":{\"outlinewidth\":0,\"ticks\":\"\"}},\"type\":\"scatterpolargl\"}],\"scatterternary\":[{\"marker\":{\"colorbar\":{\"outlinewidth\":0,\"ticks\":\"\"}},\"type\":\"scatterternary\"}],\"surface\":[{\"colorbar\":{\"outlinewidth\":0,\"ticks\":\"\"},\"colorscale\":[[0.0,\"#0d0887\"],[0.1111111111111111,\"#46039f\"],[0.2222222222222222,\"#7201a8\"],[0.3333333333333333,\"#9c179e\"],[0.4444444444444444,\"#bd3786\"],[0.5555555555555556,\"#d8576b\"],[0.6666666666666666,\"#ed7953\"],[0.7777777777777778,\"#fb9f3a\"],[0.8888888888888888,\"#fdca26\"],[1.0,\"#f0f921\"]],\"type\":\"surface\"}],\"table\":[{\"cells\":{\"fill\":{\"color\":\"#EBF0F8\"},\"line\":{\"color\":\"white\"}},\"header\":{\"fill\":{\"color\":\"#C8D4E3\"},\"line\":{\"color\":\"white\"}},\"type\":\"table\"}]},\"layout\":{\"annotationdefaults\":{\"arrowcolor\":\"#2a3f5f\",\"arrowhead\":0,\"arrowwidth\":1},\"autotypenumbers\":\"strict\",\"coloraxis\":{\"colorbar\":{\"outlinewidth\":0,\"ticks\":\"\"}},\"colorscale\":{\"diverging\":[[0,\"#8e0152\"],[0.1,\"#c51b7d\"],[0.2,\"#de77ae\"],[0.3,\"#f1b6da\"],[0.4,\"#fde0ef\"],[0.5,\"#f7f7f7\"],[0.6,\"#e6f5d0\"],[0.7,\"#b8e186\"],[0.8,\"#7fbc41\"],[0.9,\"#4d9221\"],[1,\"#276419\"]],\"sequential\":[[0.0,\"#0d0887\"],[0.1111111111111111,\"#46039f\"],[0.2222222222222222,\"#7201a8\"],[0.3333333333333333,\"#9c179e\"],[0.4444444444444444,\"#bd3786\"],[0.5555555555555556,\"#d8576b\"],[0.6666666666666666,\"#ed7953\"],[0.7777777777777778,\"#fb9f3a\"],[0.8888888888888888,\"#fdca26\"],[1.0,\"#f0f921\"]],\"sequentialminus\":[[0.0,\"#0d0887\"],[0.1111111111111111,\"#46039f\"],[0.2222222222222222,\"#7201a8\"],[0.3333333333333333,\"#9c179e\"],[0.4444444444444444,\"#bd3786\"],[0.5555555555555556,\"#d8576b\"],[0.6666666666666666,\"#ed7953\"],[0.7777777777777778,\"#fb9f3a\"],[0.8888888888888888,\"#fdca26\"],[1.0,\"#f0f921\"]]},\"colorway\":[\"#636efa\",\"#EF553B\",\"#00cc96\",\"#ab63fa\",\"#FFA15A\",\"#19d3f3\",\"#FF6692\",\"#B6E880\",\"#FF97FF\",\"#FECB52\"],\"font\":{\"color\":\"#2a3f5f\"},\"geo\":{\"bgcolor\":\"white\",\"lakecolor\":\"white\",\"landcolor\":\"#E5ECF6\",\"showlakes\":true,\"showland\":true,\"subunitcolor\":\"white\"},\"hoverlabel\":{\"align\":\"left\"},\"hovermode\":\"closest\",\"mapbox\":{\"style\":\"light\"},\"paper_bgcolor\":\"white\",\"plot_bgcolor\":\"#E5ECF6\",\"polar\":{\"angularaxis\":{\"gridcolor\":\"white\",\"linecolor\":\"white\",\"ticks\":\"\"},\"bgcolor\":\"#E5ECF6\",\"radialaxis\":{\"gridcolor\":\"white\",\"linecolor\":\"white\",\"ticks\":\"\"}},\"scene\":{\"xaxis\":{\"backgroundcolor\":\"#E5ECF6\",\"gridcolor\":\"white\",\"gridwidth\":2,\"linecolor\":\"white\",\"showbackground\":true,\"ticks\":\"\",\"zerolinecolor\":\"white\"},\"yaxis\":{\"backgroundcolor\":\"#E5ECF6\",\"gridcolor\":\"white\",\"gridwidth\":2,\"linecolor\":\"white\",\"showbackground\":true,\"ticks\":\"\",\"zerolinecolor\":\"white\"},\"zaxis\":{\"backgroundcolor\":\"#E5ECF6\",\"gridcolor\":\"white\",\"gridwidth\":2,\"linecolor\":\"white\",\"showbackground\":true,\"ticks\":\"\",\"zerolinecolor\":\"white\"}},\"shapedefaults\":{\"line\":{\"color\":\"#2a3f5f\"}},\"ternary\":{\"aaxis\":{\"gridcolor\":\"white\",\"linecolor\":\"white\",\"ticks\":\"\"},\"baxis\":{\"gridcolor\":\"white\",\"linecolor\":\"white\",\"ticks\":\"\"},\"bgcolor\":\"#E5ECF6\",\"caxis\":{\"gridcolor\":\"white\",\"linecolor\":\"white\",\"ticks\":\"\"}},\"title\":{\"x\":0.05},\"xaxis\":{\"automargin\":true,\"gridcolor\":\"white\",\"linecolor\":\"white\",\"ticks\":\"\",\"title\":{\"standoff\":15},\"zerolinecolor\":\"white\",\"zerolinewidth\":2},\"yaxis\":{\"automargin\":true,\"gridcolor\":\"white\",\"linecolor\":\"white\",\"ticks\":\"\",\"title\":{\"standoff\":15},\"zerolinecolor\":\"white\",\"zerolinewidth\":2}}},\"xaxis\":{\"anchor\":\"y\",\"domain\":[0.0,1.0],\"title\":{\"text\":\"variable\"}},\"yaxis\":{\"anchor\":\"x\",\"domain\":[0.0,1.0],\"title\":{\"text\":\"value\"}}}}')\n"
     ]
    }
   ],
   "source": [
    "from pprint import pprint\n",
    "pprint(y)"
   ]
  },
  {
   "cell_type": "code",
   "execution_count": null,
   "metadata": {},
   "outputs": [],
   "source": []
  }
 ],
 "metadata": {
  "interpreter": {
   "hash": "31e5ae8fc8db0fb7182a869d3d52522b05b58d4177513cf19336cdeb4fef6683"
  },
  "kernelspec": {
   "display_name": "Python 3 (ipykernel)",
   "language": "python",
   "name": "python3"
  },
  "language_info": {
   "codemirror_mode": {
    "name": "ipython",
    "version": 3
   },
   "file_extension": ".py",
   "mimetype": "text/x-python",
   "name": "python",
   "nbconvert_exporter": "python",
   "pygments_lexer": "ipython3",
   "version": "3.8.5"
  }
 },
 "nbformat": 4,
 "nbformat_minor": 4
}
