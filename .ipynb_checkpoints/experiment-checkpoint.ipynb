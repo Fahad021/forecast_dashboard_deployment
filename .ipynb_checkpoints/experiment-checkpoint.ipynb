{
 "cells": [
  {
   "cell_type": "code",
   "execution_count": 1,
   "id": "surprising-budapest",
   "metadata": {},
   "outputs": [],
   "source": [
    "import pandas as pd\n",
    "import numpy as np \n",
    "import seaborn as sns\n",
    "import bamboolib as bam \n",
    "import plotly.express as px "
   ]
  },
  {
   "cell_type": "code",
   "execution_count": 11,
   "id": "responsible-slovenia",
   "metadata": {},
   "outputs": [],
   "source": [
    "data = pd.read_csv('Air_Traffic_Passenger_Statistics.csv')"
   ]
  },
  {
   "cell_type": "code",
   "execution_count": 3,
   "id": "sharing-poker",
   "metadata": {},
   "outputs": [
    {
     "name": "stdout",
     "output_type": "stream",
     "text": [
      "Success: the bamboolib extension was enabled successfully. You can disable it via 'bam.disable()'. You will now see a magic bamboolib button when you display your dataframes, for example via 'df'\n"
     ]
    }
   ],
   "source": [
    "bam.enable()"
   ]
  },
  {
   "cell_type": "code",
   "execution_count": 4,
   "id": "wrapped-amendment",
   "metadata": {},
   "outputs": [],
   "source": [
    "year = data['Year'].unique()"
   ]
  },
  {
   "cell_type": "code",
   "execution_count": 13,
   "id": "italic-twelve",
   "metadata": {},
   "outputs": [],
   "source": [
    "cx=data.groupby(['GEO Region']).agg(**{'Passenger Count_sum': ('Passenger Count', 'sum')}).reset_index()"
   ]
  },
  {
   "cell_type": "code",
   "execution_count": 14,
   "id": "graduate-maple",
   "metadata": {},
   "outputs": [
    {
     "data": {
      "application/vnd.jupyter.widget-view+json": {
       "model_id": "87e9deebaeec41ea96a153dc9bbf1bd9"
      },
      "text/html": [
       "<div>\n",
       "<style scoped>\n",
       "    .dataframe tbody tr th:only-of-type {\n",
       "        vertical-align: middle;\n",
       "    }\n",
       "\n",
       "    .dataframe tbody tr th {\n",
       "        vertical-align: top;\n",
       "    }\n",
       "\n",
       "    .dataframe thead th {\n",
       "        text-align: right;\n",
       "    }\n",
       "</style>\n",
       "<table border=\"1\" class=\"dataframe\">\n",
       "  <thead>\n",
       "    <tr style=\"text-align: right;\">\n",
       "      <th></th>\n",
       "      <th>GEO Region</th>\n",
       "      <th>Passenger Count_sum</th>\n",
       "    </tr>\n",
       "  </thead>\n",
       "  <tbody>\n",
       "    <tr>\n",
       "      <th>0</th>\n",
       "      <td>Asia</td>\n",
       "      <td>43972770</td>\n",
       "    </tr>\n",
       "    <tr>\n",
       "      <th>1</th>\n",
       "      <td>Australia / Oceania</td>\n",
       "      <td>4729341</td>\n",
       "    </tr>\n",
       "    <tr>\n",
       "      <th>2</th>\n",
       "      <td>Canada</td>\n",
       "      <td>13865159</td>\n",
       "    </tr>\n",
       "    <tr>\n",
       "      <th>3</th>\n",
       "      <td>Central America</td>\n",
       "      <td>1355400</td>\n",
       "    </tr>\n",
       "    <tr>\n",
       "      <th>4</th>\n",
       "      <td>Europe</td>\n",
       "      <td>26646558</td>\n",
       "    </tr>\n",
       "    <tr>\n",
       "      <th>5</th>\n",
       "      <td>Mexico</td>\n",
       "      <td>7998587</td>\n",
       "    </tr>\n",
       "    <tr>\n",
       "      <th>6</th>\n",
       "      <td>Middle East</td>\n",
       "      <td>1852943</td>\n",
       "    </tr>\n",
       "    <tr>\n",
       "      <th>7</th>\n",
       "      <td>South America</td>\n",
       "      <td>250741</td>\n",
       "    </tr>\n",
       "    <tr>\n",
       "      <th>8</th>\n",
       "      <td>US</td>\n",
       "      <td>338141001</td>\n",
       "    </tr>\n",
       "  </tbody>\n",
       "</table>\n",
       "</div>"
      ],
      "text/plain": [
       "            GEO Region  Passenger Count_sum\n",
       "0                 Asia             43972770\n",
       "1  Australia / Oceania              4729341\n",
       "2               Canada             13865159\n",
       "3      Central America              1355400\n",
       "4               Europe             26646558\n",
       "5               Mexico              7998587\n",
       "6          Middle East              1852943\n",
       "7        South America               250741\n",
       "8                   US            338141001"
      ]
     },
     "metadata": {},
     "output_type": "display_data"
    }
   ],
   "source": [
    "cx"
   ]
  },
  {
   "cell_type": "code",
   "execution_count": null,
   "id": "educational-start",
   "metadata": {},
   "outputs": [],
   "source": [
    "import plotly.express as px\n",
    "pie_chart = px.pie(cx, values='Passenger Count_sum', names='GEO Region', color='GEO Region', template='ggplot2', color_discrete_map={}, opacity=1)\n",
    "fig.update_layout()\n",
    "fig\n",
    "pie_chart.update_layout(legend_title_text='Region',\n",
    "                                title = 'Total Passenger per Region' , title_font_family='montserrat',title_xanchor='left',\n",
    "    paper_bgcolor=\"LightSteelBlue\"\n",
    ")"
   ]
  },
  {
   "cell_type": "code",
   "execution_count": 6,
   "id": "precious-armenia",
   "metadata": {},
   "outputs": [
    {
     "data": {
      "text/plain": [
       "['list_year.joblib']"
      ]
     },
     "execution_count": 6,
     "metadata": {},
     "output_type": "execute_result"
    }
   ],
   "source": [
    "\n",
    "import joblib\n",
    "joblib.dump(year,'list_year.joblib')"
   ]
  },
  {
   "cell_type": "code",
   "execution_count": 9,
   "id": "little-landing",
   "metadata": {},
   "outputs": [
    {
     "data": {
      "text/plain": [
       "[2005, 2006, 2007, 2008, 2011, 2009, 2012, 2010, 2013, 2014, 2015, 2016]"
      ]
     },
     "execution_count": 9,
     "metadata": {},
     "output_type": "execute_result"
    }
   ],
   "source": [
    "year\n"
   ]
  },
  {
   "cell_type": "code",
   "execution_count": 8,
   "id": "paperback-workplace",
   "metadata": {},
   "outputs": [
    {
     "data": {
      "application/vnd.jupyter.widget-view+json": {
       "model_id": "1dfbfa2e2f334351b83269a5bd14c407"
      },
      "text/html": [
       "<div>\n",
       "<style scoped>\n",
       "    .dataframe tbody tr th:only-of-type {\n",
       "        vertical-align: middle;\n",
       "    }\n",
       "\n",
       "    .dataframe tbody tr th {\n",
       "        vertical-align: top;\n",
       "    }\n",
       "\n",
       "    .dataframe thead th {\n",
       "        text-align: right;\n",
       "    }\n",
       "</style>\n",
       "<table border=\"1\" class=\"dataframe\">\n",
       "  <thead>\n",
       "    <tr style=\"text-align: right;\">\n",
       "      <th></th>\n",
       "      <th>Activity Period</th>\n",
       "      <th>Operating Airline</th>\n",
       "      <th>Operating Airline IATA Code</th>\n",
       "      <th>Published Airline</th>\n",
       "      <th>Published Airline IATA Code</th>\n",
       "      <th>GEO Summary</th>\n",
       "      <th>GEO Region</th>\n",
       "      <th>Activity Type Code</th>\n",
       "      <th>Price Category Code</th>\n",
       "      <th>Terminal</th>\n",
       "      <th>Boarding Area</th>\n",
       "      <th>Passenger Count</th>\n",
       "      <th>Adjusted Activity Type Code</th>\n",
       "      <th>Adjusted Passenger Count</th>\n",
       "      <th>Year</th>\n",
       "      <th>Month</th>\n",
       "    </tr>\n",
       "  </thead>\n",
       "  <tbody>\n",
       "    <tr>\n",
       "      <th>0</th>\n",
       "      <td>200507</td>\n",
       "      <td>ATA Airlines</td>\n",
       "      <td>TZ</td>\n",
       "      <td>ATA Airlines</td>\n",
       "      <td>TZ</td>\n",
       "      <td>Domestic</td>\n",
       "      <td>US</td>\n",
       "      <td>Deplaned</td>\n",
       "      <td>Low Fare</td>\n",
       "      <td>Terminal 1</td>\n",
       "      <td>B</td>\n",
       "      <td>27271</td>\n",
       "      <td>Deplaned</td>\n",
       "      <td>27271</td>\n",
       "      <td>2005</td>\n",
       "      <td>July</td>\n",
       "    </tr>\n",
       "    <tr>\n",
       "      <th>1</th>\n",
       "      <td>200507</td>\n",
       "      <td>ATA Airlines</td>\n",
       "      <td>TZ</td>\n",
       "      <td>ATA Airlines</td>\n",
       "      <td>TZ</td>\n",
       "      <td>Domestic</td>\n",
       "      <td>US</td>\n",
       "      <td>Enplaned</td>\n",
       "      <td>Low Fare</td>\n",
       "      <td>Terminal 1</td>\n",
       "      <td>B</td>\n",
       "      <td>29131</td>\n",
       "      <td>Enplaned</td>\n",
       "      <td>29131</td>\n",
       "      <td>2005</td>\n",
       "      <td>July</td>\n",
       "    </tr>\n",
       "    <tr>\n",
       "      <th>2</th>\n",
       "      <td>200507</td>\n",
       "      <td>ATA Airlines</td>\n",
       "      <td>TZ</td>\n",
       "      <td>ATA Airlines</td>\n",
       "      <td>TZ</td>\n",
       "      <td>Domestic</td>\n",
       "      <td>US</td>\n",
       "      <td>Thru / Transit</td>\n",
       "      <td>Low Fare</td>\n",
       "      <td>Terminal 1</td>\n",
       "      <td>B</td>\n",
       "      <td>5415</td>\n",
       "      <td>Thru / Transit * 2</td>\n",
       "      <td>10830</td>\n",
       "      <td>2005</td>\n",
       "      <td>July</td>\n",
       "    </tr>\n",
       "    <tr>\n",
       "      <th>3</th>\n",
       "      <td>200507</td>\n",
       "      <td>Air Canada</td>\n",
       "      <td>AC</td>\n",
       "      <td>Air Canada</td>\n",
       "      <td>AC</td>\n",
       "      <td>International</td>\n",
       "      <td>Canada</td>\n",
       "      <td>Deplaned</td>\n",
       "      <td>Other</td>\n",
       "      <td>Terminal 1</td>\n",
       "      <td>B</td>\n",
       "      <td>35156</td>\n",
       "      <td>Deplaned</td>\n",
       "      <td>35156</td>\n",
       "      <td>2005</td>\n",
       "      <td>July</td>\n",
       "    </tr>\n",
       "    <tr>\n",
       "      <th>4</th>\n",
       "      <td>200507</td>\n",
       "      <td>Air Canada</td>\n",
       "      <td>AC</td>\n",
       "      <td>Air Canada</td>\n",
       "      <td>AC</td>\n",
       "      <td>International</td>\n",
       "      <td>Canada</td>\n",
       "      <td>Enplaned</td>\n",
       "      <td>Other</td>\n",
       "      <td>Terminal 1</td>\n",
       "      <td>B</td>\n",
       "      <td>34090</td>\n",
       "      <td>Enplaned</td>\n",
       "      <td>34090</td>\n",
       "      <td>2005</td>\n",
       "      <td>July</td>\n",
       "    </tr>\n",
       "    <tr>\n",
       "      <th>...</th>\n",
       "      <td>...</td>\n",
       "      <td>...</td>\n",
       "      <td>...</td>\n",
       "      <td>...</td>\n",
       "      <td>...</td>\n",
       "      <td>...</td>\n",
       "      <td>...</td>\n",
       "      <td>...</td>\n",
       "      <td>...</td>\n",
       "      <td>...</td>\n",
       "      <td>...</td>\n",
       "      <td>...</td>\n",
       "      <td>...</td>\n",
       "      <td>...</td>\n",
       "      <td>...</td>\n",
       "      <td>...</td>\n",
       "    </tr>\n",
       "    <tr>\n",
       "      <th>15002</th>\n",
       "      <td>201603</td>\n",
       "      <td>Virgin America</td>\n",
       "      <td>VX</td>\n",
       "      <td>Virgin America</td>\n",
       "      <td>VX</td>\n",
       "      <td>Domestic</td>\n",
       "      <td>US</td>\n",
       "      <td>Enplaned</td>\n",
       "      <td>Low Fare</td>\n",
       "      <td>Terminal 2</td>\n",
       "      <td>D</td>\n",
       "      <td>194636</td>\n",
       "      <td>Enplaned</td>\n",
       "      <td>194636</td>\n",
       "      <td>2016</td>\n",
       "      <td>March</td>\n",
       "    </tr>\n",
       "    <tr>\n",
       "      <th>15003</th>\n",
       "      <td>201603</td>\n",
       "      <td>Virgin America</td>\n",
       "      <td>VX</td>\n",
       "      <td>Virgin America</td>\n",
       "      <td>VX</td>\n",
       "      <td>International</td>\n",
       "      <td>Mexico</td>\n",
       "      <td>Deplaned</td>\n",
       "      <td>Low Fare</td>\n",
       "      <td>International</td>\n",
       "      <td>A</td>\n",
       "      <td>4189</td>\n",
       "      <td>Deplaned</td>\n",
       "      <td>4189</td>\n",
       "      <td>2016</td>\n",
       "      <td>March</td>\n",
       "    </tr>\n",
       "    <tr>\n",
       "      <th>15004</th>\n",
       "      <td>201603</td>\n",
       "      <td>Virgin America</td>\n",
       "      <td>VX</td>\n",
       "      <td>Virgin America</td>\n",
       "      <td>VX</td>\n",
       "      <td>International</td>\n",
       "      <td>Mexico</td>\n",
       "      <td>Enplaned</td>\n",
       "      <td>Low Fare</td>\n",
       "      <td>Terminal 2</td>\n",
       "      <td>D</td>\n",
       "      <td>4693</td>\n",
       "      <td>Enplaned</td>\n",
       "      <td>4693</td>\n",
       "      <td>2016</td>\n",
       "      <td>March</td>\n",
       "    </tr>\n",
       "    <tr>\n",
       "      <th>15005</th>\n",
       "      <td>201603</td>\n",
       "      <td>Virgin Atlantic</td>\n",
       "      <td>VS</td>\n",
       "      <td>Virgin Atlantic</td>\n",
       "      <td>VS</td>\n",
       "      <td>International</td>\n",
       "      <td>Europe</td>\n",
       "      <td>Deplaned</td>\n",
       "      <td>Other</td>\n",
       "      <td>International</td>\n",
       "      <td>A</td>\n",
       "      <td>12313</td>\n",
       "      <td>Deplaned</td>\n",
       "      <td>12313</td>\n",
       "      <td>2016</td>\n",
       "      <td>March</td>\n",
       "    </tr>\n",
       "    <tr>\n",
       "      <th>15006</th>\n",
       "      <td>201603</td>\n",
       "      <td>Virgin Atlantic</td>\n",
       "      <td>VS</td>\n",
       "      <td>Virgin Atlantic</td>\n",
       "      <td>VS</td>\n",
       "      <td>International</td>\n",
       "      <td>Europe</td>\n",
       "      <td>Enplaned</td>\n",
       "      <td>Other</td>\n",
       "      <td>International</td>\n",
       "      <td>A</td>\n",
       "      <td>10898</td>\n",
       "      <td>Enplaned</td>\n",
       "      <td>10898</td>\n",
       "      <td>2016</td>\n",
       "      <td>March</td>\n",
       "    </tr>\n",
       "  </tbody>\n",
       "</table>\n",
       "<p>15007 rows × 16 columns</p>\n",
       "</div>"
      ],
      "text/plain": [
       "       Activity Period Operating Airline Operating Airline IATA Code  \\\n",
       "0               200507      ATA Airlines                          TZ   \n",
       "1               200507      ATA Airlines                          TZ   \n",
       "2               200507      ATA Airlines                          TZ   \n",
       "3               200507       Air Canada                           AC   \n",
       "4               200507       Air Canada                           AC   \n",
       "...                ...               ...                         ...   \n",
       "15002           201603    Virgin America                          VX   \n",
       "15003           201603    Virgin America                          VX   \n",
       "15004           201603    Virgin America                          VX   \n",
       "15005           201603   Virgin Atlantic                          VS   \n",
       "15006           201603   Virgin Atlantic                          VS   \n",
       "\n",
       "      Published Airline Published Airline IATA Code    GEO Summary GEO Region  \\\n",
       "0          ATA Airlines                          TZ       Domestic         US   \n",
       "1          ATA Airlines                          TZ       Domestic         US   \n",
       "2          ATA Airlines                          TZ       Domestic         US   \n",
       "3           Air Canada                           AC  International     Canada   \n",
       "4           Air Canada                           AC  International     Canada   \n",
       "...                 ...                         ...            ...        ...   \n",
       "15002    Virgin America                          VX       Domestic         US   \n",
       "15003    Virgin America                          VX  International     Mexico   \n",
       "15004    Virgin America                          VX  International     Mexico   \n",
       "15005   Virgin Atlantic                          VS  International     Europe   \n",
       "15006   Virgin Atlantic                          VS  International     Europe   \n",
       "\n",
       "      Activity Type Code Price Category Code       Terminal Boarding Area  \\\n",
       "0               Deplaned            Low Fare     Terminal 1             B   \n",
       "1               Enplaned            Low Fare     Terminal 1             B   \n",
       "2         Thru / Transit            Low Fare     Terminal 1             B   \n",
       "3               Deplaned               Other     Terminal 1             B   \n",
       "4               Enplaned               Other     Terminal 1             B   \n",
       "...                  ...                 ...            ...           ...   \n",
       "15002           Enplaned            Low Fare     Terminal 2             D   \n",
       "15003           Deplaned            Low Fare  International             A   \n",
       "15004           Enplaned            Low Fare     Terminal 2             D   \n",
       "15005           Deplaned               Other  International             A   \n",
       "15006           Enplaned               Other  International             A   \n",
       "\n",
       "       Passenger Count Adjusted Activity Type Code  Adjusted Passenger Count  \\\n",
       "0                27271                    Deplaned                     27271   \n",
       "1                29131                    Enplaned                     29131   \n",
       "2                 5415          Thru / Transit * 2                     10830   \n",
       "3                35156                    Deplaned                     35156   \n",
       "4                34090                    Enplaned                     34090   \n",
       "...                ...                         ...                       ...   \n",
       "15002           194636                    Enplaned                    194636   \n",
       "15003             4189                    Deplaned                      4189   \n",
       "15004             4693                    Enplaned                      4693   \n",
       "15005            12313                    Deplaned                     12313   \n",
       "15006            10898                    Enplaned                     10898   \n",
       "\n",
       "       Year  Month  \n",
       "0      2005   July  \n",
       "1      2005   July  \n",
       "2      2005   July  \n",
       "3      2005   July  \n",
       "4      2005   July  \n",
       "...     ...    ...  \n",
       "15002  2016  March  \n",
       "15003  2016  March  \n",
       "15004  2016  March  \n",
       "15005  2016  March  \n",
       "15006  2016  March  \n",
       "\n",
       "[15007 rows x 16 columns]"
      ]
     },
     "metadata": {},
     "output_type": "display_data"
    }
   ],
   "source": [
    "data"
   ]
  },
  {
   "cell_type": "code",
   "execution_count": 5,
   "id": "contemporary-optimum",
   "metadata": {},
   "outputs": [
    {
     "data": {
      "application/vnd.jupyter.widget-view+json": {
       "model_id": "1cbe396021c6459eaaad46d8d9c0eb38"
      },
      "text/html": [
       "<div>\n",
       "<style scoped>\n",
       "    .dataframe tbody tr th:only-of-type {\n",
       "        vertical-align: middle;\n",
       "    }\n",
       "\n",
       "    .dataframe tbody tr th {\n",
       "        vertical-align: top;\n",
       "    }\n",
       "\n",
       "    .dataframe thead th {\n",
       "        text-align: right;\n",
       "    }\n",
       "</style>\n",
       "<table border=\"1\" class=\"dataframe\">\n",
       "  <thead>\n",
       "    <tr style=\"text-align: right;\">\n",
       "      <th></th>\n",
       "      <th>GEO Region</th>\n",
       "      <th>Passenger Count_sum</th>\n",
       "    </tr>\n",
       "  </thead>\n",
       "  <tbody>\n",
       "    <tr>\n",
       "      <th>0</th>\n",
       "      <td>Asia</td>\n",
       "      <td>43972770</td>\n",
       "    </tr>\n",
       "    <tr>\n",
       "      <th>1</th>\n",
       "      <td>Australia / Oceania</td>\n",
       "      <td>4729341</td>\n",
       "    </tr>\n",
       "    <tr>\n",
       "      <th>2</th>\n",
       "      <td>Canada</td>\n",
       "      <td>13865159</td>\n",
       "    </tr>\n",
       "    <tr>\n",
       "      <th>3</th>\n",
       "      <td>Central America</td>\n",
       "      <td>1355400</td>\n",
       "    </tr>\n",
       "    <tr>\n",
       "      <th>4</th>\n",
       "      <td>Europe</td>\n",
       "      <td>26646558</td>\n",
       "    </tr>\n",
       "    <tr>\n",
       "      <th>5</th>\n",
       "      <td>Mexico</td>\n",
       "      <td>7998587</td>\n",
       "    </tr>\n",
       "    <tr>\n",
       "      <th>6</th>\n",
       "      <td>Middle East</td>\n",
       "      <td>1852943</td>\n",
       "    </tr>\n",
       "    <tr>\n",
       "      <th>7</th>\n",
       "      <td>South America</td>\n",
       "      <td>250741</td>\n",
       "    </tr>\n",
       "    <tr>\n",
       "      <th>8</th>\n",
       "      <td>US</td>\n",
       "      <td>338141001</td>\n",
       "    </tr>\n",
       "  </tbody>\n",
       "</table>\n",
       "</div>"
      ],
      "text/plain": [
       "            GEO Region  Passenger Count_sum\n",
       "0                 Asia             43972770\n",
       "1  Australia / Oceania              4729341\n",
       "2               Canada             13865159\n",
       "3      Central America              1355400\n",
       "4               Europe             26646558\n",
       "5               Mexico              7998587\n",
       "6          Middle East              1852943\n",
       "7        South America               250741\n",
       "8                   US            338141001"
      ]
     },
     "metadata": {},
     "output_type": "display_data"
    }
   ],
   "source": [
    "region_passenger_count = data.groupby(['GEO Region']).agg(**{'Passenger Count_sum': ('Passenger Count', 'sum')}).reset_index()\n",
    "region_passenger_count"
   ]
  },
  {
   "cell_type": "code",
   "execution_count": 4,
   "id": "formed-consolidation",
   "metadata": {},
   "outputs": [
    {
     "data": {
      "text/plain": [
       "International    9210\n",
       "Domestic         5797\n",
       "Name: GEO Summary, dtype: int64"
      ]
     },
     "execution_count": 4,
     "metadata": {},
     "output_type": "execute_result"
    }
   ],
   "source": [
    "data['GEO Summary'].value_counts()"
   ]
  },
  {
   "cell_type": "code",
   "execution_count": 40,
   "id": "civil-petite",
   "metadata": {},
   "outputs": [
    {
     "data": {
      "text/plain": [
       "True"
      ]
     },
     "execution_count": 40,
     "metadata": {},
     "output_type": "execute_result"
    }
   ],
   "source": [
    "data['Published Airline'][0] == data['Operating Airline'][0]"
   ]
  },
  {
   "cell_type": "markdown",
   "id": "worldwide-summit",
   "metadata": {},
   "source": [
    "## Task 4 : Create Flight Destination"
   ]
  },
  {
   "cell_type": "code",
   "execution_count": 6,
   "id": "acquired-airline",
   "metadata": {},
   "outputs": [
    {
     "data": {
      "application/vnd.jupyter.widget-view+json": {
       "model_id": "b3fd8a8c72c34e4c9bd5f61cf6930ffd"
      },
      "text/html": [
       "<div>\n",
       "<style scoped>\n",
       "    .dataframe tbody tr th:only-of-type {\n",
       "        vertical-align: middle;\n",
       "    }\n",
       "\n",
       "    .dataframe tbody tr th {\n",
       "        vertical-align: top;\n",
       "    }\n",
       "\n",
       "    .dataframe thead th {\n",
       "        text-align: right;\n",
       "    }\n",
       "</style>\n",
       "<table border=\"1\" class=\"dataframe\">\n",
       "  <thead>\n",
       "    <tr style=\"text-align: right;\">\n",
       "      <th></th>\n",
       "      <th>GEO Region</th>\n",
       "      <th>Activity Type Code</th>\n",
       "      <th>Passenger Count_sum</th>\n",
       "    </tr>\n",
       "  </thead>\n",
       "  <tbody>\n",
       "    <tr>\n",
       "      <th>0</th>\n",
       "      <td>Asia</td>\n",
       "      <td>Deplaned</td>\n",
       "      <td>22136341</td>\n",
       "    </tr>\n",
       "    <tr>\n",
       "      <th>1</th>\n",
       "      <td>Asia</td>\n",
       "      <td>Enplaned</td>\n",
       "      <td>21595706</td>\n",
       "    </tr>\n",
       "    <tr>\n",
       "      <th>2</th>\n",
       "      <td>Asia</td>\n",
       "      <td>Thru / Transit</td>\n",
       "      <td>240723</td>\n",
       "    </tr>\n",
       "    <tr>\n",
       "      <th>3</th>\n",
       "      <td>Australia / Oceania</td>\n",
       "      <td>Deplaned</td>\n",
       "      <td>2369849</td>\n",
       "    </tr>\n",
       "    <tr>\n",
       "      <th>4</th>\n",
       "      <td>Australia / Oceania</td>\n",
       "      <td>Enplaned</td>\n",
       "      <td>2301941</td>\n",
       "    </tr>\n",
       "    <tr>\n",
       "      <th>5</th>\n",
       "      <td>Australia / Oceania</td>\n",
       "      <td>Thru / Transit</td>\n",
       "      <td>57551</td>\n",
       "    </tr>\n",
       "    <tr>\n",
       "      <th>6</th>\n",
       "      <td>Canada</td>\n",
       "      <td>Deplaned</td>\n",
       "      <td>6883159</td>\n",
       "    </tr>\n",
       "    <tr>\n",
       "      <th>7</th>\n",
       "      <td>Canada</td>\n",
       "      <td>Enplaned</td>\n",
       "      <td>6945383</td>\n",
       "    </tr>\n",
       "    <tr>\n",
       "      <th>8</th>\n",
       "      <td>Canada</td>\n",
       "      <td>Thru / Transit</td>\n",
       "      <td>36617</td>\n",
       "    </tr>\n",
       "    <tr>\n",
       "      <th>9</th>\n",
       "      <td>Central America</td>\n",
       "      <td>Deplaned</td>\n",
       "      <td>677304</td>\n",
       "    </tr>\n",
       "    <tr>\n",
       "      <th>10</th>\n",
       "      <td>Central America</td>\n",
       "      <td>Enplaned</td>\n",
       "      <td>678096</td>\n",
       "    </tr>\n",
       "    <tr>\n",
       "      <th>11</th>\n",
       "      <td>Europe</td>\n",
       "      <td>Deplaned</td>\n",
       "      <td>13347248</td>\n",
       "    </tr>\n",
       "    <tr>\n",
       "      <th>12</th>\n",
       "      <td>Europe</td>\n",
       "      <td>Enplaned</td>\n",
       "      <td>13250422</td>\n",
       "    </tr>\n",
       "    <tr>\n",
       "      <th>13</th>\n",
       "      <td>Europe</td>\n",
       "      <td>Thru / Transit</td>\n",
       "      <td>48888</td>\n",
       "    </tr>\n",
       "    <tr>\n",
       "      <th>14</th>\n",
       "      <td>Mexico</td>\n",
       "      <td>Deplaned</td>\n",
       "      <td>3880403</td>\n",
       "    </tr>\n",
       "    <tr>\n",
       "      <th>15</th>\n",
       "      <td>Mexico</td>\n",
       "      <td>Enplaned</td>\n",
       "      <td>4032019</td>\n",
       "    </tr>\n",
       "    <tr>\n",
       "      <th>16</th>\n",
       "      <td>Mexico</td>\n",
       "      <td>Thru / Transit</td>\n",
       "      <td>86165</td>\n",
       "    </tr>\n",
       "    <tr>\n",
       "      <th>17</th>\n",
       "      <td>Middle East</td>\n",
       "      <td>Deplaned</td>\n",
       "      <td>949475</td>\n",
       "    </tr>\n",
       "    <tr>\n",
       "      <th>18</th>\n",
       "      <td>Middle East</td>\n",
       "      <td>Enplaned</td>\n",
       "      <td>903468</td>\n",
       "    </tr>\n",
       "    <tr>\n",
       "      <th>19</th>\n",
       "      <td>South America</td>\n",
       "      <td>Deplaned</td>\n",
       "      <td>125646</td>\n",
       "    </tr>\n",
       "    <tr>\n",
       "      <th>20</th>\n",
       "      <td>South America</td>\n",
       "      <td>Enplaned</td>\n",
       "      <td>125095</td>\n",
       "    </tr>\n",
       "    <tr>\n",
       "      <th>21</th>\n",
       "      <td>US</td>\n",
       "      <td>Deplaned</td>\n",
       "      <td>168598100</td>\n",
       "    </tr>\n",
       "    <tr>\n",
       "      <th>22</th>\n",
       "      <td>US</td>\n",
       "      <td>Enplaned</td>\n",
       "      <td>168641265</td>\n",
       "    </tr>\n",
       "    <tr>\n",
       "      <th>23</th>\n",
       "      <td>US</td>\n",
       "      <td>Thru / Transit</td>\n",
       "      <td>901636</td>\n",
       "    </tr>\n",
       "  </tbody>\n",
       "</table>\n",
       "</div>"
      ],
      "text/plain": [
       "             GEO Region Activity Type Code  Passenger Count_sum\n",
       "0                  Asia           Deplaned             22136341\n",
       "1                  Asia           Enplaned             21595706\n",
       "2                  Asia     Thru / Transit               240723\n",
       "3   Australia / Oceania           Deplaned              2369849\n",
       "4   Australia / Oceania           Enplaned              2301941\n",
       "5   Australia / Oceania     Thru / Transit                57551\n",
       "6                Canada           Deplaned              6883159\n",
       "7                Canada           Enplaned              6945383\n",
       "8                Canada     Thru / Transit                36617\n",
       "9       Central America           Deplaned               677304\n",
       "10      Central America           Enplaned               678096\n",
       "11               Europe           Deplaned             13347248\n",
       "12               Europe           Enplaned             13250422\n",
       "13               Europe     Thru / Transit                48888\n",
       "14               Mexico           Deplaned              3880403\n",
       "15               Mexico           Enplaned              4032019\n",
       "16               Mexico     Thru / Transit                86165\n",
       "17          Middle East           Deplaned               949475\n",
       "18          Middle East           Enplaned               903468\n",
       "19        South America           Deplaned               125646\n",
       "20        South America           Enplaned               125095\n",
       "21                   US           Deplaned            168598100\n",
       "22                   US           Enplaned            168641265\n",
       "23                   US     Thru / Transit               901636"
      ]
     },
     "metadata": {},
     "output_type": "display_data"
    }
   ],
   "source": [
    "passenger_group_activity_region = data.groupby(['GEO Region', 'Activity Type Code']).agg(**{'Passenger Count_sum': ('Passenger Count', 'sum')}).reset_index()\n",
    "passenger_group_activity_region"
   ]
  },
  {
   "cell_type": "code",
   "execution_count": 7,
   "id": "funky-annual",
   "metadata": {},
   "outputs": [],
   "source": [
    "import d3fdgraph"
   ]
  },
  {
   "cell_type": "code",
   "execution_count": 8,
   "id": "adopted-sweden",
   "metadata": {},
   "outputs": [
    {
     "data": {
      "text/html": [
       "<script src=\"/static/components/requirejs/require.js\"></script>\n",
       "<div id=\"d3-container-7017981\"></div>\n",
       "<div>force-directed graph</div>\n",
       "\n",
       "<style>\n",
       "    .links line {\n",
       "        stroke: #88d;\n",
       "        stroke-opacity: .2;\n",
       "    }\n",
       "    .nodes circle {\n",
       "        pointer-events: all;\n",
       "        stroke: #fff;\n",
       "        fill: #a55;\n",
       "        stroke-width: 1.5px;\n",
       "        opacity: 0.7;\n",
       "    }\n",
       "    .nodes text {\n",
       "        pointer-events: none;\n",
       "        font: 10px sans-serif;\n",
       "        fill: #333;\n",
       "        opacity: .5;\n",
       "    }\n",
       "</style>"
      ]
     },
     "metadata": {},
     "output_type": "display_data"
    },
    {
     "data": {
      "application/javascript": [
       "// require is how jupyter manages javascript libraries\n",
       "require.config({\n",
       "    paths: {\n",
       "        d3: 'https://d3js.org/d3.v5.min'\n",
       "    }\n",
       "});\n",
       "\n",
       "require([\"d3\"], function(d3) {\n",
       "    //console.log(d3.version);\n",
       "\n",
       "    // size of plot\n",
       "    const width = 800;\n",
       "    const height = 600;\n",
       "\n",
       "    // node radius\n",
       "    const node_radius = 3;\n",
       "    // link distance before weight is applied\n",
       "    const link_distance = 20;\n",
       "    // collision exclusion sclae\n",
       "    const collision_scale = 4;\n",
       "    // link with scale\n",
       "    const link_width_scale = 4;\n",
       "\n",
       "    // links and nodes data\n",
       "    const links = [{'Passenger Count_sum': 22136341, 'source': 'Asia', 'target': 'Deplaned'}, {'Passenger Count_sum': 21595706, 'source': 'Asia', 'target': 'Enplaned'}, {'Passenger Count_sum': 240723, 'source': 'Asia', 'target': 'Thru / Transit'}, {'Passenger Count_sum': 2369849, 'source': 'Deplaned', 'target': 'Australia / Oceania'}, {'Passenger Count_sum': 6883159, 'source': 'Deplaned', 'target': 'Canada'}, {'Passenger Count_sum': 677304, 'source': 'Deplaned', 'target': 'Central America'}, {'Passenger Count_sum': 13347248, 'source': 'Deplaned', 'target': 'Europe'}, {'Passenger Count_sum': 3880403, 'source': 'Deplaned', 'target': 'Mexico'}, {'Passenger Count_sum': 949475, 'source': 'Deplaned', 'target': 'Middle East'}, {'Passenger Count_sum': 125646, 'source': 'Deplaned', 'target': 'South America'}, {'Passenger Count_sum': 168598100, 'source': 'Deplaned', 'target': 'US'}, {'Passenger Count_sum': 2301941, 'source': 'Enplaned', 'target': 'Australia / Oceania'}, {'Passenger Count_sum': 6945383, 'source': 'Enplaned', 'target': 'Canada'}, {'Passenger Count_sum': 678096, 'source': 'Enplaned', 'target': 'Central America'}, {'Passenger Count_sum': 13250422, 'source': 'Enplaned', 'target': 'Europe'}, {'Passenger Count_sum': 4032019, 'source': 'Enplaned', 'target': 'Mexico'}, {'Passenger Count_sum': 903468, 'source': 'Enplaned', 'target': 'Middle East'}, {'Passenger Count_sum': 125095, 'source': 'Enplaned', 'target': 'South America'}, {'Passenger Count_sum': 168641265, 'source': 'Enplaned', 'target': 'US'}, {'Passenger Count_sum': 57551, 'source': 'Thru / Transit', 'target': 'Australia / Oceania'}, {'Passenger Count_sum': 36617, 'source': 'Thru / Transit', 'target': 'Canada'}, {'Passenger Count_sum': 48888, 'source': 'Thru / Transit', 'target': 'Europe'}, {'Passenger Count_sum': 86165, 'source': 'Thru / Transit', 'target': 'Mexico'}, {'Passenger Count_sum': 901636, 'source': 'Thru / Transit', 'target': 'US'}];\n",
       "    const nodes = [{'id': 'Asia'}, {'id': 'Deplaned'}, {'id': 'Enplaned'}, {'id': 'Thru / Transit'}, {'id': 'Australia / Oceania'}, {'id': 'Canada'}, {'id': 'Central America'}, {'id': 'Europe'}, {'id': 'Mexico'}, {'id': 'Middle East'}, {'id': 'South America'}, {'id': 'US'}];\n",
       "\n",
       "\n",
       "    // create simulation\n",
       "    const simulation = d3.forceSimulation(nodes)\n",
       "    .force(\"link\", d3.forceLink(links).id(d => d.id).distance(d => link_distance / d.Passenger Count_sum))\n",
       "    .force(\"charge\", d3.forceManyBody().strength(-20))\n",
       "    .force('collision', d3.forceCollide().radius(collision_scale * node_radius))\n",
       "    .force(\"center\", d3.forceCenter(width / 2, height / 2));\n",
       "\n",
       "    /// dragging nodes\n",
       "    const drag = simulation => {\n",
       "\n",
       "        function dragstarted(d) {\n",
       "        if (!d3.event.active) simulation.alphaTarget(0.3).restart();\n",
       "            d.fx = d.x;\n",
       "            d.fy = d.y;\n",
       "        }\n",
       "\n",
       "        function dragged(d) {\n",
       "            d.fx = d3.event.x;\n",
       "            d.fy = d3.event.y;\n",
       "        }\n",
       "\n",
       "        function dragended(d) {\n",
       "        if (!d3.event.active) simulation.alphaTarget(0);\n",
       "            d.fx = null;\n",
       "            d.fy = null;\n",
       "        }\n",
       "\n",
       "        return d3.drag()\n",
       "          .on(\"start\", dragstarted)\n",
       "          .on(\"drag\", dragged)\n",
       "          .on(\"end\", dragended);\n",
       "    }\n",
       "\n",
       "    // select HTML element and attach SVG to it\n",
       "    const svg = d3.select(\"#d3-container-7017981\")\n",
       "        .append(\"svg\")\n",
       "        .attr(\"width\", width)\n",
       "        .attr(\"height\", height);\n",
       "\n",
       "    // add links to svg element\n",
       "    const link = svg.append(\"g\")\n",
       "            .attr(\"class\", \"links\")\n",
       "        .selectAll(\"line\")\n",
       "        .data(links)\n",
       "        .enter().append(\"line\")\n",
       "            .style(\"stroke-width\", d => Math.sqrt(link_width_scale*d.Passenger Count_sum));\n",
       "\n",
       "    const node = svg.append(\"g\")\n",
       "            .attr(\"class\", \"nodes\")\n",
       "        .selectAll(\"g\")\n",
       "        .data(nodes)\n",
       "        .enter().append(\"g\");\n",
       "\n",
       "\n",
       "    const circle = node.append(\"circle\")\n",
       "            .attr(\"r\", node_radius)\n",
       "            .on(\"dblclick\", d => {d.x = width/2; d.y = height/2;})\n",
       "            .call(drag(simulation));\n",
       "\n",
       "    // svg text labels for eachnode\n",
       "    const label = node.append(\"text\")\n",
       "            .attr(\"dx\", 10)\n",
       "            .attr(\"dy\", \".35em\")\n",
       "            .text(d => d.id);\n",
       "\n",
       "\n",
       "    // update svg on simulation ticks\n",
       "    simulation.on(\"tick\", () => {\n",
       "        circle\n",
       "        // keep within edge of canvas, larger margin on right for text labels\n",
       "            .attr(\"cx\", d => (d.x = Math.max(2*node_radius, Math.min(width - 2*node_radius - 10*d.id.length, d.x)) ))\n",
       "            .attr(\"cy\", d => (d.y = Math.max(2*node_radius, Math.min(height - 2*node_radius, d.y)) ));\n",
       "\n",
       "        link\n",
       "            .attr(\"x1\", d => d.source.x)\n",
       "            .attr(\"y1\", d => d.source.y)\n",
       "            .attr(\"x2\", d => d.target.x)\n",
       "            .attr(\"y2\", d => d.target.y);\n",
       "\n",
       "\n",
       "        label\n",
       "            .attr(\"x\", d => d.x)\n",
       "            .attr(\"y\", d => d.y);\n",
       "    });\n",
       "\n",
       "\n",
       "    //return svg.node();\n",
       "\n",
       "});\n",
       "\n"
      ]
     },
     "metadata": {},
     "output_type": "display_data"
    }
   ],
   "source": [
    "d3fdgraph.plot_force_directed_graph(passenger_group_activity_region)"
   ]
  },
  {
   "cell_type": "code",
   "execution_count": 29,
   "id": "terminal-agency",
   "metadata": {},
   "outputs": [
    {
     "data": {
      "text/plain": [
       "Index(['Activity Period', 'Operating Airline', 'Operating Airline IATA Code',\n",
       "       'Published Airline', 'Published Airline IATA Code', 'GEO Summary',\n",
       "       'GEO Region', 'Activity Type Code', 'Price Category Code', 'Terminal',\n",
       "       'Boarding Area', 'Passenger Count', 'Adjusted Activity Type Code',\n",
       "       'Adjusted Passenger Count', 'Year', 'Month'],\n",
       "      dtype='object')"
      ]
     },
     "execution_count": 29,
     "metadata": {},
     "output_type": "execute_result"
    }
   ],
   "source": [
    "data.columns"
   ]
  },
  {
   "cell_type": "markdown",
   "id": "hearing-queens",
   "metadata": {},
   "source": [
    "# Dashboard Idea : \n",
    "1. Create Choropleth to show each airport total density per time \n",
    "    \\n a. Forecast Menu \n",
    "    \\n d. Each year growth \n",
    "    b. Pydeck.gl -> to show density \n",
    "    c. \n",
    "2. Interactive Dashboard to view Flight Route \n",
    "3. Statistics on Delay dll \n",
    "4. Ticket Fare : \n",
    "    a. Forecast Price \n",
    "5. Graph Using NetworkX to show relation betweeen states GEO Region \n",
    "6. Graph to show each airport relation \n",
    "  \n",
    "To relate with airlines company you should search how they minimize cost ? what indicator -> show to them \n",
    "    "
   ]
  },
  {
   "cell_type": "markdown",
   "id": "prerequisite-collection",
   "metadata": {},
   "source": [
    "## Task 1 : Airport Passanger "
   ]
  },
  {
   "cell_type": "code",
   "execution_count": 4,
   "id": "cleared-improvement",
   "metadata": {},
   "outputs": [
    {
     "data": {
      "application/vnd.jupyter.widget-view+json": {
       "model_id": "9ee05cfee71d4f2caba6ae16233545c5"
      },
      "text/html": [
       "<div>\n",
       "<style scoped>\n",
       "    .dataframe tbody tr th:only-of-type {\n",
       "        vertical-align: middle;\n",
       "    }\n",
       "\n",
       "    .dataframe tbody tr th {\n",
       "        vertical-align: top;\n",
       "    }\n",
       "\n",
       "    .dataframe thead th {\n",
       "        text-align: right;\n",
       "    }\n",
       "</style>\n",
       "<table border=\"1\" class=\"dataframe\">\n",
       "  <thead>\n",
       "    <tr style=\"text-align: right;\">\n",
       "      <th></th>\n",
       "      <th>Activity Period</th>\n",
       "      <th>Operating Airline</th>\n",
       "      <th>Operating Airline IATA Code</th>\n",
       "      <th>Published Airline</th>\n",
       "      <th>Published Airline IATA Code</th>\n",
       "      <th>GEO Summary</th>\n",
       "      <th>GEO Region</th>\n",
       "      <th>Activity Type Code</th>\n",
       "      <th>Price Category Code</th>\n",
       "      <th>Terminal</th>\n",
       "      <th>Boarding Area</th>\n",
       "      <th>Passenger Count</th>\n",
       "      <th>Adjusted Activity Type Code</th>\n",
       "      <th>Adjusted Passenger Count</th>\n",
       "      <th>Year</th>\n",
       "      <th>Month</th>\n",
       "    </tr>\n",
       "  </thead>\n",
       "  <tbody>\n",
       "    <tr>\n",
       "      <th>0</th>\n",
       "      <td>200507</td>\n",
       "      <td>ATA Airlines</td>\n",
       "      <td>TZ</td>\n",
       "      <td>ATA Airlines</td>\n",
       "      <td>TZ</td>\n",
       "      <td>Domestic</td>\n",
       "      <td>US</td>\n",
       "      <td>Deplaned</td>\n",
       "      <td>Low Fare</td>\n",
       "      <td>Terminal 1</td>\n",
       "      <td>B</td>\n",
       "      <td>27271</td>\n",
       "      <td>Deplaned</td>\n",
       "      <td>27271</td>\n",
       "      <td>2005</td>\n",
       "      <td>July</td>\n",
       "    </tr>\n",
       "    <tr>\n",
       "      <th>1</th>\n",
       "      <td>200507</td>\n",
       "      <td>ATA Airlines</td>\n",
       "      <td>TZ</td>\n",
       "      <td>ATA Airlines</td>\n",
       "      <td>TZ</td>\n",
       "      <td>Domestic</td>\n",
       "      <td>US</td>\n",
       "      <td>Enplaned</td>\n",
       "      <td>Low Fare</td>\n",
       "      <td>Terminal 1</td>\n",
       "      <td>B</td>\n",
       "      <td>29131</td>\n",
       "      <td>Enplaned</td>\n",
       "      <td>29131</td>\n",
       "      <td>2005</td>\n",
       "      <td>July</td>\n",
       "    </tr>\n",
       "    <tr>\n",
       "      <th>2</th>\n",
       "      <td>200507</td>\n",
       "      <td>ATA Airlines</td>\n",
       "      <td>TZ</td>\n",
       "      <td>ATA Airlines</td>\n",
       "      <td>TZ</td>\n",
       "      <td>Domestic</td>\n",
       "      <td>US</td>\n",
       "      <td>Thru / Transit</td>\n",
       "      <td>Low Fare</td>\n",
       "      <td>Terminal 1</td>\n",
       "      <td>B</td>\n",
       "      <td>5415</td>\n",
       "      <td>Thru / Transit * 2</td>\n",
       "      <td>10830</td>\n",
       "      <td>2005</td>\n",
       "      <td>July</td>\n",
       "    </tr>\n",
       "    <tr>\n",
       "      <th>3</th>\n",
       "      <td>200507</td>\n",
       "      <td>Air Canada</td>\n",
       "      <td>AC</td>\n",
       "      <td>Air Canada</td>\n",
       "      <td>AC</td>\n",
       "      <td>International</td>\n",
       "      <td>Canada</td>\n",
       "      <td>Deplaned</td>\n",
       "      <td>Other</td>\n",
       "      <td>Terminal 1</td>\n",
       "      <td>B</td>\n",
       "      <td>35156</td>\n",
       "      <td>Deplaned</td>\n",
       "      <td>35156</td>\n",
       "      <td>2005</td>\n",
       "      <td>July</td>\n",
       "    </tr>\n",
       "    <tr>\n",
       "      <th>4</th>\n",
       "      <td>200507</td>\n",
       "      <td>Air Canada</td>\n",
       "      <td>AC</td>\n",
       "      <td>Air Canada</td>\n",
       "      <td>AC</td>\n",
       "      <td>International</td>\n",
       "      <td>Canada</td>\n",
       "      <td>Enplaned</td>\n",
       "      <td>Other</td>\n",
       "      <td>Terminal 1</td>\n",
       "      <td>B</td>\n",
       "      <td>34090</td>\n",
       "      <td>Enplaned</td>\n",
       "      <td>34090</td>\n",
       "      <td>2005</td>\n",
       "      <td>July</td>\n",
       "    </tr>\n",
       "    <tr>\n",
       "      <th>...</th>\n",
       "      <td>...</td>\n",
       "      <td>...</td>\n",
       "      <td>...</td>\n",
       "      <td>...</td>\n",
       "      <td>...</td>\n",
       "      <td>...</td>\n",
       "      <td>...</td>\n",
       "      <td>...</td>\n",
       "      <td>...</td>\n",
       "      <td>...</td>\n",
       "      <td>...</td>\n",
       "      <td>...</td>\n",
       "      <td>...</td>\n",
       "      <td>...</td>\n",
       "      <td>...</td>\n",
       "      <td>...</td>\n",
       "    </tr>\n",
       "    <tr>\n",
       "      <th>15002</th>\n",
       "      <td>201603</td>\n",
       "      <td>Virgin America</td>\n",
       "      <td>VX</td>\n",
       "      <td>Virgin America</td>\n",
       "      <td>VX</td>\n",
       "      <td>Domestic</td>\n",
       "      <td>US</td>\n",
       "      <td>Enplaned</td>\n",
       "      <td>Low Fare</td>\n",
       "      <td>Terminal 2</td>\n",
       "      <td>D</td>\n",
       "      <td>194636</td>\n",
       "      <td>Enplaned</td>\n",
       "      <td>194636</td>\n",
       "      <td>2016</td>\n",
       "      <td>March</td>\n",
       "    </tr>\n",
       "    <tr>\n",
       "      <th>15003</th>\n",
       "      <td>201603</td>\n",
       "      <td>Virgin America</td>\n",
       "      <td>VX</td>\n",
       "      <td>Virgin America</td>\n",
       "      <td>VX</td>\n",
       "      <td>International</td>\n",
       "      <td>Mexico</td>\n",
       "      <td>Deplaned</td>\n",
       "      <td>Low Fare</td>\n",
       "      <td>International</td>\n",
       "      <td>A</td>\n",
       "      <td>4189</td>\n",
       "      <td>Deplaned</td>\n",
       "      <td>4189</td>\n",
       "      <td>2016</td>\n",
       "      <td>March</td>\n",
       "    </tr>\n",
       "    <tr>\n",
       "      <th>15004</th>\n",
       "      <td>201603</td>\n",
       "      <td>Virgin America</td>\n",
       "      <td>VX</td>\n",
       "      <td>Virgin America</td>\n",
       "      <td>VX</td>\n",
       "      <td>International</td>\n",
       "      <td>Mexico</td>\n",
       "      <td>Enplaned</td>\n",
       "      <td>Low Fare</td>\n",
       "      <td>Terminal 2</td>\n",
       "      <td>D</td>\n",
       "      <td>4693</td>\n",
       "      <td>Enplaned</td>\n",
       "      <td>4693</td>\n",
       "      <td>2016</td>\n",
       "      <td>March</td>\n",
       "    </tr>\n",
       "    <tr>\n",
       "      <th>15005</th>\n",
       "      <td>201603</td>\n",
       "      <td>Virgin Atlantic</td>\n",
       "      <td>VS</td>\n",
       "      <td>Virgin Atlantic</td>\n",
       "      <td>VS</td>\n",
       "      <td>International</td>\n",
       "      <td>Europe</td>\n",
       "      <td>Deplaned</td>\n",
       "      <td>Other</td>\n",
       "      <td>International</td>\n",
       "      <td>A</td>\n",
       "      <td>12313</td>\n",
       "      <td>Deplaned</td>\n",
       "      <td>12313</td>\n",
       "      <td>2016</td>\n",
       "      <td>March</td>\n",
       "    </tr>\n",
       "    <tr>\n",
       "      <th>15006</th>\n",
       "      <td>201603</td>\n",
       "      <td>Virgin Atlantic</td>\n",
       "      <td>VS</td>\n",
       "      <td>Virgin Atlantic</td>\n",
       "      <td>VS</td>\n",
       "      <td>International</td>\n",
       "      <td>Europe</td>\n",
       "      <td>Enplaned</td>\n",
       "      <td>Other</td>\n",
       "      <td>International</td>\n",
       "      <td>A</td>\n",
       "      <td>10898</td>\n",
       "      <td>Enplaned</td>\n",
       "      <td>10898</td>\n",
       "      <td>2016</td>\n",
       "      <td>March</td>\n",
       "    </tr>\n",
       "  </tbody>\n",
       "</table>\n",
       "<p>15007 rows × 16 columns</p>\n",
       "</div>"
      ],
      "text/plain": [
       "       Activity Period Operating Airline Operating Airline IATA Code  \\\n",
       "0               200507      ATA Airlines                          TZ   \n",
       "1               200507      ATA Airlines                          TZ   \n",
       "2               200507      ATA Airlines                          TZ   \n",
       "3               200507       Air Canada                           AC   \n",
       "4               200507       Air Canada                           AC   \n",
       "...                ...               ...                         ...   \n",
       "15002           201603    Virgin America                          VX   \n",
       "15003           201603    Virgin America                          VX   \n",
       "15004           201603    Virgin America                          VX   \n",
       "15005           201603   Virgin Atlantic                          VS   \n",
       "15006           201603   Virgin Atlantic                          VS   \n",
       "\n",
       "      Published Airline Published Airline IATA Code    GEO Summary GEO Region  \\\n",
       "0          ATA Airlines                          TZ       Domestic         US   \n",
       "1          ATA Airlines                          TZ       Domestic         US   \n",
       "2          ATA Airlines                          TZ       Domestic         US   \n",
       "3           Air Canada                           AC  International     Canada   \n",
       "4           Air Canada                           AC  International     Canada   \n",
       "...                 ...                         ...            ...        ...   \n",
       "15002    Virgin America                          VX       Domestic         US   \n",
       "15003    Virgin America                          VX  International     Mexico   \n",
       "15004    Virgin America                          VX  International     Mexico   \n",
       "15005   Virgin Atlantic                          VS  International     Europe   \n",
       "15006   Virgin Atlantic                          VS  International     Europe   \n",
       "\n",
       "      Activity Type Code Price Category Code       Terminal Boarding Area  \\\n",
       "0               Deplaned            Low Fare     Terminal 1             B   \n",
       "1               Enplaned            Low Fare     Terminal 1             B   \n",
       "2         Thru / Transit            Low Fare     Terminal 1             B   \n",
       "3               Deplaned               Other     Terminal 1             B   \n",
       "4               Enplaned               Other     Terminal 1             B   \n",
       "...                  ...                 ...            ...           ...   \n",
       "15002           Enplaned            Low Fare     Terminal 2             D   \n",
       "15003           Deplaned            Low Fare  International             A   \n",
       "15004           Enplaned            Low Fare     Terminal 2             D   \n",
       "15005           Deplaned               Other  International             A   \n",
       "15006           Enplaned               Other  International             A   \n",
       "\n",
       "       Passenger Count Adjusted Activity Type Code  Adjusted Passenger Count  \\\n",
       "0                27271                    Deplaned                     27271   \n",
       "1                29131                    Enplaned                     29131   \n",
       "2                 5415          Thru / Transit * 2                     10830   \n",
       "3                35156                    Deplaned                     35156   \n",
       "4                34090                    Enplaned                     34090   \n",
       "...                ...                         ...                       ...   \n",
       "15002           194636                    Enplaned                    194636   \n",
       "15003             4189                    Deplaned                      4189   \n",
       "15004             4693                    Enplaned                      4693   \n",
       "15005            12313                    Deplaned                     12313   \n",
       "15006            10898                    Enplaned                     10898   \n",
       "\n",
       "       Year  Month  \n",
       "0      2005   July  \n",
       "1      2005   July  \n",
       "2      2005   July  \n",
       "3      2005   July  \n",
       "4      2005   July  \n",
       "...     ...    ...  \n",
       "15002  2016  March  \n",
       "15003  2016  March  \n",
       "15004  2016  March  \n",
       "15005  2016  March  \n",
       "15006  2016  March  \n",
       "\n",
       "[15007 rows x 16 columns]"
      ]
     },
     "metadata": {},
     "output_type": "display_data"
    }
   ],
   "source": [
    "data['Period'] = data['Activity Period'].astype('string')\n",
    "data = data.drop_duplicates(keep='first')\n",
    "data = data.drop(columns=['Activity Period'])\n",
    "data"
   ]
  },
  {
   "cell_type": "code",
   "execution_count": 5,
   "id": "studied-ranking",
   "metadata": {},
   "outputs": [
    {
     "data": {
      "application/vnd.jupyter.widget-view+json": {
       "model_id": "bd86f9d607ca4db595cf04914ea34864"
      },
      "text/html": [
       "<div>\n",
       "<style scoped>\n",
       "    .dataframe tbody tr th:only-of-type {\n",
       "        vertical-align: middle;\n",
       "    }\n",
       "\n",
       "    .dataframe tbody tr th {\n",
       "        vertical-align: top;\n",
       "    }\n",
       "\n",
       "    .dataframe thead th {\n",
       "        text-align: right;\n",
       "    }\n",
       "</style>\n",
       "<table border=\"1\" class=\"dataframe\">\n",
       "  <thead>\n",
       "    <tr style=\"text-align: right;\">\n",
       "      <th></th>\n",
       "      <th>Operating Airline</th>\n",
       "      <th>Operating Airline IATA Code</th>\n",
       "      <th>Published Airline</th>\n",
       "      <th>Published Airline IATA Code</th>\n",
       "      <th>GEO Summary</th>\n",
       "      <th>GEO Region</th>\n",
       "      <th>Activity Type Code</th>\n",
       "      <th>Price Category Code</th>\n",
       "      <th>Terminal</th>\n",
       "      <th>Boarding Area</th>\n",
       "      <th>Passenger Count</th>\n",
       "      <th>Adjusted Activity Type Code</th>\n",
       "      <th>Adjusted Passenger Count</th>\n",
       "      <th>Year</th>\n",
       "      <th>Month</th>\n",
       "      <th>Period</th>\n",
       "    </tr>\n",
       "  </thead>\n",
       "  <tbody>\n",
       "    <tr>\n",
       "      <th>0</th>\n",
       "      <td>ATA Airlines</td>\n",
       "      <td>TZ</td>\n",
       "      <td>ATA Airlines</td>\n",
       "      <td>TZ</td>\n",
       "      <td>Domestic</td>\n",
       "      <td>US</td>\n",
       "      <td>Deplaned</td>\n",
       "      <td>Low Fare</td>\n",
       "      <td>Terminal 1</td>\n",
       "      <td>B</td>\n",
       "      <td>27271</td>\n",
       "      <td>Deplaned</td>\n",
       "      <td>27271</td>\n",
       "      <td>2005</td>\n",
       "      <td>July</td>\n",
       "      <td>200507</td>\n",
       "    </tr>\n",
       "    <tr>\n",
       "      <th>1</th>\n",
       "      <td>ATA Airlines</td>\n",
       "      <td>TZ</td>\n",
       "      <td>ATA Airlines</td>\n",
       "      <td>TZ</td>\n",
       "      <td>Domestic</td>\n",
       "      <td>US</td>\n",
       "      <td>Enplaned</td>\n",
       "      <td>Low Fare</td>\n",
       "      <td>Terminal 1</td>\n",
       "      <td>B</td>\n",
       "      <td>29131</td>\n",
       "      <td>Enplaned</td>\n",
       "      <td>29131</td>\n",
       "      <td>2005</td>\n",
       "      <td>July</td>\n",
       "      <td>200507</td>\n",
       "    </tr>\n",
       "    <tr>\n",
       "      <th>2</th>\n",
       "      <td>ATA Airlines</td>\n",
       "      <td>TZ</td>\n",
       "      <td>ATA Airlines</td>\n",
       "      <td>TZ</td>\n",
       "      <td>Domestic</td>\n",
       "      <td>US</td>\n",
       "      <td>Thru / Transit</td>\n",
       "      <td>Low Fare</td>\n",
       "      <td>Terminal 1</td>\n",
       "      <td>B</td>\n",
       "      <td>5415</td>\n",
       "      <td>Thru / Transit * 2</td>\n",
       "      <td>10830</td>\n",
       "      <td>2005</td>\n",
       "      <td>July</td>\n",
       "      <td>200507</td>\n",
       "    </tr>\n",
       "    <tr>\n",
       "      <th>3</th>\n",
       "      <td>Air Canada</td>\n",
       "      <td>AC</td>\n",
       "      <td>Air Canada</td>\n",
       "      <td>AC</td>\n",
       "      <td>International</td>\n",
       "      <td>Canada</td>\n",
       "      <td>Deplaned</td>\n",
       "      <td>Other</td>\n",
       "      <td>Terminal 1</td>\n",
       "      <td>B</td>\n",
       "      <td>35156</td>\n",
       "      <td>Deplaned</td>\n",
       "      <td>35156</td>\n",
       "      <td>2005</td>\n",
       "      <td>July</td>\n",
       "      <td>200507</td>\n",
       "    </tr>\n",
       "    <tr>\n",
       "      <th>4</th>\n",
       "      <td>Air Canada</td>\n",
       "      <td>AC</td>\n",
       "      <td>Air Canada</td>\n",
       "      <td>AC</td>\n",
       "      <td>International</td>\n",
       "      <td>Canada</td>\n",
       "      <td>Enplaned</td>\n",
       "      <td>Other</td>\n",
       "      <td>Terminal 1</td>\n",
       "      <td>B</td>\n",
       "      <td>34090</td>\n",
       "      <td>Enplaned</td>\n",
       "      <td>34090</td>\n",
       "      <td>2005</td>\n",
       "      <td>July</td>\n",
       "      <td>200507</td>\n",
       "    </tr>\n",
       "    <tr>\n",
       "      <th>...</th>\n",
       "      <td>...</td>\n",
       "      <td>...</td>\n",
       "      <td>...</td>\n",
       "      <td>...</td>\n",
       "      <td>...</td>\n",
       "      <td>...</td>\n",
       "      <td>...</td>\n",
       "      <td>...</td>\n",
       "      <td>...</td>\n",
       "      <td>...</td>\n",
       "      <td>...</td>\n",
       "      <td>...</td>\n",
       "      <td>...</td>\n",
       "      <td>...</td>\n",
       "      <td>...</td>\n",
       "      <td>...</td>\n",
       "    </tr>\n",
       "    <tr>\n",
       "      <th>15002</th>\n",
       "      <td>Virgin America</td>\n",
       "      <td>VX</td>\n",
       "      <td>Virgin America</td>\n",
       "      <td>VX</td>\n",
       "      <td>Domestic</td>\n",
       "      <td>US</td>\n",
       "      <td>Enplaned</td>\n",
       "      <td>Low Fare</td>\n",
       "      <td>Terminal 2</td>\n",
       "      <td>D</td>\n",
       "      <td>194636</td>\n",
       "      <td>Enplaned</td>\n",
       "      <td>194636</td>\n",
       "      <td>2016</td>\n",
       "      <td>March</td>\n",
       "      <td>201603</td>\n",
       "    </tr>\n",
       "    <tr>\n",
       "      <th>15003</th>\n",
       "      <td>Virgin America</td>\n",
       "      <td>VX</td>\n",
       "      <td>Virgin America</td>\n",
       "      <td>VX</td>\n",
       "      <td>International</td>\n",
       "      <td>Mexico</td>\n",
       "      <td>Deplaned</td>\n",
       "      <td>Low Fare</td>\n",
       "      <td>International</td>\n",
       "      <td>A</td>\n",
       "      <td>4189</td>\n",
       "      <td>Deplaned</td>\n",
       "      <td>4189</td>\n",
       "      <td>2016</td>\n",
       "      <td>March</td>\n",
       "      <td>201603</td>\n",
       "    </tr>\n",
       "    <tr>\n",
       "      <th>15004</th>\n",
       "      <td>Virgin America</td>\n",
       "      <td>VX</td>\n",
       "      <td>Virgin America</td>\n",
       "      <td>VX</td>\n",
       "      <td>International</td>\n",
       "      <td>Mexico</td>\n",
       "      <td>Enplaned</td>\n",
       "      <td>Low Fare</td>\n",
       "      <td>Terminal 2</td>\n",
       "      <td>D</td>\n",
       "      <td>4693</td>\n",
       "      <td>Enplaned</td>\n",
       "      <td>4693</td>\n",
       "      <td>2016</td>\n",
       "      <td>March</td>\n",
       "      <td>201603</td>\n",
       "    </tr>\n",
       "    <tr>\n",
       "      <th>15005</th>\n",
       "      <td>Virgin Atlantic</td>\n",
       "      <td>VS</td>\n",
       "      <td>Virgin Atlantic</td>\n",
       "      <td>VS</td>\n",
       "      <td>International</td>\n",
       "      <td>Europe</td>\n",
       "      <td>Deplaned</td>\n",
       "      <td>Other</td>\n",
       "      <td>International</td>\n",
       "      <td>A</td>\n",
       "      <td>12313</td>\n",
       "      <td>Deplaned</td>\n",
       "      <td>12313</td>\n",
       "      <td>2016</td>\n",
       "      <td>March</td>\n",
       "      <td>201603</td>\n",
       "    </tr>\n",
       "    <tr>\n",
       "      <th>15006</th>\n",
       "      <td>Virgin Atlantic</td>\n",
       "      <td>VS</td>\n",
       "      <td>Virgin Atlantic</td>\n",
       "      <td>VS</td>\n",
       "      <td>International</td>\n",
       "      <td>Europe</td>\n",
       "      <td>Enplaned</td>\n",
       "      <td>Other</td>\n",
       "      <td>International</td>\n",
       "      <td>A</td>\n",
       "      <td>10898</td>\n",
       "      <td>Enplaned</td>\n",
       "      <td>10898</td>\n",
       "      <td>2016</td>\n",
       "      <td>March</td>\n",
       "      <td>201603</td>\n",
       "    </tr>\n",
       "  </tbody>\n",
       "</table>\n",
       "<p>15007 rows × 16 columns</p>\n",
       "</div>"
      ],
      "text/plain": [
       "      Operating Airline Operating Airline IATA Code Published Airline  \\\n",
       "0          ATA Airlines                          TZ      ATA Airlines   \n",
       "1          ATA Airlines                          TZ      ATA Airlines   \n",
       "2          ATA Airlines                          TZ      ATA Airlines   \n",
       "3           Air Canada                           AC       Air Canada    \n",
       "4           Air Canada                           AC       Air Canada    \n",
       "...                 ...                         ...               ...   \n",
       "15002    Virgin America                          VX    Virgin America   \n",
       "15003    Virgin America                          VX    Virgin America   \n",
       "15004    Virgin America                          VX    Virgin America   \n",
       "15005   Virgin Atlantic                          VS   Virgin Atlantic   \n",
       "15006   Virgin Atlantic                          VS   Virgin Atlantic   \n",
       "\n",
       "      Published Airline IATA Code    GEO Summary GEO Region  \\\n",
       "0                              TZ       Domestic         US   \n",
       "1                              TZ       Domestic         US   \n",
       "2                              TZ       Domestic         US   \n",
       "3                              AC  International     Canada   \n",
       "4                              AC  International     Canada   \n",
       "...                           ...            ...        ...   \n",
       "15002                          VX       Domestic         US   \n",
       "15003                          VX  International     Mexico   \n",
       "15004                          VX  International     Mexico   \n",
       "15005                          VS  International     Europe   \n",
       "15006                          VS  International     Europe   \n",
       "\n",
       "      Activity Type Code Price Category Code       Terminal Boarding Area  \\\n",
       "0               Deplaned            Low Fare     Terminal 1             B   \n",
       "1               Enplaned            Low Fare     Terminal 1             B   \n",
       "2         Thru / Transit            Low Fare     Terminal 1             B   \n",
       "3               Deplaned               Other     Terminal 1             B   \n",
       "4               Enplaned               Other     Terminal 1             B   \n",
       "...                  ...                 ...            ...           ...   \n",
       "15002           Enplaned            Low Fare     Terminal 2             D   \n",
       "15003           Deplaned            Low Fare  International             A   \n",
       "15004           Enplaned            Low Fare     Terminal 2             D   \n",
       "15005           Deplaned               Other  International             A   \n",
       "15006           Enplaned               Other  International             A   \n",
       "\n",
       "       Passenger Count Adjusted Activity Type Code  Adjusted Passenger Count  \\\n",
       "0                27271                    Deplaned                     27271   \n",
       "1                29131                    Enplaned                     29131   \n",
       "2                 5415          Thru / Transit * 2                     10830   \n",
       "3                35156                    Deplaned                     35156   \n",
       "4                34090                    Enplaned                     34090   \n",
       "...                ...                         ...                       ...   \n",
       "15002           194636                    Enplaned                    194636   \n",
       "15003             4189                    Deplaned                      4189   \n",
       "15004             4693                    Enplaned                      4693   \n",
       "15005            12313                    Deplaned                     12313   \n",
       "15006            10898                    Enplaned                     10898   \n",
       "\n",
       "       Year  Month  Period  \n",
       "0      2005   July  200507  \n",
       "1      2005   July  200507  \n",
       "2      2005   July  200507  \n",
       "3      2005   July  200507  \n",
       "4      2005   July  200507  \n",
       "...     ...    ...     ...  \n",
       "15002  2016  March  201603  \n",
       "15003  2016  March  201603  \n",
       "15004  2016  March  201603  \n",
       "15005  2016  March  201603  \n",
       "15006  2016  March  201603  \n",
       "\n",
       "[15007 rows x 16 columns]"
      ]
     },
     "metadata": {},
     "output_type": "display_data"
    }
   ],
   "source": [
    "passanger_count_group_period = data.groupby(['Period']).agg(**{'Passenger Count_sum': ('Passenger Count', 'sum')}).reset_index()\n",
    "passanger_count_group_period['Period'] = pd.to_datetime(passanger_count_group_period['Period'], format='%Y%m')\n",
    "passanger_count_group_period"
   ]
  },
  {
   "cell_type": "markdown",
   "id": "reflected-division",
   "metadata": {},
   "source": [
    "### In order to know the airline industry better you should read this : \n",
    "1. https://visiblealpha.com/kpi-guides/airline-kpis/\n",
    "2. https://www.id1.de/2019/10/25/6-most-important-kpis-for-airline-operations-and-performance-analysis/\n",
    "\n",
    "\n",
    "TLDR, Article no 2 : most of this indicator are not available in our dataset \n",
    "1. Departure Punctuality \n",
    "2. Regularity \n",
    "3. Delay Reasons\n",
    "4. Seat Load Factor \n",
    "5. Arrival Punctuality -> Ketepatan Waktu +- 15 Menit dari Jadwal % from all operated flights \n",
    "6. Misconnex Quota "
   ]
  },
  {
   "cell_type": "code",
   "execution_count": 23,
   "id": "dynamic-annex",
   "metadata": {},
   "outputs": [
    {
     "data": {
      "application/vnd.plotly.v1+json": {
       "config": {
        "plotlyServerURL": "https://plot.ly"
       },
       "data": [
        {
         "hovertemplate": "Period=%{x}<br>Passenger Count_sum=%{y}<extra></extra>",
         "legendgroup": "",
         "line": {
          "color": "#050505",
          "dash": "solid"
         },
         "marker": {
          "symbol": "circle"
         },
         "mode": "lines",
         "name": "",
         "orientation": "v",
         "showlegend": false,
         "type": "scatter",
         "x": [
          "2005-07-01T00:00:00",
          "2005-08-01T00:00:00",
          "2005-09-01T00:00:00",
          "2005-10-01T00:00:00",
          "2005-11-01T00:00:00",
          "2005-12-01T00:00:00",
          "2006-01-01T00:00:00",
          "2006-02-01T00:00:00",
          "2006-03-01T00:00:00",
          "2006-04-01T00:00:00",
          "2006-05-01T00:00:00",
          "2006-06-01T00:00:00",
          "2006-07-01T00:00:00",
          "2006-08-01T00:00:00",
          "2006-09-01T00:00:00",
          "2006-10-01T00:00:00",
          "2006-11-01T00:00:00",
          "2006-12-01T00:00:00",
          "2007-01-01T00:00:00",
          "2007-02-01T00:00:00",
          "2007-03-01T00:00:00",
          "2007-04-01T00:00:00",
          "2007-05-01T00:00:00",
          "2007-06-01T00:00:00",
          "2007-07-01T00:00:00",
          "2007-08-01T00:00:00",
          "2007-09-01T00:00:00",
          "2007-10-01T00:00:00",
          "2007-11-01T00:00:00",
          "2007-12-01T00:00:00",
          "2008-01-01T00:00:00",
          "2008-02-01T00:00:00",
          "2008-03-01T00:00:00",
          "2008-04-01T00:00:00",
          "2008-05-01T00:00:00",
          "2008-06-01T00:00:00",
          "2008-07-01T00:00:00",
          "2008-08-01T00:00:00",
          "2008-09-01T00:00:00",
          "2008-10-01T00:00:00",
          "2008-11-01T00:00:00",
          "2008-12-01T00:00:00",
          "2009-01-01T00:00:00",
          "2009-02-01T00:00:00",
          "2009-03-01T00:00:00",
          "2009-04-01T00:00:00",
          "2009-05-01T00:00:00",
          "2009-06-01T00:00:00",
          "2009-07-01T00:00:00",
          "2009-08-01T00:00:00",
          "2009-09-01T00:00:00",
          "2009-10-01T00:00:00",
          "2009-11-01T00:00:00",
          "2009-12-01T00:00:00",
          "2010-01-01T00:00:00",
          "2010-02-01T00:00:00",
          "2010-03-01T00:00:00",
          "2010-04-01T00:00:00",
          "2010-05-01T00:00:00",
          "2010-06-01T00:00:00",
          "2010-07-01T00:00:00",
          "2010-08-01T00:00:00",
          "2010-09-01T00:00:00",
          "2010-10-01T00:00:00",
          "2010-11-01T00:00:00",
          "2010-12-01T00:00:00",
          "2011-01-01T00:00:00",
          "2011-02-01T00:00:00",
          "2011-03-01T00:00:00",
          "2011-04-01T00:00:00",
          "2011-05-01T00:00:00",
          "2011-06-01T00:00:00",
          "2011-07-01T00:00:00",
          "2011-08-01T00:00:00",
          "2011-09-01T00:00:00",
          "2011-10-01T00:00:00",
          "2011-11-01T00:00:00",
          "2011-12-01T00:00:00",
          "2012-01-01T00:00:00",
          "2012-02-01T00:00:00",
          "2012-03-01T00:00:00",
          "2012-04-01T00:00:00",
          "2012-05-01T00:00:00",
          "2012-06-01T00:00:00",
          "2012-07-01T00:00:00",
          "2012-08-01T00:00:00",
          "2012-09-01T00:00:00",
          "2012-10-01T00:00:00",
          "2012-11-01T00:00:00",
          "2012-12-01T00:00:00",
          "2013-01-01T00:00:00",
          "2013-02-01T00:00:00",
          "2013-03-01T00:00:00",
          "2013-04-01T00:00:00",
          "2013-05-01T00:00:00",
          "2013-06-01T00:00:00",
          "2013-07-01T00:00:00",
          "2013-08-01T00:00:00",
          "2013-09-01T00:00:00",
          "2013-10-01T00:00:00",
          "2013-11-01T00:00:00",
          "2013-12-01T00:00:00",
          "2014-01-01T00:00:00",
          "2014-02-01T00:00:00",
          "2014-03-01T00:00:00",
          "2014-04-01T00:00:00",
          "2014-05-01T00:00:00",
          "2014-06-01T00:00:00",
          "2014-07-01T00:00:00",
          "2014-08-01T00:00:00",
          "2014-09-01T00:00:00",
          "2014-10-01T00:00:00",
          "2014-11-01T00:00:00",
          "2014-12-01T00:00:00",
          "2015-01-01T00:00:00",
          "2015-02-01T00:00:00",
          "2015-03-01T00:00:00",
          "2015-04-01T00:00:00",
          "2015-05-01T00:00:00",
          "2015-06-01T00:00:00",
          "2015-07-01T00:00:00",
          "2015-08-01T00:00:00",
          "2015-09-01T00:00:00",
          "2015-10-01T00:00:00",
          "2015-11-01T00:00:00",
          "2015-12-01T00:00:00",
          "2016-01-01T00:00:00",
          "2016-02-01T00:00:00",
          "2016-03-01T00:00:00"
         ],
         "xaxis": "x",
         "y": [
          3225769,
          3195866,
          2740553,
          2770715,
          2617333,
          2671797,
          2448889,
          2223024,
          2708778,
          2773293,
          2829000,
          3071396,
          3227605,
          3143839,
          2720100,
          2834959,
          2653887,
          2698200,
          2507430,
          2304990,
          2820085,
          2869247,
          3056934,
          3263621,
          3382382,
          3436417,
          2957530,
          3129309,
          2922500,
          2903637,
          2670053,
          2595676,
          3127387,
          3029021,
          3305954,
          3453751,
          3603946,
          3612297,
          3004720,
          3124451,
          2744485,
          2962937,
          2644539,
          2359800,
          2925918,
          3024973,
          3177100,
          3419595,
          3649702,
          3650668,
          3191526,
          3249428,
          2971484,
          3074209,
          2785466,
          2515361,
          3105958,
          3139059,
          3380355,
          3612886,
          3765824,
          3771842,
          3356365,
          3490100,
          3163659,
          3167124,
          2883810,
          2610667,
          3129205,
          3200527,
          3547804,
          3766323,
          3935589,
          3917884,
          3564970,
          3602455,
          3326859,
          3441693,
          3211600,
          2998119,
          3472440,
          3563007,
          3820570,
          4107195,
          4284443,
          4356216,
          3819379,
          3844987,
          3478890,
          3443039,
          3204637,
          2966477,
          3593364,
          3604104,
          3933016,
          4146797,
          4176486,
          4347059,
          3781168,
          3910790,
          3466878,
          3814984,
          3432625,
          3078405,
          3765504,
          3881893,
          4147096,
          4321833,
          4499221,
          4524918,
          3919072,
          4059443,
          3628786,
          3855835,
          3550084,
          3248144,
          4001521,
          4021677,
          4361140,
          4558511,
          4801148,
          4796653,
          4201394,
          4374749,
          4013814,
          4129052,
          3748529,
          3543639,
          4137679
         ],
         "yaxis": "y"
        },
        {
         "hovertemplate": "Period=%{x}<br>Passenger Count_sum=%{y}<extra></extra>",
         "legendgroup": "",
         "line": {
          "color": "#050505"
         },
         "marker": {
          "color": "#636efa",
          "symbol": "circle"
         },
         "mode": "markers",
         "name": "",
         "orientation": "v",
         "showlegend": false,
         "type": "scatter",
         "x": [
          "2005-07-01T00:00:00",
          "2005-08-01T00:00:00",
          "2005-09-01T00:00:00",
          "2005-10-01T00:00:00",
          "2005-11-01T00:00:00",
          "2005-12-01T00:00:00",
          "2006-01-01T00:00:00",
          "2006-02-01T00:00:00",
          "2006-03-01T00:00:00",
          "2006-04-01T00:00:00",
          "2006-05-01T00:00:00",
          "2006-06-01T00:00:00",
          "2006-07-01T00:00:00",
          "2006-08-01T00:00:00",
          "2006-09-01T00:00:00",
          "2006-10-01T00:00:00",
          "2006-11-01T00:00:00",
          "2006-12-01T00:00:00",
          "2007-01-01T00:00:00",
          "2007-02-01T00:00:00",
          "2007-03-01T00:00:00",
          "2007-04-01T00:00:00",
          "2007-05-01T00:00:00",
          "2007-06-01T00:00:00",
          "2007-07-01T00:00:00",
          "2007-08-01T00:00:00",
          "2007-09-01T00:00:00",
          "2007-10-01T00:00:00",
          "2007-11-01T00:00:00",
          "2007-12-01T00:00:00",
          "2008-01-01T00:00:00",
          "2008-02-01T00:00:00",
          "2008-03-01T00:00:00",
          "2008-04-01T00:00:00",
          "2008-05-01T00:00:00",
          "2008-06-01T00:00:00",
          "2008-07-01T00:00:00",
          "2008-08-01T00:00:00",
          "2008-09-01T00:00:00",
          "2008-10-01T00:00:00",
          "2008-11-01T00:00:00",
          "2008-12-01T00:00:00",
          "2009-01-01T00:00:00",
          "2009-02-01T00:00:00",
          "2009-03-01T00:00:00",
          "2009-04-01T00:00:00",
          "2009-05-01T00:00:00",
          "2009-06-01T00:00:00",
          "2009-07-01T00:00:00",
          "2009-08-01T00:00:00",
          "2009-09-01T00:00:00",
          "2009-10-01T00:00:00",
          "2009-11-01T00:00:00",
          "2009-12-01T00:00:00",
          "2010-01-01T00:00:00",
          "2010-02-01T00:00:00",
          "2010-03-01T00:00:00",
          "2010-04-01T00:00:00",
          "2010-05-01T00:00:00",
          "2010-06-01T00:00:00",
          "2010-07-01T00:00:00",
          "2010-08-01T00:00:00",
          "2010-09-01T00:00:00",
          "2010-10-01T00:00:00",
          "2010-11-01T00:00:00",
          "2010-12-01T00:00:00",
          "2011-01-01T00:00:00",
          "2011-02-01T00:00:00",
          "2011-03-01T00:00:00",
          "2011-04-01T00:00:00",
          "2011-05-01T00:00:00",
          "2011-06-01T00:00:00",
          "2011-07-01T00:00:00",
          "2011-08-01T00:00:00",
          "2011-09-01T00:00:00",
          "2011-10-01T00:00:00",
          "2011-11-01T00:00:00",
          "2011-12-01T00:00:00",
          "2012-01-01T00:00:00",
          "2012-02-01T00:00:00",
          "2012-03-01T00:00:00",
          "2012-04-01T00:00:00",
          "2012-05-01T00:00:00",
          "2012-06-01T00:00:00",
          "2012-07-01T00:00:00",
          "2012-08-01T00:00:00",
          "2012-09-01T00:00:00",
          "2012-10-01T00:00:00",
          "2012-11-01T00:00:00",
          "2012-12-01T00:00:00",
          "2013-01-01T00:00:00",
          "2013-02-01T00:00:00",
          "2013-03-01T00:00:00",
          "2013-04-01T00:00:00",
          "2013-05-01T00:00:00",
          "2013-06-01T00:00:00",
          "2013-07-01T00:00:00",
          "2013-08-01T00:00:00",
          "2013-09-01T00:00:00",
          "2013-10-01T00:00:00",
          "2013-11-01T00:00:00",
          "2013-12-01T00:00:00",
          "2014-01-01T00:00:00",
          "2014-02-01T00:00:00",
          "2014-03-01T00:00:00",
          "2014-04-01T00:00:00",
          "2014-05-01T00:00:00",
          "2014-06-01T00:00:00",
          "2014-07-01T00:00:00",
          "2014-08-01T00:00:00",
          "2014-09-01T00:00:00",
          "2014-10-01T00:00:00",
          "2014-11-01T00:00:00",
          "2014-12-01T00:00:00",
          "2015-01-01T00:00:00",
          "2015-02-01T00:00:00",
          "2015-03-01T00:00:00",
          "2015-04-01T00:00:00",
          "2015-05-01T00:00:00",
          "2015-06-01T00:00:00",
          "2015-07-01T00:00:00",
          "2015-08-01T00:00:00",
          "2015-09-01T00:00:00",
          "2015-10-01T00:00:00",
          "2015-11-01T00:00:00",
          "2015-12-01T00:00:00",
          "2016-01-01T00:00:00",
          "2016-02-01T00:00:00",
          "2016-03-01T00:00:00"
         ],
         "xaxis": "x",
         "y": [
          3225769,
          3195866,
          2740553,
          2770715,
          2617333,
          2671797,
          2448889,
          2223024,
          2708778,
          2773293,
          2829000,
          3071396,
          3227605,
          3143839,
          2720100,
          2834959,
          2653887,
          2698200,
          2507430,
          2304990,
          2820085,
          2869247,
          3056934,
          3263621,
          3382382,
          3436417,
          2957530,
          3129309,
          2922500,
          2903637,
          2670053,
          2595676,
          3127387,
          3029021,
          3305954,
          3453751,
          3603946,
          3612297,
          3004720,
          3124451,
          2744485,
          2962937,
          2644539,
          2359800,
          2925918,
          3024973,
          3177100,
          3419595,
          3649702,
          3650668,
          3191526,
          3249428,
          2971484,
          3074209,
          2785466,
          2515361,
          3105958,
          3139059,
          3380355,
          3612886,
          3765824,
          3771842,
          3356365,
          3490100,
          3163659,
          3167124,
          2883810,
          2610667,
          3129205,
          3200527,
          3547804,
          3766323,
          3935589,
          3917884,
          3564970,
          3602455,
          3326859,
          3441693,
          3211600,
          2998119,
          3472440,
          3563007,
          3820570,
          4107195,
          4284443,
          4356216,
          3819379,
          3844987,
          3478890,
          3443039,
          3204637,
          2966477,
          3593364,
          3604104,
          3933016,
          4146797,
          4176486,
          4347059,
          3781168,
          3910790,
          3466878,
          3814984,
          3432625,
          3078405,
          3765504,
          3881893,
          4147096,
          4321833,
          4499221,
          4524918,
          3919072,
          4059443,
          3628786,
          3855835,
          3550084,
          3248144,
          4001521,
          4021677,
          4361140,
          4558511,
          4801148,
          4796653,
          4201394,
          4374749,
          4013814,
          4129052,
          3748529,
          3543639,
          4137679
         ],
         "yaxis": "y"
        }
       ],
       "layout": {
        "height": 500,
        "margin": {
         "b": 30,
         "l": 20,
         "pad": 4,
         "r": 20,
         "t": 50
        },
        "paper_bgcolor": "LightSteelBlue",
        "template": {
         "data": {
          "bar": [
           {
            "error_x": {
             "color": "#2a3f5f"
            },
            "error_y": {
             "color": "#2a3f5f"
            },
            "marker": {
             "line": {
              "color": "#E5ECF6",
              "width": 0.5
             },
             "pattern": {
              "fillmode": "overlay",
              "size": 10,
              "solidity": 0.2
             }
            },
            "type": "bar"
           }
          ],
          "barpolar": [
           {
            "marker": {
             "line": {
              "color": "#E5ECF6",
              "width": 0.5
             },
             "pattern": {
              "fillmode": "overlay",
              "size": 10,
              "solidity": 0.2
             }
            },
            "type": "barpolar"
           }
          ],
          "carpet": [
           {
            "aaxis": {
             "endlinecolor": "#2a3f5f",
             "gridcolor": "white",
             "linecolor": "white",
             "minorgridcolor": "white",
             "startlinecolor": "#2a3f5f"
            },
            "baxis": {
             "endlinecolor": "#2a3f5f",
             "gridcolor": "white",
             "linecolor": "white",
             "minorgridcolor": "white",
             "startlinecolor": "#2a3f5f"
            },
            "type": "carpet"
           }
          ],
          "choropleth": [
           {
            "colorbar": {
             "outlinewidth": 0,
             "ticks": ""
            },
            "type": "choropleth"
           }
          ],
          "contour": [
           {
            "colorbar": {
             "outlinewidth": 0,
             "ticks": ""
            },
            "colorscale": [
             [
              0,
              "#0d0887"
             ],
             [
              0.1111111111111111,
              "#46039f"
             ],
             [
              0.2222222222222222,
              "#7201a8"
             ],
             [
              0.3333333333333333,
              "#9c179e"
             ],
             [
              0.4444444444444444,
              "#bd3786"
             ],
             [
              0.5555555555555556,
              "#d8576b"
             ],
             [
              0.6666666666666666,
              "#ed7953"
             ],
             [
              0.7777777777777778,
              "#fb9f3a"
             ],
             [
              0.8888888888888888,
              "#fdca26"
             ],
             [
              1,
              "#f0f921"
             ]
            ],
            "type": "contour"
           }
          ],
          "contourcarpet": [
           {
            "colorbar": {
             "outlinewidth": 0,
             "ticks": ""
            },
            "type": "contourcarpet"
           }
          ],
          "heatmap": [
           {
            "colorbar": {
             "outlinewidth": 0,
             "ticks": ""
            },
            "colorscale": [
             [
              0,
              "#0d0887"
             ],
             [
              0.1111111111111111,
              "#46039f"
             ],
             [
              0.2222222222222222,
              "#7201a8"
             ],
             [
              0.3333333333333333,
              "#9c179e"
             ],
             [
              0.4444444444444444,
              "#bd3786"
             ],
             [
              0.5555555555555556,
              "#d8576b"
             ],
             [
              0.6666666666666666,
              "#ed7953"
             ],
             [
              0.7777777777777778,
              "#fb9f3a"
             ],
             [
              0.8888888888888888,
              "#fdca26"
             ],
             [
              1,
              "#f0f921"
             ]
            ],
            "type": "heatmap"
           }
          ],
          "heatmapgl": [
           {
            "colorbar": {
             "outlinewidth": 0,
             "ticks": ""
            },
            "colorscale": [
             [
              0,
              "#0d0887"
             ],
             [
              0.1111111111111111,
              "#46039f"
             ],
             [
              0.2222222222222222,
              "#7201a8"
             ],
             [
              0.3333333333333333,
              "#9c179e"
             ],
             [
              0.4444444444444444,
              "#bd3786"
             ],
             [
              0.5555555555555556,
              "#d8576b"
             ],
             [
              0.6666666666666666,
              "#ed7953"
             ],
             [
              0.7777777777777778,
              "#fb9f3a"
             ],
             [
              0.8888888888888888,
              "#fdca26"
             ],
             [
              1,
              "#f0f921"
             ]
            ],
            "type": "heatmapgl"
           }
          ],
          "histogram": [
           {
            "marker": {
             "pattern": {
              "fillmode": "overlay",
              "size": 10,
              "solidity": 0.2
             }
            },
            "type": "histogram"
           }
          ],
          "histogram2d": [
           {
            "colorbar": {
             "outlinewidth": 0,
             "ticks": ""
            },
            "colorscale": [
             [
              0,
              "#0d0887"
             ],
             [
              0.1111111111111111,
              "#46039f"
             ],
             [
              0.2222222222222222,
              "#7201a8"
             ],
             [
              0.3333333333333333,
              "#9c179e"
             ],
             [
              0.4444444444444444,
              "#bd3786"
             ],
             [
              0.5555555555555556,
              "#d8576b"
             ],
             [
              0.6666666666666666,
              "#ed7953"
             ],
             [
              0.7777777777777778,
              "#fb9f3a"
             ],
             [
              0.8888888888888888,
              "#fdca26"
             ],
             [
              1,
              "#f0f921"
             ]
            ],
            "type": "histogram2d"
           }
          ],
          "histogram2dcontour": [
           {
            "colorbar": {
             "outlinewidth": 0,
             "ticks": ""
            },
            "colorscale": [
             [
              0,
              "#0d0887"
             ],
             [
              0.1111111111111111,
              "#46039f"
             ],
             [
              0.2222222222222222,
              "#7201a8"
             ],
             [
              0.3333333333333333,
              "#9c179e"
             ],
             [
              0.4444444444444444,
              "#bd3786"
             ],
             [
              0.5555555555555556,
              "#d8576b"
             ],
             [
              0.6666666666666666,
              "#ed7953"
             ],
             [
              0.7777777777777778,
              "#fb9f3a"
             ],
             [
              0.8888888888888888,
              "#fdca26"
             ],
             [
              1,
              "#f0f921"
             ]
            ],
            "type": "histogram2dcontour"
           }
          ],
          "mesh3d": [
           {
            "colorbar": {
             "outlinewidth": 0,
             "ticks": ""
            },
            "type": "mesh3d"
           }
          ],
          "parcoords": [
           {
            "line": {
             "colorbar": {
              "outlinewidth": 0,
              "ticks": ""
             }
            },
            "type": "parcoords"
           }
          ],
          "pie": [
           {
            "automargin": true,
            "type": "pie"
           }
          ],
          "scatter": [
           {
            "marker": {
             "colorbar": {
              "outlinewidth": 0,
              "ticks": ""
             }
            },
            "type": "scatter"
           }
          ],
          "scatter3d": [
           {
            "line": {
             "colorbar": {
              "outlinewidth": 0,
              "ticks": ""
             }
            },
            "marker": {
             "colorbar": {
              "outlinewidth": 0,
              "ticks": ""
             }
            },
            "type": "scatter3d"
           }
          ],
          "scattercarpet": [
           {
            "marker": {
             "colorbar": {
              "outlinewidth": 0,
              "ticks": ""
             }
            },
            "type": "scattercarpet"
           }
          ],
          "scattergeo": [
           {
            "marker": {
             "colorbar": {
              "outlinewidth": 0,
              "ticks": ""
             }
            },
            "type": "scattergeo"
           }
          ],
          "scattergl": [
           {
            "marker": {
             "colorbar": {
              "outlinewidth": 0,
              "ticks": ""
             }
            },
            "type": "scattergl"
           }
          ],
          "scattermapbox": [
           {
            "marker": {
             "colorbar": {
              "outlinewidth": 0,
              "ticks": ""
             }
            },
            "type": "scattermapbox"
           }
          ],
          "scatterpolar": [
           {
            "marker": {
             "colorbar": {
              "outlinewidth": 0,
              "ticks": ""
             }
            },
            "type": "scatterpolar"
           }
          ],
          "scatterpolargl": [
           {
            "marker": {
             "colorbar": {
              "outlinewidth": 0,
              "ticks": ""
             }
            },
            "type": "scatterpolargl"
           }
          ],
          "scatterternary": [
           {
            "marker": {
             "colorbar": {
              "outlinewidth": 0,
              "ticks": ""
             }
            },
            "type": "scatterternary"
           }
          ],
          "surface": [
           {
            "colorbar": {
             "outlinewidth": 0,
             "ticks": ""
            },
            "colorscale": [
             [
              0,
              "#0d0887"
             ],
             [
              0.1111111111111111,
              "#46039f"
             ],
             [
              0.2222222222222222,
              "#7201a8"
             ],
             [
              0.3333333333333333,
              "#9c179e"
             ],
             [
              0.4444444444444444,
              "#bd3786"
             ],
             [
              0.5555555555555556,
              "#d8576b"
             ],
             [
              0.6666666666666666,
              "#ed7953"
             ],
             [
              0.7777777777777778,
              "#fb9f3a"
             ],
             [
              0.8888888888888888,
              "#fdca26"
             ],
             [
              1,
              "#f0f921"
             ]
            ],
            "type": "surface"
           }
          ],
          "table": [
           {
            "cells": {
             "fill": {
              "color": "#EBF0F8"
             },
             "line": {
              "color": "white"
             }
            },
            "header": {
             "fill": {
              "color": "#C8D4E3"
             },
             "line": {
              "color": "white"
             }
            },
            "type": "table"
           }
          ]
         },
         "layout": {
          "annotationdefaults": {
           "arrowcolor": "#2a3f5f",
           "arrowhead": 0,
           "arrowwidth": 1
          },
          "autotypenumbers": "strict",
          "coloraxis": {
           "colorbar": {
            "outlinewidth": 0,
            "ticks": ""
           }
          },
          "colorscale": {
           "diverging": [
            [
             0,
             "#8e0152"
            ],
            [
             0.1,
             "#c51b7d"
            ],
            [
             0.2,
             "#de77ae"
            ],
            [
             0.3,
             "#f1b6da"
            ],
            [
             0.4,
             "#fde0ef"
            ],
            [
             0.5,
             "#f7f7f7"
            ],
            [
             0.6,
             "#e6f5d0"
            ],
            [
             0.7,
             "#b8e186"
            ],
            [
             0.8,
             "#7fbc41"
            ],
            [
             0.9,
             "#4d9221"
            ],
            [
             1,
             "#276419"
            ]
           ],
           "sequential": [
            [
             0,
             "#0d0887"
            ],
            [
             0.1111111111111111,
             "#46039f"
            ],
            [
             0.2222222222222222,
             "#7201a8"
            ],
            [
             0.3333333333333333,
             "#9c179e"
            ],
            [
             0.4444444444444444,
             "#bd3786"
            ],
            [
             0.5555555555555556,
             "#d8576b"
            ],
            [
             0.6666666666666666,
             "#ed7953"
            ],
            [
             0.7777777777777778,
             "#fb9f3a"
            ],
            [
             0.8888888888888888,
             "#fdca26"
            ],
            [
             1,
             "#f0f921"
            ]
           ],
           "sequentialminus": [
            [
             0,
             "#0d0887"
            ],
            [
             0.1111111111111111,
             "#46039f"
            ],
            [
             0.2222222222222222,
             "#7201a8"
            ],
            [
             0.3333333333333333,
             "#9c179e"
            ],
            [
             0.4444444444444444,
             "#bd3786"
            ],
            [
             0.5555555555555556,
             "#d8576b"
            ],
            [
             0.6666666666666666,
             "#ed7953"
            ],
            [
             0.7777777777777778,
             "#fb9f3a"
            ],
            [
             0.8888888888888888,
             "#fdca26"
            ],
            [
             1,
             "#f0f921"
            ]
           ]
          },
          "colorway": [
           "#636efa",
           "#EF553B",
           "#00cc96",
           "#ab63fa",
           "#FFA15A",
           "#19d3f3",
           "#FF6692",
           "#B6E880",
           "#FF97FF",
           "#FECB52"
          ],
          "font": {
           "color": "#2a3f5f"
          },
          "geo": {
           "bgcolor": "white",
           "lakecolor": "white",
           "landcolor": "#E5ECF6",
           "showlakes": true,
           "showland": true,
           "subunitcolor": "white"
          },
          "hoverlabel": {
           "align": "left"
          },
          "hovermode": "closest",
          "mapbox": {
           "style": "light"
          },
          "paper_bgcolor": "white",
          "plot_bgcolor": "#E5ECF6",
          "polar": {
           "angularaxis": {
            "gridcolor": "white",
            "linecolor": "white",
            "ticks": ""
           },
           "bgcolor": "#E5ECF6",
           "radialaxis": {
            "gridcolor": "white",
            "linecolor": "white",
            "ticks": ""
           }
          },
          "scene": {
           "xaxis": {
            "backgroundcolor": "#E5ECF6",
            "gridcolor": "white",
            "gridwidth": 2,
            "linecolor": "white",
            "showbackground": true,
            "ticks": "",
            "zerolinecolor": "white"
           },
           "yaxis": {
            "backgroundcolor": "#E5ECF6",
            "gridcolor": "white",
            "gridwidth": 2,
            "linecolor": "white",
            "showbackground": true,
            "ticks": "",
            "zerolinecolor": "white"
           },
           "zaxis": {
            "backgroundcolor": "#E5ECF6",
            "gridcolor": "white",
            "gridwidth": 2,
            "linecolor": "white",
            "showbackground": true,
            "ticks": "",
            "zerolinecolor": "white"
           }
          },
          "shapedefaults": {
           "line": {
            "color": "#2a3f5f"
           }
          },
          "ternary": {
           "aaxis": {
            "gridcolor": "white",
            "linecolor": "white",
            "ticks": ""
           },
           "baxis": {
            "gridcolor": "white",
            "linecolor": "white",
            "ticks": ""
           },
           "bgcolor": "#E5ECF6",
           "caxis": {
            "gridcolor": "white",
            "linecolor": "white",
            "ticks": ""
           }
          },
          "title": {
           "x": 0.05
          },
          "xaxis": {
           "automargin": true,
           "gridcolor": "white",
           "linecolor": "white",
           "ticks": "",
           "title": {
            "standoff": 15
           },
           "zerolinecolor": "white",
           "zerolinewidth": 2
          },
          "yaxis": {
           "automargin": true,
           "gridcolor": "white",
           "linecolor": "white",
           "ticks": "",
           "title": {
            "standoff": 15
           },
           "zerolinecolor": "white",
           "zerolinewidth": 2
          }
         }
        },
        "title": {
         "font": {
          "family": "montserrat"
         },
         "text": "Total Passenger per Month",
         "xanchor": "left"
        },
        "width": 1000,
        "xaxis": {
         "autorange": false,
         "range": [
          "2004-08-21 17:39:22.2921",
          "2016-08-07 15:11:12.0887"
         ],
         "showspikes": false,
         "title": {
          "text": "Month-Year"
         },
         "type": "date"
        },
        "yaxis": {
         "autorange": true,
         "range": [
          2048766.0519930676,
          4975405.948006933
         ],
         "showspikes": false,
         "title": {
          "text": "Number of Passenger"
         },
         "type": "linear"
        }
       }
      },
      "image/png": "[encoded data removed]",
      "text/html": [
       "<div>                            <div id=\"bd3d7297-1739-414a-bdb0-ba24fb6e97c2\" class=\"plotly-graph-div\" style=\"height:500px; width:1000px;\"></div>            <script type=\"text/javascript\">                require([\"plotly\"], function(Plotly) {                    window.PLOTLYENV=window.PLOTLYENV || {};                                    if (document.getElementById(\"bd3d7297-1739-414a-bdb0-ba24fb6e97c2\")) {                    Plotly.newPlot(                        \"bd3d7297-1739-414a-bdb0-ba24fb6e97c2\",                        [{\"hovertemplate\":\"Period=%{x}<br>Passenger Count_sum=%{y}<extra></extra>\",\"legendgroup\":\"\",\"line\":{\"color\":\"#050505\",\"dash\":\"solid\"},\"marker\":{\"symbol\":\"circle\"},\"mode\":\"lines\",\"name\":\"\",\"orientation\":\"v\",\"showlegend\":false,\"type\":\"scatter\",\"x\":[\"2005-07-01T00:00:00\",\"2005-08-01T00:00:00\",\"2005-09-01T00:00:00\",\"2005-10-01T00:00:00\",\"2005-11-01T00:00:00\",\"2005-12-01T00:00:00\",\"2006-01-01T00:00:00\",\"2006-02-01T00:00:00\",\"2006-03-01T00:00:00\",\"2006-04-01T00:00:00\",\"2006-05-01T00:00:00\",\"2006-06-01T00:00:00\",\"2006-07-01T00:00:00\",\"2006-08-01T00:00:00\",\"2006-09-01T00:00:00\",\"2006-10-01T00:00:00\",\"2006-11-01T00:00:00\",\"2006-12-01T00:00:00\",\"2007-01-01T00:00:00\",\"2007-02-01T00:00:00\",\"2007-03-01T00:00:00\",\"2007-04-01T00:00:00\",\"2007-05-01T00:00:00\",\"2007-06-01T00:00:00\",\"2007-07-01T00:00:00\",\"2007-08-01T00:00:00\",\"2007-09-01T00:00:00\",\"2007-10-01T00:00:00\",\"2007-11-01T00:00:00\",\"2007-12-01T00:00:00\",\"2008-01-01T00:00:00\",\"2008-02-01T00:00:00\",\"2008-03-01T00:00:00\",\"2008-04-01T00:00:00\",\"2008-05-01T00:00:00\",\"2008-06-01T00:00:00\",\"2008-07-01T00:00:00\",\"2008-08-01T00:00:00\",\"2008-09-01T00:00:00\",\"2008-10-01T00:00:00\",\"2008-11-01T00:00:00\",\"2008-12-01T00:00:00\",\"2009-01-01T00:00:00\",\"2009-02-01T00:00:00\",\"2009-03-01T00:00:00\",\"2009-04-01T00:00:00\",\"2009-05-01T00:00:00\",\"2009-06-01T00:00:00\",\"2009-07-01T00:00:00\",\"2009-08-01T00:00:00\",\"2009-09-01T00:00:00\",\"2009-10-01T00:00:00\",\"2009-11-01T00:00:00\",\"2009-12-01T00:00:00\",\"2010-01-01T00:00:00\",\"2010-02-01T00:00:00\",\"2010-03-01T00:00:00\",\"2010-04-01T00:00:00\",\"2010-05-01T00:00:00\",\"2010-06-01T00:00:00\",\"2010-07-01T00:00:00\",\"2010-08-01T00:00:00\",\"2010-09-01T00:00:00\",\"2010-10-01T00:00:00\",\"2010-11-01T00:00:00\",\"2010-12-01T00:00:00\",\"2011-01-01T00:00:00\",\"2011-02-01T00:00:00\",\"2011-03-01T00:00:00\",\"2011-04-01T00:00:00\",\"2011-05-01T00:00:00\",\"2011-06-01T00:00:00\",\"2011-07-01T00:00:00\",\"2011-08-01T00:00:00\",\"2011-09-01T00:00:00\",\"2011-10-01T00:00:00\",\"2011-11-01T00:00:00\",\"2011-12-01T00:00:00\",\"2012-01-01T00:00:00\",\"2012-02-01T00:00:00\",\"2012-03-01T00:00:00\",\"2012-04-01T00:00:00\",\"2012-05-01T00:00:00\",\"2012-06-01T00:00:00\",\"2012-07-01T00:00:00\",\"2012-08-01T00:00:00\",\"2012-09-01T00:00:00\",\"2012-10-01T00:00:00\",\"2012-11-01T00:00:00\",\"2012-12-01T00:00:00\",\"2013-01-01T00:00:00\",\"2013-02-01T00:00:00\",\"2013-03-01T00:00:00\",\"2013-04-01T00:00:00\",\"2013-05-01T00:00:00\",\"2013-06-01T00:00:00\",\"2013-07-01T00:00:00\",\"2013-08-01T00:00:00\",\"2013-09-01T00:00:00\",\"2013-10-01T00:00:00\",\"2013-11-01T00:00:00\",\"2013-12-01T00:00:00\",\"2014-01-01T00:00:00\",\"2014-02-01T00:00:00\",\"2014-03-01T00:00:00\",\"2014-04-01T00:00:00\",\"2014-05-01T00:00:00\",\"2014-06-01T00:00:00\",\"2014-07-01T00:00:00\",\"2014-08-01T00:00:00\",\"2014-09-01T00:00:00\",\"2014-10-01T00:00:00\",\"2014-11-01T00:00:00\",\"2014-12-01T00:00:00\",\"2015-01-01T00:00:00\",\"2015-02-01T00:00:00\",\"2015-03-01T00:00:00\",\"2015-04-01T00:00:00\",\"2015-05-01T00:00:00\",\"2015-06-01T00:00:00\",\"2015-07-01T00:00:00\",\"2015-08-01T00:00:00\",\"2015-09-01T00:00:00\",\"2015-10-01T00:00:00\",\"2015-11-01T00:00:00\",\"2015-12-01T00:00:00\",\"2016-01-01T00:00:00\",\"2016-02-01T00:00:00\",\"2016-03-01T00:00:00\"],\"xaxis\":\"x\",\"y\":[3225769,3195866,2740553,2770715,2617333,2671797,2448889,2223024,2708778,2773293,2829000,3071396,3227605,3143839,2720100,2834959,2653887,2698200,2507430,2304990,2820085,2869247,3056934,3263621,3382382,3436417,2957530,3129309,2922500,2903637,2670053,2595676,3127387,3029021,3305954,3453751,3603946,3612297,3004720,3124451,2744485,2962937,2644539,2359800,2925918,3024973,3177100,3419595,3649702,3650668,3191526,3249428,2971484,3074209,2785466,2515361,3105958,3139059,3380355,3612886,3765824,3771842,3356365,3490100,3163659,3167124,2883810,2610667,3129205,3200527,3547804,3766323,3935589,3917884,3564970,3602455,3326859,3441693,3211600,2998119,3472440,3563007,3820570,4107195,4284443,4356216,3819379,3844987,3478890,3443039,3204637,2966477,3593364,3604104,3933016,4146797,4176486,4347059,3781168,3910790,3466878,3814984,3432625,3078405,3765504,3881893,4147096,4321833,4499221,4524918,3919072,4059443,3628786,3855835,3550084,3248144,4001521,4021677,4361140,4558511,4801148,4796653,4201394,4374749,4013814,4129052,3748529,3543639,4137679],\"yaxis\":\"y\"},{\"hovertemplate\":\"Period=%{x}<br>Passenger Count_sum=%{y}<extra></extra>\",\"legendgroup\":\"\",\"line\":{\"color\":\"#050505\"},\"marker\":{\"color\":\"#636efa\",\"symbol\":\"circle\"},\"mode\":\"markers\",\"name\":\"\",\"orientation\":\"v\",\"showlegend\":false,\"type\":\"scatter\",\"x\":[\"2005-07-01T00:00:00\",\"2005-08-01T00:00:00\",\"2005-09-01T00:00:00\",\"2005-10-01T00:00:00\",\"2005-11-01T00:00:00\",\"2005-12-01T00:00:00\",\"2006-01-01T00:00:00\",\"2006-02-01T00:00:00\",\"2006-03-01T00:00:00\",\"2006-04-01T00:00:00\",\"2006-05-01T00:00:00\",\"2006-06-01T00:00:00\",\"2006-07-01T00:00:00\",\"2006-08-01T00:00:00\",\"2006-09-01T00:00:00\",\"2006-10-01T00:00:00\",\"2006-11-01T00:00:00\",\"2006-12-01T00:00:00\",\"2007-01-01T00:00:00\",\"2007-02-01T00:00:00\",\"2007-03-01T00:00:00\",\"2007-04-01T00:00:00\",\"2007-05-01T00:00:00\",\"2007-06-01T00:00:00\",\"2007-07-01T00:00:00\",\"2007-08-01T00:00:00\",\"2007-09-01T00:00:00\",\"2007-10-01T00:00:00\",\"2007-11-01T00:00:00\",\"2007-12-01T00:00:00\",\"2008-01-01T00:00:00\",\"2008-02-01T00:00:00\",\"2008-03-01T00:00:00\",\"2008-04-01T00:00:00\",\"2008-05-01T00:00:00\",\"2008-06-01T00:00:00\",\"2008-07-01T00:00:00\",\"2008-08-01T00:00:00\",\"2008-09-01T00:00:00\",\"2008-10-01T00:00:00\",\"2008-11-01T00:00:00\",\"2008-12-01T00:00:00\",\"2009-01-01T00:00:00\",\"2009-02-01T00:00:00\",\"2009-03-01T00:00:00\",\"2009-04-01T00:00:00\",\"2009-05-01T00:00:00\",\"2009-06-01T00:00:00\",\"2009-07-01T00:00:00\",\"2009-08-01T00:00:00\",\"2009-09-01T00:00:00\",\"2009-10-01T00:00:00\",\"2009-11-01T00:00:00\",\"2009-12-01T00:00:00\",\"2010-01-01T00:00:00\",\"2010-02-01T00:00:00\",\"2010-03-01T00:00:00\",\"2010-04-01T00:00:00\",\"2010-05-01T00:00:00\",\"2010-06-01T00:00:00\",\"2010-07-01T00:00:00\",\"2010-08-01T00:00:00\",\"2010-09-01T00:00:00\",\"2010-10-01T00:00:00\",\"2010-11-01T00:00:00\",\"2010-12-01T00:00:00\",\"2011-01-01T00:00:00\",\"2011-02-01T00:00:00\",\"2011-03-01T00:00:00\",\"2011-04-01T00:00:00\",\"2011-05-01T00:00:00\",\"2011-06-01T00:00:00\",\"2011-07-01T00:00:00\",\"2011-08-01T00:00:00\",\"2011-09-01T00:00:00\",\"2011-10-01T00:00:00\",\"2011-11-01T00:00:00\",\"2011-12-01T00:00:00\",\"2012-01-01T00:00:00\",\"2012-02-01T00:00:00\",\"2012-03-01T00:00:00\",\"2012-04-01T00:00:00\",\"2012-05-01T00:00:00\",\"2012-06-01T00:00:00\",\"2012-07-01T00:00:00\",\"2012-08-01T00:00:00\",\"2012-09-01T00:00:00\",\"2012-10-01T00:00:00\",\"2012-11-01T00:00:00\",\"2012-12-01T00:00:00\",\"2013-01-01T00:00:00\",\"2013-02-01T00:00:00\",\"2013-03-01T00:00:00\",\"2013-04-01T00:00:00\",\"2013-05-01T00:00:00\",\"2013-06-01T00:00:00\",\"2013-07-01T00:00:00\",\"2013-08-01T00:00:00\",\"2013-09-01T00:00:00\",\"2013-10-01T00:00:00\",\"2013-11-01T00:00:00\",\"2013-12-01T00:00:00\",\"2014-01-01T00:00:00\",\"2014-02-01T00:00:00\",\"2014-03-01T00:00:00\",\"2014-04-01T00:00:00\",\"2014-05-01T00:00:00\",\"2014-06-01T00:00:00\",\"2014-07-01T00:00:00\",\"2014-08-01T00:00:00\",\"2014-09-01T00:00:00\",\"2014-10-01T00:00:00\",\"2014-11-01T00:00:00\",\"2014-12-01T00:00:00\",\"2015-01-01T00:00:00\",\"2015-02-01T00:00:00\",\"2015-03-01T00:00:00\",\"2015-04-01T00:00:00\",\"2015-05-01T00:00:00\",\"2015-06-01T00:00:00\",\"2015-07-01T00:00:00\",\"2015-08-01T00:00:00\",\"2015-09-01T00:00:00\",\"2015-10-01T00:00:00\",\"2015-11-01T00:00:00\",\"2015-12-01T00:00:00\",\"2016-01-01T00:00:00\",\"2016-02-01T00:00:00\",\"2016-03-01T00:00:00\"],\"xaxis\":\"x\",\"y\":[3225769,3195866,2740553,2770715,2617333,2671797,2448889,2223024,2708778,2773293,2829000,3071396,3227605,3143839,2720100,2834959,2653887,2698200,2507430,2304990,2820085,2869247,3056934,3263621,3382382,3436417,2957530,3129309,2922500,2903637,2670053,2595676,3127387,3029021,3305954,3453751,3603946,3612297,3004720,3124451,2744485,2962937,2644539,2359800,2925918,3024973,3177100,3419595,3649702,3650668,3191526,3249428,2971484,3074209,2785466,2515361,3105958,3139059,3380355,3612886,3765824,3771842,3356365,3490100,3163659,3167124,2883810,2610667,3129205,3200527,3547804,3766323,3935589,3917884,3564970,3602455,3326859,3441693,3211600,2998119,3472440,3563007,3820570,4107195,4284443,4356216,3819379,3844987,3478890,3443039,3204637,2966477,3593364,3604104,3933016,4146797,4176486,4347059,3781168,3910790,3466878,3814984,3432625,3078405,3765504,3881893,4147096,4321833,4499221,4524918,3919072,4059443,3628786,3855835,3550084,3248144,4001521,4021677,4361140,4558511,4801148,4796653,4201394,4374749,4013814,4129052,3748529,3543639,4137679],\"yaxis\":\"y\"}],                        {\"height\":500,\"margin\":{\"b\":30,\"l\":20,\"pad\":4,\"r\":20,\"t\":50},\"paper_bgcolor\":\"LightSteelBlue\",\"template\":{\"data\":{\"bar\":[{\"error_x\":{\"color\":\"#2a3f5f\"},\"error_y\":{\"color\":\"#2a3f5f\"},\"marker\":{\"line\":{\"color\":\"#E5ECF6\",\"width\":0.5},\"pattern\":{\"fillmode\":\"overlay\",\"size\":10,\"solidity\":0.2}},\"type\":\"bar\"}],\"barpolar\":[{\"marker\":{\"line\":{\"color\":\"#E5ECF6\",\"width\":0.5},\"pattern\":{\"fillmode\":\"overlay\",\"size\":10,\"solidity\":0.2}},\"type\":\"barpolar\"}],\"carpet\":[{\"aaxis\":{\"endlinecolor\":\"#2a3f5f\",\"gridcolor\":\"white\",\"linecolor\":\"white\",\"minorgridcolor\":\"white\",\"startlinecolor\":\"#2a3f5f\"},\"baxis\":{\"endlinecolor\":\"#2a3f5f\",\"gridcolor\":\"white\",\"linecolor\":\"white\",\"minorgridcolor\":\"white\",\"startlinecolor\":\"#2a3f5f\"},\"type\":\"carpet\"}],\"choropleth\":[{\"colorbar\":{\"outlinewidth\":0,\"ticks\":\"\"},\"type\":\"choropleth\"}],\"contour\":[{\"colorbar\":{\"outlinewidth\":0,\"ticks\":\"\"},\"colorscale\":[[0.0,\"#0d0887\"],[0.1111111111111111,\"#46039f\"],[0.2222222222222222,\"#7201a8\"],[0.3333333333333333,\"#9c179e\"],[0.4444444444444444,\"#bd3786\"],[0.5555555555555556,\"#d8576b\"],[0.6666666666666666,\"#ed7953\"],[0.7777777777777778,\"#fb9f3a\"],[0.8888888888888888,\"#fdca26\"],[1.0,\"#f0f921\"]],\"type\":\"contour\"}],\"contourcarpet\":[{\"colorbar\":{\"outlinewidth\":0,\"ticks\":\"\"},\"type\":\"contourcarpet\"}],\"heatmap\":[{\"colorbar\":{\"outlinewidth\":0,\"ticks\":\"\"},\"colorscale\":[[0.0,\"#0d0887\"],[0.1111111111111111,\"#46039f\"],[0.2222222222222222,\"#7201a8\"],[0.3333333333333333,\"#9c179e\"],[0.4444444444444444,\"#bd3786\"],[0.5555555555555556,\"#d8576b\"],[0.6666666666666666,\"#ed7953\"],[0.7777777777777778,\"#fb9f3a\"],[0.8888888888888888,\"#fdca26\"],[1.0,\"#f0f921\"]],\"type\":\"heatmap\"}],\"heatmapgl\":[{\"colorbar\":{\"outlinewidth\":0,\"ticks\":\"\"},\"colorscale\":[[0.0,\"#0d0887\"],[0.1111111111111111,\"#46039f\"],[0.2222222222222222,\"#7201a8\"],[0.3333333333333333,\"#9c179e\"],[0.4444444444444444,\"#bd3786\"],[0.5555555555555556,\"#d8576b\"],[0.6666666666666666,\"#ed7953\"],[0.7777777777777778,\"#fb9f3a\"],[0.8888888888888888,\"#fdca26\"],[1.0,\"#f0f921\"]],\"type\":\"heatmapgl\"}],\"histogram\":[{\"marker\":{\"pattern\":{\"fillmode\":\"overlay\",\"size\":10,\"solidity\":0.2}},\"type\":\"histogram\"}],\"histogram2d\":[{\"colorbar\":{\"outlinewidth\":0,\"ticks\":\"\"},\"colorscale\":[[0.0,\"#0d0887\"],[0.1111111111111111,\"#46039f\"],[0.2222222222222222,\"#7201a8\"],[0.3333333333333333,\"#9c179e\"],[0.4444444444444444,\"#bd3786\"],[0.5555555555555556,\"#d8576b\"],[0.6666666666666666,\"#ed7953\"],[0.7777777777777778,\"#fb9f3a\"],[0.8888888888888888,\"#fdca26\"],[1.0,\"#f0f921\"]],\"type\":\"histogram2d\"}],\"histogram2dcontour\":[{\"colorbar\":{\"outlinewidth\":0,\"ticks\":\"\"},\"colorscale\":[[0.0,\"#0d0887\"],[0.1111111111111111,\"#46039f\"],[0.2222222222222222,\"#7201a8\"],[0.3333333333333333,\"#9c179e\"],[0.4444444444444444,\"#bd3786\"],[0.5555555555555556,\"#d8576b\"],[0.6666666666666666,\"#ed7953\"],[0.7777777777777778,\"#fb9f3a\"],[0.8888888888888888,\"#fdca26\"],[1.0,\"#f0f921\"]],\"type\":\"histogram2dcontour\"}],\"mesh3d\":[{\"colorbar\":{\"outlinewidth\":0,\"ticks\":\"\"},\"type\":\"mesh3d\"}],\"parcoords\":[{\"line\":{\"colorbar\":{\"outlinewidth\":0,\"ticks\":\"\"}},\"type\":\"parcoords\"}],\"pie\":[{\"automargin\":true,\"type\":\"pie\"}],\"scatter\":[{\"marker\":{\"colorbar\":{\"outlinewidth\":0,\"ticks\":\"\"}},\"type\":\"scatter\"}],\"scatter3d\":[{\"line\":{\"colorbar\":{\"outlinewidth\":0,\"ticks\":\"\"}},\"marker\":{\"colorbar\":{\"outlinewidth\":0,\"ticks\":\"\"}},\"type\":\"scatter3d\"}],\"scattercarpet\":[{\"marker\":{\"colorbar\":{\"outlinewidth\":0,\"ticks\":\"\"}},\"type\":\"scattercarpet\"}],\"scattergeo\":[{\"marker\":{\"colorbar\":{\"outlinewidth\":0,\"ticks\":\"\"}},\"type\":\"scattergeo\"}],\"scattergl\":[{\"marker\":{\"colorbar\":{\"outlinewidth\":0,\"ticks\":\"\"}},\"type\":\"scattergl\"}],\"scattermapbox\":[{\"marker\":{\"colorbar\":{\"outlinewidth\":0,\"ticks\":\"\"}},\"type\":\"scattermapbox\"}],\"scatterpolar\":[{\"marker\":{\"colorbar\":{\"outlinewidth\":0,\"ticks\":\"\"}},\"type\":\"scatterpolar\"}],\"scatterpolargl\":[{\"marker\":{\"colorbar\":{\"outlinewidth\":0,\"ticks\":\"\"}},\"type\":\"scatterpolargl\"}],\"scatterternary\":[{\"marker\":{\"colorbar\":{\"outlinewidth\":0,\"ticks\":\"\"}},\"type\":\"scatterternary\"}],\"surface\":[{\"colorbar\":{\"outlinewidth\":0,\"ticks\":\"\"},\"colorscale\":[[0.0,\"#0d0887\"],[0.1111111111111111,\"#46039f\"],[0.2222222222222222,\"#7201a8\"],[0.3333333333333333,\"#9c179e\"],[0.4444444444444444,\"#bd3786\"],[0.5555555555555556,\"#d8576b\"],[0.6666666666666666,\"#ed7953\"],[0.7777777777777778,\"#fb9f3a\"],[0.8888888888888888,\"#fdca26\"],[1.0,\"#f0f921\"]],\"type\":\"surface\"}],\"table\":[{\"cells\":{\"fill\":{\"color\":\"#EBF0F8\"},\"line\":{\"color\":\"white\"}},\"header\":{\"fill\":{\"color\":\"#C8D4E3\"},\"line\":{\"color\":\"white\"}},\"type\":\"table\"}]},\"layout\":{\"annotationdefaults\":{\"arrowcolor\":\"#2a3f5f\",\"arrowhead\":0,\"arrowwidth\":1},\"autotypenumbers\":\"strict\",\"coloraxis\":{\"colorbar\":{\"outlinewidth\":0,\"ticks\":\"\"}},\"colorscale\":{\"diverging\":[[0,\"#8e0152\"],[0.1,\"#c51b7d\"],[0.2,\"#de77ae\"],[0.3,\"#f1b6da\"],[0.4,\"#fde0ef\"],[0.5,\"#f7f7f7\"],[0.6,\"#e6f5d0\"],[0.7,\"#b8e186\"],[0.8,\"#7fbc41\"],[0.9,\"#4d9221\"],[1,\"#276419\"]],\"sequential\":[[0.0,\"#0d0887\"],[0.1111111111111111,\"#46039f\"],[0.2222222222222222,\"#7201a8\"],[0.3333333333333333,\"#9c179e\"],[0.4444444444444444,\"#bd3786\"],[0.5555555555555556,\"#d8576b\"],[0.6666666666666666,\"#ed7953\"],[0.7777777777777778,\"#fb9f3a\"],[0.8888888888888888,\"#fdca26\"],[1.0,\"#f0f921\"]],\"sequentialminus\":[[0.0,\"#0d0887\"],[0.1111111111111111,\"#46039f\"],[0.2222222222222222,\"#7201a8\"],[0.3333333333333333,\"#9c179e\"],[0.4444444444444444,\"#bd3786\"],[0.5555555555555556,\"#d8576b\"],[0.6666666666666666,\"#ed7953\"],[0.7777777777777778,\"#fb9f3a\"],[0.8888888888888888,\"#fdca26\"],[1.0,\"#f0f921\"]]},\"colorway\":[\"#636efa\",\"#EF553B\",\"#00cc96\",\"#ab63fa\",\"#FFA15A\",\"#19d3f3\",\"#FF6692\",\"#B6E880\",\"#FF97FF\",\"#FECB52\"],\"font\":{\"color\":\"#2a3f5f\"},\"geo\":{\"bgcolor\":\"white\",\"lakecolor\":\"white\",\"landcolor\":\"#E5ECF6\",\"showlakes\":true,\"showland\":true,\"subunitcolor\":\"white\"},\"hoverlabel\":{\"align\":\"left\"},\"hovermode\":\"closest\",\"mapbox\":{\"style\":\"light\"},\"paper_bgcolor\":\"white\",\"plot_bgcolor\":\"#E5ECF6\",\"polar\":{\"angularaxis\":{\"gridcolor\":\"white\",\"linecolor\":\"white\",\"ticks\":\"\"},\"bgcolor\":\"#E5ECF6\",\"radialaxis\":{\"gridcolor\":\"white\",\"linecolor\":\"white\",\"ticks\":\"\"}},\"scene\":{\"xaxis\":{\"backgroundcolor\":\"#E5ECF6\",\"gridcolor\":\"white\",\"gridwidth\":2,\"linecolor\":\"white\",\"showbackground\":true,\"ticks\":\"\",\"zerolinecolor\":\"white\"},\"yaxis\":{\"backgroundcolor\":\"#E5ECF6\",\"gridcolor\":\"white\",\"gridwidth\":2,\"linecolor\":\"white\",\"showbackground\":true,\"ticks\":\"\",\"zerolinecolor\":\"white\"},\"zaxis\":{\"backgroundcolor\":\"#E5ECF6\",\"gridcolor\":\"white\",\"gridwidth\":2,\"linecolor\":\"white\",\"showbackground\":true,\"ticks\":\"\",\"zerolinecolor\":\"white\"}},\"shapedefaults\":{\"line\":{\"color\":\"#2a3f5f\"}},\"ternary\":{\"aaxis\":{\"gridcolor\":\"white\",\"linecolor\":\"white\",\"ticks\":\"\"},\"baxis\":{\"gridcolor\":\"white\",\"linecolor\":\"white\",\"ticks\":\"\"},\"bgcolor\":\"#E5ECF6\",\"caxis\":{\"gridcolor\":\"white\",\"linecolor\":\"white\",\"ticks\":\"\"}},\"title\":{\"x\":0.05},\"xaxis\":{\"automargin\":true,\"gridcolor\":\"white\",\"linecolor\":\"white\",\"ticks\":\"\",\"title\":{\"standoff\":15},\"zerolinecolor\":\"white\",\"zerolinewidth\":2},\"yaxis\":{\"automargin\":true,\"gridcolor\":\"white\",\"linecolor\":\"white\",\"ticks\":\"\",\"title\":{\"standoff\":15},\"zerolinecolor\":\"white\",\"zerolinewidth\":2}}},\"title\":{\"font\":{\"family\":\"montserrat\"},\"text\":\"Total Passenger per Month\",\"xanchor\":\"left\"},\"width\":1000,\"xaxis\":{\"title\":{\"text\":\"Month-Year\"}},\"yaxis\":{\"title\":{\"text\":\"Number of Passenger\"}}},                        {\"responsive\": true}                    ).then(function(){\n",
       "                            \n",
       "var gd = document.getElementById('bd3d7297-1739-414a-bdb0-ba24fb6e97c2');\n",
       "var x = new MutationObserver(function (mutations, observer) {{\n",
       "        var display = window.getComputedStyle(gd).display;\n",
       "        if (!display || display === 'none') {{\n",
       "            console.log([gd, 'removed!']);\n",
       "            Plotly.purge(gd);\n",
       "            observer.disconnect();\n",
       "        }}\n",
       "}});\n",
       "\n",
       "// Listen for the removal of the full notebook cells\n",
       "var notebookContainer = gd.closest('#notebook-container');\n",
       "if (notebookContainer) {{\n",
       "    x.observe(notebookContainer, {childList: true});\n",
       "}}\n",
       "\n",
       "// Listen for the clearing of the current output cell\n",
       "var outputEl = gd.closest('.output');\n",
       "if (outputEl) {{\n",
       "    x.observe(outputEl, {childList: true});\n",
       "}}\n",
       "\n",
       "                        })                };                });            </script>        </div>"
      ]
     },
     "metadata": {},
     "output_type": "display_data"
    }
   ],
   "source": [
    "import plotly.graph_objects as go\n",
    "fig1 = px.line(passanger_count_group_period.sort_values(by=['Period'], ascending=[True]), x='Period', y='Passenger Count_sum', title='Total Passenger Monthly', template='seaborn')\n",
    "fig2 = px.scatter(passanger_count_group_period, x='Period', y='Passenger Count_sum', title='Total Passenger Monthly', template='plotly_white')\n",
    "fig1.update_traces(line=dict(color = '#050505'))\n",
    "fig2.update_traces(line=dict(color = '#050505'))\n",
    "compiled_figure = go.Figure(data=fig1.data + fig2.data)\n",
    "\n",
    "compiled_figure.update_layout(\n",
    "                                title = 'Total Passenger per Month' , title_font_family='montserrat',title_xanchor='left',\n",
    "    width=1000,height=500,\n",
    "    margin=dict(\n",
    "        l=20,\n",
    "        r=20,\n",
    "        b=30,\n",
    "        t=50,\n",
    "        pad=4\n",
    "    ),\n",
    "    paper_bgcolor=\"LightSteelBlue\"\n",
    ")\n",
    "compiled_figure.update_xaxes(title_text='Month-Year')\n",
    "compiled_figure.update_yaxes(title_text='Number of Passenger')\n",
    "compiled_figure.show()"
   ]
  },
  {
   "cell_type": "markdown",
   "id": "stuffed-powell",
   "metadata": {},
   "source": [
    "## Task 2 : Create Choropleth of Passenger per region \n",
    "### 1. Download each region shapefile per Benua -> North America , South America , Europe , Asia, Australia\n",
    "### 2 . Group the Data then create geodataframe\n"
   ]
  },
  {
   "cell_type": "code",
   "execution_count": 25,
   "id": "necessary-gather",
   "metadata": {},
   "outputs": [
    {
     "data": {
      "application/vnd.jupyter.widget-view+json": {
       "model_id": "f9157338ce1f4ef7881a0f9956350c25"
      },
      "text/html": [
       "<div>\n",
       "<style scoped>\n",
       "    .dataframe tbody tr th:only-of-type {\n",
       "        vertical-align: middle;\n",
       "    }\n",
       "\n",
       "    .dataframe tbody tr th {\n",
       "        vertical-align: top;\n",
       "    }\n",
       "\n",
       "    .dataframe thead th {\n",
       "        text-align: right;\n",
       "    }\n",
       "</style>\n",
       "<table border=\"1\" class=\"dataframe\">\n",
       "  <thead>\n",
       "    <tr style=\"text-align: right;\">\n",
       "      <th></th>\n",
       "      <th>Operating Airline</th>\n",
       "      <th>Operating Airline IATA Code</th>\n",
       "      <th>Published Airline</th>\n",
       "      <th>Published Airline IATA Code</th>\n",
       "      <th>GEO Summary</th>\n",
       "      <th>GEO Region</th>\n",
       "      <th>Activity Type Code</th>\n",
       "      <th>Price Category Code</th>\n",
       "      <th>Terminal</th>\n",
       "      <th>Boarding Area</th>\n",
       "      <th>Passenger Count</th>\n",
       "      <th>Adjusted Activity Type Code</th>\n",
       "      <th>Adjusted Passenger Count</th>\n",
       "      <th>Year</th>\n",
       "      <th>Month</th>\n",
       "      <th>Period</th>\n",
       "    </tr>\n",
       "  </thead>\n",
       "  <tbody>\n",
       "    <tr>\n",
       "      <th>0</th>\n",
       "      <td>ATA Airlines</td>\n",
       "      <td>TZ</td>\n",
       "      <td>ATA Airlines</td>\n",
       "      <td>TZ</td>\n",
       "      <td>Domestic</td>\n",
       "      <td>US</td>\n",
       "      <td>Deplaned</td>\n",
       "      <td>Low Fare</td>\n",
       "      <td>Terminal 1</td>\n",
       "      <td>B</td>\n",
       "      <td>27271</td>\n",
       "      <td>Deplaned</td>\n",
       "      <td>27271</td>\n",
       "      <td>2005</td>\n",
       "      <td>July</td>\n",
       "      <td>200507</td>\n",
       "    </tr>\n",
       "    <tr>\n",
       "      <th>1</th>\n",
       "      <td>ATA Airlines</td>\n",
       "      <td>TZ</td>\n",
       "      <td>ATA Airlines</td>\n",
       "      <td>TZ</td>\n",
       "      <td>Domestic</td>\n",
       "      <td>US</td>\n",
       "      <td>Enplaned</td>\n",
       "      <td>Low Fare</td>\n",
       "      <td>Terminal 1</td>\n",
       "      <td>B</td>\n",
       "      <td>29131</td>\n",
       "      <td>Enplaned</td>\n",
       "      <td>29131</td>\n",
       "      <td>2005</td>\n",
       "      <td>July</td>\n",
       "      <td>200507</td>\n",
       "    </tr>\n",
       "    <tr>\n",
       "      <th>2</th>\n",
       "      <td>ATA Airlines</td>\n",
       "      <td>TZ</td>\n",
       "      <td>ATA Airlines</td>\n",
       "      <td>TZ</td>\n",
       "      <td>Domestic</td>\n",
       "      <td>US</td>\n",
       "      <td>Thru / Transit</td>\n",
       "      <td>Low Fare</td>\n",
       "      <td>Terminal 1</td>\n",
       "      <td>B</td>\n",
       "      <td>5415</td>\n",
       "      <td>Thru / Transit * 2</td>\n",
       "      <td>10830</td>\n",
       "      <td>2005</td>\n",
       "      <td>July</td>\n",
       "      <td>200507</td>\n",
       "    </tr>\n",
       "    <tr>\n",
       "      <th>3</th>\n",
       "      <td>Air Canada</td>\n",
       "      <td>AC</td>\n",
       "      <td>Air Canada</td>\n",
       "      <td>AC</td>\n",
       "      <td>International</td>\n",
       "      <td>Canada</td>\n",
       "      <td>Deplaned</td>\n",
       "      <td>Other</td>\n",
       "      <td>Terminal 1</td>\n",
       "      <td>B</td>\n",
       "      <td>35156</td>\n",
       "      <td>Deplaned</td>\n",
       "      <td>35156</td>\n",
       "      <td>2005</td>\n",
       "      <td>July</td>\n",
       "      <td>200507</td>\n",
       "    </tr>\n",
       "    <tr>\n",
       "      <th>4</th>\n",
       "      <td>Air Canada</td>\n",
       "      <td>AC</td>\n",
       "      <td>Air Canada</td>\n",
       "      <td>AC</td>\n",
       "      <td>International</td>\n",
       "      <td>Canada</td>\n",
       "      <td>Enplaned</td>\n",
       "      <td>Other</td>\n",
       "      <td>Terminal 1</td>\n",
       "      <td>B</td>\n",
       "      <td>34090</td>\n",
       "      <td>Enplaned</td>\n",
       "      <td>34090</td>\n",
       "      <td>2005</td>\n",
       "      <td>July</td>\n",
       "      <td>200507</td>\n",
       "    </tr>\n",
       "    <tr>\n",
       "      <th>...</th>\n",
       "      <td>...</td>\n",
       "      <td>...</td>\n",
       "      <td>...</td>\n",
       "      <td>...</td>\n",
       "      <td>...</td>\n",
       "      <td>...</td>\n",
       "      <td>...</td>\n",
       "      <td>...</td>\n",
       "      <td>...</td>\n",
       "      <td>...</td>\n",
       "      <td>...</td>\n",
       "      <td>...</td>\n",
       "      <td>...</td>\n",
       "      <td>...</td>\n",
       "      <td>...</td>\n",
       "      <td>...</td>\n",
       "    </tr>\n",
       "    <tr>\n",
       "      <th>15002</th>\n",
       "      <td>Virgin America</td>\n",
       "      <td>VX</td>\n",
       "      <td>Virgin America</td>\n",
       "      <td>VX</td>\n",
       "      <td>Domestic</td>\n",
       "      <td>US</td>\n",
       "      <td>Enplaned</td>\n",
       "      <td>Low Fare</td>\n",
       "      <td>Terminal 2</td>\n",
       "      <td>D</td>\n",
       "      <td>194636</td>\n",
       "      <td>Enplaned</td>\n",
       "      <td>194636</td>\n",
       "      <td>2016</td>\n",
       "      <td>March</td>\n",
       "      <td>201603</td>\n",
       "    </tr>\n",
       "    <tr>\n",
       "      <th>15003</th>\n",
       "      <td>Virgin America</td>\n",
       "      <td>VX</td>\n",
       "      <td>Virgin America</td>\n",
       "      <td>VX</td>\n",
       "      <td>International</td>\n",
       "      <td>Mexico</td>\n",
       "      <td>Deplaned</td>\n",
       "      <td>Low Fare</td>\n",
       "      <td>International</td>\n",
       "      <td>A</td>\n",
       "      <td>4189</td>\n",
       "      <td>Deplaned</td>\n",
       "      <td>4189</td>\n",
       "      <td>2016</td>\n",
       "      <td>March</td>\n",
       "      <td>201603</td>\n",
       "    </tr>\n",
       "    <tr>\n",
       "      <th>15004</th>\n",
       "      <td>Virgin America</td>\n",
       "      <td>VX</td>\n",
       "      <td>Virgin America</td>\n",
       "      <td>VX</td>\n",
       "      <td>International</td>\n",
       "      <td>Mexico</td>\n",
       "      <td>Enplaned</td>\n",
       "      <td>Low Fare</td>\n",
       "      <td>Terminal 2</td>\n",
       "      <td>D</td>\n",
       "      <td>4693</td>\n",
       "      <td>Enplaned</td>\n",
       "      <td>4693</td>\n",
       "      <td>2016</td>\n",
       "      <td>March</td>\n",
       "      <td>201603</td>\n",
       "    </tr>\n",
       "    <tr>\n",
       "      <th>15005</th>\n",
       "      <td>Virgin Atlantic</td>\n",
       "      <td>VS</td>\n",
       "      <td>Virgin Atlantic</td>\n",
       "      <td>VS</td>\n",
       "      <td>International</td>\n",
       "      <td>Europe</td>\n",
       "      <td>Deplaned</td>\n",
       "      <td>Other</td>\n",
       "      <td>International</td>\n",
       "      <td>A</td>\n",
       "      <td>12313</td>\n",
       "      <td>Deplaned</td>\n",
       "      <td>12313</td>\n",
       "      <td>2016</td>\n",
       "      <td>March</td>\n",
       "      <td>201603</td>\n",
       "    </tr>\n",
       "    <tr>\n",
       "      <th>15006</th>\n",
       "      <td>Virgin Atlantic</td>\n",
       "      <td>VS</td>\n",
       "      <td>Virgin Atlantic</td>\n",
       "      <td>VS</td>\n",
       "      <td>International</td>\n",
       "      <td>Europe</td>\n",
       "      <td>Enplaned</td>\n",
       "      <td>Other</td>\n",
       "      <td>International</td>\n",
       "      <td>A</td>\n",
       "      <td>10898</td>\n",
       "      <td>Enplaned</td>\n",
       "      <td>10898</td>\n",
       "      <td>2016</td>\n",
       "      <td>March</td>\n",
       "      <td>201603</td>\n",
       "    </tr>\n",
       "  </tbody>\n",
       "</table>\n",
       "<p>15007 rows × 16 columns</p>\n",
       "</div>"
      ],
      "text/plain": [
       "      Operating Airline Operating Airline IATA Code Published Airline  \\\n",
       "0          ATA Airlines                          TZ      ATA Airlines   \n",
       "1          ATA Airlines                          TZ      ATA Airlines   \n",
       "2          ATA Airlines                          TZ      ATA Airlines   \n",
       "3           Air Canada                           AC       Air Canada    \n",
       "4           Air Canada                           AC       Air Canada    \n",
       "...                 ...                         ...               ...   \n",
       "15002    Virgin America                          VX    Virgin America   \n",
       "15003    Virgin America                          VX    Virgin America   \n",
       "15004    Virgin America                          VX    Virgin America   \n",
       "15005   Virgin Atlantic                          VS   Virgin Atlantic   \n",
       "15006   Virgin Atlantic                          VS   Virgin Atlantic   \n",
       "\n",
       "      Published Airline IATA Code    GEO Summary GEO Region  \\\n",
       "0                              TZ       Domestic         US   \n",
       "1                              TZ       Domestic         US   \n",
       "2                              TZ       Domestic         US   \n",
       "3                              AC  International     Canada   \n",
       "4                              AC  International     Canada   \n",
       "...                           ...            ...        ...   \n",
       "15002                          VX       Domestic         US   \n",
       "15003                          VX  International     Mexico   \n",
       "15004                          VX  International     Mexico   \n",
       "15005                          VS  International     Europe   \n",
       "15006                          VS  International     Europe   \n",
       "\n",
       "      Activity Type Code Price Category Code       Terminal Boarding Area  \\\n",
       "0               Deplaned            Low Fare     Terminal 1             B   \n",
       "1               Enplaned            Low Fare     Terminal 1             B   \n",
       "2         Thru / Transit            Low Fare     Terminal 1             B   \n",
       "3               Deplaned               Other     Terminal 1             B   \n",
       "4               Enplaned               Other     Terminal 1             B   \n",
       "...                  ...                 ...            ...           ...   \n",
       "15002           Enplaned            Low Fare     Terminal 2             D   \n",
       "15003           Deplaned            Low Fare  International             A   \n",
       "15004           Enplaned            Low Fare     Terminal 2             D   \n",
       "15005           Deplaned               Other  International             A   \n",
       "15006           Enplaned               Other  International             A   \n",
       "\n",
       "       Passenger Count Adjusted Activity Type Code  Adjusted Passenger Count  \\\n",
       "0                27271                    Deplaned                     27271   \n",
       "1                29131                    Enplaned                     29131   \n",
       "2                 5415          Thru / Transit * 2                     10830   \n",
       "3                35156                    Deplaned                     35156   \n",
       "4                34090                    Enplaned                     34090   \n",
       "...                ...                         ...                       ...   \n",
       "15002           194636                    Enplaned                    194636   \n",
       "15003             4189                    Deplaned                      4189   \n",
       "15004             4693                    Enplaned                      4693   \n",
       "15005            12313                    Deplaned                     12313   \n",
       "15006            10898                    Enplaned                     10898   \n",
       "\n",
       "       Year  Month  Period  \n",
       "0      2005   July  200507  \n",
       "1      2005   July  200507  \n",
       "2      2005   July  200507  \n",
       "3      2005   July  200507  \n",
       "4      2005   July  200507  \n",
       "...     ...    ...     ...  \n",
       "15002  2016  March  201603  \n",
       "15003  2016  March  201603  \n",
       "15004  2016  March  201603  \n",
       "15005  2016  March  201603  \n",
       "15006  2016  March  201603  \n",
       "\n",
       "[15007 rows x 16 columns]"
      ]
     },
     "metadata": {},
     "output_type": "display_data"
    }
   ],
   "source": [
    "data['GEO Region'] = data['GEO Region'].replace('Canada', 'North America')\n",
    "data['GEO Region'] = data['GEO Region'].replace('US', 'North America')\n",
    "data['GEO Region'] = data['GEO Region'].replace('Australia / Oceania', 'Australia')\n",
    "data['GEO Region'] = data['GEO Region'].replace('Middle East', 'Asia')\n",
    "data['GEO Region'] = data['GEO Region'].replace('Central America', 'South America')\n",
    "data['GEO Region'] = data['GEO Region'].replace('Mexico', 'South America')\n",
    "data"
   ]
  },
  {
   "cell_type": "code",
   "execution_count": 45,
   "id": "proof-manor",
   "metadata": {},
   "outputs": [
    {
     "data": {
      "application/vnd.jupyter.widget-view+json": {
       "model_id": "d2bc9d19500d4965b623d084f513564f"
      },
      "text/html": [
       "<div>\n",
       "<style scoped>\n",
       "    .dataframe tbody tr th:only-of-type {\n",
       "        vertical-align: middle;\n",
       "    }\n",
       "\n",
       "    .dataframe tbody tr th {\n",
       "        vertical-align: top;\n",
       "    }\n",
       "\n",
       "    .dataframe thead th {\n",
       "        text-align: right;\n",
       "    }\n",
       "</style>\n",
       "<table border=\"1\" class=\"dataframe\">\n",
       "  <thead>\n",
       "    <tr style=\"text-align: right;\">\n",
       "      <th></th>\n",
       "      <th>GEO Region</th>\n",
       "      <th>Passenger_Total</th>\n",
       "    </tr>\n",
       "  </thead>\n",
       "  <tbody>\n",
       "    <tr>\n",
       "      <th>0</th>\n",
       "      <td>Asia</td>\n",
       "      <td>45825713</td>\n",
       "    </tr>\n",
       "    <tr>\n",
       "      <th>1</th>\n",
       "      <td>Australia</td>\n",
       "      <td>4729341</td>\n",
       "    </tr>\n",
       "    <tr>\n",
       "      <th>2</th>\n",
       "      <td>Europe</td>\n",
       "      <td>26646558</td>\n",
       "    </tr>\n",
       "    <tr>\n",
       "      <th>3</th>\n",
       "      <td>North America</td>\n",
       "      <td>352006160</td>\n",
       "    </tr>\n",
       "    <tr>\n",
       "      <th>4</th>\n",
       "      <td>South America</td>\n",
       "      <td>9604728</td>\n",
       "    </tr>\n",
       "  </tbody>\n",
       "</table>\n",
       "</div>"
      ],
      "text/plain": [
       "      GEO Region  Passenger_Total\n",
       "0           Asia         45825713\n",
       "1      Australia          4729341\n",
       "2         Europe         26646558\n",
       "3  North America        352006160\n",
       "4  South America          9604728"
      ]
     },
     "metadata": {},
     "output_type": "display_data"
    }
   ],
   "source": [
    "passanger_count_group_region = data.groupby(['GEO Region']).agg(**{'Passenger_Total': ('Passenger Count', 'sum')}).reset_index()\n",
    "passanger_count_group_region"
   ]
  },
  {
   "cell_type": "code",
   "execution_count": 46,
   "id": "artistic-gross",
   "metadata": {},
   "outputs": [
    {
     "data": {
      "application/vnd.jupyter.widget-view+json": {
       "model_id": "516176d8b5744356b731bc3fb8967dc8"
      },
      "text/html": [
       "<div>\n",
       "<style scoped>\n",
       "    .dataframe tbody tr th:only-of-type {\n",
       "        vertical-align: middle;\n",
       "    }\n",
       "\n",
       "    .dataframe tbody tr th {\n",
       "        vertical-align: top;\n",
       "    }\n",
       "\n",
       "    .dataframe thead th {\n",
       "        text-align: right;\n",
       "    }\n",
       "</style>\n",
       "<table border=\"1\" class=\"dataframe\">\n",
       "  <thead>\n",
       "    <tr style=\"text-align: right;\">\n",
       "      <th></th>\n",
       "      <th>Operating Airline</th>\n",
       "      <th>Passenger_Total</th>\n",
       "    </tr>\n",
       "  </thead>\n",
       "  <tbody>\n",
       "    <tr>\n",
       "      <th>0</th>\n",
       "      <td>ATA Airlines</td>\n",
       "      <td>384764</td>\n",
       "    </tr>\n",
       "    <tr>\n",
       "      <th>1</th>\n",
       "      <td>Aer Lingus</td>\n",
       "      <td>431904</td>\n",
       "    </tr>\n",
       "    <tr>\n",
       "      <th>2</th>\n",
       "      <td>Aeromexico</td>\n",
       "      <td>983488</td>\n",
       "    </tr>\n",
       "    <tr>\n",
       "      <th>3</th>\n",
       "      <td>Air Berlin</td>\n",
       "      <td>83547</td>\n",
       "    </tr>\n",
       "    <tr>\n",
       "      <th>4</th>\n",
       "      <td>Air Canada</td>\n",
       "      <td>6680071</td>\n",
       "    </tr>\n",
       "    <tr>\n",
       "      <th>...</th>\n",
       "      <td>...</td>\n",
       "      <td>...</td>\n",
       "    </tr>\n",
       "    <tr>\n",
       "      <th>71</th>\n",
       "      <td>Virgin Atlantic</td>\n",
       "      <td>2540553</td>\n",
       "    </tr>\n",
       "    <tr>\n",
       "      <th>72</th>\n",
       "      <td>WestJet Airlines</td>\n",
       "      <td>549830</td>\n",
       "    </tr>\n",
       "    <tr>\n",
       "      <th>73</th>\n",
       "      <td>World Airways</td>\n",
       "      <td>785</td>\n",
       "    </tr>\n",
       "    <tr>\n",
       "      <th>74</th>\n",
       "      <td>XL Airways France</td>\n",
       "      <td>68918</td>\n",
       "    </tr>\n",
       "    <tr>\n",
       "      <th>75</th>\n",
       "      <td>Xtra Airways</td>\n",
       "      <td>146</td>\n",
       "    </tr>\n",
       "  </tbody>\n",
       "</table>\n",
       "<p>76 rows × 2 columns</p>\n",
       "</div>"
      ],
      "text/plain": [
       "    Operating Airline  Passenger_Total\n",
       "0        ATA Airlines           384764\n",
       "1          Aer Lingus           431904\n",
       "2          Aeromexico           983488\n",
       "3          Air Berlin            83547\n",
       "4         Air Canada           6680071\n",
       "..                ...              ...\n",
       "71    Virgin Atlantic          2540553\n",
       "72   WestJet Airlines           549830\n",
       "73      World Airways              785\n",
       "74  XL Airways France            68918\n",
       "75       Xtra Airways              146\n",
       "\n",
       "[76 rows x 2 columns]"
      ]
     },
     "metadata": {},
     "output_type": "display_data"
    }
   ],
   "source": [
    "data = data.replace('United Airlines - Pre 07/01/2013', 'United Airlines')\n",
    "passanger_count_group_airlines = data.groupby(['Operating Airline']).agg(**{'Passenger_Total': ('Passenger Count', 'sum')}).reset_index()\n",
    "passanger_count_group_airlines"
   ]
  },
  {
   "cell_type": "code",
   "execution_count": 49,
   "id": "august-arcade",
   "metadata": {},
   "outputs": [
    {
     "data": {
      "application/vnd.plotly.v1+json": {
       "config": {
        "plotlyServerURL": "https://plot.ly"
       },
       "data": [
        {
         "branchvalues": "total",
         "customdata": [
          [
           4
          ],
          [
           18
          ],
          [
           68
          ],
          [
           110
          ],
          [
           146
          ],
          [
           320
          ],
          [
           785
          ],
          [
           1718
          ],
          [
           3242
          ],
          [
           3879
          ],
          [
           4119
          ],
          [
           9138
          ],
          [
           22676
          ],
          [
           24269
          ],
          [
           47853
          ],
          [
           47892
          ],
          [
           55994
          ],
          [
           58860
          ],
          [
           63913
          ],
          [
           68485
          ],
          [
           68918
          ],
          [
           70105
          ],
          [
           83547
          ],
          [
           126048
          ],
          [
           138286
          ],
          [
           180219
          ],
          [
           195898
          ],
          [
           220187
          ],
          [
           250741
          ],
          [
           384764
          ],
          [
           395885
          ],
          [
           422341
          ],
          [
           424692
          ],
          [
           431904
          ],
          [
           434138
          ],
          [
           450428
          ],
          [
           549830
          ],
          [
           668823
          ],
          [
           842568
          ],
          [
           983488
          ],
          [
           991232
          ],
          [
           998163
          ],
          [
           1204758
          ],
          [
           1307079
          ],
          [
           1465043
          ],
          [
           1522964
          ],
          [
           1632756
          ],
          [
           1647465
          ],
          [
           1675816
          ],
          [
           1714149
          ],
          [
           1930156
          ],
          [
           2055553
          ],
          [
           2136804
          ],
          [
           2379228
          ],
          [
           2388648
          ],
          [
           2540553
          ],
          [
           2543239
          ],
          [
           2644148
          ],
          [
           2989982
          ],
          [
           3384020
          ],
          [
           3804635
          ],
          [
           4417302
          ],
          [
           4547282
          ],
          [
           4624796
          ],
          [
           4979907
          ],
          [
           6266220
          ],
          [
           6680071
          ],
          [
           7827973
          ],
          [
           12955980
          ],
          [
           16816616
          ],
          [
           25087141
          ],
          [
           26440420
          ],
          [
           26934738
          ],
          [
           34588714
          ],
          [
           35711737
          ],
          [
           170240913
          ],
          [
           384764
          ],
          [
           431904
          ],
          [
           983488
          ],
          [
           83547
          ],
          [
           6680071
          ],
          [
           4119
          ],
          [
           1714149
          ],
          [
           2989982
          ],
          [
           22676
          ],
          [
           1930156
          ],
          [
           2388648
          ],
          [
           12955980
          ],
          [
           1647465
          ],
          [
           24269
          ],
          [
           34588714
          ],
          [
           424692
          ],
          [
           110
          ],
          [
           1522964
          ],
          [
           47892
          ],
          [
           68
          ],
          [
           9138
          ],
          [
           18
          ],
          [
           4547282
          ],
          [
           47853
          ],
          [
           4417302
          ],
          [
           2543239
          ],
          [
           395885
          ],
          [
           138286
          ],
          [
           2055553
          ],
          [
           26440420
          ],
          [
           3384020
          ],
          [
           1632756
          ],
          [
           220187
          ],
          [
           4
          ],
          [
           180219
          ],
          [
           4624796
          ],
          [
           2136804
          ],
          [
           1204758
          ],
          [
           55994
          ],
          [
           63913
          ],
          [
           1675816
          ],
          [
           68485
          ],
          [
           7827973
          ],
          [
           2379228
          ],
          [
           1465043
          ],
          [
           250741
          ],
          [
           4979907
          ],
          [
           434138
          ],
          [
           126048
          ],
          [
           991232
          ],
          [
           1718
          ],
          [
           450428
          ],
          [
           6266220
          ],
          [
           320
          ],
          [
           2644148
          ],
          [
           668823
          ],
          [
           58860
          ],
          [
           422341
          ],
          [
           3242
          ],
          [
           3804635
          ],
          [
           35711737
          ],
          [
           25087141
          ],
          [
           70105
          ],
          [
           998163
          ],
          [
           842568
          ],
          [
           3879
          ],
          [
           1307079
          ],
          [
           195898
          ],
          [
           16816616
          ],
          [
           170240913
          ],
          [
           26934738
          ],
          [
           2540553
          ],
          [
           549830
          ],
          [
           785
          ],
          [
           68918
          ],
          [
           146
          ]
         ],
         "domain": {
          "x": [
           0,
           1
          ],
          "y": [
           0,
           1
          ]
         },
         "hovertemplate": "labels=%{label}<br>Passenger_Total_sum=%{value}<br>parent=%{parent}<br>id=%{id}<br>Passenger_Total=%{color}<extra></extra>",
         "ids": [
          "Evergreen International Airlines/4",
          "Boeing Company/18",
          "Atlas Air, Inc/68",
          "Ameriflight/110",
          "Xtra Airways/146",
          "Pacific Aviation/320",
          "World Airways/785",
          "Miami Air International/1718",
          "Servisair/3242",
          "Swissport USA/3879",
          "Air Canada Jazz/4119",
          "BelAir Airlines/9138",
          "Air India Limited/22676",
          "Allegiant Air/24269",
          "COPA Airlines, Inc./47853",
          "Atlantic Southeast Airlines/47892",
          "Icelandair/55994",
          "Republic Airlines/58860",
          "Independence Air/63913",
          "Jet Airways/68485",
          "XL Airways France/68918",
          "Spirit Airlines/70105",
          "Air Berlin/83547",
          "Mesaba Airlines/126048",
          "China Southern/138286",
          "ExpressJet Airlines/180219",
          "Turkish Airlines/195898",
          "Etihad Airways/220187",
          "LAN Peru/250741",
          "ATA Airlines/384764",
          "China Eastern/395885",
          "SAS Airlines/422341",
          "American Eagle Airlines/424692",
          "Aer Lingus/431904",
          "Mesa Airlines/434138",
          "Midwest Airlines/450428",
          "WestJet Airlines/549830",
          "Qantas Airways/668823",
          "Swiss International/842568",
          "Aeromexico/983488",
          "Mexicana Airlines/991232",
          "Sun Country Airlines/998163",
          "Horizon Air /1204758",
          "TACA/1307079",
          "Korean Air Lines/1465043",
          "Asiana Airlines/1522964",
          "Emirates /1632756",
          "All Nippon Airways/1647465",
          "Japan Airlines/1675816",
          "Air China/1714149",
          "Air New Zealand/1930156",
          "Compass Airlines/2055553",
          "Hawaiian Airlines/2136804",
          "KLM Royal Dutch Airlines/2379228",
          "AirTran Airways/2388648",
          "Virgin Atlantic/2540553",
          "China Airlines/2543239",
          "Philippine Airlines/2644148",
          "Air France/2989982",
          "EVA Airways/3384020",
          "Singapore Airlines/3804635",
          "Cathay Pacific/4417302",
          "British Airways/4547282",
          "Frontier Airlines/4624796",
          "Lufthansa German Airlines/4979907",
          "Northwest Airlines/6266220",
          "Air Canada /6680071",
          "JetBlue Airways /7827973",
          "Alaska Airlines/12955980",
          "US Airways/16816616",
          "Southwest Airlines/25087141",
          "Delta Air Lines/26440420",
          "Virgin America/26934738",
          "American Airlines/34588714",
          "SkyWest Airlines/35711737",
          "United Airlines/170240913",
          "ATA Airlines",
          "Aer Lingus",
          "Aeromexico",
          "Air Berlin",
          "Air Canada ",
          "Air Canada Jazz",
          "Air China",
          "Air France",
          "Air India Limited",
          "Air New Zealand",
          "AirTran Airways",
          "Alaska Airlines",
          "All Nippon Airways",
          "Allegiant Air",
          "American Airlines",
          "American Eagle Airlines",
          "Ameriflight",
          "Asiana Airlines",
          "Atlantic Southeast Airlines",
          "Atlas Air, Inc",
          "BelAir Airlines",
          "Boeing Company",
          "British Airways",
          "COPA Airlines, Inc.",
          "Cathay Pacific",
          "China Airlines",
          "China Eastern",
          "China Southern",
          "Compass Airlines",
          "Delta Air Lines",
          "EVA Airways",
          "Emirates ",
          "Etihad Airways",
          "Evergreen International Airlines",
          "ExpressJet Airlines",
          "Frontier Airlines",
          "Hawaiian Airlines",
          "Horizon Air ",
          "Icelandair",
          "Independence Air",
          "Japan Airlines",
          "Jet Airways",
          "JetBlue Airways ",
          "KLM Royal Dutch Airlines",
          "Korean Air Lines",
          "LAN Peru",
          "Lufthansa German Airlines",
          "Mesa Airlines",
          "Mesaba Airlines",
          "Mexicana Airlines",
          "Miami Air International",
          "Midwest Airlines",
          "Northwest Airlines",
          "Pacific Aviation",
          "Philippine Airlines",
          "Qantas Airways",
          "Republic Airlines",
          "SAS Airlines",
          "Servisair",
          "Singapore Airlines",
          "SkyWest Airlines",
          "Southwest Airlines",
          "Spirit Airlines",
          "Sun Country Airlines",
          "Swiss International",
          "Swissport USA",
          "TACA",
          "Turkish Airlines",
          "US Airways",
          "United Airlines",
          "Virgin America",
          "Virgin Atlantic",
          "WestJet Airlines",
          "World Airways",
          "XL Airways France",
          "Xtra Airways"
         ],
         "labels": [
          "4",
          "18",
          "68",
          "110",
          "146",
          "320",
          "785",
          "1718",
          "3242",
          "3879",
          "4119",
          "9138",
          "22676",
          "24269",
          "47853",
          "47892",
          "55994",
          "58860",
          "63913",
          "68485",
          "68918",
          "70105",
          "83547",
          "126048",
          "138286",
          "180219",
          "195898",
          "220187",
          "250741",
          "384764",
          "395885",
          "422341",
          "424692",
          "431904",
          "434138",
          "450428",
          "549830",
          "668823",
          "842568",
          "983488",
          "991232",
          "998163",
          "1204758",
          "1307079",
          "1465043",
          "1522964",
          "1632756",
          "1647465",
          "1675816",
          "1714149",
          "1930156",
          "2055553",
          "2136804",
          "2379228",
          "2388648",
          "2540553",
          "2543239",
          "2644148",
          "2989982",
          "3384020",
          "3804635",
          "4417302",
          "4547282",
          "4624796",
          "4979907",
          "6266220",
          "6680071",
          "7827973",
          "12955980",
          "16816616",
          "25087141",
          "26440420",
          "26934738",
          "34588714",
          "35711737",
          "170240913",
          "ATA Airlines",
          "Aer Lingus",
          "Aeromexico",
          "Air Berlin",
          "Air Canada ",
          "Air Canada Jazz",
          "Air China",
          "Air France",
          "Air India Limited",
          "Air New Zealand",
          "AirTran Airways",
          "Alaska Airlines",
          "All Nippon Airways",
          "Allegiant Air",
          "American Airlines",
          "American Eagle Airlines",
          "Ameriflight",
          "Asiana Airlines",
          "Atlantic Southeast Airlines",
          "Atlas Air, Inc",
          "BelAir Airlines",
          "Boeing Company",
          "British Airways",
          "COPA Airlines, Inc.",
          "Cathay Pacific",
          "China Airlines",
          "China Eastern",
          "China Southern",
          "Compass Airlines",
          "Delta Air Lines",
          "EVA Airways",
          "Emirates ",
          "Etihad Airways",
          "Evergreen International Airlines",
          "ExpressJet Airlines",
          "Frontier Airlines",
          "Hawaiian Airlines",
          "Horizon Air ",
          "Icelandair",
          "Independence Air",
          "Japan Airlines",
          "Jet Airways",
          "JetBlue Airways ",
          "KLM Royal Dutch Airlines",
          "Korean Air Lines",
          "LAN Peru",
          "Lufthansa German Airlines",
          "Mesa Airlines",
          "Mesaba Airlines",
          "Mexicana Airlines",
          "Miami Air International",
          "Midwest Airlines",
          "Northwest Airlines",
          "Pacific Aviation",
          "Philippine Airlines",
          "Qantas Airways",
          "Republic Airlines",
          "SAS Airlines",
          "Servisair",
          "Singapore Airlines",
          "SkyWest Airlines",
          "Southwest Airlines",
          "Spirit Airlines",
          "Sun Country Airlines",
          "Swiss International",
          "Swissport USA",
          "TACA",
          "Turkish Airlines",
          "US Airways",
          "United Airlines",
          "Virgin America",
          "Virgin Atlantic",
          "WestJet Airlines",
          "World Airways",
          "XL Airways France",
          "Xtra Airways"
         ],
         "marker": {
          "coloraxis": "coloraxis",
          "colors": [
           4,
           18,
           68,
           110,
           146,
           320,
           785,
           1718,
           3242,
           3879,
           4119,
           9138,
           22676,
           24269,
           47853,
           47892,
           55994,
           58860,
           63913,
           68485,
           68918,
           70105,
           83547,
           126048,
           138286,
           180219,
           195898,
           220187,
           250741,
           384764,
           395885,
           422341,
           424692,
           431904,
           434138,
           450428,
           549830,
           668823,
           842568,
           983488,
           991232,
           998163,
           1204758,
           1307079,
           1465043,
           1522964,
           1632756,
           1647465,
           1675816,
           1714149,
           1930156,
           2055553,
           2136804,
           2379228,
           2388648,
           2540553,
           2543239,
           2644148,
           2989982,
           3384020,
           3804635,
           4417302,
           4547282,
           4624796,
           4979907,
           6266220,
           6680071,
           7827973,
           12955980,
           16816616,
           25087141,
           26440420,
           26934738,
           34588714,
           35711737,
           170240913,
           384764,
           431904,
           983488,
           83547,
           6680071,
           4119,
           1714149,
           2989982,
           22676,
           1930156,
           2388648,
           12955980,
           1647465,
           24269,
           34588714,
           424692,
           110,
           1522964,
           47892,
           68,
           9138,
           18,
           4547282,
           47853,
           4417302,
           2543239,
           395885,
           138286,
           2055553,
           26440420,
           3384020,
           1632756,
           220187,
           4,
           180219,
           4624796,
           2136804,
           1204758,
           55994,
           63913,
           1675816,
           68485,
           7827973,
           2379228,
           1465043,
           250741,
           4979907,
           434138,
           126048,
           991232,
           1718,
           450428,
           6266220,
           320,
           2644148,
           668823,
           58860,
           422341,
           3242,
           3804635,
           35711737,
           25087141,
           70105,
           998163,
           842568,
           3879,
           1307079,
           195898,
           16816616,
           170240913,
           26934738,
           2540553,
           549830,
           785,
           68918,
           146
          ]
         },
         "name": "",
         "parents": [
          "Evergreen International Airlines",
          "Boeing Company",
          "Atlas Air, Inc",
          "Ameriflight",
          "Xtra Airways",
          "Pacific Aviation",
          "World Airways",
          "Miami Air International",
          "Servisair",
          "Swissport USA",
          "Air Canada Jazz",
          "BelAir Airlines",
          "Air India Limited",
          "Allegiant Air",
          "COPA Airlines, Inc.",
          "Atlantic Southeast Airlines",
          "Icelandair",
          "Republic Airlines",
          "Independence Air",
          "Jet Airways",
          "XL Airways France",
          "Spirit Airlines",
          "Air Berlin",
          "Mesaba Airlines",
          "China Southern",
          "ExpressJet Airlines",
          "Turkish Airlines",
          "Etihad Airways",
          "LAN Peru",
          "ATA Airlines",
          "China Eastern",
          "SAS Airlines",
          "American Eagle Airlines",
          "Aer Lingus",
          "Mesa Airlines",
          "Midwest Airlines",
          "WestJet Airlines",
          "Qantas Airways",
          "Swiss International",
          "Aeromexico",
          "Mexicana Airlines",
          "Sun Country Airlines",
          "Horizon Air ",
          "TACA",
          "Korean Air Lines",
          "Asiana Airlines",
          "Emirates ",
          "All Nippon Airways",
          "Japan Airlines",
          "Air China",
          "Air New Zealand",
          "Compass Airlines",
          "Hawaiian Airlines",
          "KLM Royal Dutch Airlines",
          "AirTran Airways",
          "Virgin Atlantic",
          "China Airlines",
          "Philippine Airlines",
          "Air France",
          "EVA Airways",
          "Singapore Airlines",
          "Cathay Pacific",
          "British Airways",
          "Frontier Airlines",
          "Lufthansa German Airlines",
          "Northwest Airlines",
          "Air Canada ",
          "JetBlue Airways ",
          "Alaska Airlines",
          "US Airways",
          "Southwest Airlines",
          "Delta Air Lines",
          "Virgin America",
          "American Airlines",
          "SkyWest Airlines",
          "United Airlines",
          "",
          "",
          "",
          "",
          "",
          "",
          "",
          "",
          "",
          "",
          "",
          "",
          "",
          "",
          "",
          "",
          "",
          "",
          "",
          "",
          "",
          "",
          "",
          "",
          "",
          "",
          "",
          "",
          "",
          "",
          "",
          "",
          "",
          "",
          "",
          "",
          "",
          "",
          "",
          "",
          "",
          "",
          "",
          "",
          "",
          "",
          "",
          "",
          "",
          "",
          "",
          "",
          "",
          "",
          "",
          "",
          "",
          "",
          "",
          "",
          "",
          "",
          "",
          "",
          "",
          "",
          "",
          "",
          "",
          "",
          "",
          "",
          "",
          "",
          "",
          ""
         ],
         "type": "treemap",
         "values": [
          4,
          18,
          68,
          110,
          146,
          320,
          785,
          1718,
          3242,
          3879,
          4119,
          9138,
          22676,
          24269,
          47853,
          47892,
          55994,
          58860,
          63913,
          68485,
          68918,
          70105,
          83547,
          126048,
          138286,
          180219,
          195898,
          220187,
          250741,
          384764,
          395885,
          422341,
          424692,
          431904,
          434138,
          450428,
          549830,
          668823,
          842568,
          983488,
          991232,
          998163,
          1204758,
          1307079,
          1465043,
          1522964,
          1632756,
          1647465,
          1675816,
          1714149,
          1930156,
          2055553,
          2136804,
          2379228,
          2388648,
          2540553,
          2543239,
          2644148,
          2989982,
          3384020,
          3804635,
          4417302,
          4547282,
          4624796,
          4979907,
          6266220,
          6680071,
          7827973,
          12955980,
          16816616,
          25087141,
          26440420,
          26934738,
          34588714,
          35711737,
          170240913,
          384764,
          431904,
          983488,
          83547,
          6680071,
          4119,
          1714149,
          2989982,
          22676,
          1930156,
          2388648,
          12955980,
          1647465,
          24269,
          34588714,
          424692,
          110,
          1522964,
          47892,
          68,
          9138,
          18,
          4547282,
          47853,
          4417302,
          2543239,
          395885,
          138286,
          2055553,
          26440420,
          3384020,
          1632756,
          220187,
          4,
          180219,
          4624796,
          2136804,
          1204758,
          55994,
          63913,
          1675816,
          68485,
          7827973,
          2379228,
          1465043,
          250741,
          4979907,
          434138,
          126048,
          991232,
          1718,
          450428,
          6266220,
          320,
          2644148,
          668823,
          58860,
          422341,
          3242,
          3804635,
          35711737,
          25087141,
          70105,
          998163,
          842568,
          3879,
          1307079,
          195898,
          16816616,
          170240913,
          26934738,
          2540553,
          549830,
          785,
          68918,
          146
         ]
        }
       ],
       "layout": {
        "coloraxis": {
         "colorbar": {
          "title": {
           "text": "Passenger_Total"
          }
         },
         "colorscale": [
          [
           0,
           "rgb(228, 241, 225)"
          ],
          [
           0.16666666666666666,
           "rgb(180, 217, 204)"
          ],
          [
           0.3333333333333333,
           "rgb(137, 192, 182)"
          ],
          [
           0.5,
           "rgb(99, 166, 160)"
          ],
          [
           0.6666666666666666,
           "rgb(68, 140, 138)"
          ],
          [
           0.8333333333333334,
           "rgb(40, 114, 116)"
          ],
          [
           1,
           "rgb(13, 88, 95)"
          ]
         ]
        },
        "height": 500,
        "legend": {
         "tracegroupgap": 0
        },
        "margin": {
         "b": 30,
         "l": 20,
         "pad": 4,
         "r": 20,
         "t": 50
        },
        "paper_bgcolor": "LightSteelBlue",
        "template": {
         "data": {
          "bar": [
           {
            "error_x": {
             "color": "#2a3f5f"
            },
            "error_y": {
             "color": "#2a3f5f"
            },
            "marker": {
             "line": {
              "color": "#E5ECF6",
              "width": 0.5
             },
             "pattern": {
              "fillmode": "overlay",
              "size": 10,
              "solidity": 0.2
             }
            },
            "type": "bar"
           }
          ],
          "barpolar": [
           {
            "marker": {
             "line": {
              "color": "#E5ECF6",
              "width": 0.5
             },
             "pattern": {
              "fillmode": "overlay",
              "size": 10,
              "solidity": 0.2
             }
            },
            "type": "barpolar"
           }
          ],
          "carpet": [
           {
            "aaxis": {
             "endlinecolor": "#2a3f5f",
             "gridcolor": "white",
             "linecolor": "white",
             "minorgridcolor": "white",
             "startlinecolor": "#2a3f5f"
            },
            "baxis": {
             "endlinecolor": "#2a3f5f",
             "gridcolor": "white",
             "linecolor": "white",
             "minorgridcolor": "white",
             "startlinecolor": "#2a3f5f"
            },
            "type": "carpet"
           }
          ],
          "choropleth": [
           {
            "colorbar": {
             "outlinewidth": 0,
             "ticks": ""
            },
            "type": "choropleth"
           }
          ],
          "contour": [
           {
            "colorbar": {
             "outlinewidth": 0,
             "ticks": ""
            },
            "colorscale": [
             [
              0,
              "#0d0887"
             ],
             [
              0.1111111111111111,
              "#46039f"
             ],
             [
              0.2222222222222222,
              "#7201a8"
             ],
             [
              0.3333333333333333,
              "#9c179e"
             ],
             [
              0.4444444444444444,
              "#bd3786"
             ],
             [
              0.5555555555555556,
              "#d8576b"
             ],
             [
              0.6666666666666666,
              "#ed7953"
             ],
             [
              0.7777777777777778,
              "#fb9f3a"
             ],
             [
              0.8888888888888888,
              "#fdca26"
             ],
             [
              1,
              "#f0f921"
             ]
            ],
            "type": "contour"
           }
          ],
          "contourcarpet": [
           {
            "colorbar": {
             "outlinewidth": 0,
             "ticks": ""
            },
            "type": "contourcarpet"
           }
          ],
          "heatmap": [
           {
            "colorbar": {
             "outlinewidth": 0,
             "ticks": ""
            },
            "colorscale": [
             [
              0,
              "#0d0887"
             ],
             [
              0.1111111111111111,
              "#46039f"
             ],
             [
              0.2222222222222222,
              "#7201a8"
             ],
             [
              0.3333333333333333,
              "#9c179e"
             ],
             [
              0.4444444444444444,
              "#bd3786"
             ],
             [
              0.5555555555555556,
              "#d8576b"
             ],
             [
              0.6666666666666666,
              "#ed7953"
             ],
             [
              0.7777777777777778,
              "#fb9f3a"
             ],
             [
              0.8888888888888888,
              "#fdca26"
             ],
             [
              1,
              "#f0f921"
             ]
            ],
            "type": "heatmap"
           }
          ],
          "heatmapgl": [
           {
            "colorbar": {
             "outlinewidth": 0,
             "ticks": ""
            },
            "colorscale": [
             [
              0,
              "#0d0887"
             ],
             [
              0.1111111111111111,
              "#46039f"
             ],
             [
              0.2222222222222222,
              "#7201a8"
             ],
             [
              0.3333333333333333,
              "#9c179e"
             ],
             [
              0.4444444444444444,
              "#bd3786"
             ],
             [
              0.5555555555555556,
              "#d8576b"
             ],
             [
              0.6666666666666666,
              "#ed7953"
             ],
             [
              0.7777777777777778,
              "#fb9f3a"
             ],
             [
              0.8888888888888888,
              "#fdca26"
             ],
             [
              1,
              "#f0f921"
             ]
            ],
            "type": "heatmapgl"
           }
          ],
          "histogram": [
           {
            "marker": {
             "pattern": {
              "fillmode": "overlay",
              "size": 10,
              "solidity": 0.2
             }
            },
            "type": "histogram"
           }
          ],
          "histogram2d": [
           {
            "colorbar": {
             "outlinewidth": 0,
             "ticks": ""
            },
            "colorscale": [
             [
              0,
              "#0d0887"
             ],
             [
              0.1111111111111111,
              "#46039f"
             ],
             [
              0.2222222222222222,
              "#7201a8"
             ],
             [
              0.3333333333333333,
              "#9c179e"
             ],
             [
              0.4444444444444444,
              "#bd3786"
             ],
             [
              0.5555555555555556,
              "#d8576b"
             ],
             [
              0.6666666666666666,
              "#ed7953"
             ],
             [
              0.7777777777777778,
              "#fb9f3a"
             ],
             [
              0.8888888888888888,
              "#fdca26"
             ],
             [
              1,
              "#f0f921"
             ]
            ],
            "type": "histogram2d"
           }
          ],
          "histogram2dcontour": [
           {
            "colorbar": {
             "outlinewidth": 0,
             "ticks": ""
            },
            "colorscale": [
             [
              0,
              "#0d0887"
             ],
             [
              0.1111111111111111,
              "#46039f"
             ],
             [
              0.2222222222222222,
              "#7201a8"
             ],
             [
              0.3333333333333333,
              "#9c179e"
             ],
             [
              0.4444444444444444,
              "#bd3786"
             ],
             [
              0.5555555555555556,
              "#d8576b"
             ],
             [
              0.6666666666666666,
              "#ed7953"
             ],
             [
              0.7777777777777778,
              "#fb9f3a"
             ],
             [
              0.8888888888888888,
              "#fdca26"
             ],
             [
              1,
              "#f0f921"
             ]
            ],
            "type": "histogram2dcontour"
           }
          ],
          "mesh3d": [
           {
            "colorbar": {
             "outlinewidth": 0,
             "ticks": ""
            },
            "type": "mesh3d"
           }
          ],
          "parcoords": [
           {
            "line": {
             "colorbar": {
              "outlinewidth": 0,
              "ticks": ""
             }
            },
            "type": "parcoords"
           }
          ],
          "pie": [
           {
            "automargin": true,
            "type": "pie"
           }
          ],
          "scatter": [
           {
            "marker": {
             "colorbar": {
              "outlinewidth": 0,
              "ticks": ""
             }
            },
            "type": "scatter"
           }
          ],
          "scatter3d": [
           {
            "line": {
             "colorbar": {
              "outlinewidth": 0,
              "ticks": ""
             }
            },
            "marker": {
             "colorbar": {
              "outlinewidth": 0,
              "ticks": ""
             }
            },
            "type": "scatter3d"
           }
          ],
          "scattercarpet": [
           {
            "marker": {
             "colorbar": {
              "outlinewidth": 0,
              "ticks": ""
             }
            },
            "type": "scattercarpet"
           }
          ],
          "scattergeo": [
           {
            "marker": {
             "colorbar": {
              "outlinewidth": 0,
              "ticks": ""
             }
            },
            "type": "scattergeo"
           }
          ],
          "scattergl": [
           {
            "marker": {
             "colorbar": {
              "outlinewidth": 0,
              "ticks": ""
             }
            },
            "type": "scattergl"
           }
          ],
          "scattermapbox": [
           {
            "marker": {
             "colorbar": {
              "outlinewidth": 0,
              "ticks": ""
             }
            },
            "type": "scattermapbox"
           }
          ],
          "scatterpolar": [
           {
            "marker": {
             "colorbar": {
              "outlinewidth": 0,
              "ticks": ""
             }
            },
            "type": "scatterpolar"
           }
          ],
          "scatterpolargl": [
           {
            "marker": {
             "colorbar": {
              "outlinewidth": 0,
              "ticks": ""
             }
            },
            "type": "scatterpolargl"
           }
          ],
          "scatterternary": [
           {
            "marker": {
             "colorbar": {
              "outlinewidth": 0,
              "ticks": ""
             }
            },
            "type": "scatterternary"
           }
          ],
          "surface": [
           {
            "colorbar": {
             "outlinewidth": 0,
             "ticks": ""
            },
            "colorscale": [
             [
              0,
              "#0d0887"
             ],
             [
              0.1111111111111111,
              "#46039f"
             ],
             [
              0.2222222222222222,
              "#7201a8"
             ],
             [
              0.3333333333333333,
              "#9c179e"
             ],
             [
              0.4444444444444444,
              "#bd3786"
             ],
             [
              0.5555555555555556,
              "#d8576b"
             ],
             [
              0.6666666666666666,
              "#ed7953"
             ],
             [
              0.7777777777777778,
              "#fb9f3a"
             ],
             [
              0.8888888888888888,
              "#fdca26"
             ],
             [
              1,
              "#f0f921"
             ]
            ],
            "type": "surface"
           }
          ],
          "table": [
           {
            "cells": {
             "fill": {
              "color": "#EBF0F8"
             },
             "line": {
              "color": "white"
             }
            },
            "header": {
             "fill": {
              "color": "#C8D4E3"
             },
             "line": {
              "color": "white"
             }
            },
            "type": "table"
           }
          ]
         },
         "layout": {
          "annotationdefaults": {
           "arrowcolor": "#2a3f5f",
           "arrowhead": 0,
           "arrowwidth": 1
          },
          "autotypenumbers": "strict",
          "coloraxis": {
           "colorbar": {
            "outlinewidth": 0,
            "ticks": ""
           }
          },
          "colorscale": {
           "diverging": [
            [
             0,
             "#8e0152"
            ],
            [
             0.1,
             "#c51b7d"
            ],
            [
             0.2,
             "#de77ae"
            ],
            [
             0.3,
             "#f1b6da"
            ],
            [
             0.4,
             "#fde0ef"
            ],
            [
             0.5,
             "#f7f7f7"
            ],
            [
             0.6,
             "#e6f5d0"
            ],
            [
             0.7,
             "#b8e186"
            ],
            [
             0.8,
             "#7fbc41"
            ],
            [
             0.9,
             "#4d9221"
            ],
            [
             1,
             "#276419"
            ]
           ],
           "sequential": [
            [
             0,
             "#0d0887"
            ],
            [
             0.1111111111111111,
             "#46039f"
            ],
            [
             0.2222222222222222,
             "#7201a8"
            ],
            [
             0.3333333333333333,
             "#9c179e"
            ],
            [
             0.4444444444444444,
             "#bd3786"
            ],
            [
             0.5555555555555556,
             "#d8576b"
            ],
            [
             0.6666666666666666,
             "#ed7953"
            ],
            [
             0.7777777777777778,
             "#fb9f3a"
            ],
            [
             0.8888888888888888,
             "#fdca26"
            ],
            [
             1,
             "#f0f921"
            ]
           ],
           "sequentialminus": [
            [
             0,
             "#0d0887"
            ],
            [
             0.1111111111111111,
             "#46039f"
            ],
            [
             0.2222222222222222,
             "#7201a8"
            ],
            [
             0.3333333333333333,
             "#9c179e"
            ],
            [
             0.4444444444444444,
             "#bd3786"
            ],
            [
             0.5555555555555556,
             "#d8576b"
            ],
            [
             0.6666666666666666,
             "#ed7953"
            ],
            [
             0.7777777777777778,
             "#fb9f3a"
            ],
            [
             0.8888888888888888,
             "#fdca26"
            ],
            [
             1,
             "#f0f921"
            ]
           ]
          },
          "colorway": [
           "#636efa",
           "#EF553B",
           "#00cc96",
           "#ab63fa",
           "#FFA15A",
           "#19d3f3",
           "#FF6692",
           "#B6E880",
           "#FF97FF",
           "#FECB52"
          ],
          "font": {
           "color": "#2a3f5f"
          },
          "geo": {
           "bgcolor": "white",
           "lakecolor": "white",
           "landcolor": "#E5ECF6",
           "showlakes": true,
           "showland": true,
           "subunitcolor": "white"
          },
          "hoverlabel": {
           "align": "left"
          },
          "hovermode": "closest",
          "mapbox": {
           "style": "light"
          },
          "paper_bgcolor": "white",
          "plot_bgcolor": "#E5ECF6",
          "polar": {
           "angularaxis": {
            "gridcolor": "white",
            "linecolor": "white",
            "ticks": ""
           },
           "bgcolor": "#E5ECF6",
           "radialaxis": {
            "gridcolor": "white",
            "linecolor": "white",
            "ticks": ""
           }
          },
          "scene": {
           "xaxis": {
            "backgroundcolor": "#E5ECF6",
            "gridcolor": "white",
            "gridwidth": 2,
            "linecolor": "white",
            "showbackground": true,
            "ticks": "",
            "zerolinecolor": "white"
           },
           "yaxis": {
            "backgroundcolor": "#E5ECF6",
            "gridcolor": "white",
            "gridwidth": 2,
            "linecolor": "white",
            "showbackground": true,
            "ticks": "",
            "zerolinecolor": "white"
           },
           "zaxis": {
            "backgroundcolor": "#E5ECF6",
            "gridcolor": "white",
            "gridwidth": 2,
            "linecolor": "white",
            "showbackground": true,
            "ticks": "",
            "zerolinecolor": "white"
           }
          },
          "shapedefaults": {
           "line": {
            "color": "#2a3f5f"
           }
          },
          "ternary": {
           "aaxis": {
            "gridcolor": "white",
            "linecolor": "white",
            "ticks": ""
           },
           "baxis": {
            "gridcolor": "white",
            "linecolor": "white",
            "ticks": ""
           },
           "bgcolor": "#E5ECF6",
           "caxis": {
            "gridcolor": "white",
            "linecolor": "white",
            "ticks": ""
           }
          },
          "title": {
           "x": 0.05
          },
          "xaxis": {
           "automargin": true,
           "gridcolor": "white",
           "linecolor": "white",
           "ticks": "",
           "title": {
            "standoff": 15
           },
           "zerolinecolor": "white",
           "zerolinewidth": 2
          },
          "yaxis": {
           "automargin": true,
           "gridcolor": "white",
           "linecolor": "white",
           "ticks": "",
           "title": {
            "standoff": 15
           },
           "zerolinecolor": "white",
           "zerolinewidth": 2
          }
         }
        },
        "title": {
         "font": {
          "family": "montserrat"
         },
         "text": "Total Passenger per Airlines",
         "xanchor": "left"
        },
        "width": 1000
       }
      },
      "image/png": "[encoded data removed]",
      "text/html": [
       "<div>                            <div id=\"77ac351d-4f31-43bb-9cac-4980b4a4f5bc\" class=\"plotly-graph-div\" style=\"height:500px; width:1000px;\"></div>            <script type=\"text/javascript\">                require([\"plotly\"], function(Plotly) {                    window.PLOTLYENV=window.PLOTLYENV || {};                                    if (document.getElementById(\"77ac351d-4f31-43bb-9cac-4980b4a4f5bc\")) {                    Plotly.newPlot(                        \"77ac351d-4f31-43bb-9cac-4980b4a4f5bc\",                        [{\"branchvalues\":\"total\",\"customdata\":[[4],[18],[68],[110],[146],[320],[785],[1718],[3242],[3879],[4119],[9138],[22676],[24269],[47853],[47892],[55994],[58860],[63913],[68485],[68918],[70105],[83547],[126048],[138286],[180219],[195898],[220187],[250741],[384764],[395885],[422341],[424692],[431904],[434138],[450428],[549830],[668823],[842568],[983488],[991232],[998163],[1204758],[1307079],[1465043],[1522964],[1632756],[1647465],[1675816],[1714149],[1930156],[2055553],[2136804],[2379228],[2388648],[2540553],[2543239],[2644148],[2989982],[3384020],[3804635],[4417302],[4547282],[4624796],[4979907],[6266220],[6680071],[7827973],[12955980],[16816616],[25087141],[26440420],[26934738],[34588714],[35711737],[170240913],[384764],[431904],[983488],[83547],[6680071],[4119],[1714149],[2989982],[22676],[1930156],[2388648],[12955980],[1647465],[24269],[34588714],[424692],[110],[1522964],[47892],[68],[9138],[18],[4547282],[47853],[4417302],[2543239],[395885],[138286],[2055553],[26440420],[3384020],[1632756],[220187],[4],[180219],[4624796],[2136804],[1204758],[55994],[63913],[1675816],[68485],[7827973],[2379228],[1465043],[250741],[4979907],[434138],[126048],[991232],[1718],[450428],[6266220],[320],[2644148],[668823],[58860],[422341],[3242],[3804635],[35711737],[25087141],[70105],[998163],[842568],[3879],[1307079],[195898],[16816616],[170240913],[26934738],[2540553],[549830],[785],[68918],[146]],\"domain\":{\"x\":[0.0,1.0],\"y\":[0.0,1.0]},\"hovertemplate\":\"labels=%{label}<br>Passenger_Total_sum=%{value}<br>parent=%{parent}<br>id=%{id}<br>Passenger_Total=%{color}<extra></extra>\",\"ids\":[\"Evergreen International Airlines/4\",\"Boeing Company/18\",\"Atlas Air, Inc/68\",\"Ameriflight/110\",\"Xtra Airways/146\",\"Pacific Aviation/320\",\"World Airways/785\",\"Miami Air International/1718\",\"Servisair/3242\",\"Swissport USA/3879\",\"Air Canada Jazz/4119\",\"BelAir Airlines/9138\",\"Air India Limited/22676\",\"Allegiant Air/24269\",\"COPA Airlines, Inc./47853\",\"Atlantic Southeast Airlines/47892\",\"Icelandair/55994\",\"Republic Airlines/58860\",\"Independence Air/63913\",\"Jet Airways/68485\",\"XL Airways France/68918\",\"Spirit Airlines/70105\",\"Air Berlin/83547\",\"Mesaba Airlines/126048\",\"China Southern/138286\",\"ExpressJet Airlines/180219\",\"Turkish Airlines/195898\",\"Etihad Airways/220187\",\"LAN Peru/250741\",\"ATA Airlines/384764\",\"China Eastern/395885\",\"SAS Airlines/422341\",\"American Eagle Airlines/424692\",\"Aer Lingus/431904\",\"Mesa Airlines/434138\",\"Midwest Airlines/450428\",\"WestJet Airlines/549830\",\"Qantas Airways/668823\",\"Swiss International/842568\",\"Aeromexico/983488\",\"Mexicana Airlines/991232\",\"Sun Country Airlines/998163\",\"Horizon Air /1204758\",\"TACA/1307079\",\"Korean Air Lines/1465043\",\"Asiana Airlines/1522964\",\"Emirates /1632756\",\"All Nippon Airways/1647465\",\"Japan Airlines/1675816\",\"Air China/1714149\",\"Air New Zealand/1930156\",\"Compass Airlines/2055553\",\"Hawaiian Airlines/2136804\",\"KLM Royal Dutch Airlines/2379228\",\"AirTran Airways/2388648\",\"Virgin Atlantic/2540553\",\"China Airlines/2543239\",\"Philippine Airlines/2644148\",\"Air France/2989982\",\"EVA Airways/3384020\",\"Singapore Airlines/3804635\",\"Cathay Pacific/4417302\",\"British Airways/4547282\",\"Frontier Airlines/4624796\",\"Lufthansa German Airlines/4979907\",\"Northwest Airlines/6266220\",\"Air Canada /6680071\",\"JetBlue Airways /7827973\",\"Alaska Airlines/12955980\",\"US Airways/16816616\",\"Southwest Airlines/25087141\",\"Delta Air Lines/26440420\",\"Virgin America/26934738\",\"American Airlines/34588714\",\"SkyWest Airlines/35711737\",\"United Airlines/170240913\",\"ATA Airlines\",\"Aer Lingus\",\"Aeromexico\",\"Air Berlin\",\"Air Canada \",\"Air Canada Jazz\",\"Air China\",\"Air France\",\"Air India Limited\",\"Air New Zealand\",\"AirTran Airways\",\"Alaska Airlines\",\"All Nippon Airways\",\"Allegiant Air\",\"American Airlines\",\"American Eagle Airlines\",\"Ameriflight\",\"Asiana Airlines\",\"Atlantic Southeast Airlines\",\"Atlas Air, Inc\",\"BelAir Airlines\",\"Boeing Company\",\"British Airways\",\"COPA Airlines, Inc.\",\"Cathay Pacific\",\"China Airlines\",\"China Eastern\",\"China Southern\",\"Compass Airlines\",\"Delta Air Lines\",\"EVA Airways\",\"Emirates \",\"Etihad Airways\",\"Evergreen International Airlines\",\"ExpressJet Airlines\",\"Frontier Airlines\",\"Hawaiian Airlines\",\"Horizon Air \",\"Icelandair\",\"Independence Air\",\"Japan Airlines\",\"Jet Airways\",\"JetBlue Airways \",\"KLM Royal Dutch Airlines\",\"Korean Air Lines\",\"LAN Peru\",\"Lufthansa German Airlines\",\"Mesa Airlines\",\"Mesaba Airlines\",\"Mexicana Airlines\",\"Miami Air International\",\"Midwest Airlines\",\"Northwest Airlines\",\"Pacific Aviation\",\"Philippine Airlines\",\"Qantas Airways\",\"Republic Airlines\",\"SAS Airlines\",\"Servisair\",\"Singapore Airlines\",\"SkyWest Airlines\",\"Southwest Airlines\",\"Spirit Airlines\",\"Sun Country Airlines\",\"Swiss International\",\"Swissport USA\",\"TACA\",\"Turkish Airlines\",\"US Airways\",\"United Airlines\",\"Virgin America\",\"Virgin Atlantic\",\"WestJet Airlines\",\"World Airways\",\"XL Airways France\",\"Xtra Airways\"],\"labels\":[\"4\",\"18\",\"68\",\"110\",\"146\",\"320\",\"785\",\"1718\",\"3242\",\"3879\",\"4119\",\"9138\",\"22676\",\"24269\",\"47853\",\"47892\",\"55994\",\"58860\",\"63913\",\"68485\",\"68918\",\"70105\",\"83547\",\"126048\",\"138286\",\"180219\",\"195898\",\"220187\",\"250741\",\"384764\",\"395885\",\"422341\",\"424692\",\"431904\",\"434138\",\"450428\",\"549830\",\"668823\",\"842568\",\"983488\",\"991232\",\"998163\",\"1204758\",\"1307079\",\"1465043\",\"1522964\",\"1632756\",\"1647465\",\"1675816\",\"1714149\",\"1930156\",\"2055553\",\"2136804\",\"2379228\",\"2388648\",\"2540553\",\"2543239\",\"2644148\",\"2989982\",\"3384020\",\"3804635\",\"4417302\",\"4547282\",\"4624796\",\"4979907\",\"6266220\",\"6680071\",\"7827973\",\"12955980\",\"16816616\",\"25087141\",\"26440420\",\"26934738\",\"34588714\",\"35711737\",\"170240913\",\"ATA Airlines\",\"Aer Lingus\",\"Aeromexico\",\"Air Berlin\",\"Air Canada \",\"Air Canada Jazz\",\"Air China\",\"Air France\",\"Air India Limited\",\"Air New Zealand\",\"AirTran Airways\",\"Alaska Airlines\",\"All Nippon Airways\",\"Allegiant Air\",\"American Airlines\",\"American Eagle Airlines\",\"Ameriflight\",\"Asiana Airlines\",\"Atlantic Southeast Airlines\",\"Atlas Air, Inc\",\"BelAir Airlines\",\"Boeing Company\",\"British Airways\",\"COPA Airlines, Inc.\",\"Cathay Pacific\",\"China Airlines\",\"China Eastern\",\"China Southern\",\"Compass Airlines\",\"Delta Air Lines\",\"EVA Airways\",\"Emirates \",\"Etihad Airways\",\"Evergreen International Airlines\",\"ExpressJet Airlines\",\"Frontier Airlines\",\"Hawaiian Airlines\",\"Horizon Air \",\"Icelandair\",\"Independence Air\",\"Japan Airlines\",\"Jet Airways\",\"JetBlue Airways \",\"KLM Royal Dutch Airlines\",\"Korean Air Lines\",\"LAN Peru\",\"Lufthansa German Airlines\",\"Mesa Airlines\",\"Mesaba Airlines\",\"Mexicana Airlines\",\"Miami Air International\",\"Midwest Airlines\",\"Northwest Airlines\",\"Pacific Aviation\",\"Philippine Airlines\",\"Qantas Airways\",\"Republic Airlines\",\"SAS Airlines\",\"Servisair\",\"Singapore Airlines\",\"SkyWest Airlines\",\"Southwest Airlines\",\"Spirit Airlines\",\"Sun Country Airlines\",\"Swiss International\",\"Swissport USA\",\"TACA\",\"Turkish Airlines\",\"US Airways\",\"United Airlines\",\"Virgin America\",\"Virgin Atlantic\",\"WestJet Airlines\",\"World Airways\",\"XL Airways France\",\"Xtra Airways\"],\"marker\":{\"coloraxis\":\"coloraxis\",\"colors\":[4,18,68,110,146,320,785,1718,3242,3879,4119,9138,22676,24269,47853,47892,55994,58860,63913,68485,68918,70105,83547,126048,138286,180219,195898,220187,250741,384764,395885,422341,424692,431904,434138,450428,549830,668823,842568,983488,991232,998163,1204758,1307079,1465043,1522964,1632756,1647465,1675816,1714149,1930156,2055553,2136804,2379228,2388648,2540553,2543239,2644148,2989982,3384020,3804635,4417302,4547282,4624796,4979907,6266220,6680071,7827973,12955980,16816616,25087141,26440420,26934738,34588714,35711737,170240913,384764,431904,983488,83547,6680071,4119,1714149,2989982,22676,1930156,2388648,12955980,1647465,24269,34588714,424692,110,1522964,47892,68,9138,18,4547282,47853,4417302,2543239,395885,138286,2055553,26440420,3384020,1632756,220187,4,180219,4624796,2136804,1204758,55994,63913,1675816,68485,7827973,2379228,1465043,250741,4979907,434138,126048,991232,1718,450428,6266220,320,2644148,668823,58860,422341,3242,3804635,35711737,25087141,70105,998163,842568,3879,1307079,195898,16816616,170240913,26934738,2540553,549830,785,68918,146]},\"name\":\"\",\"parents\":[\"Evergreen International Airlines\",\"Boeing Company\",\"Atlas Air, Inc\",\"Ameriflight\",\"Xtra Airways\",\"Pacific Aviation\",\"World Airways\",\"Miami Air International\",\"Servisair\",\"Swissport USA\",\"Air Canada Jazz\",\"BelAir Airlines\",\"Air India Limited\",\"Allegiant Air\",\"COPA Airlines, Inc.\",\"Atlantic Southeast Airlines\",\"Icelandair\",\"Republic Airlines\",\"Independence Air\",\"Jet Airways\",\"XL Airways France\",\"Spirit Airlines\",\"Air Berlin\",\"Mesaba Airlines\",\"China Southern\",\"ExpressJet Airlines\",\"Turkish Airlines\",\"Etihad Airways\",\"LAN Peru\",\"ATA Airlines\",\"China Eastern\",\"SAS Airlines\",\"American Eagle Airlines\",\"Aer Lingus\",\"Mesa Airlines\",\"Midwest Airlines\",\"WestJet Airlines\",\"Qantas Airways\",\"Swiss International\",\"Aeromexico\",\"Mexicana Airlines\",\"Sun Country Airlines\",\"Horizon Air \",\"TACA\",\"Korean Air Lines\",\"Asiana Airlines\",\"Emirates \",\"All Nippon Airways\",\"Japan Airlines\",\"Air China\",\"Air New Zealand\",\"Compass Airlines\",\"Hawaiian Airlines\",\"KLM Royal Dutch Airlines\",\"AirTran Airways\",\"Virgin Atlantic\",\"China Airlines\",\"Philippine Airlines\",\"Air France\",\"EVA Airways\",\"Singapore Airlines\",\"Cathay Pacific\",\"British Airways\",\"Frontier Airlines\",\"Lufthansa German Airlines\",\"Northwest Airlines\",\"Air Canada \",\"JetBlue Airways \",\"Alaska Airlines\",\"US Airways\",\"Southwest Airlines\",\"Delta Air Lines\",\"Virgin America\",\"American Airlines\",\"SkyWest Airlines\",\"United Airlines\",\"\",\"\",\"\",\"\",\"\",\"\",\"\",\"\",\"\",\"\",\"\",\"\",\"\",\"\",\"\",\"\",\"\",\"\",\"\",\"\",\"\",\"\",\"\",\"\",\"\",\"\",\"\",\"\",\"\",\"\",\"\",\"\",\"\",\"\",\"\",\"\",\"\",\"\",\"\",\"\",\"\",\"\",\"\",\"\",\"\",\"\",\"\",\"\",\"\",\"\",\"\",\"\",\"\",\"\",\"\",\"\",\"\",\"\",\"\",\"\",\"\",\"\",\"\",\"\",\"\",\"\",\"\",\"\",\"\",\"\",\"\",\"\",\"\",\"\",\"\",\"\"],\"type\":\"treemap\",\"values\":[4,18,68,110,146,320,785,1718,3242,3879,4119,9138,22676,24269,47853,47892,55994,58860,63913,68485,68918,70105,83547,126048,138286,180219,195898,220187,250741,384764,395885,422341,424692,431904,434138,450428,549830,668823,842568,983488,991232,998163,1204758,1307079,1465043,1522964,1632756,1647465,1675816,1714149,1930156,2055553,2136804,2379228,2388648,2540553,2543239,2644148,2989982,3384020,3804635,4417302,4547282,4624796,4979907,6266220,6680071,7827973,12955980,16816616,25087141,26440420,26934738,34588714,35711737,170240913,384764,431904,983488,83547,6680071,4119,1714149,2989982,22676,1930156,2388648,12955980,1647465,24269,34588714,424692,110,1522964,47892,68,9138,18,4547282,47853,4417302,2543239,395885,138286,2055553,26440420,3384020,1632756,220187,4,180219,4624796,2136804,1204758,55994,63913,1675816,68485,7827973,2379228,1465043,250741,4979907,434138,126048,991232,1718,450428,6266220,320,2644148,668823,58860,422341,3242,3804635,35711737,25087141,70105,998163,842568,3879,1307079,195898,16816616,170240913,26934738,2540553,549830,785,68918,146]}],                        {\"coloraxis\":{\"colorbar\":{\"title\":{\"text\":\"Passenger_Total\"}},\"colorscale\":[[0.0,\"rgb(228, 241, 225)\"],[0.16666666666666666,\"rgb(180, 217, 204)\"],[0.3333333333333333,\"rgb(137, 192, 182)\"],[0.5,\"rgb(99, 166, 160)\"],[0.6666666666666666,\"rgb(68, 140, 138)\"],[0.8333333333333334,\"rgb(40, 114, 116)\"],[1.0,\"rgb(13, 88, 95)\"]]},\"height\":500,\"legend\":{\"tracegroupgap\":0},\"margin\":{\"b\":30,\"l\":20,\"pad\":4,\"r\":20,\"t\":50},\"paper_bgcolor\":\"LightSteelBlue\",\"template\":{\"data\":{\"bar\":[{\"error_x\":{\"color\":\"#2a3f5f\"},\"error_y\":{\"color\":\"#2a3f5f\"},\"marker\":{\"line\":{\"color\":\"#E5ECF6\",\"width\":0.5},\"pattern\":{\"fillmode\":\"overlay\",\"size\":10,\"solidity\":0.2}},\"type\":\"bar\"}],\"barpolar\":[{\"marker\":{\"line\":{\"color\":\"#E5ECF6\",\"width\":0.5},\"pattern\":{\"fillmode\":\"overlay\",\"size\":10,\"solidity\":0.2}},\"type\":\"barpolar\"}],\"carpet\":[{\"aaxis\":{\"endlinecolor\":\"#2a3f5f\",\"gridcolor\":\"white\",\"linecolor\":\"white\",\"minorgridcolor\":\"white\",\"startlinecolor\":\"#2a3f5f\"},\"baxis\":{\"endlinecolor\":\"#2a3f5f\",\"gridcolor\":\"white\",\"linecolor\":\"white\",\"minorgridcolor\":\"white\",\"startlinecolor\":\"#2a3f5f\"},\"type\":\"carpet\"}],\"choropleth\":[{\"colorbar\":{\"outlinewidth\":0,\"ticks\":\"\"},\"type\":\"choropleth\"}],\"contour\":[{\"colorbar\":{\"outlinewidth\":0,\"ticks\":\"\"},\"colorscale\":[[0.0,\"#0d0887\"],[0.1111111111111111,\"#46039f\"],[0.2222222222222222,\"#7201a8\"],[0.3333333333333333,\"#9c179e\"],[0.4444444444444444,\"#bd3786\"],[0.5555555555555556,\"#d8576b\"],[0.6666666666666666,\"#ed7953\"],[0.7777777777777778,\"#fb9f3a\"],[0.8888888888888888,\"#fdca26\"],[1.0,\"#f0f921\"]],\"type\":\"contour\"}],\"contourcarpet\":[{\"colorbar\":{\"outlinewidth\":0,\"ticks\":\"\"},\"type\":\"contourcarpet\"}],\"heatmap\":[{\"colorbar\":{\"outlinewidth\":0,\"ticks\":\"\"},\"colorscale\":[[0.0,\"#0d0887\"],[0.1111111111111111,\"#46039f\"],[0.2222222222222222,\"#7201a8\"],[0.3333333333333333,\"#9c179e\"],[0.4444444444444444,\"#bd3786\"],[0.5555555555555556,\"#d8576b\"],[0.6666666666666666,\"#ed7953\"],[0.7777777777777778,\"#fb9f3a\"],[0.8888888888888888,\"#fdca26\"],[1.0,\"#f0f921\"]],\"type\":\"heatmap\"}],\"heatmapgl\":[{\"colorbar\":{\"outlinewidth\":0,\"ticks\":\"\"},\"colorscale\":[[0.0,\"#0d0887\"],[0.1111111111111111,\"#46039f\"],[0.2222222222222222,\"#7201a8\"],[0.3333333333333333,\"#9c179e\"],[0.4444444444444444,\"#bd3786\"],[0.5555555555555556,\"#d8576b\"],[0.6666666666666666,\"#ed7953\"],[0.7777777777777778,\"#fb9f3a\"],[0.8888888888888888,\"#fdca26\"],[1.0,\"#f0f921\"]],\"type\":\"heatmapgl\"}],\"histogram\":[{\"marker\":{\"pattern\":{\"fillmode\":\"overlay\",\"size\":10,\"solidity\":0.2}},\"type\":\"histogram\"}],\"histogram2d\":[{\"colorbar\":{\"outlinewidth\":0,\"ticks\":\"\"},\"colorscale\":[[0.0,\"#0d0887\"],[0.1111111111111111,\"#46039f\"],[0.2222222222222222,\"#7201a8\"],[0.3333333333333333,\"#9c179e\"],[0.4444444444444444,\"#bd3786\"],[0.5555555555555556,\"#d8576b\"],[0.6666666666666666,\"#ed7953\"],[0.7777777777777778,\"#fb9f3a\"],[0.8888888888888888,\"#fdca26\"],[1.0,\"#f0f921\"]],\"type\":\"histogram2d\"}],\"histogram2dcontour\":[{\"colorbar\":{\"outlinewidth\":0,\"ticks\":\"\"},\"colorscale\":[[0.0,\"#0d0887\"],[0.1111111111111111,\"#46039f\"],[0.2222222222222222,\"#7201a8\"],[0.3333333333333333,\"#9c179e\"],[0.4444444444444444,\"#bd3786\"],[0.5555555555555556,\"#d8576b\"],[0.6666666666666666,\"#ed7953\"],[0.7777777777777778,\"#fb9f3a\"],[0.8888888888888888,\"#fdca26\"],[1.0,\"#f0f921\"]],\"type\":\"histogram2dcontour\"}],\"mesh3d\":[{\"colorbar\":{\"outlinewidth\":0,\"ticks\":\"\"},\"type\":\"mesh3d\"}],\"parcoords\":[{\"line\":{\"colorbar\":{\"outlinewidth\":0,\"ticks\":\"\"}},\"type\":\"parcoords\"}],\"pie\":[{\"automargin\":true,\"type\":\"pie\"}],\"scatter\":[{\"marker\":{\"colorbar\":{\"outlinewidth\":0,\"ticks\":\"\"}},\"type\":\"scatter\"}],\"scatter3d\":[{\"line\":{\"colorbar\":{\"outlinewidth\":0,\"ticks\":\"\"}},\"marker\":{\"colorbar\":{\"outlinewidth\":0,\"ticks\":\"\"}},\"type\":\"scatter3d\"}],\"scattercarpet\":[{\"marker\":{\"colorbar\":{\"outlinewidth\":0,\"ticks\":\"\"}},\"type\":\"scattercarpet\"}],\"scattergeo\":[{\"marker\":{\"colorbar\":{\"outlinewidth\":0,\"ticks\":\"\"}},\"type\":\"scattergeo\"}],\"scattergl\":[{\"marker\":{\"colorbar\":{\"outlinewidth\":0,\"ticks\":\"\"}},\"type\":\"scattergl\"}],\"scattermapbox\":[{\"marker\":{\"colorbar\":{\"outlinewidth\":0,\"ticks\":\"\"}},\"type\":\"scattermapbox\"}],\"scatterpolar\":[{\"marker\":{\"colorbar\":{\"outlinewidth\":0,\"ticks\":\"\"}},\"type\":\"scatterpolar\"}],\"scatterpolargl\":[{\"marker\":{\"colorbar\":{\"outlinewidth\":0,\"ticks\":\"\"}},\"type\":\"scatterpolargl\"}],\"scatterternary\":[{\"marker\":{\"colorbar\":{\"outlinewidth\":0,\"ticks\":\"\"}},\"type\":\"scatterternary\"}],\"surface\":[{\"colorbar\":{\"outlinewidth\":0,\"ticks\":\"\"},\"colorscale\":[[0.0,\"#0d0887\"],[0.1111111111111111,\"#46039f\"],[0.2222222222222222,\"#7201a8\"],[0.3333333333333333,\"#9c179e\"],[0.4444444444444444,\"#bd3786\"],[0.5555555555555556,\"#d8576b\"],[0.6666666666666666,\"#ed7953\"],[0.7777777777777778,\"#fb9f3a\"],[0.8888888888888888,\"#fdca26\"],[1.0,\"#f0f921\"]],\"type\":\"surface\"}],\"table\":[{\"cells\":{\"fill\":{\"color\":\"#EBF0F8\"},\"line\":{\"color\":\"white\"}},\"header\":{\"fill\":{\"color\":\"#C8D4E3\"},\"line\":{\"color\":\"white\"}},\"type\":\"table\"}]},\"layout\":{\"annotationdefaults\":{\"arrowcolor\":\"#2a3f5f\",\"arrowhead\":0,\"arrowwidth\":1},\"autotypenumbers\":\"strict\",\"coloraxis\":{\"colorbar\":{\"outlinewidth\":0,\"ticks\":\"\"}},\"colorscale\":{\"diverging\":[[0,\"#8e0152\"],[0.1,\"#c51b7d\"],[0.2,\"#de77ae\"],[0.3,\"#f1b6da\"],[0.4,\"#fde0ef\"],[0.5,\"#f7f7f7\"],[0.6,\"#e6f5d0\"],[0.7,\"#b8e186\"],[0.8,\"#7fbc41\"],[0.9,\"#4d9221\"],[1,\"#276419\"]],\"sequential\":[[0.0,\"#0d0887\"],[0.1111111111111111,\"#46039f\"],[0.2222222222222222,\"#7201a8\"],[0.3333333333333333,\"#9c179e\"],[0.4444444444444444,\"#bd3786\"],[0.5555555555555556,\"#d8576b\"],[0.6666666666666666,\"#ed7953\"],[0.7777777777777778,\"#fb9f3a\"],[0.8888888888888888,\"#fdca26\"],[1.0,\"#f0f921\"]],\"sequentialminus\":[[0.0,\"#0d0887\"],[0.1111111111111111,\"#46039f\"],[0.2222222222222222,\"#7201a8\"],[0.3333333333333333,\"#9c179e\"],[0.4444444444444444,\"#bd3786\"],[0.5555555555555556,\"#d8576b\"],[0.6666666666666666,\"#ed7953\"],[0.7777777777777778,\"#fb9f3a\"],[0.8888888888888888,\"#fdca26\"],[1.0,\"#f0f921\"]]},\"colorway\":[\"#636efa\",\"#EF553B\",\"#00cc96\",\"#ab63fa\",\"#FFA15A\",\"#19d3f3\",\"#FF6692\",\"#B6E880\",\"#FF97FF\",\"#FECB52\"],\"font\":{\"color\":\"#2a3f5f\"},\"geo\":{\"bgcolor\":\"white\",\"lakecolor\":\"white\",\"landcolor\":\"#E5ECF6\",\"showlakes\":true,\"showland\":true,\"subunitcolor\":\"white\"},\"hoverlabel\":{\"align\":\"left\"},\"hovermode\":\"closest\",\"mapbox\":{\"style\":\"light\"},\"paper_bgcolor\":\"white\",\"plot_bgcolor\":\"#E5ECF6\",\"polar\":{\"angularaxis\":{\"gridcolor\":\"white\",\"linecolor\":\"white\",\"ticks\":\"\"},\"bgcolor\":\"#E5ECF6\",\"radialaxis\":{\"gridcolor\":\"white\",\"linecolor\":\"white\",\"ticks\":\"\"}},\"scene\":{\"xaxis\":{\"backgroundcolor\":\"#E5ECF6\",\"gridcolor\":\"white\",\"gridwidth\":2,\"linecolor\":\"white\",\"showbackground\":true,\"ticks\":\"\",\"zerolinecolor\":\"white\"},\"yaxis\":{\"backgroundcolor\":\"#E5ECF6\",\"gridcolor\":\"white\",\"gridwidth\":2,\"linecolor\":\"white\",\"showbackground\":true,\"ticks\":\"\",\"zerolinecolor\":\"white\"},\"zaxis\":{\"backgroundcolor\":\"#E5ECF6\",\"gridcolor\":\"white\",\"gridwidth\":2,\"linecolor\":\"white\",\"showbackground\":true,\"ticks\":\"\",\"zerolinecolor\":\"white\"}},\"shapedefaults\":{\"line\":{\"color\":\"#2a3f5f\"}},\"ternary\":{\"aaxis\":{\"gridcolor\":\"white\",\"linecolor\":\"white\",\"ticks\":\"\"},\"baxis\":{\"gridcolor\":\"white\",\"linecolor\":\"white\",\"ticks\":\"\"},\"bgcolor\":\"#E5ECF6\",\"caxis\":{\"gridcolor\":\"white\",\"linecolor\":\"white\",\"ticks\":\"\"}},\"title\":{\"x\":0.05},\"xaxis\":{\"automargin\":true,\"gridcolor\":\"white\",\"linecolor\":\"white\",\"ticks\":\"\",\"title\":{\"standoff\":15},\"zerolinecolor\":\"white\",\"zerolinewidth\":2},\"yaxis\":{\"automargin\":true,\"gridcolor\":\"white\",\"linecolor\":\"white\",\"ticks\":\"\",\"title\":{\"standoff\":15},\"zerolinecolor\":\"white\",\"zerolinewidth\":2}}},\"title\":{\"font\":{\"family\":\"montserrat\"},\"text\":\"Total Passenger per Airlines\",\"xanchor\":\"left\"},\"width\":1000},                        {\"responsive\": true}                    ).then(function(){\n",
       "                            \n",
       "var gd = document.getElementById('77ac351d-4f31-43bb-9cac-4980b4a4f5bc');\n",
       "var x = new MutationObserver(function (mutations, observer) {{\n",
       "        var display = window.getComputedStyle(gd).display;\n",
       "        if (!display || display === 'none') {{\n",
       "            console.log([gd, 'removed!']);\n",
       "            Plotly.purge(gd);\n",
       "            observer.disconnect();\n",
       "        }}\n",
       "}});\n",
       "\n",
       "// Listen for the removal of the full notebook cells\n",
       "var notebookContainer = gd.closest('#notebook-container');\n",
       "if (notebookContainer) {{\n",
       "    x.observe(notebookContainer, {childList: true});\n",
       "}}\n",
       "\n",
       "// Listen for the clearing of the current output cell\n",
       "var outputEl = gd.closest('.output');\n",
       "if (outputEl) {{\n",
       "    x.observe(outputEl, {childList: true});\n",
       "}}\n",
       "\n",
       "                        })                };                });            </script>        </div>"
      ]
     },
     "metadata": {},
     "output_type": "display_data"
    }
   ],
   "source": [
    "\n",
    "fig_airlines = px.treemap(passanger_count_group_airlines, path=['Operating Airline', 'Passenger_Total'], \n",
    "                          branchvalues='total', color='Passenger_Total', \n",
    "                          color_continuous_scale='mint', values='Passenger_Total')\n",
    "\n",
    "fig_airlines.update_layout(\n",
    "                                title = 'Total Passenger per Airlines' , title_font_family='montserrat',title_xanchor='left',\n",
    "    width=1000,height=500,\n",
    "    margin=dict(\n",
    "        l=20,\n",
    "        r=20,\n",
    "        b=30,\n",
    "        t=50,\n",
    "        pad=4\n",
    "    ),\n",
    "    paper_bgcolor=\"LightSteelBlue\"\n",
    ")\n",
    "\n",
    "\n",
    "fig_airlines.show()"
   ]
  },
  {
   "cell_type": "code",
   "execution_count": 22,
   "id": "finite-cabinet",
   "metadata": {},
   "outputs": [
    {
     "data": {
      "text/plain": [
       "Index(['Activity Period', 'Operating Airline', 'Operating Airline IATA Code',\n",
       "       'Published Airline', 'Published Airline IATA Code', 'GEO Summary',\n",
       "       'GEO Region', 'Activity Type Code', 'Price Category Code', 'Terminal',\n",
       "       'Boarding Area', 'Passenger Count', 'Adjusted Activity Type Code',\n",
       "       'Adjusted Passenger Count', 'Year', 'Month'],\n",
       "      dtype='object')"
      ]
     },
     "execution_count": 22,
     "metadata": {},
     "output_type": "execute_result"
    }
   ],
   "source": [
    "import geopandas as gpd\n",
    "continent = gpd.read_file('')"
   ]
  },
  {
   "cell_type": "code",
   "execution_count": 23,
   "id": "patent-humidity",
   "metadata": {},
   "outputs": [],
   "source": [
    "pd.set_option('display.max_rows',None)"
   ]
  },
  {
   "cell_type": "code",
   "execution_count": 26,
   "id": "assisted-philippines",
   "metadata": {},
   "outputs": [
    {
     "data": {
      "text/plain": [
       "set()"
      ]
     },
     "execution_count": 26,
     "metadata": {},
     "output_type": "execute_result"
    }
   ],
   "source": [
    "set(data['Published Airline'].unique()).difference(set(data['Operating Airline'].unique()))"
   ]
  },
  {
   "cell_type": "markdown",
   "id": "honey-creature",
   "metadata": {},
   "source": [
    "### Boarding Area \n",
    "A - E "
   ]
  },
  {
   "cell_type": "markdown",
   "id": "local-midwest",
   "metadata": {},
   "source": [
    "### Price Category Code \n",
    "Mostly in Category Code are Other -> which i can not describe it more significant -> \n"
   ]
  },
  {
   "cell_type": "markdown",
   "id": "stupid-tender",
   "metadata": {},
   "source": [
    "### Activity Type Code\n",
    "Deplaned          7071\n",
    "Enplaned          7016\n",
    "Thru / Transit     920"
   ]
  },
  {
   "cell_type": "markdown",
   "id": "requested-dealer",
   "metadata": {},
   "source": [
    "### Terminal \n",
    "Consist of four unique values Terminal 1-3 and International "
   ]
  },
  {
   "cell_type": "markdown",
   "id": "driving-protest",
   "metadata": {},
   "source": [
    "### Geo Region \n",
    "Region of flight origin \n",
    "US                     5797\n",
    "Asia                   3273\n",
    "Europe                 2089\n",
    "Canada                 1418\n",
    "Mexico                 1115\n",
    "Australia / Oceania     737\n",
    "Central America         274\n",
    "Middle East             214\n",
    "South America            90"
   ]
  },
  {
   "cell_type": "markdown",
   "id": "special-analysis",
   "metadata": {},
   "source": [
    "### Published Airline \n"
   ]
  },
  {
   "cell_type": "markdown",
   "id": "perfect-honor",
   "metadata": {},
   "source": [
    "### Operating Airline \n",
    "consist of 77 Airline -> need to be fix cause there were plenty of duplication "
   ]
  },
  {
   "cell_type": "markdown",
   "id": "obvious-aquarium",
   "metadata": {},
   "source": [
    "### Operating Airline Code \n",
    "73 unique values \n",
    "to compare please check -> https://azcargo.cz/en/services/support/iata-airline-codes/"
   ]
  },
  {
   "cell_type": "markdown",
   "id": "modern-arabic",
   "metadata": {},
   "source": [
    "### Activity Period \n",
    "\n",
    "This Data Explain about the traffic period. Starting from 200507 to 201603\n",
    "the distribution of each date point is relatively the same \n",
    "\n",
    "array([200507, 200508, 200509, 200510, 200511, 200604, 200512, 200601,\n",
    "       200602, 200603, 200605, 200607, 200606, 200608, 200609, 200707,\n",
    "       200610, 200611, 200612, 200701, 200702, 200703, 200704, 200705,\n",
    "       200706, 200708, 200709, 200805, 200710, 200711, 200712, 200801,\n",
    "       200802, 200803, 200804, 201103, 200806, 201107, 201110, 200807,\n",
    "       200808, 200809, 200810, 200811, 200812, 200901, 201206, 200902,\n",
    "       200903, 200904, 200905, 200906, 200907, 200908, 200909, 200910,\n",
    "       200911, 200912, 201001, 201002, 201003, 201004, 201005, 201006,\n",
    "       201007, 201008, 201009, 201010, 201011, 201012, 201101, 201102,\n",
    "       201104, 201105, 201106, 201108, 201109, 201111, 201112, 201201,\n",
    "       201202, 201203, 201204, 201205, 201207, 201208, 201209, 201210,\n",
    "       201211, 201212, 201306, 201301, 201302, 201303, 201304, 201305,\n",
    "       201307, 201308, 201309, 201310, 201407, 201311, 201312, 201507,\n",
    "       201401, 201402, 201403, 201404, 201405, 201406, 201603, 201408,\n",
    "       201409, 201410, 201411, 201412, 201501, 201502, 201503, 201504,\n",
    "       201505, 201506, 201508, 201509, 201510, 201511, 201512, 201601,\n",
    "       201602], dtype=int64)"
   ]
  },
  {
   "cell_type": "code",
   "execution_count": null,
   "id": "flush-japanese",
   "metadata": {},
   "outputs": [],
   "source": []
  },
  {
   "cell_type": "code",
   "execution_count": 5,
   "id": "radical-uzbekistan",
   "metadata": {},
   "outputs": [
    {
     "name": "stdout",
     "output_type": "stream",
     "text": [
      "<class 'pandas.core.frame.DataFrame'>\n",
      "RangeIndex: 15007 entries, 0 to 15006\n",
      "Data columns (total 16 columns):\n",
      " #   Column                       Non-Null Count  Dtype \n",
      "---  ------                       --------------  ----- \n",
      " 0   Activity Period              15007 non-null  int64 \n",
      " 1   Operating Airline            15007 non-null  object\n",
      " 2   Operating Airline IATA Code  14953 non-null  object\n",
      " 3   Published Airline            15007 non-null  object\n",
      " 4   Published Airline IATA Code  14953 non-null  object\n",
      " 5   GEO Summary                  15007 non-null  object\n",
      " 6   GEO Region                   15007 non-null  object\n",
      " 7   Activity Type Code           15007 non-null  object\n",
      " 8   Price Category Code          15007 non-null  object\n",
      " 9   Terminal                     15007 non-null  object\n",
      " 10  Boarding Area                15007 non-null  object\n",
      " 11  Passenger Count              15007 non-null  int64 \n",
      " 12  Adjusted Activity Type Code  15007 non-null  object\n",
      " 13  Adjusted Passenger Count     15007 non-null  int64 \n",
      " 14  Year                         15007 non-null  int64 \n",
      " 15  Month                        15007 non-null  object\n",
      "dtypes: int64(4), object(12)\n",
      "memory usage: 1.8+ MB\n"
     ]
    }
   ],
   "source": [
    "data.info()"
   ]
  },
  {
   "cell_type": "code",
   "execution_count": null,
   "id": "swiss-plane",
   "metadata": {},
   "outputs": [],
   "source": []
  }
 ],
 "metadata": {
  "kernelspec": {
   "display_name": "Python 3 (ipykernel)",
   "language": "python",
   "name": "python3"
  },
  "language_info": {
   "codemirror_mode": {
    "name": "ipython",
    "version": 3
   },
   "file_extension": ".py",
   "mimetype": "text/x-python",
   "name": "python",
   "nbconvert_exporter": "python",
   "pygments_lexer": "ipython3",
   "version": "3.8.5"
  }
 },
 "nbformat": 4,
 "nbformat_minor": 5
}
